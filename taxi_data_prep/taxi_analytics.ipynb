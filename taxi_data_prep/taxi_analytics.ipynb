{
 "cells": [
  {
   "cell_type": "code",
   "execution_count": null,
   "id": "a10821a4",
   "metadata": {},
   "outputs": [],
   "source": [
    "import pandas as pd\n",
    "import numpy as np\n",
    "import matplotlib.pyplot as plt\n",
    "\n",
    "taxiDB = pd.read_csv('data/taxi_dataset.csv')"
   ]
  },
  {
   "cell_type": "code",
   "execution_count": null,
   "id": "9279db2a",
   "metadata": {},
   "outputs": [],
   "source": [
    "taxiDB.head(5)"
   ]
  },
  {
   "cell_type": "markdown",
   "id": "95a1f65f",
   "metadata": {},
   "source": [
    "<dl>\n",
    "<dt> Описание колонок:\n",
    "<dd>id - ID поездки </dd>\n",
    "<dd>vendor_id - ID компании, осуществляющей перевозку </dd>\n",
    "<dd>pickup_datetime - Таймкод начала поездки</dd>\n",
    "<dd>dropoff_datetime - Таймкод конца поездки </dd>\n",
    "<dd>passenger_count - Количество пассажиров </dd>\n",
    "<dd>pickup_longitude - Долгота точки, в которой началась поездка </dd>\n",
    "<dd>pickup_latitude - Широта точки, в которой началась поездка </dd>\n",
    "<dd>dropoff_longitude - Долгота точки, в которой закончилась поездка </dd>\n",
    "<dd>dropoff_latitude - Широта точки, в которой закончилась поездка </dd>\n",
    "<dd>store_and_fwd_flag - Yes/No: Была ли информация сохранена в памяти транспортного средства из-за потери соединения с сервером </dd>\n",
    "</dl>\n",
    "\n",
    "**Целевая переменная - длительность поездки.**\n",
    "\n",
    "Зная тайм-коды времени начала и конца поездок, можем вычислить обозначенный таргет.\n",
    "Договоримся, что производим вычисления в секундах.\n",
    "\n",
    "Положим таргетную переменнул в столбик с названием *trip_duration*"
   ]
  },
  {
   "cell_type": "code",
   "execution_count": null,
   "id": "eddf1f21",
   "metadata": {},
   "outputs": [],
   "source": [
    "# приведем pickup_datetime и dropoff_datetime к типу datetime\n",
    "taxiDB['pickup_datetime'] = pd.to_datetime(taxiDB['pickup_datetime'])\n",
    "taxiDB['dropoff_datetime'] = pd.to_datetime(taxiDB['dropoff_datetime'])"
   ]
  },
  {
   "cell_type": "code",
   "execution_count": null,
   "id": "8ae76ae9",
   "metadata": {},
   "outputs": [],
   "source": [
    "# добавим столбец - таргет\n",
    "taxiDB['trip_duration'] = (taxiDB['dropoff_datetime'] - taxiDB['pickup_datetime']).dt.total_seconds()"
   ]
  },
  {
   "cell_type": "code",
   "execution_count": null,
   "id": "85367025",
   "metadata": {},
   "outputs": [],
   "source": [
    "taxiDB.head()"
   ]
  },
  {
   "cell_type": "markdown",
   "id": "e4eadedc",
   "metadata": {},
   "source": [
    "Предсказывая таргет для новых объектов в будущем, мы не будем заранее знать **dropoff_datetime**.\n",
    "\n",
    "Удалим колонку из датасета."
   ]
  },
  {
   "cell_type": "code",
   "execution_count": null,
   "id": "6b92a69b",
   "metadata": {},
   "outputs": [],
   "source": [
    "taxiDB = taxiDB.drop('dropoff_datetime', axis=1)"
   ]
  },
  {
   "cell_type": "markdown",
   "id": "6cd88d7c",
   "metadata": {},
   "source": [
    "Рассмотрим имеющиеся вещественные/бинарные признаки и решим, какие простейшие признаки можно вытащить из остальных колонок.\n",
    "\n",
    "Во-первых, имеем бинарный признак `vendor_id`, принимающий значения {1, 2}. Переведем его во множество {0, 1}."
   ]
  },
  {
   "cell_type": "code",
   "execution_count": null,
   "id": "f6a0ed02",
   "metadata": {},
   "outputs": [],
   "source": [
    "taxiDB['vendor_id'] = taxiDB['vendor_id'] - 1"
   ]
  },
  {
   "cell_type": "markdown",
   "id": "728f06c2",
   "metadata": {},
   "source": [
    "Также закодируем бинарный признак `store_and_fwd_flag`. 'N' - 0, 'Y' - 1."
   ]
  },
  {
   "cell_type": "code",
   "execution_count": null,
   "id": "874f8464",
   "metadata": {},
   "outputs": [],
   "source": [
    "taxiDB['store_and_fwd_flag'] = taxiDB['store_and_fwd_flag'].apply(lambda x: 0 if x == 'N' else 1)"
   ]
  },
  {
   "cell_type": "markdown",
   "id": "1b9cf04f",
   "metadata": {},
   "source": [
    "Во-вторых, можем использовать долготу и широту точек старта/завершения поездки, чтобы примерно оценить расстояние между 2 точками.\n",
    "\n",
    "Базовая идея состоит в том, чтобы посчитать разность долгот и широт соответственно, то есть:\n",
    "\n",
    "$$\n",
    "\\delta_{long} = \\text{dropoff\\_longitude} - \\text{pickup\\_longitude}\n",
    "$$\n",
    "\n",
    "$$\n",
    "\\delta_{lat} =  \\text{dropoff\\_latitude} - \\text{pickup\\_latitude}\n",
    "$$\n",
    "\n",
    "А потом вычислить географическое расстояние между 2 точками по теореме Пифагора:\n",
    "\n",
    "$$\n",
    "R = \\sqrt{\\delta^2_{long} + \\delta^2_{lat}}\n",
    "$$\n",
    "\n",
    "Мы реализуем данную задумку и вычислим вещественную колонку *R*.\n",
    "\n",
    "Только для начала нужно некоторым образом перевести долготу и широту в километры, обеспечив равенство их мер измерения. Потому что, вообще говоря, **градусная мера** широт и долгот имеет неодинаковую шкалу перевода в километры. "
   ]
  },
  {
   "cell_type": "markdown",
   "id": "4022a253",
   "metadata": {},
   "source": [
    "Начнем переводить каждую долготу в некоторое относительно километровое выражение. Соберем список из всех широт и посчитаем медиану"
   ]
  },
  {
   "cell_type": "code",
   "execution_count": null,
   "id": "19832c93",
   "metadata": {},
   "outputs": [],
   "source": [
    "medianLat = pd.concat([taxiDB['pickup_latitude'], taxiDB['dropoff_latitude']]).median()\n",
    "medianLat"
   ]
  },
  {
   "cell_type": "markdown",
   "id": "823f6d05",
   "metadata": {},
   "source": [
    "Теперь, из каждого значения широты вычтем медианное значение.\n",
    "\n",
    "Результат переведем в километры."
   ]
  },
  {
   "cell_type": "code",
   "execution_count": null,
   "id": "c2140bf2",
   "metadata": {},
   "outputs": [],
   "source": [
    "latMultiplier  = 111.32\n",
    "\n",
    "taxiDB['pickup_latitude']   = latMultiplier  * (taxiDB['pickup_latitude']   - medianLat)\n",
    "taxiDB['dropoff_latitude']   = latMultiplier  * (taxiDB['dropoff_latitude']  - medianLat)"
   ]
  },
  {
   "cell_type": "markdown",
   "id": "b09e6143",
   "metadata": {},
   "source": [
    "Итого, для **latitude** колонок получили следующие выражения:\n",
    "\n",
    "*На сколько примерно километров севернее или южнее (в зависимости от знака) точка находится относительно средней широты*"
   ]
  },
  {
   "cell_type": "code",
   "execution_count": null,
   "id": "594f3c19",
   "metadata": {},
   "outputs": [],
   "source": [
    "medianLong  = pd.concat([taxiDB['pickup_longitude'], taxiDB['dropoff_longitude']]).median()\n",
    "\n",
    "longMultiplier = np.cos(medianLat*(np.pi/180.0)) * 111.32"
   ]
  },
  {
   "cell_type": "code",
   "execution_count": null,
   "id": "51e195d3",
   "metadata": {},
   "outputs": [],
   "source": [
    "taxiDB['pickup_longitude']   = longMultiplier  * (taxiDB['pickup_longitude']   - medianLong)\n",
    "taxiDB['dropoff_longitude']   = longMultiplier  * (taxiDB['dropoff_longitude']  - medianLong)"
   ]
  },
  {
   "cell_type": "code",
   "execution_count": null,
   "id": "b5b05bb0",
   "metadata": {},
   "outputs": [],
   "source": [
    "taxiDB.head()"
   ]
  },
  {
   "cell_type": "markdown",
   "id": "c0130b4c",
   "metadata": {},
   "source": [
    "Наконец, вычислим географическое расстояние **distance_km**:"
   ]
  },
  {
   "cell_type": "code",
   "execution_count": null,
   "id": "b197b7a1",
   "metadata": {},
   "outputs": [],
   "source": [
    "taxiDB['distance_km'] = ((taxiDB['dropoff_latitude'] - taxiDB['pickup_latitude']) ** 2 \n",
    "+ (taxiDB['dropoff_longitude'] - taxiDB['pickup_longitude']) ** 2) ** (1/2)"
   ]
  },
  {
   "cell_type": "code",
   "execution_count": null,
   "id": "2c612e61",
   "metadata": {},
   "outputs": [],
   "source": [
    "taxiDB.head()"
   ]
  },
  {
   "cell_type": "markdown",
   "id": "a83746db",
   "metadata": {},
   "source": [
    "Уберем старые признаки"
   ]
  },
  {
   "cell_type": "code",
   "execution_count": null,
   "id": "2ebce6a0",
   "metadata": {},
   "outputs": [],
   "source": [
    "taxiDB = taxiDB.drop(['pickup_longitude', 'dropoff_longitude',\n",
    "                      'pickup_latitude', 'dropoff_latitude'], axis=1)"
   ]
  },
  {
   "cell_type": "code",
   "execution_count": null,
   "id": "897bca14",
   "metadata": {},
   "outputs": [],
   "source": [
    "taxiDB.head()"
   ]
  },
  {
   "cell_type": "markdown",
   "id": "3fc31682",
   "metadata": {},
   "source": [
    "Посмотрим, какие значения может принимать `passenger_count`."
   ]
  },
  {
   "cell_type": "code",
   "execution_count": null,
   "id": "2c1f1f69",
   "metadata": {},
   "outputs": [],
   "source": [
    "taxiDB['passenger_count'].value_counts()"
   ]
  },
  {
   "cell_type": "markdown",
   "id": "c7055874",
   "metadata": {},
   "source": [
    "Количество пассажиров от поездки к поездке ограничено. Вряд ли если к нам придут новые данные, мы увидим числа бОльшие, чем у нас в датасете. Тогда предположим, что данный признак является категориальным\n",
    "\n",
    "Заменим колонку **passenger_count** колонкой **category_encoded**, используя  **Mean-target encoding**"
   ]
  },
  {
   "cell_type": "code",
   "execution_count": null,
   "id": "a7d5312b",
   "metadata": {},
   "outputs": [],
   "source": [
    "taxiDB['category_encoded'] = taxiDB['passenger_count'].map(taxiDB.groupby('passenger_count')['trip_duration'].mean()) \n",
    "taxiDB = taxiDB.drop('passenger_count', axis=1)\n",
    "taxiDB.head()"
   ]
  },
  {
   "cell_type": "markdown",
   "id": "f6756fd7",
   "metadata": {},
   "source": [
    "Остались две колонки: **id**, **pickup_datetime**\n",
    "\n",
    "**id** можно использовать как обычный идентификатор нашего объекта, поэтому поместите данную колонку в качестве индекса нашей таблички:"
   ]
  },
  {
   "cell_type": "code",
   "execution_count": null,
   "id": "5abcec26",
   "metadata": {},
   "outputs": [],
   "source": [
    "taxiDB = taxiDB.set_index('id')"
   ]
  },
  {
   "cell_type": "code",
   "execution_count": null,
   "id": "ded60ad5",
   "metadata": {},
   "outputs": [],
   "source": [
    "taxiDB.head()"
   ]
  },
  {
   "cell_type": "markdown",
   "id": "7dc04119",
   "metadata": {},
   "source": [
    "Сохраним подготовленные данные"
   ]
  },
  {
   "cell_type": "code",
   "execution_count": null,
   "id": "51edbc1f",
   "metadata": {},
   "outputs": [],
   "source": [
    "taxiDB.to_csv('output/processed_data.csv', sep=';')"
   ]
  }
 ],
 "metadata": {
  "kernelspec": {
   "display_name": "Python 3 (ipykernel)",
   "language": "python",
   "name": "python3"
  },
  "language_info": {
   "codemirror_mode": {
    "name": "ipython",
    "version": 3
   },
   "file_extension": ".py",
   "mimetype": "text/x-python",
   "name": "python",
   "nbconvert_exporter": "python",
   "pygments_lexer": "ipython3",
   "version": "3.12.1"
  }
 },
 "nbformat": 4,
 "nbformat_minor": 5
}
