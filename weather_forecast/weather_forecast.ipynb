{
 "cells": [
  {
   "cell_type": "markdown",
   "metadata": {},
   "source": [
    "Тестовое задание\n",
    "\n",
    "Цель: проверить гипотезу по уточнению долгосрочного прогноза\n",
    "\n",
    "Гипотеза: на основании среднего смещения любого из параметров за предыдущий месяц от текущей даты, смещение средних многолетних значений на год вперёд от текущей даты окажется ближе к фактическим значениям, чем средние многолетние значения. Иными словами: на основании поведения параметра за последний месяц (в среднем теплее, холоднее), может быть дано уточнение к долгосрочному прогнозу на основе среднемноголетних (что такая коррекция будет обладать более высокой точностью, чем просто среднее многолетнее значение)\n",
    "\n",
    "Задача: на основе фактических значений с метеостанции Самара проверить данную гипотезу для нескольких дат по температуре и осадкам. Для этого в ретроспективе взять несколько любых опорных дат и сверять для них значения долгосрочного прогноза, построенного на основе этой гипотезы, и фактические значения параметров. Использовать только столбцы B и D (это температура воздуха и влажность воздуха). Расхождения между рассчитанным значением и фактом охарактеризовать численно.\n"
   ]
  },
  {
   "cell_type": "markdown",
   "metadata": {},
   "source": [
    "Подключение библиотек"
   ]
  },
  {
   "cell_type": "code",
   "execution_count": null,
   "metadata": {},
   "outputs": [],
   "source": [
    "import pandas as pd\n",
    "import numpy as np\n",
    "import calendar\n",
    "from datetime import datetime\n",
    "import matplotlib.pyplot as plt\n",
    "from sklearn.metrics import mean_absolute_error, mean_squared_error"
   ]
  },
  {
   "cell_type": "markdown",
   "metadata": {},
   "source": [
    "Чтение данных. Используем только колонки с датой, температурой и влажностью"
   ]
  },
  {
   "cell_type": "code",
   "execution_count": null,
   "metadata": {},
   "outputs": [],
   "source": [
    "data = pd.read_excel('data.xls', usecols='A,B,D', names=['date', 'temperature', 'humidity'])\n",
    "\n",
    "data.head()"
   ]
  },
  {
   "cell_type": "markdown",
   "metadata": {},
   "source": [
    "Проверяем наличие пропущенных значений в таблице"
   ]
  },
  {
   "cell_type": "code",
   "execution_count": null,
   "metadata": {},
   "outputs": [],
   "source": [
    "data.isna().mean()"
   ]
  },
  {
   "cell_type": "markdown",
   "metadata": {},
   "source": [
    "Напишем функцию, которая будет заполнять пустые ячейки с помощью линейной интерполяции"
   ]
  },
  {
   "cell_type": "code",
   "execution_count": null,
   "metadata": {},
   "outputs": [],
   "source": [
    "def fill_missing_cells(column):\n",
    "    return column.interpolate(method='linear', limit_direction='forward')\n",
    "         "
   ]
  },
  {
   "cell_type": "markdown",
   "metadata": {},
   "source": [
    "Применяем функцию к столбцам, где есть пропущенные значения, и проверяем, что пустых ячеек нет"
   ]
  },
  {
   "cell_type": "code",
   "execution_count": null,
   "metadata": {},
   "outputs": [],
   "source": [
    "data['temperature'] = fill_missing_cells(data['temperature'])\n",
    "data['humidity'] = fill_missing_cells(data['humidity'])\n",
    "\n",
    "data.isna().mean()"
   ]
  },
  {
   "cell_type": "markdown",
   "metadata": {},
   "source": [
    "Преобразуем данные в столбце date к типу datetime"
   ]
  },
  {
   "cell_type": "code",
   "execution_count": null,
   "metadata": {},
   "outputs": [],
   "source": [
    "data['date'] = pd.to_datetime(data['date'], format='%d.%m.%Y %H:%M')\n",
    "\n",
    "data['date'].dtype"
   ]
  },
  {
   "cell_type": "markdown",
   "metadata": {},
   "source": [
    "После того, как данные подготовлены, можно приступать к проверке гипотезы. Для начала выберем несколько опорных дат. Возьмем таких 100 случайных значений, что для каждой даты есть данные за как минимум два предыдущих года и данные для того же дня на следующий год, чтобы проверить расхождение"
   ]
  },
  {
   "cell_type": "code",
   "execution_count": null,
   "metadata": {},
   "outputs": [],
   "source": [
    "min_date = data['date'].min()\n",
    "max_date = data['date'].max()\n",
    "\n",
    "data_for_reference = data[(data['date'] > min_date + pd.DateOffset(years=2)) & (data['date'] < max_date - pd.DateOffset(years=1))]\n",
    "\n",
    "reference_dates = pd.Series(np.random.choice(data_for_reference['date'], size=100, replace=False))\n",
    "test_dates = reference_dates + pd.DateOffset(years=1)"
   ]
  },
  {
   "cell_type": "markdown",
   "metadata": {},
   "source": [
    "Напишем функцию расчета среднесуточного значения заданного параметра "
   ]
  },
  {
   "cell_type": "code",
   "execution_count": null,
   "metadata": {},
   "outputs": [],
   "source": [
    "def calculate_daily_avg(date, param):\n",
    "    daily_data = data[data['date'].dt.date == date.date()] \n",
    "    return daily_data[param].mean()\n",
    "    "
   ]
  },
  {
   "cell_type": "markdown",
   "metadata": {},
   "source": [
    "Напишем функцию, которая считает среднесуточные значения за предыдущий месяц"
   ]
  },
  {
   "cell_type": "code",
   "execution_count": null,
   "metadata": {},
   "outputs": [],
   "source": [
    "def calculate_daily_avg_for_last_month(date, param):\n",
    "    end_date = date.date()\n",
    "    start_date = end_date - pd.DateOffset(days=30)\n",
    "    date_range = pd.date_range(start=start_date, end=end_date)\n",
    "    daily_averages = [calculate_daily_avg(single_date, param) for single_date in date_range]\n",
    "    return pd.Series(daily_averages)"
   ]
  },
  {
   "cell_type": "markdown",
   "metadata": {},
   "source": [
    "Напишем функцию, которая считает среднее многолетнее значение среднесуточного значения параметра"
   ]
  },
  {
   "cell_type": "code",
   "execution_count": null,
   "metadata": {},
   "outputs": [],
   "source": [
    "def calculate_long_term_avg(date, param):\n",
    "    if calendar.isleap(int(date.year)) and date.day == 29 and date.month == 2:\n",
    "        date = date - pd.DateOffset(days=1)\n",
    "    day_of_years = []\n",
    "    for year in range(min_date.year, date.year + 1):\n",
    "        new_date = datetime(year, date.month, date.day)\n",
    "        if min_date <= new_date <= date:\n",
    "            day_of_years.append(new_date)\n",
    "    yearly_values = [calculate_daily_avg(single_date, param) for single_date in day_of_years]\n",
    "    return pd.Series(yearly_values).mean()"
   ]
  },
  {
   "cell_type": "markdown",
   "metadata": {},
   "source": [
    "Напишем функцию, которая считает среднее всех отклонений между среднесуточным за месяц и средним многолетним и корректирует прогноз на основе среднемноголетних"
   ]
  },
  {
   "cell_type": "code",
   "execution_count": null,
   "metadata": {},
   "outputs": [],
   "source": [
    "def adjusted_long_term_forecast(date, param):\n",
    "    daily_avg_for_last_month = calculate_daily_avg_for_last_month(date, param)\n",
    "    long_term_avg = calculate_long_term_avg(date, param)\n",
    "    deviation = (daily_avg_for_last_month - long_term_avg).mean()\n",
    "    return long_term_avg + deviation"
   ]
  },
  {
   "cell_type": "markdown",
   "metadata": {},
   "source": [
    "Считаем прогноз без корректировки"
   ]
  },
  {
   "cell_type": "code",
   "execution_count": null,
   "metadata": {},
   "outputs": [],
   "source": [
    "long_term_forecast_temp = pd.Series([calculate_long_term_avg(date, 'temperature') for date in reference_dates])\n",
    "long_term_forecast_hum = pd.Series([calculate_long_term_avg(date, 'humidity') for date in reference_dates])"
   ]
  },
  {
   "cell_type": "markdown",
   "metadata": {},
   "source": [
    "Считаем прогноз с корректировкой "
   ]
  },
  {
   "cell_type": "code",
   "execution_count": null,
   "metadata": {},
   "outputs": [],
   "source": [
    "adjusted_long_term_forecast_temp = pd.Series([adjusted_long_term_forecast(date, 'temperature') for date in reference_dates])\n",
    "adjusted_long_term_forecast_hum = pd.Series([adjusted_long_term_forecast(date, 'humidity') for date in reference_dates])"
   ]
  },
  {
   "cell_type": "markdown",
   "metadata": {},
   "source": [
    "Считаем реальные среднесуточные значения"
   ]
  },
  {
   "cell_type": "code",
   "execution_count": null,
   "metadata": {},
   "outputs": [],
   "source": [
    "actual_dat_temp = pd.Series([calculate_daily_avg(date, 'temperature') for date in test_dates])\n",
    "actual_dat_hum = pd.Series([calculate_daily_avg(date, 'humidity') for date in test_dates])"
   ]
  },
  {
   "cell_type": "markdown",
   "metadata": {},
   "source": [
    "Таблица с температурой"
   ]
  },
  {
   "cell_type": "code",
   "execution_count": null,
   "metadata": {},
   "outputs": [],
   "source": [
    "result_temp = pd.DataFrame({'Date':test_dates, 'Actual data': actual_dat_temp, 'The average long-term forecast': long_term_forecast_temp, \n",
    "                            'Adjusted long-term average forecast': adjusted_long_term_forecast_temp})\n",
    "result_temp "
   ]
  },
  {
   "cell_type": "markdown",
   "metadata": {},
   "source": [
    "Таблица с влажностью"
   ]
  },
  {
   "cell_type": "code",
   "execution_count": null,
   "metadata": {},
   "outputs": [],
   "source": [
    "result_hum = pd.DataFrame({'Date':test_dates, 'Actual data': actual_dat_hum, 'The average long-term forecast': long_term_forecast_hum, \n",
    "                            'Adjusted long-term average forecast': adjusted_long_term_forecast_hum})\n",
    "result_hum "
   ]
  },
  {
   "cell_type": "markdown",
   "metadata": {},
   "source": [
    "Построим графики "
   ]
  },
  {
   "cell_type": "code",
   "execution_count": null,
   "metadata": {},
   "outputs": [],
   "source": [
    "plt.figure(figsize=(10, 5))\n",
    "\n",
    "plt.plot(result_temp['Actual data'], label='Actual data')  \n",
    "plt.plot(result_temp['The average long-term forecast'], label='The average long-term forecast')  \n",
    "plt.plot(result_temp['Adjusted long-term average forecast'], label='Adjusted long-term average forecast') \n",
    "plt.legend()\n",
    "\n",
    "plt.show()"
   ]
  },
  {
   "cell_type": "code",
   "execution_count": null,
   "metadata": {},
   "outputs": [],
   "source": [
    "plt.figure(figsize=(10, 5))\n",
    "\n",
    "plt.plot(result_hum['Actual data'], label='Actual data')  \n",
    "plt.plot(result_hum['The average long-term forecast'], label='The average long-term forecast')  \n",
    "plt.plot(result_hum['Adjusted long-term average forecast'], label='Adjusted long-term average forecast') \n",
    "plt.legend()\n",
    "\n",
    "plt.show()"
   ]
  },
  {
   "cell_type": "markdown",
   "metadata": {},
   "source": [
    "Посчитаем ошибку по температуре"
   ]
  },
  {
   "cell_type": "code",
   "execution_count": null,
   "metadata": {},
   "outputs": [],
   "source": [
    "mae_avg_long_term_forecast = mean_absolute_error(result_hum['Actual data'], result_hum['The average long-term forecast'])\n",
    "mse_avg_long_term_forecast = mean_squared_error(result_hum['Actual data'], result_hum['The average long-term forecast'])\n",
    "\n",
    "mae_avg_long_term_forecast_adj = mean_absolute_error(result_hum['Actual data'], result_hum['Adjusted long-term average forecast'])\n",
    "mse_avg_long_term_forecast_adj = mean_squared_error(result_hum['Actual data'], result_hum['Adjusted long-term average forecast'])\n",
    "\n",
    "print(f'MAE: The average long-term forecast - {mae_avg_long_term_forecast}, Adjusted long-term average forecast - {mae_avg_long_term_forecast_adj}')\n",
    "print(f'MSE: The average long-term forecast - {mse_avg_long_term_forecast}, Adjusted long-term average forecast - {mse_avg_long_term_forecast_adj}')"
   ]
  },
  {
   "cell_type": "markdown",
   "metadata": {},
   "source": [
    "Посчитаем ошибку по влажности"
   ]
  },
  {
   "cell_type": "code",
   "execution_count": null,
   "metadata": {},
   "outputs": [],
   "source": [
    "mae_avg_long_term_forecast = mean_absolute_error(result_temp['Actual data'], result_temp['The average long-term forecast'])\n",
    "mse_avg_long_term_forecast = mean_squared_error(result_temp['Actual data'], result_temp['The average long-term forecast'])\n",
    "\n",
    "mae_avg_long_term_forecast_adj = mean_absolute_error(result_temp['Actual data'], result_temp['Adjusted long-term average forecast'])\n",
    "mse_avg_long_term_forecast_adj = mean_squared_error(result_temp['Actual data'], result_temp['Adjusted long-term average forecast'])\n",
    "\n",
    "print(f'MAE: The average long-term forecast - {mae_avg_long_term_forecast}, Adjusted long-term average forecast - {mae_avg_long_term_forecast_adj}')\n",
    "print(f'MSE: The average long-term forecast - {mse_avg_long_term_forecast}, Adjusted long-term average forecast - {mse_avg_long_term_forecast_adj}')"
   ]
  },
  {
   "cell_type": "markdown",
   "metadata": {},
   "source": [
    "Из проделанной работы можно сделать вывод, что уточнение к долгосрочному прогнозу на основе среднемноголетних значений даёт небольшое улучшении при предсказании температуры и значительно ухудшает результаты при предсказании влажности"
   ]
  }
 ],
 "metadata": {
  "kernelspec": {
   "display_name": "Python 3",
   "language": "python",
   "name": "python3"
  },
  "language_info": {
   "codemirror_mode": {
    "name": "ipython",
    "version": 3
   },
   "file_extension": ".py",
   "mimetype": "text/x-python",
   "name": "python",
   "nbconvert_exporter": "python",
   "pygments_lexer": "ipython3",
   "version": "3.12.1"
  }
 },
 "nbformat": 4,
 "nbformat_minor": 2
}
