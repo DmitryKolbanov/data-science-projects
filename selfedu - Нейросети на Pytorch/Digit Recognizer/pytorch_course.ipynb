{
 "cells": [
  {
   "cell_type": "code",
   "execution_count": 36,
   "metadata": {},
   "outputs": [],
   "source": [
    "import os\n",
    "import json\n",
    "from PIL import Image\n",
    "\n",
    "import torch\n",
    "import torch.utils.data as data\n",
    "import torchvision.transforms.v2 as tfs\n",
    "import torch.nn as nn\n",
    "import torch.optim as optim\n",
    "\n",
    "from tqdm import tqdm"
   ]
  },
  {
   "cell_type": "code",
   "execution_count": 35,
   "metadata": {},
   "outputs": [],
   "source": [
    "class DigitDataset(data.Dataset):\n",
    "    def __init__(self, path, train=True, transform=None):\n",
    "        self.path = os.path.join(path, 'train' if train else 'test')\n",
    "        self.transform = transform\n",
    "\n",
    "        with open(os.path.join(path, 'format.json'), 'r') as fp:\n",
    "            self.format = json.load(fp)\n",
    "        \n",
    "        self.length = 0\n",
    "        self.files = []\n",
    "        self.targets = torch.eye(10)\n",
    "\n",
    "        for _dir, _target in self.format.items():\n",
    "            path = os.path.join(self.path, _dir)\n",
    "            list_files = os.listdir(path)\n",
    "            self.length += len(list_files)\n",
    "            self.files.extend(map(lambda _x: (os.path.join(path, _x), _target), list_files))\n",
    "\n",
    "    def __getitem__(self, item):\n",
    "        path_file, target = self.files[item]\n",
    "        t = self.targets[target]\n",
    "        img = Image.open(path_file)\n",
    "\n",
    "        if self.transform:\n",
    "            img = self.transform(img).ravel().float() / 255.0\n",
    "        return img, t\n",
    "    \n",
    "    def __len__(self):\n",
    "        return self.length"
   ]
  },
  {
   "cell_type": "code",
   "execution_count": 34,
   "metadata": {},
   "outputs": [],
   "source": [
    "class DigitNN(nn.Module):\n",
    "    def __init__(self):\n",
    "        super().__init__()\n",
    "        self.layer1 = nn.Linear(28*28, 32)\n",
    "        self.layer2 = nn.Linear(32, 10)\n",
    "\n",
    "    def forward(self, x):\n",
    "        x = self.layer1(x)\n",
    "        x = nn.functional.relu(x)\n",
    "        x = self.layer2(x)\n",
    "        return x"
   ]
  },
  {
   "cell_type": "code",
   "execution_count": 38,
   "metadata": {},
   "outputs": [
    {
     "name": "stderr",
     "output_type": "stream",
     "text": [
      "Epoch 1/2 Loss: 0.2771: 100%|██████████| 1875/1875 [00:21<00:00, 86.75it/s]\n",
      "Epoch 2/2 Loss: 0.1893: 100%|██████████| 1875/1875 [00:23<00:00, 81.04it/s]\n"
     ]
    }
   ],
   "source": [
    "model = DigitNN()\n",
    "\n",
    "to_tensor = tfs.ToImage()\n",
    "d_train = DigitDataset(path='dataset', transform=to_tensor)\n",
    "train_data = data.DataLoader(d_train, batch_size=32, shuffle=True)\n",
    "\n",
    "optimizer = optim.Adam(model.parameters(), lr=0.01)\n",
    "loss_function = nn.CrossEntropyLoss()\n",
    "\n",
    "epochs = 2\n",
    "model.train()\n",
    "\n",
    "for epoch in range(epochs):\n",
    "    loss_mean = 0\n",
    "    lm_count = 0\n",
    "\n",
    "    train_tqdm = tqdm(train_data, leave=True)\n",
    "\n",
    "    for x_train, y_train in train_tqdm:\n",
    "        predict = model(x_train)\n",
    "        loss = loss_function(predict, y_train)\n",
    "\n",
    "        optimizer.zero_grad()\n",
    "        loss.backward()\n",
    "        optimizer.step()\n",
    "\n",
    "        lm_count += 1\n",
    "        loss_mean = 1 / lm_count * loss.item() + (1 - 1 / lm_count) * loss_mean\n",
    "        train_tqdm.set_description(f'Epoch {epoch+1}/{epochs} Loss: {loss_mean:.4f}')"
   ]
  },
  {
   "cell_type": "code",
   "execution_count": 39,
   "metadata": {},
   "outputs": [
    {
     "data": {
      "text/plain": [
       "0.9463"
      ]
     },
     "execution_count": 39,
     "metadata": {},
     "output_type": "execute_result"
    }
   ],
   "source": [
    "d_test = DigitDataset(path='dataset', train=False, transform=to_tensor)\n",
    "test_data = data.DataLoader(d_test, batch_size=500, shuffle=False)\n",
    "Q = 0\n",
    "\n",
    "model.eval()\n",
    "for x_test, y_test in test_data:\n",
    "    with torch.no_grad():\n",
    "        predict = model(x_test)\n",
    "        predict = torch.argmax(predict, dim=1)\n",
    "        y = torch.argmax(y_test, dim=1)\n",
    "        Q += torch.sum(predict == y).item()\n",
    "\n",
    "Q /= len(d_test)\n",
    "Q    "
   ]
  }
 ],
 "metadata": {
  "kernelspec": {
   "display_name": "Python 3",
   "language": "python",
   "name": "python3"
  },
  "language_info": {
   "codemirror_mode": {
    "name": "ipython",
    "version": 3
   },
   "file_extension": ".py",
   "mimetype": "text/x-python",
   "name": "python",
   "nbconvert_exporter": "python",
   "pygments_lexer": "ipython3",
   "version": "3.12.1"
  }
 },
 "nbformat": 4,
 "nbformat_minor": 2
}
