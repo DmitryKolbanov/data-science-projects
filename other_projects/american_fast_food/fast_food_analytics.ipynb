{
 "cells": [
  {
   "cell_type": "markdown",
   "metadata": {},
   "source": [
    "Читаем данные таблицы"
   ]
  },
  {
   "cell_type": "code",
   "execution_count": null,
   "metadata": {},
   "outputs": [],
   "source": [
    "import pandas as pd \n",
    "\n",
    "data = pd.read_csv(\"Datafiniti_Fast_Food_Restaurants.csv\")"
   ]
  },
  {
   "cell_type": "markdown",
   "metadata": {},
   "source": [
    "Посмотрим первые записи"
   ]
  },
  {
   "cell_type": "code",
   "execution_count": null,
   "metadata": {},
   "outputs": [],
   "source": [
    "data.head()"
   ]
  },
  {
   "cell_type": "markdown",
   "metadata": {},
   "source": [
    "Перечислим первые три значения колонки `dateAdded` через запятую и пробел в том порядке, в котором они были выведены"
   ]
  },
  {
   "cell_type": "code",
   "execution_count": null,
   "metadata": {},
   "outputs": [],
   "source": [
    "new_data = data['dateAdded'].head(3)\n",
    "list(new_data)"
   ]
  },
  {
   "cell_type": "markdown",
   "metadata": {},
   "source": [
    "Посмотрим, какой тип имеют колонки `city` и `latitude`"
   ]
  },
  {
   "cell_type": "code",
   "execution_count": null,
   "metadata": {},
   "outputs": [],
   "source": [
    "print(f\"city - {data['city'].dtype}\")\n",
    "print(f\"latitude - {data['latitude'].dtype}\")"
   ]
  },
  {
   "cell_type": "markdown",
   "metadata": {},
   "source": [
    "Посмотрим описание данных с помощью `describe`. Вывелись `latitude` и `longitude`, потому что это единственные численные колонки"
   ]
  },
  {
   "cell_type": "code",
   "execution_count": null,
   "metadata": {},
   "outputs": [],
   "source": [
    "data.describe()"
   ]
  },
  {
   "cell_type": "markdown",
   "metadata": {},
   "source": [
    "Проверим, есть ли пропуски в данных "
   ]
  },
  {
   "cell_type": "code",
   "execution_count": null,
   "metadata": {},
   "outputs": [],
   "source": [
    "data.isna().any().any()"
   ]
  },
  {
   "cell_type": "markdown",
   "metadata": {},
   "source": [
    "При наличи пропусков можно воспользоваться методом `dropna`. Метод `dropna` в **Pandas** используется для удаления строк или столбцов, содержащих пропущенные значения"
   ]
  },
  {
   "cell_type": "markdown",
   "metadata": {},
   "source": [
    "Отберем заведения, которые находятся в городе `Detroit`.  Укажем индексы, под которыми полученные заведения расположены в датафрейме, через запятую и пробел в порядке возрастания. "
   ]
  },
  {
   "cell_type": "code",
   "execution_count": null,
   "metadata": {},
   "outputs": [],
   "source": [
    "print(list(data[data['city'] == 'Detroit'].index))"
   ]
  },
  {
   "cell_type": "markdown",
   "metadata": {},
   "source": [
    "Отберем заведения `Taco Bell` в городе `Detroit`.\n",
    "Укажем индексы этих заведений через запятую и пробел в порядке возрастания."
   ]
  },
  {
   "cell_type": "code",
   "execution_count": null,
   "metadata": {},
   "outputs": [],
   "source": [
    "print(list(data[(data['name'] == 'Taco Bell') & (data['city'] == 'Detroit')].index))"
   ]
  },
  {
   "cell_type": "markdown",
   "metadata": {},
   "source": [
    "Найдем заведения `Taco Bell` или заведения, которые находятся в городе **Нью-Йорк**. При этом обязательно, чтобы в названии меню не было `Volcano Taco` и `Fresco Soft Taco` (именно таких значений колонки). Данные сохраним в датафрейм `result`."
   ]
  },
  {
   "cell_type": "code",
   "execution_count": null,
   "metadata": {},
   "outputs": [],
   "source": [
    "result = data[((data['name'] == 'Taco Bell') | (data['city'] == 'New York'))\n",
    "               & (~data['name'].isin(['Volcano Taco', 'Fresco Soft Taco']))]\n",
    "result"
   ]
  },
  {
   "cell_type": "markdown",
   "metadata": {},
   "source": [
    "Попробуемсделать `data['categories']`, `data[['categories']]`, посмотрим на тип и на значения их элементов."
   ]
  },
  {
   "cell_type": "code",
   "execution_count": null,
   "metadata": {},
   "outputs": [],
   "source": [
    "print(data['categories'])\n",
    "print(type(data['categories']))"
   ]
  },
  {
   "cell_type": "code",
   "execution_count": null,
   "metadata": {},
   "outputs": [],
   "source": [
    "print(data[['categories']])\n",
    "print(type(data[['categories']]))"
   ]
  },
  {
   "cell_type": "markdown",
   "metadata": {},
   "source": [
    "- В коде вида `датафрейм[одна_строка]` pandas видит запрос на получение **одной** колонки и возвращает `Series`.\n",
    "- В коде вида `датафрейм[список_из_строк]`, где в списке лежит только один элемен, pandas видит запрос на получение **нескольких** колонок. `Series` по своей сущности может содержать только одну колонку, поэтому pandas в качестве результата выдаст `DataFrame`, куда войдут только те строки, которые вы заказали."
   ]
  },
  {
   "cell_type": "markdown",
   "metadata": {},
   "source": [
    "Посчитаем, сколько ресторанов *Taco Bell* находится в каждом городе. Отберем 5 городов, в которых ресторан встречается чаще всего. Количество ресторанов для этих городов с их названиями сохраним в виде объекта `pd.Series` в переменную `result`."
   ]
  },
  {
   "cell_type": "code",
   "execution_count": null,
   "metadata": {},
   "outputs": [],
   "source": [
    "result = data[data['name'] == 'Taco Bell'].groupby('city').agg({'name': 'count'}) # считаем количество ресторанов в каждом городе\n",
    "result = result.sort_values(by='name', ascending=False)[:5] # берем 5 городов, где ресторан встречается чаще всего\n",
    "result.squeeze() \n",
    "# Метод squeeze() в Pandas используется для удаления ненужных измерений из DataFrame или Series. Он особенно полезен, \n",
    "# когда вы работаете с объектами, у которых есть только одно измерение, но формально они всё ещё остаются DataFrame или Series."
   ]
  },
  {
   "cell_type": "markdown",
   "metadata": {},
   "source": [
    "Найдем рестораны, открытые в октябре.\n",
    "Выведем индексы первых пяти ресторанов через запятую и пробел в порядке возрастания."
   ]
  },
  {
   "cell_type": "code",
   "execution_count": null,
   "metadata": {},
   "outputs": [],
   "source": [
    "data_with_datetime = data.copy()\n",
    "data_with_datetime['dateAdded'] = pd.to_datetime(data_with_datetime['dateAdded']) # создадим копию и в ней превратим колонку в pd.datetime\n",
    "result = data_with_datetime[data_with_datetime['dateAdded'].dt.month == 10]\n",
    "print(list(result.index[:5]))"
   ]
  },
  {
   "cell_type": "markdown",
   "metadata": {},
   "source": [
    "Сделаем группировку по месяцу открытия ресторана (переменная `dateAdded`). Сколько ресторанов было открыто в каждом месяце? Рассчитаем по количеству уникальных `id` ресторанов в каждом месяце. Значения `dateAdded` должны при этом быть индексами. Результирующий датафрейм сохраним в `result`"
   ]
  },
  {
   "cell_type": "code",
   "execution_count": null,
   "metadata": {},
   "outputs": [],
   "source": [
    "result = data_with_datetime.groupby(data_with_datetime['dateAdded'].dt.month).agg({'id': 'nunique'})\n",
    "result.index = pd.to_datetime(result.index, format='%m').strftime('%B')\n",
    "result\n",
    "# format='%m' указывает, что месяцы в result.index представлены в формате \"%m\", \n",
    "# то есть как двузначные числа (например, \"01\" для января, \"02\" для февраля и т.д.).\n",
    "\n",
    "# .strftime(...): Это метод, доступный для объектов datetime в Python. \n",
    "# Он позволяет форматировать дату в строку с помощью специальных кодов формата. \n",
    "# '%B' - код формата указывает на полное название месяца (например, \"January\", \"February\" и т.д.). "
   ]
  },
  {
   "cell_type": "markdown",
   "metadata": {},
   "source": [
    "Добавим столбец `update_delta` с количеством целых дней, полученных от разницы между `dateUpdated` и `dateAdded`.\n",
    "Потом для каждого города найдем:\n",
    "- среднее по переменной `update_delta`\n",
    "- широту самой северной закусочной (чем севернее расположена закусочная, тем больше будет значение широты)\n",
    "Названия городов не должны быть индексами. Сохраним результирующий датафрейм в переменную `result`.  Также сохраним в переменную `det_mean` среднее значение `update_delta` по городу *Detroit*.\n"
   ]
  },
  {
   "cell_type": "code",
   "execution_count": null,
   "metadata": {},
   "outputs": [],
   "source": [
    "data_with_update_delta = data_with_datetime.copy()\n",
    "data_with_update_delta['dateUpdated'] = pd.to_datetime(data_with_update_delta['dateUpdated'])\n",
    "data_with_update_delta['update_delta'] = (data_with_update_delta['dateUpdated'] - data_with_update_delta['dateAdded']).dt.days\n",
    "\n",
    "mean_update_delta = data_with_update_delta.groupby('city').agg({'update_delta': 'mean'})['update_delta']\n",
    "max_latitude = data_with_update_delta.groupby('city').agg({'latitude': 'max'}).squeeze()\n",
    "\n",
    "result = pd.DataFrame({'mean_update_delta': mean_update_delta, 'max_latitude': max_latitude})\n",
    "det_mean = mean_update_delta['Detroit']\n",
    "print(det_mean)\n",
    "result"
   ]
  },
  {
   "cell_type": "markdown",
   "metadata": {},
   "source": [
    "Отберем рестораны, у которых в колонке `categories` упоминается *Pizza*\n",
    "Укажем индекс 3-го элемента, полученного после фильтрации\n"
   ]
  },
  {
   "cell_type": "code",
   "execution_count": null,
   "metadata": {},
   "outputs": [],
   "source": [
    "data[data['categories'].str.contains('Pizza')].index[2]"
   ]
  },
  {
   "cell_type": "markdown",
   "metadata": {},
   "source": [
    "Добавим столбец `update_delta`, куда будет записана разница в днях между `dateUpdated` и `dateAdded`.  Посчитаем среднее и медиану получившейся колонки.\n",
    "Перечислим значения через пробел (сначала среднее, затем медиану), округлив до 2 знаков. \n"
   ]
  },
  {
   "cell_type": "code",
   "execution_count": null,
   "metadata": {},
   "outputs": [],
   "source": [
    "mean = round(data_with_update_delta['update_delta'].mean(), 2)\n",
    "median = round(data_with_update_delta['update_delta'].median(), 2)\n",
    "print(mean, median)"
   ]
  },
  {
   "cell_type": "markdown",
   "metadata": {},
   "source": [
    "Отоберем записи, у которых более 2 категорий, далее сгруппируем их по провинциям и подсчитаем минимальную `longitude` в каждой. Округлим значения `longitude` до 3-х знаков после запятой.\n",
    "Далее сохраним результирующий датафрейм в файл в формате **csv** с сепаратором `;`. Сам датафрейм должен содержать две колонки: `province` и `longitude`\n"
   ]
  },
  {
   "cell_type": "code",
   "execution_count": null,
   "metadata": {},
   "outputs": [],
   "source": [
    "many_categories = data[data['categories'].str.split(',').apply(len) > 2]\n",
    "result = many_categories.groupby('province').agg({'longitude': 'min'})\n",
    "result['longitude'].apply(lambda x: round(x, 3))\n",
    "result.to_csv('output/result.csv', sep=';')\n",
    "result"
   ]
  }
 ],
 "metadata": {
  "kernelspec": {
   "display_name": "Python 3",
   "language": "python",
   "name": "python3"
  },
  "language_info": {
   "codemirror_mode": {
    "name": "ipython",
    "version": 3
   },
   "file_extension": ".py",
   "mimetype": "text/x-python",
   "name": "python",
   "nbconvert_exporter": "python",
   "pygments_lexer": "ipython3",
   "version": "3.12.4"
  }
 },
 "nbformat": 4,
 "nbformat_minor": 2
}
