{
 "cells": [
  {
   "cell_type": "markdown",
   "metadata": {},
   "source": [
    "Импортируем библиотеки и считываем данные, разделив их на объекты и ответы"
   ]
  },
  {
   "cell_type": "code",
   "execution_count": 5,
   "metadata": {},
   "outputs": [],
   "source": [
    "from sklearn.linear_model import LinearRegression\n",
    "import pandas as pd\n",
    "import numpy as np\n",
    "\n",
    "X = pd.read_csv('output/processed_data.csv', sep=';').drop('таргет', axis=1)\n",
    "Y = pd.read_csv('output/processed_data.csv', sep=';')['таргет']"
   ]
  },
  {
   "cell_type": "markdown",
   "metadata": {},
   "source": [
    "Создадим и обучим модель с помощью библиотеки **sklearn**, посмотрим на значения коэффициентов"
   ]
  },
  {
   "cell_type": "code",
   "execution_count": 22,
   "metadata": {},
   "outputs": [
    {
     "name": "stdout",
     "output_type": "stream",
     "text": [
      "Unnamed: 0 -2.539072099489649e-10\n",
      "Категория 2.4656681690826687e-07\n",
      "Цель в долларах 2.748435687029785e-11\n",
      "Срок 2.1443104116934154e-05\n",
      "Год публикации 0.00020103491992308194\n",
      "Close_brent 7.228753598491826e-06\n",
      "CAD 0.0001217768990008056\n",
      "CHF 0.0022193060811953637\n",
      "DKK 0.0001479920518069271\n",
      "EUR 9.967200854817863e-05\n",
      "GBP 0.0007219105160061159\n",
      "HKD -0.0005988673232348322\n",
      "JPY -0.0022553139074041064\n",
      "MXN -0.0010706470758468506\n",
      "NOK -0.0003283455050242563\n",
      "NZD -7.072726013585057e-05\n",
      "SEK 0.0005354609279273608\n",
      "SGD -0.00042544761083652976\n",
      "USD 0.0017804938733633627\n",
      "Art -9.321129858888592e-06\n",
      "Comics -0.00015475589141757226\n",
      "Crafts -0.00012355182801725885\n",
      "Dance -0.00011514926976538128\n",
      "Design -3.7424943466228705e-05\n",
      "Fashion -5.92835178985311e-05\n",
      "Film & Video -4.361465960302477e-05\n",
      "Food -0.00016025685465368724\n",
      "Journalism -0.00012905607387089\n",
      "Music -5.575106583034011e-05\n",
      "Photography 6.011696963417235e-05\n",
      "Publishing -0.00012200234366174299\n",
      "Technology -2.159573464267735e-05\n",
      "Theater 5.8946520940859956e-05\n",
      "Предсказание 0.9999997454491799\n",
      "constant 0.0\n",
      "-0.40712034880561987\n"
     ]
    }
   ],
   "source": [
    "model = LinearRegression()\n",
    "model.fit(X, Y)\n",
    "\n",
    "for column, coef in zip(X.columns, model.coef_):\n",
    "    print(column, coef)\n",
    "    \n",
    "print(model.intercept_)\n",
    "\n",
    "X['Предсказание'] = model.predict(X)"
   ]
  },
  {
   "cell_type": "markdown",
   "metadata": {},
   "source": [
    " Посчитаем MSE"
   ]
  },
  {
   "cell_type": "code",
   "execution_count": 23,
   "metadata": {},
   "outputs": [
    {
     "data": {
      "text/plain": [
       "9201822651.218962"
      ]
     },
     "execution_count": 23,
     "metadata": {},
     "output_type": "execute_result"
    }
   ],
   "source": [
    "((X['Предсказание'] - Y) ** 2).mean()"
   ]
  },
  {
   "cell_type": "markdown",
   "metadata": {},
   "source": [
    "Посчитаем MAE"
   ]
  },
  {
   "cell_type": "code",
   "execution_count": 24,
   "metadata": {},
   "outputs": [
    {
     "data": {
      "text/plain": [
       "13853.282121360295"
      ]
     },
     "execution_count": 24,
     "metadata": {},
     "output_type": "execute_result"
    }
   ],
   "source": [
    "(abs(X['Предсказание'] - Y)).mean()"
   ]
  },
  {
   "cell_type": "markdown",
   "metadata": {},
   "source": [
    "Найдем коэффициенты аналитическим решением, минимизируя MSE"
   ]
  },
  {
   "cell_type": "markdown",
   "metadata": {},
   "source": [
    "$$\n",
    "\\beta^* = (X^T \\cdot X)^{-1} \\cdot X^T \\cdot Y\n",
    "$$"
   ]
  },
  {
   "cell_type": "code",
   "execution_count": 25,
   "metadata": {},
   "outputs": [],
   "source": [
    "X['constant'] = 1"
   ]
  },
  {
   "cell_type": "code",
   "execution_count": 26,
   "metadata": {},
   "outputs": [
    {
     "data": {
      "text/plain": [
       "array([-6.32380462e-09,  1.31674837e-07,  1.22856977e-11, -4.11330415e-05,\n",
       "        2.37103338e-06,  4.52804214e-07,  9.75055065e-06,  5.42085038e-05,\n",
       "        1.24421812e-05,  2.99507088e-06,  1.09271009e-05,  1.97489229e-05,\n",
       "        1.34252435e-03, -8.38993637e-06,  2.74404844e-05,  3.28868860e-06,\n",
       "        1.15473016e-05,  1.21453280e-05,  2.01703251e-05, -1.20398128e-07,\n",
       "       -1.33316938e-06, -9.43295139e-07, -9.56969470e-07, -3.56036865e-07,\n",
       "       -6.23440234e-07, -8.49931598e-08, -1.36839001e-06, -1.03336976e-06,\n",
       "       -7.27472408e-07,  8.15017205e-07, -7.97042703e-07, -4.95992529e-07,\n",
       "        2.71179699e-07,  9.99999997e-01, -3.91027736e-03])"
      ]
     },
     "execution_count": 26,
     "metadata": {},
     "output_type": "execute_result"
    }
   ],
   "source": [
    "X = X.astype('float64')\n",
    "Y = Y.astype('float64')\n",
    "\n",
    "xxt = np.dot(X.T, X)\n",
    "xxt_inv = np.linalg.inv(xxt)\n",
    "xxt_inv_xxt = np.dot(xxt_inv, X.T)\n",
    "final_coefs = np.dot(xxt_inv_xxt, Y)\n",
    "\n",
    "final_coefs"
   ]
  }
 ],
 "metadata": {
  "kernelspec": {
   "display_name": "Python 3",
   "language": "python",
   "name": "python3"
  },
  "language_info": {
   "codemirror_mode": {
    "name": "ipython",
    "version": 3
   },
   "file_extension": ".py",
   "mimetype": "text/x-python",
   "name": "python",
   "nbconvert_exporter": "python",
   "pygments_lexer": "ipython3",
   "version": "3.12.1"
  }
 },
 "nbformat": 4,
 "nbformat_minor": 2
}
