{
 "cells": [
  {
   "cell_type": "markdown",
   "id": "325a53ba",
   "metadata": {},
   "source": [
    "### Построим модель по данным платформы **KICKSTARTER**, которая будет предсказывать, будет ли выложенный на платформу проект успешным"
   ]
  },
  {
   "cell_type": "markdown",
   "id": "fe1309c9",
   "metadata": {},
   "source": [
    "Импортируем библиотеки и считываем данные"
   ]
  },
  {
   "cell_type": "code",
   "execution_count": null,
   "id": "b10721a1",
   "metadata": {},
   "outputs": [],
   "source": [
    "import pandas as pd\n",
    "import numpy as np\n",
    "\n",
    "data = pd.read_csv('data/ks.csv')"
   ]
  },
  {
   "cell_type": "code",
   "execution_count": null,
   "id": "e5477f24",
   "metadata": {},
   "outputs": [],
   "source": [
    "data.head()"
   ]
  },
  {
   "cell_type": "code",
   "execution_count": null,
   "id": "b8d1a030",
   "metadata": {},
   "outputs": [],
   "source": [
    "data.shape"
   ]
  },
  {
   "cell_type": "code",
   "execution_count": null,
   "id": "b2c81d3b",
   "metadata": {},
   "outputs": [],
   "source": [
    "data['Состояние'].value_counts()"
   ]
  },
  {
   "cell_type": "markdown",
   "id": "80854436",
   "metadata": {},
   "source": [
    "Оставим только те состояния, которые соответствуют законченным проектам, то есть `failed` и `successful`"
   ]
  },
  {
   "cell_type": "code",
   "execution_count": null,
   "id": "a2ed20da",
   "metadata": {},
   "outputs": [],
   "source": [
    "data = data[data['Состояние'].isin(['failed', 'successful'])]"
   ]
  },
  {
   "cell_type": "code",
   "execution_count": null,
   "id": "e48b6254",
   "metadata": {},
   "outputs": [],
   "source": [
    "data = data.drop('Состояние', axis=1)"
   ]
  },
  {
   "cell_type": "markdown",
   "id": "357e7218",
   "metadata": {},
   "source": [
    "Будем предсказывать собранное количество денег, применять модель, а потом уже смотреть, нужная ли сумма получилось. Тогда мы решаем задачу регрессии."
   ]
  },
  {
   "cell_type": "code",
   "execution_count": null,
   "id": "4c7fd395",
   "metadata": {},
   "outputs": [],
   "source": [
    "### Создадим вещественную колонку таргет\n",
    "data = data.rename({'Собрано в долларах':'таргет'}, axis=1)"
   ]
  },
  {
   "cell_type": "markdown",
   "id": "43987939",
   "metadata": {},
   "source": [
    "Создадим новый признак *Срок*, который будет показывать разницу в днях между датой публикации и дедлайном сбора средств"
   ]
  },
  {
   "cell_type": "code",
   "execution_count": null,
   "id": "c5079782",
   "metadata": {},
   "outputs": [],
   "source": [
    "### Оставим от колонок с датами разницу в днях \n",
    "\n",
    "data['Дедлайн'] = pd.to_datetime(data['Дедлайн'])\n",
    "data['Дата публикации'] = pd.to_datetime(data['Дата публикации'])"
   ]
  },
  {
   "cell_type": "code",
   "execution_count": null,
   "id": "d306e936",
   "metadata": {},
   "outputs": [],
   "source": [
    "data['Срок'] = (data['Дедлайн'] - data['Дата публикации']).dt.days"
   ]
  },
  {
   "cell_type": "markdown",
   "id": "7b596324",
   "metadata": {},
   "source": [
    "В качестве характеристики положения проекта во времени оставим *Год публикации*"
   ]
  },
  {
   "cell_type": "code",
   "execution_count": null,
   "id": "c84f9c0e",
   "metadata": {},
   "outputs": [],
   "source": [
    "### Выделим год запуска проекта\n",
    "data['Год публикации'] = data['Дата публикации'].dt.year"
   ]
  },
  {
   "cell_type": "markdown",
   "id": "e2bfd6b6",
   "metadata": {},
   "source": [
    "Добавим котировки на каждую дату в наш датасет"
   ]
  },
  {
   "cell_type": "code",
   "execution_count": null,
   "id": "1ad086a8",
   "metadata": {},
   "outputs": [],
   "source": [
    "Macro = pd.read_excel(\"data/macrofeatures.xlsx\", engine=\"openpyxl\")\n",
    "\n",
    "Macro.head()"
   ]
  },
  {
   "cell_type": "code",
   "execution_count": null,
   "id": "88b882ae",
   "metadata": {},
   "outputs": [],
   "source": [
    "### Смерджим колонки. Оставим от макрофичей какую-нибудь одну.\n",
    "\n",
    "Macro = Macro[['Close_brent', 'dlk_cob_date']].drop_duplicates()"
   ]
  },
  {
   "cell_type": "code",
   "execution_count": null,
   "id": "1b5b3724",
   "metadata": {},
   "outputs": [],
   "source": [
    "Macro['dlk_cob_date'] = pd.to_datetime(Macro['dlk_cob_date'])"
   ]
  },
  {
   "cell_type": "code",
   "execution_count": null,
   "id": "45df6329",
   "metadata": {},
   "outputs": [],
   "source": [
    "data['Дата публикации'] = data['Дата публикации'].dt.date.astype('datetime64[ns]')"
   ]
  },
  {
   "cell_type": "code",
   "execution_count": null,
   "id": "14333308",
   "metadata": {},
   "outputs": [],
   "source": [
    "data = pd.merge(data,\n",
    "         Macro,\n",
    "         left_on=['Дата публикации'],\n",
    "         right_on=['dlk_cob_date'],\n",
    "         how='left')"
   ]
  },
  {
   "cell_type": "code",
   "execution_count": null,
   "id": "7353d0d3",
   "metadata": {},
   "outputs": [],
   "source": [
    "data"
   ]
  },
  {
   "cell_type": "markdown",
   "id": "0d0531bc",
   "metadata": {},
   "source": [
    "Получилось много пропущенных значений, заполним их предыдущими значениями"
   ]
  },
  {
   "cell_type": "code",
   "execution_count": null,
   "id": "2ae84e01",
   "metadata": {},
   "outputs": [],
   "source": [
    "data = data.sort_values('Дата публикации')"
   ]
  },
  {
   "cell_type": "code",
   "execution_count": null,
   "id": "b71a4d35",
   "metadata": {},
   "outputs": [],
   "source": [
    "data['Close_brent'] = data['Close_brent'].fillna(method='ffill')"
   ]
  },
  {
   "cell_type": "markdown",
   "id": "e8a57ac3",
   "metadata": {},
   "source": [
    "Самые первые отсутствующие значения заполним первым неотсутствующим"
   ]
  },
  {
   "cell_type": "code",
   "execution_count": null,
   "id": "94de7238",
   "metadata": {},
   "outputs": [],
   "source": [
    "data['Close_brent'].dropna()"
   ]
  },
  {
   "cell_type": "code",
   "execution_count": null,
   "id": "31860c01",
   "metadata": {},
   "outputs": [],
   "source": [
    "# берем 34.41\n",
    "data['Close_brent'] = data['Close_brent'].fillna(34.41)"
   ]
  },
  {
   "cell_type": "markdown",
   "id": "2e7b6b09",
   "metadata": {},
   "source": [
    "Удалим лишние колонки"
   ]
  },
  {
   "cell_type": "code",
   "execution_count": null,
   "id": "c4b38c12",
   "metadata": {},
   "outputs": [],
   "source": [
    "data = data.drop(['Дедлайн', 'Дата публикации', 'dlk_cob_date'], axis=1)"
   ]
  },
  {
   "cell_type": "code",
   "execution_count": null,
   "id": "c9fe39e3",
   "metadata": {},
   "outputs": [],
   "source": [
    "data.head()"
   ]
  },
  {
   "cell_type": "markdown",
   "id": "e91e24e8",
   "metadata": {},
   "source": [
    "Удалим также колонки, не являющиеся признаками. \n",
    "- *Название* - много уникальных значений, является по сути и индексом, сложно/невозможно установить связь между названием проекта и таргетами\n",
    "- *Страна* - оставим колонку *Валюта*, которая дублирует информацию\n",
    "- *Инвесторов* - этот признак формируется одновременно с таргетами, в момент публикации у любого проекта количество инвесторов - 0"
   ]
  },
  {
   "cell_type": "code",
   "execution_count": null,
   "id": "b7081cd3",
   "metadata": {},
   "outputs": [],
   "source": [
    "data = data.drop(['Название', 'Страна', 'Инвесторов'], axis=1)"
   ]
  },
  {
   "cell_type": "code",
   "execution_count": null,
   "id": "0969aa10",
   "metadata": {},
   "outputs": [],
   "source": [
    "data.head()"
   ]
  },
  {
   "cell_type": "markdown",
   "id": "c75ae612",
   "metadata": {},
   "source": [
    "Обработаем категориальные признаки. Применим One-hot encoding к колонкам *Валюта* и *Главная категория*\n"
   ]
  },
  {
   "cell_type": "code",
   "execution_count": null,
   "id": "739cb427",
   "metadata": {},
   "outputs": [],
   "source": [
    "data = pd.concat((data, pd.get_dummies(data['Валюта'])), axis=1)\n",
    "data = data.drop(['Валюта'], axis=1)"
   ]
  },
  {
   "cell_type": "code",
   "execution_count": null,
   "id": "f037ed53",
   "metadata": {},
   "outputs": [],
   "source": [
    "data = pd.concat((data, pd.get_dummies(data['Главная категория'])), axis=1)\n",
    "data = data.drop(['Главная категория'], axis=1)"
   ]
  },
  {
   "cell_type": "code",
   "execution_count": null,
   "id": "7cb1ccf9",
   "metadata": {},
   "outputs": [],
   "source": [
    "### Почистим данные от лишней информации \n",
    "data = data.drop('AUD', axis=1)\n",
    "data = data.drop('Games', axis=1)"
   ]
  },
  {
   "cell_type": "code",
   "execution_count": null,
   "id": "7d8c0842",
   "metadata": {},
   "outputs": [],
   "source": [
    "data.head()"
   ]
  },
  {
   "cell_type": "code",
   "execution_count": null,
   "id": "b610abbd",
   "metadata": {},
   "outputs": [],
   "source": [
    "len(data['Категория'].unique())"
   ]
  },
  {
   "cell_type": "markdown",
   "id": "03086f02",
   "metadata": {},
   "source": [
    "Признак *Категория* имеет очень много различных значений. Используем mean-target encoding"
   ]
  },
  {
   "cell_type": "code",
   "execution_count": null,
   "id": "6450fe0f",
   "metadata": {},
   "outputs": [],
   "source": [
    "data['Категория'] = data['Категория'].map(data.groupby(['Категория'])['таргет'].mean())"
   ]
  },
  {
   "cell_type": "code",
   "execution_count": null,
   "id": "0b24e23e",
   "metadata": {},
   "outputs": [],
   "source": [
    "data.head()"
   ]
  },
  {
   "cell_type": "markdown",
   "id": "ffa7cb41",
   "metadata": {},
   "source": [
    "Сохраним подготовленные данные"
   ]
  },
  {
   "cell_type": "code",
   "execution_count": null,
   "id": "b9353a65",
   "metadata": {},
   "outputs": [],
   "source": [
    "data.to_csv('output/processed_data.csv', sep=';')"
   ]
  }
 ],
 "metadata": {
  "kernelspec": {
   "display_name": "Python 3",
   "language": "python",
   "name": "python3"
  },
  "language_info": {
   "codemirror_mode": {
    "name": "ipython",
    "version": 3
   },
   "file_extension": ".py",
   "mimetype": "text/x-python",
   "name": "python",
   "nbconvert_exporter": "python",
   "pygments_lexer": "ipython3",
   "version": "3.12.1"
  }
 },
 "nbformat": 4,
 "nbformat_minor": 5
}
