{
 "cells": [
  {
   "cell_type": "markdown",
   "metadata": {},
   "source": [
    "Импортируем библиотеки и читаем данные"
   ]
  },
  {
   "cell_type": "code",
   "execution_count": null,
   "metadata": {},
   "outputs": [],
   "source": [
    "import pandas as pd\n",
    "\n",
    "data = pd.read_csv('googleplaystore.csv')"
   ]
  },
  {
   "cell_type": "markdown",
   "metadata": {},
   "source": [
    "Сохраним в переменные `data_head` и `data_tail` первые и последние 3 строки из датафрейма соответственно"
   ]
  },
  {
   "cell_type": "code",
   "execution_count": null,
   "metadata": {},
   "outputs": [],
   "source": [
    "data_head = data.head(3)\n",
    "data_tail = data.tail(3)"
   ]
  },
  {
   "cell_type": "code",
   "execution_count": null,
   "metadata": {},
   "outputs": [],
   "source": [
    "data_head"
   ]
  },
  {
   "cell_type": "code",
   "execution_count": null,
   "metadata": {},
   "outputs": [],
   "source": [
    "data_tail"
   ]
  },
  {
   "cell_type": "markdown",
   "metadata": {},
   "source": [
    "Сохраним в переменные `n_col` и `n_row` количество столбцов и строк в датафрейме соответственно"
   ]
  },
  {
   "cell_type": "code",
   "execution_count": null,
   "metadata": {},
   "outputs": [],
   "source": [
    "n_row, n_col = data.shape"
   ]
  },
  {
   "cell_type": "code",
   "execution_count": null,
   "metadata": {},
   "outputs": [],
   "source": [
    "n_row, n_col"
   ]
  },
  {
   "cell_type": "markdown",
   "metadata": {},
   "source": [
    "Посмотрим, какое количество уникальных приложений есть в наших данных (колонка **App**)."
   ]
  },
  {
   "cell_type": "code",
   "execution_count": null,
   "metadata": {},
   "outputs": [],
   "source": [
    "data['App'].nunique()"
   ]
  },
  {
   "cell_type": "markdown",
   "metadata": {},
   "source": [
    "Посчитаем число пропущенных значений в колонке с рейтингом приложений. Сохраним в переменную `rating_missing` количество пропущенных значений в колонке **Rating**. "
   ]
  },
  {
   "cell_type": "code",
   "execution_count": null,
   "metadata": {},
   "outputs": [],
   "source": [
    "rating_missing = data['Rating'].isnull().sum()"
   ]
  },
  {
   "cell_type": "code",
   "execution_count": null,
   "metadata": {},
   "outputs": [],
   "source": [
    "rating_missing"
   ]
  },
  {
   "cell_type": "markdown",
   "metadata": {},
   "source": [
    "Соберем датафрейм, который будет включать в себя: \n",
    "- первые три строки исходного датафрейма, \n",
    "- строки 6-8 (включительно), \n",
    "- строки 16-19 (включительно) \n",
    "- и колонки: **App, Size, Genres, Current Ver** в соответствующем порядке.\n",
    "\n",
    "По сути, это будет выглядеть как объединение трех, состоящих из нескольких строк, датафреймов, являющимися срезами из исходных данных.\n",
    "Сохраним полученный датафрейм в формате csv.\n"
   ]
  },
  {
   "cell_type": "code",
   "execution_count": null,
   "metadata": {},
   "outputs": [],
   "source": [
    "data_1_3 = data[['App', 'Size', 'Genres', 'Current Ver']][:3]\n",
    "data_6_8 = data[['App', 'Size', 'Genres', 'Current Ver']][6:9]\n",
    "data_16_19 = data[['App', 'Size', 'Genres', 'Current Ver']][16:20]\n",
    "result = pd.concat([data_1_3, data_6_8, data_16_19])\n",
    "result.to_csv('output/concatenated_data.csv', sep=';')"
   ]
  },
  {
   "cell_type": "code",
   "execution_count": null,
   "metadata": {},
   "outputs": [],
   "source": [
    "pd.read_csv('output/concatenated_data.csv', sep=';', index_col=0)"
   ]
  },
  {
   "cell_type": "markdown",
   "metadata": {},
   "source": [
    "Для дальнейшего анализа нам необходимо убрать дубликаты приложений (колонка **App**) и сбросить индекс. Сохраним полученный результат в виде датафрейма в переменную `unique_playstore`. "
   ]
  },
  {
   "cell_type": "code",
   "execution_count": null,
   "metadata": {},
   "outputs": [],
   "source": [
    "unique_playstore = data.drop_duplicates(subset='App').reset_index(drop=True)"
   ]
  },
  {
   "cell_type": "markdown",
   "metadata": {},
   "source": [
    "Приведем названия к стандартному виду — все буквы должны быть нижнего регистра, а пробелы должны быть заменены на нижние подчеркивания. "
   ]
  },
  {
   "cell_type": "code",
   "execution_count": null,
   "metadata": {},
   "outputs": [],
   "source": [
    "playstore = unique_playstore.copy()\n",
    "playstore.columns = playstore.columns.str.lower().str.replace(' ', '_')\n",
    "# unique_playstore.rename(lambda column: column.lower().replace(' ', '_'), \n",
    "#                         axis='columns', inplace=True)"
   ]
  },
  {
   "cell_type": "code",
   "execution_count": null,
   "metadata": {},
   "outputs": [],
   "source": [
    "playstore.head()"
   ]
  },
  {
   "cell_type": "markdown",
   "metadata": {},
   "source": [
    "Посмотрим на долю платных и бесплатных приложений. Сохраним долю бесплатных приложений в переменной `free_app_share`, округлив до сотых. В качестве десятичного разделителя используем точку."
   ]
  },
  {
   "cell_type": "code",
   "execution_count": null,
   "metadata": {},
   "outputs": [],
   "source": [
    "playstore.value_counts(subset='type', normalize=True)"
   ]
  },
  {
   "cell_type": "code",
   "execution_count": null,
   "metadata": {},
   "outputs": [],
   "source": [
    "free_app_share = round(playstore.value_counts(subset='type', normalize=True)['Free'], 2)"
   ]
  },
  {
   "cell_type": "markdown",
   "metadata": {},
   "source": [
    "Отберем из датафрейма только те приложения, которые относятся к образовательной категории  (**EDUCATION**) и с количеством отзывов пользователей более 1000. Сохраним новый датафрейм в переменную `education_playstore`."
   ]
  },
  {
   "cell_type": "code",
   "execution_count": null,
   "metadata": {},
   "outputs": [],
   "source": [
    "education_playstore = playstore[(playstore['reviews'] > 1000) \n",
    "                                & (playstore['category'] == 'EDUCATION')]     \n",
    "education_playstore.reset_index(drop=True, inplace=True)       "
   ]
  },
  {
   "cell_type": "code",
   "execution_count": null,
   "metadata": {},
   "outputs": [],
   "source": [
    "education_playstore.head()"
   ]
  },
  {
   "cell_type": "markdown",
   "metadata": {},
   "source": [
    "Уберем лишние символы из колонки с ценой (**price**), чтобы далее с ней было удобнее работать, и переведем данные в тип `float`."
   ]
  },
  {
   "cell_type": "code",
   "execution_count": null,
   "metadata": {},
   "outputs": [],
   "source": [
    "playstore['price'] = playstore['price'].apply(lambda x: x.replace(\"$\", \"\")).astype(float)"
   ]
  },
  {
   "cell_type": "markdown",
   "metadata": {},
   "source": [
    "Сделаем сводную таблицу по каждой категории со средним значением цены и рейтинга для платных и бесплатных приложений. Результат сохраним в формате csv."
   ]
  },
  {
   "cell_type": "code",
   "execution_count": null,
   "metadata": {},
   "outputs": [],
   "source": [
    "pivot_table = pd.pivot_table(playstore, index=['category', 'type'],\n",
    "                             values=['price', 'rating'], aggfunc='mean')\n",
    "pivot_table.rename(columns={'price': 'mean_price',\n",
    "                   'rating': 'mean_rating'}, inplace=True)\n",
    "pivot_table[['mean_price', 'mean_rating']] = pivot_table[[\n",
    "    'mean_price', 'mean_rating']].round(2)\n",
    "pivot_table.to_csv('output/pivot_table.csv', sep=',')\n",
    "pivot_table"
   ]
  },
  {
   "cell_type": "code",
   "execution_count": null,
   "metadata": {},
   "outputs": [],
   "source": [
    "pd.read_csv('output/pivot_table.csv', sep=',')"
   ]
  }
 ],
 "metadata": {
  "kernelspec": {
   "display_name": "Python 3",
   "language": "python",
   "name": "python3"
  },
  "language_info": {
   "codemirror_mode": {
    "name": "ipython",
    "version": 3
   },
   "file_extension": ".py",
   "mimetype": "text/x-python",
   "name": "python",
   "nbconvert_exporter": "python",
   "pygments_lexer": "ipython3",
   "version": "3.12.4"
  }
 },
 "nbformat": 4,
 "nbformat_minor": 2
}
