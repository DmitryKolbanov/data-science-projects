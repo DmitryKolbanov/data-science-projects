{
 "cells": [
  {
   "cell_type": "markdown",
   "metadata": {},
   "source": [
    "# Обработка данных"
   ]
  },
  {
   "cell_type": "markdown",
   "metadata": {},
   "source": [
    "## Подключение библиотек и считывание данных"
   ]
  },
  {
   "cell_type": "code",
   "execution_count": 2,
   "metadata": {},
   "outputs": [],
   "source": [
    "# импорт библиотек\n",
    "import pandas as pd"
   ]
  },
  {
   "cell_type": "code",
   "execution_count": 3,
   "metadata": {},
   "outputs": [
    {
     "data": {
      "text/html": [
       "<div>\n",
       "<style scoped>\n",
       "    .dataframe tbody tr th:only-of-type {\n",
       "        vertical-align: middle;\n",
       "    }\n",
       "\n",
       "    .dataframe tbody tr th {\n",
       "        vertical-align: top;\n",
       "    }\n",
       "\n",
       "    .dataframe thead th {\n",
       "        text-align: right;\n",
       "    }\n",
       "</style>\n",
       "<table border=\"1\" class=\"dataframe\">\n",
       "  <thead>\n",
       "    <tr style=\"text-align: right;\">\n",
       "      <th></th>\n",
       "      <th>Год выпуска</th>\n",
       "      <th>Поколение</th>\n",
       "      <th>Пробег</th>\n",
       "      <th>История пробега</th>\n",
       "      <th>ПТС</th>\n",
       "      <th>Владельцев по ПТС</th>\n",
       "      <th>Состояние</th>\n",
       "      <th>Модификация</th>\n",
       "      <th>Объём двигателя</th>\n",
       "      <th>Тип двигателя</th>\n",
       "      <th>Коробка передач</th>\n",
       "      <th>Привод</th>\n",
       "      <th>Комплектация</th>\n",
       "      <th>Тип кузова</th>\n",
       "      <th>Цвет</th>\n",
       "      <th>Руль</th>\n",
       "      <th>VIN или номер кузова</th>\n",
       "      <th>Название</th>\n",
       "      <th>Цена</th>\n",
       "      <th>Обмен</th>\n",
       "    </tr>\n",
       "  </thead>\n",
       "  <tbody>\n",
       "    <tr>\n",
       "      <th>0</th>\n",
       "      <td>2010</td>\n",
       "      <td>I рестайлинг (2009—2012)</td>\n",
       "      <td>156 000 км</td>\n",
       "      <td>7 записей в отчёте Автотеки</td>\n",
       "      <td>Оригинал</td>\n",
       "      <td>2</td>\n",
       "      <td>Не битый</td>\n",
       "      <td>2.3 4WD AT (238 л.с.)</td>\n",
       "      <td>2.3 л</td>\n",
       "      <td>Бензин</td>\n",
       "      <td>Автомат</td>\n",
       "      <td>Полный</td>\n",
       "      <td>Sport</td>\n",
       "      <td>Внедорожник 5-дверный</td>\n",
       "      <td>Белый</td>\n",
       "      <td>Левый</td>\n",
       "      <td>JMZE*************</td>\n",
       "      <td>Mazda CX-7</td>\n",
       "      <td>1050000</td>\n",
       "      <td>NaN</td>\n",
       "    </tr>\n",
       "    <tr>\n",
       "      <th>1</th>\n",
       "      <td>2020</td>\n",
       "      <td>G07 (2018—2022)</td>\n",
       "      <td>109 000 км</td>\n",
       "      <td>Проверить в Автотеке</td>\n",
       "      <td>Оригинал</td>\n",
       "      <td>1</td>\n",
       "      <td>Не битый</td>\n",
       "      <td>M50d 3.0 xDrive Steptronic (400 л.с.)</td>\n",
       "      <td>3 л</td>\n",
       "      <td>Дизель</td>\n",
       "      <td>Автомат</td>\n",
       "      <td>Полный</td>\n",
       "      <td>Special by Individual</td>\n",
       "      <td>Внедорожник 5-дверный</td>\n",
       "      <td>Синий</td>\n",
       "      <td>Левый</td>\n",
       "      <td>WBAC*************</td>\n",
       "      <td>BMW X7</td>\n",
       "      <td>8800000</td>\n",
       "      <td>Не интересует</td>\n",
       "    </tr>\n",
       "    <tr>\n",
       "      <th>2</th>\n",
       "      <td>2023</td>\n",
       "      <td>I (2023—2024)</td>\n",
       "      <td>15 км</td>\n",
       "      <td>NaN</td>\n",
       "      <td>NaN</td>\n",
       "      <td>1</td>\n",
       "      <td>Не битый</td>\n",
       "      <td>2.0 T-GDI 4WD DCT (249 л.с.)</td>\n",
       "      <td>2 л</td>\n",
       "      <td>Бензин</td>\n",
       "      <td>Робот</td>\n",
       "      <td>Полный</td>\n",
       "      <td>Platinum</td>\n",
       "      <td>Внедорожник 5-дверный</td>\n",
       "      <td>Чёрный</td>\n",
       "      <td>Левый</td>\n",
       "      <td>LVTD*************</td>\n",
       "      <td>EXEED RX</td>\n",
       "      <td>3730000</td>\n",
       "      <td>NaN</td>\n",
       "    </tr>\n",
       "    <tr>\n",
       "      <th>3</th>\n",
       "      <td>2024</td>\n",
       "      <td>I (2022—2024)</td>\n",
       "      <td>300 км</td>\n",
       "      <td>2 записи в отчёте Автотеки</td>\n",
       "      <td>NaN</td>\n",
       "      <td>1</td>\n",
       "      <td>Не битый</td>\n",
       "      <td>1.5hyb 4WD AT (530 л.с.)</td>\n",
       "      <td>1.5 л</td>\n",
       "      <td>Гибрид</td>\n",
       "      <td>Автомат</td>\n",
       "      <td>Полный</td>\n",
       "      <td>Executive</td>\n",
       "      <td>Седан</td>\n",
       "      <td>Чёрный</td>\n",
       "      <td>Левый</td>\n",
       "      <td>LDP9*************</td>\n",
       "      <td>Voyah Passion (Chasing Light)</td>\n",
       "      <td>6770000</td>\n",
       "      <td>NaN</td>\n",
       "    </tr>\n",
       "    <tr>\n",
       "      <th>4</th>\n",
       "      <td>2024</td>\n",
       "      <td>I (2021—2024)</td>\n",
       "      <td>10 км</td>\n",
       "      <td>NaN</td>\n",
       "      <td>Электронный</td>\n",
       "      <td>1</td>\n",
       "      <td>Не битый</td>\n",
       "      <td>2.0 4WD AT (238 л.с.)</td>\n",
       "      <td>2 л</td>\n",
       "      <td>Бензин</td>\n",
       "      <td>Автомат</td>\n",
       "      <td>Полный</td>\n",
       "      <td>Flagship</td>\n",
       "      <td>Внедорожник 5-дверный</td>\n",
       "      <td>Белый</td>\n",
       "      <td>Левый</td>\n",
       "      <td>LB37*************</td>\n",
       "      <td>Geely Monjaro</td>\n",
       "      <td>3600000</td>\n",
       "      <td>Не интересует</td>\n",
       "    </tr>\n",
       "  </tbody>\n",
       "</table>\n",
       "</div>"
      ],
      "text/plain": [
       "   Год выпуска                 Поколение      Пробег  \\\n",
       "0         2010  I рестайлинг (2009—2012)  156 000 км   \n",
       "1         2020           G07 (2018—2022)  109 000 км   \n",
       "2         2023             I (2023—2024)       15 км   \n",
       "3         2024             I (2022—2024)      300 км   \n",
       "4         2024             I (2021—2024)       10 км   \n",
       "\n",
       "               История пробега          ПТС Владельцев по ПТС Состояние  \\\n",
       "0  7 записей в отчёте Автотеки     Оригинал                 2  Не битый   \n",
       "1         Проверить в Автотеке     Оригинал                 1  Не битый   \n",
       "2                          NaN          NaN                 1  Не битый   \n",
       "3   2 записи в отчёте Автотеки          NaN                 1  Не битый   \n",
       "4                          NaN  Электронный                 1  Не битый   \n",
       "\n",
       "                             Модификация Объём двигателя Тип двигателя  \\\n",
       "0                  2.3 4WD AT (238 л.с.)           2.3 л        Бензин   \n",
       "1  M50d 3.0 xDrive Steptronic (400 л.с.)             3 л        Дизель   \n",
       "2           2.0 T-GDI 4WD DCT (249 л.с.)             2 л        Бензин   \n",
       "3               1.5hyb 4WD AT (530 л.с.)           1.5 л        Гибрид   \n",
       "4                  2.0 4WD AT (238 л.с.)             2 л        Бензин   \n",
       "\n",
       "  Коробка передач  Привод           Комплектация             Тип кузова  \\\n",
       "0         Автомат  Полный                  Sport  Внедорожник 5-дверный   \n",
       "1         Автомат  Полный  Special by Individual  Внедорожник 5-дверный   \n",
       "2           Робот  Полный               Platinum  Внедорожник 5-дверный   \n",
       "3         Автомат  Полный              Executive                  Седан   \n",
       "4         Автомат  Полный               Flagship  Внедорожник 5-дверный   \n",
       "\n",
       "     Цвет   Руль VIN или номер кузова                       Название     Цена  \\\n",
       "0   Белый  Левый    JMZE*************                     Mazda CX-7  1050000   \n",
       "1   Синий  Левый    WBAC*************                         BMW X7  8800000   \n",
       "2  Чёрный  Левый    LVTD*************                       EXEED RX  3730000   \n",
       "3  Чёрный  Левый    LDP9*************  Voyah Passion (Chasing Light)  6770000   \n",
       "4   Белый  Левый    LB37*************                  Geely Monjaro  3600000   \n",
       "\n",
       "           Обмен  \n",
       "0            NaN  \n",
       "1  Не интересует  \n",
       "2            NaN  \n",
       "3            NaN  \n",
       "4  Не интересует  "
      ]
     },
     "execution_count": 3,
     "metadata": {},
     "output_type": "execute_result"
    }
   ],
   "source": [
    "# считываем данные\n",
    "data = pd.read_csv('../data/car_price.csv', index_col=0)\n",
    "\n",
    "data.head()"
   ]
  },
  {
   "cell_type": "markdown",
   "metadata": {},
   "source": [
    "## Обработка пропущенных значений"
   ]
  },
  {
   "cell_type": "markdown",
   "metadata": {},
   "source": [
    "### Обзор данных"
   ]
  },
  {
   "cell_type": "code",
   "execution_count": 4,
   "metadata": {},
   "outputs": [
    {
     "data": {
      "text/plain": [
       "(2109, 20)"
      ]
     },
     "execution_count": 4,
     "metadata": {},
     "output_type": "execute_result"
    }
   ],
   "source": [
    "# удалим дубликаты, пересоберем индексы, посмотрим размерность\n",
    "data.drop_duplicates(keep='first', inplace=True)\n",
    "data.reset_index(drop=True, inplace=True)\n",
    "data.shape"
   ]
  },
  {
   "cell_type": "code",
   "execution_count": 5,
   "metadata": {},
   "outputs": [
    {
     "name": "stdout",
     "output_type": "stream",
     "text": [
      "<class 'pandas.core.frame.DataFrame'>\n",
      "RangeIndex: 2109 entries, 0 to 2108\n",
      "Data columns (total 20 columns):\n",
      " #   Column                Non-Null Count  Dtype \n",
      "---  ------                --------------  ----- \n",
      " 0   Год выпуска           2109 non-null   int64 \n",
      " 1   Поколение             2109 non-null   object\n",
      " 2   Пробег                2109 non-null   object\n",
      " 3   История пробега       2008 non-null   object\n",
      " 4   ПТС                   1373 non-null   object\n",
      " 5   Владельцев по ПТС     2109 non-null   object\n",
      " 6   Состояние             2109 non-null   object\n",
      " 7   Модификация           2108 non-null   object\n",
      " 8   Объём двигателя       2107 non-null   object\n",
      " 9   Тип двигателя         2109 non-null   object\n",
      " 10  Коробка передач       2109 non-null   object\n",
      " 11  Привод                2109 non-null   object\n",
      " 12  Комплектация          1715 non-null   object\n",
      " 13  Тип кузова            2109 non-null   object\n",
      " 14  Цвет                  2109 non-null   object\n",
      " 15  Руль                  2109 non-null   object\n",
      " 16  VIN или номер кузова  2109 non-null   object\n",
      " 17  Название              2109 non-null   object\n",
      " 18  Цена                  2109 non-null   int64 \n",
      " 19  Обмен                 1554 non-null   object\n",
      "dtypes: int64(2), object(18)\n",
      "memory usage: 329.7+ KB\n"
     ]
    }
   ],
   "source": [
    "# посмотрим на краткое содержание данных\n",
    "data.info()"
   ]
  },
  {
   "cell_type": "markdown",
   "metadata": {},
   "source": [
    "Видно, что у признаков **История пробега**, **ПТС**, **Модификация**, **Объем двигателя**, **Комплектация** и **Обмен** есть пропущенные значения."
   ]
  },
  {
   "cell_type": "markdown",
   "metadata": {},
   "source": [
    "### Признак - **История пробега**"
   ]
  },
  {
   "cell_type": "markdown",
   "metadata": {},
   "source": [
    "**История пробега** показывает количество информации об автомобиле на конкретном агрегаторе - Авито. Его можно удалить"
   ]
  },
  {
   "cell_type": "code",
   "execution_count": 6,
   "metadata": {},
   "outputs": [],
   "source": [
    "data.drop(columns=\"История пробега\", inplace=True)"
   ]
  },
  {
   "cell_type": "markdown",
   "metadata": {},
   "source": [
    "### Признак - **ПТС**"
   ]
  },
  {
   "cell_type": "code",
   "execution_count": 7,
   "metadata": {},
   "outputs": [
    {
     "data": {
      "text/plain": [
       "ПТС\n",
       "Оригинал       1002\n",
       "Электронный     213\n",
       "Дубликат        158\n",
       "Name: count, dtype: int64"
      ]
     },
     "execution_count": 7,
     "metadata": {},
     "output_type": "execute_result"
    }
   ],
   "source": [
    "# посмотрим, какие значения может принимать столбец ПТС\n",
    "data['ПТС'].value_counts()"
   ]
  },
  {
   "cell_type": "markdown",
   "metadata": {},
   "source": [
    "Можно было бы сделать данный признак бинарным - ПТС указан/не указан, однако формат ПТС также может влиять на автомобиля. Считается, что с дубликат ПТС является менее предпочтительным вариантом, так как может, например, указывать на частую смену владельцев. Более подробно про виды ПТС:\n",
    "- https://rolf-probeg.ru/blog/dublikat-pts-chem-opasen-i-kak-otlichit-ot-originala/?utm_source=google.com&utm_medium=organic&utm_campaign=google.com&utm_referrer=google.com\n",
    "- https://ufa.tts.ru/blog/sovety-avtomobilistam/vse-ob-elektronnom-pts-v-chem-otlichiya-ot-bumazhnogo-formata-kak-poluchit-epts-i-postavit-mashinu-n/\n",
    "\n",
    "Данный признак является категориальным. Заполним пропущенные ячейки значением \"Не указан\""
   ]
  },
  {
   "cell_type": "code",
   "execution_count": 8,
   "metadata": {},
   "outputs": [
    {
     "name": "stderr",
     "output_type": "stream",
     "text": [
      "C:\\Users\\Олег\\AppData\\Local\\Temp\\ipykernel_12940\\1317415236.py:1: FutureWarning: A value is trying to be set on a copy of a DataFrame or Series through chained assignment using an inplace method.\n",
      "The behavior will change in pandas 3.0. This inplace method will never work because the intermediate object on which we are setting values always behaves as a copy.\n",
      "\n",
      "For example, when doing 'df[col].method(value, inplace=True)', try using 'df.method({col: value}, inplace=True)' or df[col] = df[col].method(value) instead, to perform the operation inplace on the original object.\n",
      "\n",
      "\n",
      "  data['ПТС'].fillna('Не указан', inplace=True)\n"
     ]
    }
   ],
   "source": [
    "data['ПТС'].fillna('Не указан', inplace=True)"
   ]
  },
  {
   "cell_type": "markdown",
   "metadata": {},
   "source": [
    "### Признак - **Модификация**"
   ]
  },
  {
   "cell_type": "code",
   "execution_count": 9,
   "metadata": {},
   "outputs": [
    {
     "data": {
      "text/plain": [
       "0                    2.3 4WD AT (238 л.с.)\n",
       "1    M50d 3.0 xDrive Steptronic (400 л.с.)\n",
       "2             2.0 T-GDI 4WD DCT (249 л.с.)\n",
       "3                 1.5hyb 4WD AT (530 л.с.)\n",
       "4                    2.0 4WD AT (238 л.с.)\n",
       "Name: Модификация, dtype: object"
      ]
     },
     "execution_count": 9,
     "metadata": {},
     "output_type": "execute_result"
    }
   ],
   "source": [
    "# посмотрим на некоторые значения \n",
    "data['Модификация'].head()"
   ]
  },
  {
   "cell_type": "code",
   "execution_count": 10,
   "metadata": {},
   "outputs": [
    {
     "data": {
      "text/html": [
       "<div>\n",
       "<style scoped>\n",
       "    .dataframe tbody tr th:only-of-type {\n",
       "        vertical-align: middle;\n",
       "    }\n",
       "\n",
       "    .dataframe tbody tr th {\n",
       "        vertical-align: top;\n",
       "    }\n",
       "\n",
       "    .dataframe thead th {\n",
       "        text-align: right;\n",
       "    }\n",
       "</style>\n",
       "<table border=\"1\" class=\"dataframe\">\n",
       "  <thead>\n",
       "    <tr style=\"text-align: right;\">\n",
       "      <th></th>\n",
       "      <th>Год выпуска</th>\n",
       "      <th>Поколение</th>\n",
       "      <th>Пробег</th>\n",
       "      <th>ПТС</th>\n",
       "      <th>Владельцев по ПТС</th>\n",
       "      <th>Состояние</th>\n",
       "      <th>Модификация</th>\n",
       "      <th>Объём двигателя</th>\n",
       "      <th>Тип двигателя</th>\n",
       "      <th>Коробка передач</th>\n",
       "      <th>Привод</th>\n",
       "      <th>Комплектация</th>\n",
       "      <th>Тип кузова</th>\n",
       "      <th>Цвет</th>\n",
       "      <th>Руль</th>\n",
       "      <th>VIN или номер кузова</th>\n",
       "      <th>Название</th>\n",
       "      <th>Цена</th>\n",
       "      <th>Обмен</th>\n",
       "    </tr>\n",
       "  </thead>\n",
       "  <tbody>\n",
       "    <tr>\n",
       "      <th>1621</th>\n",
       "      <td>2014</td>\n",
       "      <td>I (2010—2014)</td>\n",
       "      <td>109 000 км</td>\n",
       "      <td>Не указан</td>\n",
       "      <td>2</td>\n",
       "      <td>Не битый</td>\n",
       "      <td>NaN</td>\n",
       "      <td>1.6 л</td>\n",
       "      <td>Бензин</td>\n",
       "      <td>Вариатор</td>\n",
       "      <td>Полный</td>\n",
       "      <td>NaN</td>\n",
       "      <td>Внедорожник 5-дверный</td>\n",
       "      <td>Белый</td>\n",
       "      <td>Левый</td>\n",
       "      <td>SJNF*************</td>\n",
       "      <td>Nissan Juke</td>\n",
       "      <td>1419000</td>\n",
       "      <td>Возможен</td>\n",
       "    </tr>\n",
       "  </tbody>\n",
       "</table>\n",
       "</div>"
      ],
      "text/plain": [
       "      Год выпуска      Поколение      Пробег        ПТС Владельцев по ПТС  \\\n",
       "1621         2014  I (2010—2014)  109 000 км  Не указан                 2   \n",
       "\n",
       "     Состояние Модификация Объём двигателя Тип двигателя Коробка передач  \\\n",
       "1621  Не битый         NaN           1.6 л        Бензин        Вариатор   \n",
       "\n",
       "      Привод Комплектация             Тип кузова   Цвет   Руль  \\\n",
       "1621  Полный          NaN  Внедорожник 5-дверный  Белый  Левый   \n",
       "\n",
       "     VIN или номер кузова     Название     Цена     Обмен  \n",
       "1621    SJNF*************  Nissan Juke  1419000  Возможен  "
      ]
     },
     "execution_count": 10,
     "metadata": {},
     "output_type": "execute_result"
    }
   ],
   "source": [
    "# посмотрим на строки с пропущенными значениями\n",
    "data[data['Модификация'].isna()]"
   ]
  },
  {
   "cell_type": "markdown",
   "metadata": {},
   "source": [
    "Модификацию можно определить по другим признакам. Найдем машину с такими же характеристиками"
   ]
  },
  {
   "cell_type": "code",
   "execution_count": 11,
   "metadata": {},
   "outputs": [
    {
     "data": {
      "text/html": [
       "<div>\n",
       "<style scoped>\n",
       "    .dataframe tbody tr th:only-of-type {\n",
       "        vertical-align: middle;\n",
       "    }\n",
       "\n",
       "    .dataframe tbody tr th {\n",
       "        vertical-align: top;\n",
       "    }\n",
       "\n",
       "    .dataframe thead th {\n",
       "        text-align: right;\n",
       "    }\n",
       "</style>\n",
       "<table border=\"1\" class=\"dataframe\">\n",
       "  <thead>\n",
       "    <tr style=\"text-align: right;\">\n",
       "      <th></th>\n",
       "      <th>Год выпуска</th>\n",
       "      <th>Поколение</th>\n",
       "      <th>Пробег</th>\n",
       "      <th>ПТС</th>\n",
       "      <th>Владельцев по ПТС</th>\n",
       "      <th>Состояние</th>\n",
       "      <th>Модификация</th>\n",
       "      <th>Объём двигателя</th>\n",
       "      <th>Тип двигателя</th>\n",
       "      <th>Коробка передач</th>\n",
       "      <th>Привод</th>\n",
       "      <th>Комплектация</th>\n",
       "      <th>Тип кузова</th>\n",
       "      <th>Цвет</th>\n",
       "      <th>Руль</th>\n",
       "      <th>VIN или номер кузова</th>\n",
       "      <th>Название</th>\n",
       "      <th>Цена</th>\n",
       "      <th>Обмен</th>\n",
       "    </tr>\n",
       "  </thead>\n",
       "  <tbody>\n",
       "    <tr>\n",
       "      <th>1621</th>\n",
       "      <td>2014</td>\n",
       "      <td>I (2010—2014)</td>\n",
       "      <td>109 000 км</td>\n",
       "      <td>Не указан</td>\n",
       "      <td>2</td>\n",
       "      <td>Не битый</td>\n",
       "      <td>NaN</td>\n",
       "      <td>1.6 л</td>\n",
       "      <td>Бензин</td>\n",
       "      <td>Вариатор</td>\n",
       "      <td>Полный</td>\n",
       "      <td>NaN</td>\n",
       "      <td>Внедорожник 5-дверный</td>\n",
       "      <td>Белый</td>\n",
       "      <td>Левый</td>\n",
       "      <td>SJNF*************</td>\n",
       "      <td>Nissan Juke</td>\n",
       "      <td>1419000</td>\n",
       "      <td>Возможен</td>\n",
       "    </tr>\n",
       "    <tr>\n",
       "      <th>1667</th>\n",
       "      <td>2011</td>\n",
       "      <td>I (2010—2014)</td>\n",
       "      <td>103 000 км</td>\n",
       "      <td>Оригинал</td>\n",
       "      <td>2</td>\n",
       "      <td>Не битый</td>\n",
       "      <td>1.6 CVT (190 л.с.) 4WD</td>\n",
       "      <td>1.6 л</td>\n",
       "      <td>Бензин</td>\n",
       "      <td>Вариатор</td>\n",
       "      <td>Полный</td>\n",
       "      <td>Базовая</td>\n",
       "      <td>Внедорожник 5-дверный</td>\n",
       "      <td>Чёрный</td>\n",
       "      <td>Левый</td>\n",
       "      <td>JN8A*************</td>\n",
       "      <td>Nissan Juke</td>\n",
       "      <td>1170000</td>\n",
       "      <td>Возможен</td>\n",
       "    </tr>\n",
       "  </tbody>\n",
       "</table>\n",
       "</div>"
      ],
      "text/plain": [
       "      Год выпуска      Поколение      Пробег        ПТС Владельцев по ПТС  \\\n",
       "1621         2014  I (2010—2014)  109 000 км  Не указан                 2   \n",
       "1667         2011  I (2010—2014)  103 000 км   Оригинал                 2   \n",
       "\n",
       "     Состояние             Модификация Объём двигателя Тип двигателя  \\\n",
       "1621  Не битый                     NaN           1.6 л        Бензин   \n",
       "1667  Не битый  1.6 CVT (190 л.с.) 4WD           1.6 л        Бензин   \n",
       "\n",
       "     Коробка передач  Привод Комплектация             Тип кузова    Цвет  \\\n",
       "1621        Вариатор  Полный          NaN  Внедорожник 5-дверный   Белый   \n",
       "1667        Вариатор  Полный      Базовая  Внедорожник 5-дверный  Чёрный   \n",
       "\n",
       "       Руль VIN или номер кузова     Название     Цена     Обмен  \n",
       "1621  Левый    SJNF*************  Nissan Juke  1419000  Возможен  \n",
       "1667  Левый    JN8A*************  Nissan Juke  1170000  Возможен  "
      ]
     },
     "execution_count": 11,
     "metadata": {},
     "output_type": "execute_result"
    }
   ],
   "source": [
    "data[(data['Название'] == 'Nissan Juke') & (data['Привод'] == 'Полный')]"
   ]
  },
  {
   "cell_type": "code",
   "execution_count": 12,
   "metadata": {},
   "outputs": [],
   "source": [
    "# запишем вместо пустого значения модификацию - \"1.6 CVT (190 л.с.) 4WD\"\n",
    "data.loc[1621, 'Модификация'] = \"1.6 CVT (190 л.с.) 4WD\""
   ]
  },
  {
   "cell_type": "markdown",
   "metadata": {},
   "source": [
    "Модификация включает себя следующий параметры автомобиля: характеристики двигателя (объем, мощность, тип топлива, индекс/наименование), тип привода, тип КПП. Получается, данный признак дублирует информацию 4-х других признаков - **Объём двигателя**, **Тип двигателя**, **Коробка передач**, **Привод**. Тогда заменим признак **Модификация** на **Мощность**, вытащив нужную информацию"
   ]
  },
  {
   "cell_type": "code",
   "execution_count": 13,
   "metadata": {},
   "outputs": [
    {
     "data": {
      "text/html": [
       "<div>\n",
       "<style scoped>\n",
       "    .dataframe tbody tr th:only-of-type {\n",
       "        vertical-align: middle;\n",
       "    }\n",
       "\n",
       "    .dataframe tbody tr th {\n",
       "        vertical-align: top;\n",
       "    }\n",
       "\n",
       "    .dataframe thead th {\n",
       "        text-align: right;\n",
       "    }\n",
       "</style>\n",
       "<table border=\"1\" class=\"dataframe\">\n",
       "  <thead>\n",
       "    <tr style=\"text-align: right;\">\n",
       "      <th></th>\n",
       "      <th>Год выпуска</th>\n",
       "      <th>Поколение</th>\n",
       "      <th>Пробег</th>\n",
       "      <th>ПТС</th>\n",
       "      <th>Владельцев по ПТС</th>\n",
       "      <th>Состояние</th>\n",
       "      <th>Модификация</th>\n",
       "      <th>Объём двигателя</th>\n",
       "      <th>Тип двигателя</th>\n",
       "      <th>Коробка передач</th>\n",
       "      <th>Привод</th>\n",
       "      <th>Комплектация</th>\n",
       "      <th>Тип кузова</th>\n",
       "      <th>Цвет</th>\n",
       "      <th>Руль</th>\n",
       "      <th>VIN или номер кузова</th>\n",
       "      <th>Название</th>\n",
       "      <th>Цена</th>\n",
       "      <th>Обмен</th>\n",
       "      <th>Мощность</th>\n",
       "    </tr>\n",
       "  </thead>\n",
       "  <tbody>\n",
       "    <tr>\n",
       "      <th>0</th>\n",
       "      <td>2010</td>\n",
       "      <td>I рестайлинг (2009—2012)</td>\n",
       "      <td>156 000 км</td>\n",
       "      <td>Оригинал</td>\n",
       "      <td>2</td>\n",
       "      <td>Не битый</td>\n",
       "      <td>2.3 4WD AT (238 л.с.)</td>\n",
       "      <td>2.3 л</td>\n",
       "      <td>Бензин</td>\n",
       "      <td>Автомат</td>\n",
       "      <td>Полный</td>\n",
       "      <td>Sport</td>\n",
       "      <td>Внедорожник 5-дверный</td>\n",
       "      <td>Белый</td>\n",
       "      <td>Левый</td>\n",
       "      <td>JMZE*************</td>\n",
       "      <td>Mazda CX-7</td>\n",
       "      <td>1050000</td>\n",
       "      <td>NaN</td>\n",
       "      <td>238</td>\n",
       "    </tr>\n",
       "    <tr>\n",
       "      <th>1</th>\n",
       "      <td>2020</td>\n",
       "      <td>G07 (2018—2022)</td>\n",
       "      <td>109 000 км</td>\n",
       "      <td>Оригинал</td>\n",
       "      <td>1</td>\n",
       "      <td>Не битый</td>\n",
       "      <td>M50d 3.0 xDrive Steptronic (400 л.с.)</td>\n",
       "      <td>3 л</td>\n",
       "      <td>Дизель</td>\n",
       "      <td>Автомат</td>\n",
       "      <td>Полный</td>\n",
       "      <td>Special by Individual</td>\n",
       "      <td>Внедорожник 5-дверный</td>\n",
       "      <td>Синий</td>\n",
       "      <td>Левый</td>\n",
       "      <td>WBAC*************</td>\n",
       "      <td>BMW X7</td>\n",
       "      <td>8800000</td>\n",
       "      <td>Не интересует</td>\n",
       "      <td>400</td>\n",
       "    </tr>\n",
       "    <tr>\n",
       "      <th>2</th>\n",
       "      <td>2023</td>\n",
       "      <td>I (2023—2024)</td>\n",
       "      <td>15 км</td>\n",
       "      <td>Не указан</td>\n",
       "      <td>1</td>\n",
       "      <td>Не битый</td>\n",
       "      <td>2.0 T-GDI 4WD DCT (249 л.с.)</td>\n",
       "      <td>2 л</td>\n",
       "      <td>Бензин</td>\n",
       "      <td>Робот</td>\n",
       "      <td>Полный</td>\n",
       "      <td>Platinum</td>\n",
       "      <td>Внедорожник 5-дверный</td>\n",
       "      <td>Чёрный</td>\n",
       "      <td>Левый</td>\n",
       "      <td>LVTD*************</td>\n",
       "      <td>EXEED RX</td>\n",
       "      <td>3730000</td>\n",
       "      <td>NaN</td>\n",
       "      <td>249</td>\n",
       "    </tr>\n",
       "    <tr>\n",
       "      <th>3</th>\n",
       "      <td>2024</td>\n",
       "      <td>I (2022—2024)</td>\n",
       "      <td>300 км</td>\n",
       "      <td>Не указан</td>\n",
       "      <td>1</td>\n",
       "      <td>Не битый</td>\n",
       "      <td>1.5hyb 4WD AT (530 л.с.)</td>\n",
       "      <td>1.5 л</td>\n",
       "      <td>Гибрид</td>\n",
       "      <td>Автомат</td>\n",
       "      <td>Полный</td>\n",
       "      <td>Executive</td>\n",
       "      <td>Седан</td>\n",
       "      <td>Чёрный</td>\n",
       "      <td>Левый</td>\n",
       "      <td>LDP9*************</td>\n",
       "      <td>Voyah Passion (Chasing Light)</td>\n",
       "      <td>6770000</td>\n",
       "      <td>NaN</td>\n",
       "      <td>530</td>\n",
       "    </tr>\n",
       "    <tr>\n",
       "      <th>4</th>\n",
       "      <td>2024</td>\n",
       "      <td>I (2021—2024)</td>\n",
       "      <td>10 км</td>\n",
       "      <td>Электронный</td>\n",
       "      <td>1</td>\n",
       "      <td>Не битый</td>\n",
       "      <td>2.0 4WD AT (238 л.с.)</td>\n",
       "      <td>2 л</td>\n",
       "      <td>Бензин</td>\n",
       "      <td>Автомат</td>\n",
       "      <td>Полный</td>\n",
       "      <td>Flagship</td>\n",
       "      <td>Внедорожник 5-дверный</td>\n",
       "      <td>Белый</td>\n",
       "      <td>Левый</td>\n",
       "      <td>LB37*************</td>\n",
       "      <td>Geely Monjaro</td>\n",
       "      <td>3600000</td>\n",
       "      <td>Не интересует</td>\n",
       "      <td>238</td>\n",
       "    </tr>\n",
       "  </tbody>\n",
       "</table>\n",
       "</div>"
      ],
      "text/plain": [
       "   Год выпуска                 Поколение      Пробег          ПТС  \\\n",
       "0         2010  I рестайлинг (2009—2012)  156 000 км     Оригинал   \n",
       "1         2020           G07 (2018—2022)  109 000 км     Оригинал   \n",
       "2         2023             I (2023—2024)       15 км    Не указан   \n",
       "3         2024             I (2022—2024)      300 км    Не указан   \n",
       "4         2024             I (2021—2024)       10 км  Электронный   \n",
       "\n",
       "  Владельцев по ПТС Состояние                            Модификация  \\\n",
       "0                 2  Не битый                  2.3 4WD AT (238 л.с.)   \n",
       "1                 1  Не битый  M50d 3.0 xDrive Steptronic (400 л.с.)   \n",
       "2                 1  Не битый           2.0 T-GDI 4WD DCT (249 л.с.)   \n",
       "3                 1  Не битый               1.5hyb 4WD AT (530 л.с.)   \n",
       "4                 1  Не битый                  2.0 4WD AT (238 л.с.)   \n",
       "\n",
       "  Объём двигателя Тип двигателя Коробка передач  Привод  \\\n",
       "0           2.3 л        Бензин         Автомат  Полный   \n",
       "1             3 л        Дизель         Автомат  Полный   \n",
       "2             2 л        Бензин           Робот  Полный   \n",
       "3           1.5 л        Гибрид         Автомат  Полный   \n",
       "4             2 л        Бензин         Автомат  Полный   \n",
       "\n",
       "            Комплектация             Тип кузова    Цвет   Руль  \\\n",
       "0                  Sport  Внедорожник 5-дверный   Белый  Левый   \n",
       "1  Special by Individual  Внедорожник 5-дверный   Синий  Левый   \n",
       "2               Platinum  Внедорожник 5-дверный  Чёрный  Левый   \n",
       "3              Executive                  Седан  Чёрный  Левый   \n",
       "4               Flagship  Внедорожник 5-дверный   Белый  Левый   \n",
       "\n",
       "  VIN или номер кузова                       Название     Цена          Обмен  \\\n",
       "0    JMZE*************                     Mazda CX-7  1050000            NaN   \n",
       "1    WBAC*************                         BMW X7  8800000  Не интересует   \n",
       "2    LVTD*************                       EXEED RX  3730000            NaN   \n",
       "3    LDP9*************  Voyah Passion (Chasing Light)  6770000            NaN   \n",
       "4    LB37*************                  Geely Monjaro  3600000  Не интересует   \n",
       "\n",
       "  Мощность  \n",
       "0      238  \n",
       "1      400  \n",
       "2      249  \n",
       "3      530  \n",
       "4      238  "
      ]
     },
     "execution_count": 13,
     "metadata": {},
     "output_type": "execute_result"
    }
   ],
   "source": [
    "data['Мощность'] = data['Модификация'].apply(lambda x: str(x).split()[-2].replace('(', ''))\n",
    "data.head()"
   ]
  },
  {
   "cell_type": "code",
   "execution_count": 14,
   "metadata": {},
   "outputs": [],
   "source": [
    "# удалим теперь не нужный столбец \"Модификация\"\n",
    "data.drop(columns='Модификация', inplace=True)"
   ]
  },
  {
   "cell_type": "markdown",
   "metadata": {},
   "source": [
    "### Признак - **Объем двигателя**"
   ]
  },
  {
   "cell_type": "markdown",
   "metadata": {},
   "source": [
    "Посмотрим, у каких строк отсутствуют значения данной колонки"
   ]
  },
  {
   "cell_type": "code",
   "execution_count": 15,
   "metadata": {},
   "outputs": [
    {
     "data": {
      "text/html": [
       "<div>\n",
       "<style scoped>\n",
       "    .dataframe tbody tr th:only-of-type {\n",
       "        vertical-align: middle;\n",
       "    }\n",
       "\n",
       "    .dataframe tbody tr th {\n",
       "        vertical-align: top;\n",
       "    }\n",
       "\n",
       "    .dataframe thead th {\n",
       "        text-align: right;\n",
       "    }\n",
       "</style>\n",
       "<table border=\"1\" class=\"dataframe\">\n",
       "  <thead>\n",
       "    <tr style=\"text-align: right;\">\n",
       "      <th></th>\n",
       "      <th>Год выпуска</th>\n",
       "      <th>Поколение</th>\n",
       "      <th>Пробег</th>\n",
       "      <th>ПТС</th>\n",
       "      <th>Владельцев по ПТС</th>\n",
       "      <th>Состояние</th>\n",
       "      <th>Объём двигателя</th>\n",
       "      <th>Тип двигателя</th>\n",
       "      <th>Коробка передач</th>\n",
       "      <th>Привод</th>\n",
       "      <th>Комплектация</th>\n",
       "      <th>Тип кузова</th>\n",
       "      <th>Цвет</th>\n",
       "      <th>Руль</th>\n",
       "      <th>VIN или номер кузова</th>\n",
       "      <th>Название</th>\n",
       "      <th>Цена</th>\n",
       "      <th>Обмен</th>\n",
       "      <th>Мощность</th>\n",
       "    </tr>\n",
       "  </thead>\n",
       "  <tbody>\n",
       "    <tr>\n",
       "      <th>1736</th>\n",
       "      <td>2022</td>\n",
       "      <td>II (2017—2024)</td>\n",
       "      <td>15 220 км</td>\n",
       "      <td>Электронный</td>\n",
       "      <td>1</td>\n",
       "      <td>Не битый</td>\n",
       "      <td>NaN</td>\n",
       "      <td>Электро</td>\n",
       "      <td>Автомат</td>\n",
       "      <td>Передний</td>\n",
       "      <td>Базовая</td>\n",
       "      <td>Хетчбек 5-дверный</td>\n",
       "      <td>Белый</td>\n",
       "      <td>Левый</td>\n",
       "      <td>1N4C*************</td>\n",
       "      <td>Nissan Leaf</td>\n",
       "      <td>2930000</td>\n",
       "      <td>Возможен</td>\n",
       "      <td>218</td>\n",
       "    </tr>\n",
       "    <tr>\n",
       "      <th>1810</th>\n",
       "      <td>2015</td>\n",
       "      <td>II рестайлинг (2015—2017)</td>\n",
       "      <td>124 636 км</td>\n",
       "      <td>Не указан</td>\n",
       "      <td>3</td>\n",
       "      <td>Не битый</td>\n",
       "      <td>NaN</td>\n",
       "      <td>Бензин</td>\n",
       "      <td>Автомат</td>\n",
       "      <td>Передний</td>\n",
       "      <td>Luxe</td>\n",
       "      <td>Хетчбек 5-дверный</td>\n",
       "      <td>Розовый</td>\n",
       "      <td>Левый</td>\n",
       "      <td>KNAB*************</td>\n",
       "      <td>Kia Picanto</td>\n",
       "      <td>1020000</td>\n",
       "      <td>NaN</td>\n",
       "      <td>85</td>\n",
       "    </tr>\n",
       "  </tbody>\n",
       "</table>\n",
       "</div>"
      ],
      "text/plain": [
       "      Год выпуска                  Поколение      Пробег          ПТС  \\\n",
       "1736         2022             II (2017—2024)   15 220 км  Электронный   \n",
       "1810         2015  II рестайлинг (2015—2017)  124 636 км    Не указан   \n",
       "\n",
       "     Владельцев по ПТС Состояние Объём двигателя Тип двигателя  \\\n",
       "1736                 1  Не битый             NaN       Электро   \n",
       "1810                 3  Не битый             NaN        Бензин   \n",
       "\n",
       "     Коробка передач    Привод Комплектация         Тип кузова     Цвет  \\\n",
       "1736         Автомат  Передний      Базовая  Хетчбек 5-дверный    Белый   \n",
       "1810         Автомат  Передний         Luxe  Хетчбек 5-дверный  Розовый   \n",
       "\n",
       "       Руль VIN или номер кузова     Название     Цена     Обмен Мощность  \n",
       "1736  Левый    1N4C*************  Nissan Leaf  2930000  Возможен      218  \n",
       "1810  Левый    KNAB*************  Kia Picanto  1020000       NaN       85  "
      ]
     },
     "execution_count": 15,
     "metadata": {},
     "output_type": "execute_result"
    }
   ],
   "source": [
    "data[data['Объём двигателя'].isna()] "
   ]
  },
  {
   "cell_type": "markdown",
   "metadata": {},
   "source": [
    "Сначала заполним строку с Kia Picanto, найдя машину с такими же остальными характеристиками"
   ]
  },
  {
   "cell_type": "code",
   "execution_count": 16,
   "metadata": {},
   "outputs": [
    {
     "data": {
      "text/html": [
       "<div>\n",
       "<style scoped>\n",
       "    .dataframe tbody tr th:only-of-type {\n",
       "        vertical-align: middle;\n",
       "    }\n",
       "\n",
       "    .dataframe tbody tr th {\n",
       "        vertical-align: top;\n",
       "    }\n",
       "\n",
       "    .dataframe thead th {\n",
       "        text-align: right;\n",
       "    }\n",
       "</style>\n",
       "<table border=\"1\" class=\"dataframe\">\n",
       "  <thead>\n",
       "    <tr style=\"text-align: right;\">\n",
       "      <th></th>\n",
       "      <th>Год выпуска</th>\n",
       "      <th>Поколение</th>\n",
       "      <th>Пробег</th>\n",
       "      <th>ПТС</th>\n",
       "      <th>Владельцев по ПТС</th>\n",
       "      <th>Состояние</th>\n",
       "      <th>Объём двигателя</th>\n",
       "      <th>Тип двигателя</th>\n",
       "      <th>Коробка передач</th>\n",
       "      <th>Привод</th>\n",
       "      <th>Комплектация</th>\n",
       "      <th>Тип кузова</th>\n",
       "      <th>Цвет</th>\n",
       "      <th>Руль</th>\n",
       "      <th>VIN или номер кузова</th>\n",
       "      <th>Название</th>\n",
       "      <th>Цена</th>\n",
       "      <th>Обмен</th>\n",
       "      <th>Мощность</th>\n",
       "    </tr>\n",
       "  </thead>\n",
       "  <tbody>\n",
       "  </tbody>\n",
       "</table>\n",
       "</div>"
      ],
      "text/plain": [
       "Empty DataFrame\n",
       "Columns: [Год выпуска, Поколение, Пробег, ПТС, Владельцев по ПТС, Состояние, Объём двигателя, Тип двигателя, Коробка передач, Привод, Комплектация, Тип кузова, Цвет, Руль, VIN или номер кузова, Название, Цена, Обмен, Мощность]\n",
       "Index: []"
      ]
     },
     "execution_count": 16,
     "metadata": {},
     "output_type": "execute_result"
    }
   ],
   "source": [
    "data[(data['Название'] == 'Kia Picanto') & (data['Мощность'] == 85)]"
   ]
  },
  {
   "cell_type": "markdown",
   "metadata": {},
   "source": [
    "В датасете не нашлось таких же авто. Найдем объем двигателя, обратясь к каталогу *Авито*:\n",
    "- https://www.avito.ru/catalog/auto/kia/picanto/ii_restayling/hetchbek/specs-ASgBAgICBUTgtg3KmCjitg3yrCjmtg3Qtyjqtg3~_CjQvA78m9EB?uid=7OV8QUr\n",
    "\n",
    "Объем двигателя - 1.3 л"
   ]
  },
  {
   "cell_type": "code",
   "execution_count": 17,
   "metadata": {},
   "outputs": [],
   "source": [
    "# запишем в датафрейм\n",
    "data.loc[1810, 'Объём двигателя'] = \"1.3 л\""
   ]
  },
  {
   "cell_type": "markdown",
   "metadata": {},
   "source": [
    "Заметим, что у автомобилей с электрическим типом двигателя не может быть такой характеристики, как **Объем двигателя**. Запишем в эту колонку `0` у электромобилей. Тогда модель просто не будет учитывать этот признак у авто с электродвигателем, что логично"
   ]
  },
  {
   "cell_type": "code",
   "execution_count": 18,
   "metadata": {},
   "outputs": [],
   "source": [
    "# обновим значения\n",
    "data.update(data[data['Тип двигателя'] == 'Электро']['Объём двигателя'].fillna('0 л'))"
   ]
  },
  {
   "cell_type": "code",
   "execution_count": 19,
   "metadata": {},
   "outputs": [
    {
     "data": {
      "text/html": [
       "<div>\n",
       "<style scoped>\n",
       "    .dataframe tbody tr th:only-of-type {\n",
       "        vertical-align: middle;\n",
       "    }\n",
       "\n",
       "    .dataframe tbody tr th {\n",
       "        vertical-align: top;\n",
       "    }\n",
       "\n",
       "    .dataframe thead th {\n",
       "        text-align: right;\n",
       "    }\n",
       "</style>\n",
       "<table border=\"1\" class=\"dataframe\">\n",
       "  <thead>\n",
       "    <tr style=\"text-align: right;\">\n",
       "      <th></th>\n",
       "      <th>Год выпуска</th>\n",
       "      <th>Поколение</th>\n",
       "      <th>Пробег</th>\n",
       "      <th>ПТС</th>\n",
       "      <th>Владельцев по ПТС</th>\n",
       "      <th>Состояние</th>\n",
       "      <th>Объём двигателя</th>\n",
       "      <th>Тип двигателя</th>\n",
       "      <th>Коробка передач</th>\n",
       "      <th>Привод</th>\n",
       "      <th>Комплектация</th>\n",
       "      <th>Тип кузова</th>\n",
       "      <th>Цвет</th>\n",
       "      <th>Руль</th>\n",
       "      <th>VIN или номер кузова</th>\n",
       "      <th>Название</th>\n",
       "      <th>Цена</th>\n",
       "      <th>Обмен</th>\n",
       "      <th>Мощность</th>\n",
       "    </tr>\n",
       "  </thead>\n",
       "  <tbody>\n",
       "    <tr>\n",
       "      <th>1736</th>\n",
       "      <td>2022</td>\n",
       "      <td>II (2017—2024)</td>\n",
       "      <td>15 220 км</td>\n",
       "      <td>Электронный</td>\n",
       "      <td>1</td>\n",
       "      <td>Не битый</td>\n",
       "      <td>0 л</td>\n",
       "      <td>Электро</td>\n",
       "      <td>Автомат</td>\n",
       "      <td>Передний</td>\n",
       "      <td>Базовая</td>\n",
       "      <td>Хетчбек 5-дверный</td>\n",
       "      <td>Белый</td>\n",
       "      <td>Левый</td>\n",
       "      <td>1N4C*************</td>\n",
       "      <td>Nissan Leaf</td>\n",
       "      <td>2930000</td>\n",
       "      <td>Возможен</td>\n",
       "      <td>218</td>\n",
       "    </tr>\n",
       "  </tbody>\n",
       "</table>\n",
       "</div>"
      ],
      "text/plain": [
       "      Год выпуска       Поколение     Пробег          ПТС Владельцев по ПТС  \\\n",
       "1736         2022  II (2017—2024)  15 220 км  Электронный                 1   \n",
       "\n",
       "     Состояние Объём двигателя Тип двигателя Коробка передач    Привод  \\\n",
       "1736  Не битый             0 л       Электро         Автомат  Передний   \n",
       "\n",
       "     Комплектация         Тип кузова   Цвет   Руль VIN или номер кузова  \\\n",
       "1736      Базовая  Хетчбек 5-дверный  Белый  Левый    1N4C*************   \n",
       "\n",
       "         Название     Цена     Обмен Мощность  \n",
       "1736  Nissan Leaf  2930000  Возможен      218  "
      ]
     },
     "execution_count": 19,
     "metadata": {},
     "output_type": "execute_result"
    }
   ],
   "source": [
    "# посмотрим, что исправилось корректно\n",
    "data[data['Тип двигателя'] == 'Электро'] "
   ]
  },
  {
   "cell_type": "markdown",
   "metadata": {},
   "source": [
    "Сделаем этот признак вещественным, убрав букву \"л\""
   ]
  },
  {
   "cell_type": "code",
   "execution_count": 20,
   "metadata": {},
   "outputs": [],
   "source": [
    "data['Объём двигателя'] = data['Объём двигателя'].apply(lambda x: x.split()[0])"
   ]
  },
  {
   "cell_type": "code",
   "execution_count": 21,
   "metadata": {},
   "outputs": [
    {
     "data": {
      "text/html": [
       "<div>\n",
       "<style scoped>\n",
       "    .dataframe tbody tr th:only-of-type {\n",
       "        vertical-align: middle;\n",
       "    }\n",
       "\n",
       "    .dataframe tbody tr th {\n",
       "        vertical-align: top;\n",
       "    }\n",
       "\n",
       "    .dataframe thead th {\n",
       "        text-align: right;\n",
       "    }\n",
       "</style>\n",
       "<table border=\"1\" class=\"dataframe\">\n",
       "  <thead>\n",
       "    <tr style=\"text-align: right;\">\n",
       "      <th></th>\n",
       "      <th>Год выпуска</th>\n",
       "      <th>Поколение</th>\n",
       "      <th>Пробег</th>\n",
       "      <th>ПТС</th>\n",
       "      <th>Владельцев по ПТС</th>\n",
       "      <th>Состояние</th>\n",
       "      <th>Объём двигателя</th>\n",
       "      <th>Тип двигателя</th>\n",
       "      <th>Коробка передач</th>\n",
       "      <th>Привод</th>\n",
       "      <th>Комплектация</th>\n",
       "      <th>Тип кузова</th>\n",
       "      <th>Цвет</th>\n",
       "      <th>Руль</th>\n",
       "      <th>VIN или номер кузова</th>\n",
       "      <th>Название</th>\n",
       "      <th>Цена</th>\n",
       "      <th>Обмен</th>\n",
       "      <th>Мощность</th>\n",
       "    </tr>\n",
       "  </thead>\n",
       "  <tbody>\n",
       "    <tr>\n",
       "      <th>0</th>\n",
       "      <td>2010</td>\n",
       "      <td>I рестайлинг (2009—2012)</td>\n",
       "      <td>156 000 км</td>\n",
       "      <td>Оригинал</td>\n",
       "      <td>2</td>\n",
       "      <td>Не битый</td>\n",
       "      <td>2.3</td>\n",
       "      <td>Бензин</td>\n",
       "      <td>Автомат</td>\n",
       "      <td>Полный</td>\n",
       "      <td>Sport</td>\n",
       "      <td>Внедорожник 5-дверный</td>\n",
       "      <td>Белый</td>\n",
       "      <td>Левый</td>\n",
       "      <td>JMZE*************</td>\n",
       "      <td>Mazda CX-7</td>\n",
       "      <td>1050000</td>\n",
       "      <td>NaN</td>\n",
       "      <td>238</td>\n",
       "    </tr>\n",
       "    <tr>\n",
       "      <th>1</th>\n",
       "      <td>2020</td>\n",
       "      <td>G07 (2018—2022)</td>\n",
       "      <td>109 000 км</td>\n",
       "      <td>Оригинал</td>\n",
       "      <td>1</td>\n",
       "      <td>Не битый</td>\n",
       "      <td>3</td>\n",
       "      <td>Дизель</td>\n",
       "      <td>Автомат</td>\n",
       "      <td>Полный</td>\n",
       "      <td>Special by Individual</td>\n",
       "      <td>Внедорожник 5-дверный</td>\n",
       "      <td>Синий</td>\n",
       "      <td>Левый</td>\n",
       "      <td>WBAC*************</td>\n",
       "      <td>BMW X7</td>\n",
       "      <td>8800000</td>\n",
       "      <td>Не интересует</td>\n",
       "      <td>400</td>\n",
       "    </tr>\n",
       "    <tr>\n",
       "      <th>2</th>\n",
       "      <td>2023</td>\n",
       "      <td>I (2023—2024)</td>\n",
       "      <td>15 км</td>\n",
       "      <td>Не указан</td>\n",
       "      <td>1</td>\n",
       "      <td>Не битый</td>\n",
       "      <td>2</td>\n",
       "      <td>Бензин</td>\n",
       "      <td>Робот</td>\n",
       "      <td>Полный</td>\n",
       "      <td>Platinum</td>\n",
       "      <td>Внедорожник 5-дверный</td>\n",
       "      <td>Чёрный</td>\n",
       "      <td>Левый</td>\n",
       "      <td>LVTD*************</td>\n",
       "      <td>EXEED RX</td>\n",
       "      <td>3730000</td>\n",
       "      <td>NaN</td>\n",
       "      <td>249</td>\n",
       "    </tr>\n",
       "    <tr>\n",
       "      <th>3</th>\n",
       "      <td>2024</td>\n",
       "      <td>I (2022—2024)</td>\n",
       "      <td>300 км</td>\n",
       "      <td>Не указан</td>\n",
       "      <td>1</td>\n",
       "      <td>Не битый</td>\n",
       "      <td>1.5</td>\n",
       "      <td>Гибрид</td>\n",
       "      <td>Автомат</td>\n",
       "      <td>Полный</td>\n",
       "      <td>Executive</td>\n",
       "      <td>Седан</td>\n",
       "      <td>Чёрный</td>\n",
       "      <td>Левый</td>\n",
       "      <td>LDP9*************</td>\n",
       "      <td>Voyah Passion (Chasing Light)</td>\n",
       "      <td>6770000</td>\n",
       "      <td>NaN</td>\n",
       "      <td>530</td>\n",
       "    </tr>\n",
       "    <tr>\n",
       "      <th>4</th>\n",
       "      <td>2024</td>\n",
       "      <td>I (2021—2024)</td>\n",
       "      <td>10 км</td>\n",
       "      <td>Электронный</td>\n",
       "      <td>1</td>\n",
       "      <td>Не битый</td>\n",
       "      <td>2</td>\n",
       "      <td>Бензин</td>\n",
       "      <td>Автомат</td>\n",
       "      <td>Полный</td>\n",
       "      <td>Flagship</td>\n",
       "      <td>Внедорожник 5-дверный</td>\n",
       "      <td>Белый</td>\n",
       "      <td>Левый</td>\n",
       "      <td>LB37*************</td>\n",
       "      <td>Geely Monjaro</td>\n",
       "      <td>3600000</td>\n",
       "      <td>Не интересует</td>\n",
       "      <td>238</td>\n",
       "    </tr>\n",
       "  </tbody>\n",
       "</table>\n",
       "</div>"
      ],
      "text/plain": [
       "   Год выпуска                 Поколение      Пробег          ПТС  \\\n",
       "0         2010  I рестайлинг (2009—2012)  156 000 км     Оригинал   \n",
       "1         2020           G07 (2018—2022)  109 000 км     Оригинал   \n",
       "2         2023             I (2023—2024)       15 км    Не указан   \n",
       "3         2024             I (2022—2024)      300 км    Не указан   \n",
       "4         2024             I (2021—2024)       10 км  Электронный   \n",
       "\n",
       "  Владельцев по ПТС Состояние Объём двигателя Тип двигателя Коробка передач  \\\n",
       "0                 2  Не битый             2.3        Бензин         Автомат   \n",
       "1                 1  Не битый               3        Дизель         Автомат   \n",
       "2                 1  Не битый               2        Бензин           Робот   \n",
       "3                 1  Не битый             1.5        Гибрид         Автомат   \n",
       "4                 1  Не битый               2        Бензин         Автомат   \n",
       "\n",
       "   Привод           Комплектация             Тип кузова    Цвет   Руль  \\\n",
       "0  Полный                  Sport  Внедорожник 5-дверный   Белый  Левый   \n",
       "1  Полный  Special by Individual  Внедорожник 5-дверный   Синий  Левый   \n",
       "2  Полный               Platinum  Внедорожник 5-дверный  Чёрный  Левый   \n",
       "3  Полный              Executive                  Седан  Чёрный  Левый   \n",
       "4  Полный               Flagship  Внедорожник 5-дверный   Белый  Левый   \n",
       "\n",
       "  VIN или номер кузова                       Название     Цена          Обмен  \\\n",
       "0    JMZE*************                     Mazda CX-7  1050000            NaN   \n",
       "1    WBAC*************                         BMW X7  8800000  Не интересует   \n",
       "2    LVTD*************                       EXEED RX  3730000            NaN   \n",
       "3    LDP9*************  Voyah Passion (Chasing Light)  6770000            NaN   \n",
       "4    LB37*************                  Geely Monjaro  3600000  Не интересует   \n",
       "\n",
       "  Мощность  \n",
       "0      238  \n",
       "1      400  \n",
       "2      249  \n",
       "3      530  \n",
       "4      238  "
      ]
     },
     "execution_count": 21,
     "metadata": {},
     "output_type": "execute_result"
    }
   ],
   "source": [
    "data.head()"
   ]
  },
  {
   "cell_type": "markdown",
   "metadata": {},
   "source": [
    "### Признак - **Комплектация**"
   ]
  },
  {
   "cell_type": "markdown",
   "metadata": {},
   "source": [
    "Каждая модель авто имеет свои названия комплектаций или не имеет их вообще, поэтому данный признак имеет очень большое количество различных невещественных значений. Удалим его"
   ]
  },
  {
   "cell_type": "code",
   "execution_count": 22,
   "metadata": {},
   "outputs": [
    {
     "data": {
      "text/plain": [
       "Комплектация\n",
       "Базовая                282\n",
       "Comfort                156\n",
       "Luxe                    97\n",
       "Люкс                    45\n",
       "Prestige                42\n",
       "                      ... \n",
       "Black Vision             1\n",
       "Prestige Black           1\n",
       "Classic Кондиционер      1\n",
       "Classique                1\n",
       "Lifestyle Plus           1\n",
       "Name: count, Length: 328, dtype: int64"
      ]
     },
     "execution_count": 22,
     "metadata": {},
     "output_type": "execute_result"
    }
   ],
   "source": [
    "# посмотим, какие значения принимает данный признак\n",
    "data['Комплектация'].value_counts()"
   ]
  },
  {
   "cell_type": "code",
   "execution_count": 23,
   "metadata": {},
   "outputs": [],
   "source": [
    "data.drop(columns='Комплектация', inplace=True)"
   ]
  },
  {
   "cell_type": "markdown",
   "metadata": {},
   "source": [
    "### Признак - **Обмен**"
   ]
  },
  {
   "cell_type": "code",
   "execution_count": 24,
   "metadata": {},
   "outputs": [
    {
     "data": {
      "text/plain": [
       "Обмен\n",
       "Не интересует    929\n",
       "Возможен         625\n",
       "Name: count, dtype: int64"
      ]
     },
     "execution_count": 24,
     "metadata": {},
     "output_type": "execute_result"
    }
   ],
   "source": [
    "# посмотрим на распределение значений в данной колонке\n",
    "data['Обмен'].value_counts()"
   ]
  },
  {
   "cell_type": "markdown",
   "metadata": {},
   "source": [
    "Большая часть не рассматривает обмен. Это специфичный запрос, поэтому можно предположить, что если продавца интересует обмен, то он это скорее всего укажет. В противном случае, продавец может просто не обратить внимания на этот параметр и ничего не напишет. Заменим пустые значения на \"Не интересует\""
   ]
  },
  {
   "cell_type": "code",
   "execution_count": 27,
   "metadata": {},
   "outputs": [],
   "source": [
    "data['Обмен'].fillna('Не интересует', inplace=True)"
   ]
  }
 ],
 "metadata": {
  "kernelspec": {
   "display_name": "Python 3",
   "language": "python",
   "name": "python3"
  },
  "language_info": {
   "codemirror_mode": {
    "name": "ipython",
    "version": 3
   },
   "file_extension": ".py",
   "mimetype": "text/x-python",
   "name": "python",
   "nbconvert_exporter": "python",
   "pygments_lexer": "ipython3",
   "version": "3.12.4"
  }
 },
 "nbformat": 4,
 "nbformat_minor": 2
}
