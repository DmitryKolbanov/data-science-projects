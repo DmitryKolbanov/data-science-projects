{
 "cells": [
  {
   "cell_type": "markdown",
   "metadata": {},
   "source": [
    "# Обработка данных"
   ]
  },
  {
   "cell_type": "markdown",
   "metadata": {},
   "source": [
    "## Подключение библиотек и считывание данных"
   ]
  },
  {
   "cell_type": "code",
   "execution_count": 1,
   "metadata": {},
   "outputs": [],
   "source": [
    "# импорт библиотек\n",
    "import pandas as pd\n",
    "import numpy as np\n",
    "import matplotlib.pyplot as plt\n",
    "import seaborn as sns"
   ]
  },
  {
   "cell_type": "code",
   "execution_count": 2,
   "metadata": {},
   "outputs": [
    {
     "data": {
      "text/html": [
       "<div>\n",
       "<style scoped>\n",
       "    .dataframe tbody tr th:only-of-type {\n",
       "        vertical-align: middle;\n",
       "    }\n",
       "\n",
       "    .dataframe tbody tr th {\n",
       "        vertical-align: top;\n",
       "    }\n",
       "\n",
       "    .dataframe thead th {\n",
       "        text-align: right;\n",
       "    }\n",
       "</style>\n",
       "<table border=\"1\" class=\"dataframe\">\n",
       "  <thead>\n",
       "    <tr style=\"text-align: right;\">\n",
       "      <th></th>\n",
       "      <th>id</th>\n",
       "      <th>mark</th>\n",
       "      <th>name</th>\n",
       "      <th>price</th>\n",
       "      <th>params</th>\n",
       "    </tr>\n",
       "  </thead>\n",
       "  <tbody>\n",
       "    <tr>\n",
       "      <th>0</th>\n",
       "      <td>i4126437279</td>\n",
       "      <td>Audi</td>\n",
       "      <td>Audi Q7 2.0 AT, 2023, 10 км</td>\n",
       "      <td>7500000</td>\n",
       "      <td>10 км, 2.0 AT (252 л.с.), внедорожник, полный,...</td>\n",
       "    </tr>\n",
       "    <tr>\n",
       "      <th>1</th>\n",
       "      <td>i4094029403</td>\n",
       "      <td>Audi</td>\n",
       "      <td>Audi Q7 3.0 AT, 2010, 244 000 км</td>\n",
       "      <td>1570000</td>\n",
       "      <td>244 000 км, 3.0 AT (333 л.с.), внедорожник, по...</td>\n",
       "    </tr>\n",
       "    <tr>\n",
       "      <th>2</th>\n",
       "      <td>i4228945917</td>\n",
       "      <td>Audi</td>\n",
       "      <td>Audi Q7 3.6 AT, 2010, 240 000 км</td>\n",
       "      <td>2200000</td>\n",
       "      <td>240 000 км, 3.6 AT (280 л.с.), внедорожник, по...</td>\n",
       "    </tr>\n",
       "    <tr>\n",
       "      <th>3</th>\n",
       "      <td>i4026986935</td>\n",
       "      <td>Audi</td>\n",
       "      <td>Audi Q7 3.0 AT, 2020, 54 000 км</td>\n",
       "      <td>7650000</td>\n",
       "      <td>54 000 км, 3.0 AT (249 л.с.), внедорожник, пол...</td>\n",
       "    </tr>\n",
       "    <tr>\n",
       "      <th>4</th>\n",
       "      <td>i4221614908</td>\n",
       "      <td>Audi</td>\n",
       "      <td>Audi Q7 2.0 AT, 2023, 200 км</td>\n",
       "      <td>9500000</td>\n",
       "      <td>200 км, 2.0 AT (252 л.с.), внедорожник, полный...</td>\n",
       "    </tr>\n",
       "  </tbody>\n",
       "</table>\n",
       "</div>"
      ],
      "text/plain": [
       "            id  mark                              name    price  \\\n",
       "0  i4126437279  Audi       Audi Q7 2.0 AT, 2023, 10 км  7500000   \n",
       "1  i4094029403  Audi  Audi Q7 3.0 AT, 2010, 244 000 км  1570000   \n",
       "2  i4228945917  Audi  Audi Q7 3.6 AT, 2010, 240 000 км  2200000   \n",
       "3  i4026986935  Audi   Audi Q7 3.0 AT, 2020, 54 000 км  7650000   \n",
       "4  i4221614908  Audi      Audi Q7 2.0 AT, 2023, 200 км  9500000   \n",
       "\n",
       "                                              params  \n",
       "0  10 км, 2.0 AT (252 л.с.), внедорожник, полный,...  \n",
       "1  244 000 км, 3.0 AT (333 л.с.), внедорожник, по...  \n",
       "2  240 000 км, 3.6 AT (280 л.с.), внедорожник, по...  \n",
       "3  54 000 км, 3.0 AT (249 л.с.), внедорожник, пол...  \n",
       "4  200 км, 2.0 AT (252 л.с.), внедорожник, полный...  "
      ]
     },
     "execution_count": 2,
     "metadata": {},
     "output_type": "execute_result"
    }
   ],
   "source": [
    "# считываем данные\n",
    "data = pd.read_csv('../data/cars_data.csv', index_col=0)\n",
    "\n",
    "data.head()"
   ]
  },
  {
   "cell_type": "markdown",
   "metadata": {},
   "source": [
    "## Первичная обработка"
   ]
  },
  {
   "cell_type": "markdown",
   "metadata": {},
   "source": [
    "### Обзор данных"
   ]
  },
  {
   "cell_type": "code",
   "execution_count": 3,
   "metadata": {},
   "outputs": [],
   "source": [
    "# установим новый индекс\n",
    "data.set_index('id', inplace=True)"
   ]
  },
  {
   "cell_type": "code",
   "execution_count": 4,
   "metadata": {},
   "outputs": [
    {
     "data": {
      "text/plain": [
       "(17818, 4)"
      ]
     },
     "execution_count": 4,
     "metadata": {},
     "output_type": "execute_result"
    }
   ],
   "source": [
    "# удалим дубликаты, посмотрим размерность\n",
    "data.drop_duplicates(keep='first', inplace=True)\n",
    "data.shape"
   ]
  },
  {
   "cell_type": "code",
   "execution_count": 5,
   "metadata": {},
   "outputs": [
    {
     "name": "stdout",
     "output_type": "stream",
     "text": [
      "<class 'pandas.core.frame.DataFrame'>\n",
      "Index: 17818 entries, i4126437279 to i4395822541\n",
      "Data columns (total 4 columns):\n",
      " #   Column  Non-Null Count  Dtype \n",
      "---  ------  --------------  ----- \n",
      " 0   mark    17818 non-null  object\n",
      " 1   name    17818 non-null  object\n",
      " 2   price   17818 non-null  int64 \n",
      " 3   params  17818 non-null  object\n",
      "dtypes: int64(1), object(3)\n",
      "memory usage: 696.0+ KB\n"
     ]
    }
   ],
   "source": [
    "# посмотрим на краткое описание данных\n",
    "data.info()"
   ]
  },
  {
   "cell_type": "markdown",
   "metadata": {},
   "source": [
    "Пропущенных значений нет. Преобразуем признаки"
   ]
  },
  {
   "cell_type": "code",
   "execution_count": 6,
   "metadata": {},
   "outputs": [
    {
     "data": {
      "text/html": [
       "<div>\n",
       "<style scoped>\n",
       "    .dataframe tbody tr th:only-of-type {\n",
       "        vertical-align: middle;\n",
       "    }\n",
       "\n",
       "    .dataframe tbody tr th {\n",
       "        vertical-align: top;\n",
       "    }\n",
       "\n",
       "    .dataframe thead th {\n",
       "        text-align: right;\n",
       "    }\n",
       "</style>\n",
       "<table border=\"1\" class=\"dataframe\">\n",
       "  <thead>\n",
       "    <tr style=\"text-align: right;\">\n",
       "      <th></th>\n",
       "      <th>mark</th>\n",
       "      <th>name</th>\n",
       "      <th>price</th>\n",
       "      <th>params</th>\n",
       "    </tr>\n",
       "    <tr>\n",
       "      <th>id</th>\n",
       "      <th></th>\n",
       "      <th></th>\n",
       "      <th></th>\n",
       "      <th></th>\n",
       "    </tr>\n",
       "  </thead>\n",
       "  <tbody>\n",
       "    <tr>\n",
       "      <th>i4269936134</th>\n",
       "      <td>ВАЗ (LADA)</td>\n",
       "      <td>ВАЗ (LADA) 2105 1.5 MT, 2007, 80 000 км</td>\n",
       "      <td>250000</td>\n",
       "      <td>80 000 км, 1.5 MT (71 л.с.), седан, задний, бе...</td>\n",
       "    </tr>\n",
       "    <tr>\n",
       "      <th>i4174510722</th>\n",
       "      <td>Kia</td>\n",
       "      <td>Kia Rio 1.4 AT, 2011, 120 000 км</td>\n",
       "      <td>899999</td>\n",
       "      <td>120 000 км, 1.4 AT (107 л.с.), седан, передний...</td>\n",
       "    </tr>\n",
       "    <tr>\n",
       "      <th>i2726256995</th>\n",
       "      <td>Opel</td>\n",
       "      <td>Opel Astra 1.6 MT, 2006, 287 000 км</td>\n",
       "      <td>401900</td>\n",
       "      <td>287 000 км, 1.6 MT (105 л.с.), универсал, пере...</td>\n",
       "    </tr>\n",
       "    <tr>\n",
       "      <th>i3814630178</th>\n",
       "      <td>ВАЗ (LADA)</td>\n",
       "      <td>ВАЗ (LADA) Granta 1.6 AT, 2013, 167 212 км</td>\n",
       "      <td>449900</td>\n",
       "      <td>167 212 км, 1.6 AT (98 л.с.), седан, передний,...</td>\n",
       "    </tr>\n",
       "    <tr>\n",
       "      <th>i3975752007</th>\n",
       "      <td>Hyundai</td>\n",
       "      <td>Hyundai Solaris 1.6 AT, 2015, 190 000 км</td>\n",
       "      <td>970000</td>\n",
       "      <td>190 000 км, 1.6 AT (123 л.с.), седан, передний...</td>\n",
       "    </tr>\n",
       "  </tbody>\n",
       "</table>\n",
       "</div>"
      ],
      "text/plain": [
       "                   mark                                        name   price  \\\n",
       "id                                                                            \n",
       "i4269936134  ВАЗ (LADA)     ВАЗ (LADA) 2105 1.5 MT, 2007, 80 000 км  250000   \n",
       "i4174510722         Kia            Kia Rio 1.4 AT, 2011, 120 000 км  899999   \n",
       "i2726256995        Opel         Opel Astra 1.6 MT, 2006, 287 000 км  401900   \n",
       "i3814630178  ВАЗ (LADA)  ВАЗ (LADA) Granta 1.6 AT, 2013, 167 212 км  449900   \n",
       "i3975752007     Hyundai    Hyundai Solaris 1.6 AT, 2015, 190 000 км  970000   \n",
       "\n",
       "                                                        params  \n",
       "id                                                              \n",
       "i4269936134  80 000 км, 1.5 MT (71 л.с.), седан, задний, бе...  \n",
       "i4174510722  120 000 км, 1.4 AT (107 л.с.), седан, передний...  \n",
       "i2726256995  287 000 км, 1.6 MT (105 л.с.), универсал, пере...  \n",
       "i3814630178  167 212 км, 1.6 AT (98 л.с.), седан, передний,...  \n",
       "i3975752007  190 000 км, 1.6 AT (123 л.с.), седан, передний...  "
      ]
     },
     "execution_count": 6,
     "metadata": {},
     "output_type": "execute_result"
    }
   ],
   "source": [
    "data.sample(n=5)"
   ]
  },
  {
   "cell_type": "markdown",
   "metadata": {},
   "source": [
    "В датасете есть новые автомобили (те, у которых mileage не указан), их учитывать не нужно. Удалим такие записи "
   ]
  },
  {
   "cell_type": "code",
   "execution_count": 7,
   "metadata": {},
   "outputs": [],
   "source": [
    "data['name'] = data['name'].apply(lambda x: x if 'км' in x else None)"
   ]
  },
  {
   "cell_type": "code",
   "execution_count": 8,
   "metadata": {},
   "outputs": [],
   "source": [
    "data.dropna(inplace=True)"
   ]
  },
  {
   "cell_type": "code",
   "execution_count": 9,
   "metadata": {},
   "outputs": [
    {
     "data": {
      "text/plain": [
       "(17085, 4)"
      ]
     },
     "execution_count": 9,
     "metadata": {},
     "output_type": "execute_result"
    }
   ],
   "source": [
    "data.shape"
   ]
  },
  {
   "cell_type": "markdown",
   "metadata": {},
   "source": [
    "### Признак - **years_in_operation**"
   ]
  },
  {
   "cell_type": "markdown",
   "metadata": {},
   "source": [
    "Вытащим из колонки **name** год выпуска автомобиля"
   ]
  },
  {
   "cell_type": "code",
   "execution_count": 10,
   "metadata": {},
   "outputs": [],
   "source": [
    "data['release year'] = data['name'].apply(lambda x: x.split(', ')[1])"
   ]
  },
  {
   "cell_type": "code",
   "execution_count": 11,
   "metadata": {},
   "outputs": [
    {
     "data": {
      "text/html": [
       "<div>\n",
       "<style scoped>\n",
       "    .dataframe tbody tr th:only-of-type {\n",
       "        vertical-align: middle;\n",
       "    }\n",
       "\n",
       "    .dataframe tbody tr th {\n",
       "        vertical-align: top;\n",
       "    }\n",
       "\n",
       "    .dataframe thead th {\n",
       "        text-align: right;\n",
       "    }\n",
       "</style>\n",
       "<table border=\"1\" class=\"dataframe\">\n",
       "  <thead>\n",
       "    <tr style=\"text-align: right;\">\n",
       "      <th></th>\n",
       "      <th>mark</th>\n",
       "      <th>name</th>\n",
       "      <th>price</th>\n",
       "      <th>params</th>\n",
       "      <th>release year</th>\n",
       "    </tr>\n",
       "    <tr>\n",
       "      <th>id</th>\n",
       "      <th></th>\n",
       "      <th></th>\n",
       "      <th></th>\n",
       "      <th></th>\n",
       "      <th></th>\n",
       "    </tr>\n",
       "  </thead>\n",
       "  <tbody>\n",
       "    <tr>\n",
       "      <th>i4087506294</th>\n",
       "      <td>Chevrolet</td>\n",
       "      <td>Chevrolet Niva 1.7 MT, 2015, 100 461 км</td>\n",
       "      <td>680000</td>\n",
       "      <td>100 461 км, 1.7 MT (80 л.с.), внедорожник, пол...</td>\n",
       "      <td>2015</td>\n",
       "    </tr>\n",
       "    <tr>\n",
       "      <th>i3632249301</th>\n",
       "      <td>Toyota</td>\n",
       "      <td>Toyota Aqua 1.5 AT, 2019, 34 216 км</td>\n",
       "      <td>1499000</td>\n",
       "      <td>34 216 км, 1.5 AT (74 л.с.), хетчбэк, передний...</td>\n",
       "      <td>2019</td>\n",
       "    </tr>\n",
       "    <tr>\n",
       "      <th>i4093781323</th>\n",
       "      <td>Lexus</td>\n",
       "      <td>Lexus RX 2.0 AT, 2022, 8 000 км</td>\n",
       "      <td>6250000</td>\n",
       "      <td>8 000 км, 2 AT (238 л.с.), внедорожник, полный...</td>\n",
       "      <td>2022</td>\n",
       "    </tr>\n",
       "    <tr>\n",
       "      <th>i4433915785</th>\n",
       "      <td>Hyundai</td>\n",
       "      <td>Hyundai Santa Fe 2.4 AT, 2012, 141 981 км</td>\n",
       "      <td>1900000</td>\n",
       "      <td>141 981 км, 2.4 AT (174 л.с.), внедорожник, по...</td>\n",
       "      <td>2012</td>\n",
       "    </tr>\n",
       "    <tr>\n",
       "      <th>i4166792902</th>\n",
       "      <td>Chevrolet</td>\n",
       "      <td>Chevrolet Niva 1.7 MT, 2010, 173 398 км</td>\n",
       "      <td>677000</td>\n",
       "      <td>173 398 км, 1.7 MT (80 л.с.), внедорожник, пол...</td>\n",
       "      <td>2010</td>\n",
       "    </tr>\n",
       "  </tbody>\n",
       "</table>\n",
       "</div>"
      ],
      "text/plain": [
       "                  mark                                       name    price  \\\n",
       "id                                                                           \n",
       "i4087506294  Chevrolet    Chevrolet Niva 1.7 MT, 2015, 100 461 км   680000   \n",
       "i3632249301     Toyota        Toyota Aqua 1.5 AT, 2019, 34 216 км  1499000   \n",
       "i4093781323      Lexus            Lexus RX 2.0 AT, 2022, 8 000 км  6250000   \n",
       "i4433915785    Hyundai  Hyundai Santa Fe 2.4 AT, 2012, 141 981 км  1900000   \n",
       "i4166792902  Chevrolet    Chevrolet Niva 1.7 MT, 2010, 173 398 км   677000   \n",
       "\n",
       "                                                        params release year  \n",
       "id                                                                           \n",
       "i4087506294  100 461 км, 1.7 MT (80 л.с.), внедорожник, пол...         2015  \n",
       "i3632249301  34 216 км, 1.5 AT (74 л.с.), хетчбэк, передний...         2019  \n",
       "i4093781323  8 000 км, 2 AT (238 л.с.), внедорожник, полный...         2022  \n",
       "i4433915785  141 981 км, 2.4 AT (174 л.с.), внедорожник, по...         2012  \n",
       "i4166792902  173 398 км, 1.7 MT (80 л.с.), внедорожник, пол...         2010  "
      ]
     },
     "execution_count": 11,
     "metadata": {},
     "output_type": "execute_result"
    }
   ],
   "source": [
    "data.sample(n=5)"
   ]
  },
  {
   "cell_type": "code",
   "execution_count": 12,
   "metadata": {},
   "outputs": [],
   "source": [
    "# Вычтем год выпуска из 2025\n",
    "data['years_in_operation'] = 2025 - data['release year'].apply(int)"
   ]
  },
  {
   "cell_type": "code",
   "execution_count": 13,
   "metadata": {},
   "outputs": [],
   "source": [
    "# удалим лишений столбец\n",
    "data.drop(columns='release year', inplace=True)"
   ]
  },
  {
   "cell_type": "markdown",
   "metadata": {},
   "source": [
    "### Признак - **is_crashed**"
   ]
  },
  {
   "cell_type": "markdown",
   "metadata": {},
   "source": [
    "В датасете присутствуют *битые* авто. Сделаем отдельный признак"
   ]
  },
  {
   "cell_type": "code",
   "execution_count": 14,
   "metadata": {},
   "outputs": [],
   "source": [
    "data['is_crashed'] = data['name'].apply(lambda x: True if 'битый' in x else False)"
   ]
  },
  {
   "cell_type": "code",
   "execution_count": 15,
   "metadata": {},
   "outputs": [
    {
     "data": {
      "text/html": [
       "<div>\n",
       "<style scoped>\n",
       "    .dataframe tbody tr th:only-of-type {\n",
       "        vertical-align: middle;\n",
       "    }\n",
       "\n",
       "    .dataframe tbody tr th {\n",
       "        vertical-align: top;\n",
       "    }\n",
       "\n",
       "    .dataframe thead th {\n",
       "        text-align: right;\n",
       "    }\n",
       "</style>\n",
       "<table border=\"1\" class=\"dataframe\">\n",
       "  <thead>\n",
       "    <tr style=\"text-align: right;\">\n",
       "      <th></th>\n",
       "      <th>mark</th>\n",
       "      <th>name</th>\n",
       "      <th>price</th>\n",
       "      <th>params</th>\n",
       "      <th>years_in_operation</th>\n",
       "      <th>is_crashed</th>\n",
       "    </tr>\n",
       "    <tr>\n",
       "      <th>id</th>\n",
       "      <th></th>\n",
       "      <th></th>\n",
       "      <th></th>\n",
       "      <th></th>\n",
       "      <th></th>\n",
       "      <th></th>\n",
       "    </tr>\n",
       "  </thead>\n",
       "  <tbody>\n",
       "    <tr>\n",
       "      <th>i3851271741</th>\n",
       "      <td>Volkswagen</td>\n",
       "      <td>Volkswagen T-Cross 1.0 AMT, 2020, 46 750 км</td>\n",
       "      <td>2200000</td>\n",
       "      <td>46 750 км, 1 AMT (115 л.с.), внедорожник, пере...</td>\n",
       "      <td>5</td>\n",
       "      <td>False</td>\n",
       "    </tr>\n",
       "    <tr>\n",
       "      <th>i4165157770</th>\n",
       "      <td>Mitsubishi</td>\n",
       "      <td>Mitsubishi Outlander 2.0 CVT, 2019, 165 470 км</td>\n",
       "      <td>1951050</td>\n",
       "      <td>165 470 км, 2.0 CVT (146 л.с.), внедорожник, п...</td>\n",
       "      <td>6</td>\n",
       "      <td>False</td>\n",
       "    </tr>\n",
       "    <tr>\n",
       "      <th>i4274567971</th>\n",
       "      <td>ВАЗ (LADA)</td>\n",
       "      <td>ВАЗ (LADA) Largus 1.6 MT, 2020, 59 000 км</td>\n",
       "      <td>1150000</td>\n",
       "      <td>59 000 км, 1.6 MT (87 л.с.), фургон, передний,...</td>\n",
       "      <td>5</td>\n",
       "      <td>False</td>\n",
       "    </tr>\n",
       "    <tr>\n",
       "      <th>i4102914343</th>\n",
       "      <td>Mitsubishi</td>\n",
       "      <td>Mitsubishi Montero Sport 3.0 AT, 2001, 131 503 км</td>\n",
       "      <td>969900</td>\n",
       "      <td>131 503 км, 3 AT (177 л.с.), внедорожник, полн...</td>\n",
       "      <td>24</td>\n",
       "      <td>False</td>\n",
       "    </tr>\n",
       "    <tr>\n",
       "      <th>i4271871263</th>\n",
       "      <td>Toyota</td>\n",
       "      <td>Toyota Corolla 1.6 MT, 2005, 304 000 км</td>\n",
       "      <td>550000</td>\n",
       "      <td>304 000 км, 1.6 MT (110 л.с.), хетчбэк, передн...</td>\n",
       "      <td>20</td>\n",
       "      <td>False</td>\n",
       "    </tr>\n",
       "  </tbody>\n",
       "</table>\n",
       "</div>"
      ],
      "text/plain": [
       "                   mark                                               name  \\\n",
       "id                                                                           \n",
       "i3851271741  Volkswagen        Volkswagen T-Cross 1.0 AMT, 2020, 46 750 км   \n",
       "i4165157770  Mitsubishi     Mitsubishi Outlander 2.0 CVT, 2019, 165 470 км   \n",
       "i4274567971  ВАЗ (LADA)          ВАЗ (LADA) Largus 1.6 MT, 2020, 59 000 км   \n",
       "i4102914343  Mitsubishi  Mitsubishi Montero Sport 3.0 AT, 2001, 131 503 км   \n",
       "i4271871263      Toyota            Toyota Corolla 1.6 MT, 2005, 304 000 км   \n",
       "\n",
       "               price                                             params  \\\n",
       "id                                                                        \n",
       "i3851271741  2200000  46 750 км, 1 AMT (115 л.с.), внедорожник, пере...   \n",
       "i4165157770  1951050  165 470 км, 2.0 CVT (146 л.с.), внедорожник, п...   \n",
       "i4274567971  1150000  59 000 км, 1.6 MT (87 л.с.), фургон, передний,...   \n",
       "i4102914343   969900  131 503 км, 3 AT (177 л.с.), внедорожник, полн...   \n",
       "i4271871263   550000  304 000 км, 1.6 MT (110 л.с.), хетчбэк, передн...   \n",
       "\n",
       "             years_in_operation  is_crashed  \n",
       "id                                           \n",
       "i3851271741                   5       False  \n",
       "i4165157770                   6       False  \n",
       "i4274567971                   5       False  \n",
       "i4102914343                  24       False  \n",
       "i4271871263                  20       False  "
      ]
     },
     "execution_count": 15,
     "metadata": {},
     "output_type": "execute_result"
    }
   ],
   "source": [
    "data.sample(n=5)"
   ]
  },
  {
   "cell_type": "markdown",
   "metadata": {},
   "source": [
    "### Признак - **name**"
   ]
  },
  {
   "cell_type": "markdown",
   "metadata": {},
   "source": [
    "Оставим только название модели"
   ]
  },
  {
   "cell_type": "code",
   "execution_count": 16,
   "metadata": {},
   "outputs": [],
   "source": [
    "data['name'] = data['name'].apply(lambda x: ' '.join(x.split(', ')[0].split()[:-2]))"
   ]
  },
  {
   "cell_type": "code",
   "execution_count": 17,
   "metadata": {},
   "outputs": [
    {
     "data": {
      "text/html": [
       "<div>\n",
       "<style scoped>\n",
       "    .dataframe tbody tr th:only-of-type {\n",
       "        vertical-align: middle;\n",
       "    }\n",
       "\n",
       "    .dataframe tbody tr th {\n",
       "        vertical-align: top;\n",
       "    }\n",
       "\n",
       "    .dataframe thead th {\n",
       "        text-align: right;\n",
       "    }\n",
       "</style>\n",
       "<table border=\"1\" class=\"dataframe\">\n",
       "  <thead>\n",
       "    <tr style=\"text-align: right;\">\n",
       "      <th></th>\n",
       "      <th>mark</th>\n",
       "      <th>name</th>\n",
       "      <th>price</th>\n",
       "      <th>params</th>\n",
       "      <th>years_in_operation</th>\n",
       "      <th>is_crashed</th>\n",
       "    </tr>\n",
       "    <tr>\n",
       "      <th>id</th>\n",
       "      <th></th>\n",
       "      <th></th>\n",
       "      <th></th>\n",
       "      <th></th>\n",
       "      <th></th>\n",
       "      <th></th>\n",
       "    </tr>\n",
       "  </thead>\n",
       "  <tbody>\n",
       "    <tr>\n",
       "      <th>i4227777219</th>\n",
       "      <td>Chevrolet</td>\n",
       "      <td>Chevrolet Malibu</td>\n",
       "      <td>1530000</td>\n",
       "      <td>120 000 км, 1.5 AT (160 л.с.), седан, передний...</td>\n",
       "      <td>8</td>\n",
       "      <td>False</td>\n",
       "    </tr>\n",
       "    <tr>\n",
       "      <th>i3653095136</th>\n",
       "      <td>Chery</td>\n",
       "      <td>Chery Tiggo 7 Pro</td>\n",
       "      <td>1865000</td>\n",
       "      <td>61 200 км, 1.5 CVT (147 л.с.), внедорожник, пе...</td>\n",
       "      <td>4</td>\n",
       "      <td>False</td>\n",
       "    </tr>\n",
       "    <tr>\n",
       "      <th>i4091885552</th>\n",
       "      <td>Audi</td>\n",
       "      <td>Audi A8</td>\n",
       "      <td>2435000</td>\n",
       "      <td>119 300 км, 4.2 AT (372 л.с.), седан, полный, ...</td>\n",
       "      <td>15</td>\n",
       "      <td>False</td>\n",
       "    </tr>\n",
       "    <tr>\n",
       "      <th>i3988706614</th>\n",
       "      <td>ВАЗ (LADA)</td>\n",
       "      <td>ВАЗ (LADA) Vesta</td>\n",
       "      <td>1195000</td>\n",
       "      <td>98 320 км, 1.6 MT (106 л.с.), универсал, перед...</td>\n",
       "      <td>7</td>\n",
       "      <td>False</td>\n",
       "    </tr>\n",
       "    <tr>\n",
       "      <th>i4014559375</th>\n",
       "      <td>Opel</td>\n",
       "      <td>Opel Zafira Life</td>\n",
       "      <td>3300000</td>\n",
       "      <td>97 000 км, 2.0 AT (150 л.с.), минивэн, передни...</td>\n",
       "      <td>5</td>\n",
       "      <td>False</td>\n",
       "    </tr>\n",
       "  </tbody>\n",
       "</table>\n",
       "</div>"
      ],
      "text/plain": [
       "                   mark               name    price  \\\n",
       "id                                                    \n",
       "i4227777219   Chevrolet   Chevrolet Malibu  1530000   \n",
       "i3653095136       Chery  Chery Tiggo 7 Pro  1865000   \n",
       "i4091885552        Audi            Audi A8  2435000   \n",
       "i3988706614  ВАЗ (LADA)   ВАЗ (LADA) Vesta  1195000   \n",
       "i4014559375        Opel   Opel Zafira Life  3300000   \n",
       "\n",
       "                                                        params  \\\n",
       "id                                                               \n",
       "i4227777219  120 000 км, 1.5 AT (160 л.с.), седан, передний...   \n",
       "i3653095136  61 200 км, 1.5 CVT (147 л.с.), внедорожник, пе...   \n",
       "i4091885552  119 300 км, 4.2 AT (372 л.с.), седан, полный, ...   \n",
       "i3988706614  98 320 км, 1.6 MT (106 л.с.), универсал, перед...   \n",
       "i4014559375  97 000 км, 2.0 AT (150 л.с.), минивэн, передни...   \n",
       "\n",
       "             years_in_operation  is_crashed  \n",
       "id                                           \n",
       "i4227777219                   8       False  \n",
       "i3653095136                   4       False  \n",
       "i4091885552                  15       False  \n",
       "i3988706614                   7       False  \n",
       "i4014559375                   5       False  "
      ]
     },
     "execution_count": 17,
     "metadata": {},
     "output_type": "execute_result"
    }
   ],
   "source": [
    "data.sample(n=5)"
   ]
  },
  {
   "cell_type": "markdown",
   "metadata": {},
   "source": [
    "### Признак - **mileage**"
   ]
  },
  {
   "cell_type": "markdown",
   "metadata": {},
   "source": [
    "Сначала уберем пометку \"Битый\" у соответствующих машин из колонки **params**"
   ]
  },
  {
   "cell_type": "code",
   "execution_count": 18,
   "metadata": {},
   "outputs": [],
   "source": [
    "data['params'] = data['params'].apply(\n",
    "    lambda x: x.replace(\"Битый, \", \"\") if \"Битый\" in x else x)"
   ]
  },
  {
   "cell_type": "markdown",
   "metadata": {},
   "source": [
    "Из колонки **params** вытащим mileage"
   ]
  },
  {
   "cell_type": "code",
   "execution_count": 19,
   "metadata": {},
   "outputs": [],
   "source": [
    "data['mileage'] = data['params'].apply(lambda x: x.split(', ')[0].replace('км', '').replace(' ', ''))"
   ]
  },
  {
   "cell_type": "code",
   "execution_count": 20,
   "metadata": {},
   "outputs": [
    {
     "data": {
      "text/html": [
       "<div>\n",
       "<style scoped>\n",
       "    .dataframe tbody tr th:only-of-type {\n",
       "        vertical-align: middle;\n",
       "    }\n",
       "\n",
       "    .dataframe tbody tr th {\n",
       "        vertical-align: top;\n",
       "    }\n",
       "\n",
       "    .dataframe thead th {\n",
       "        text-align: right;\n",
       "    }\n",
       "</style>\n",
       "<table border=\"1\" class=\"dataframe\">\n",
       "  <thead>\n",
       "    <tr style=\"text-align: right;\">\n",
       "      <th></th>\n",
       "      <th>mark</th>\n",
       "      <th>name</th>\n",
       "      <th>price</th>\n",
       "      <th>params</th>\n",
       "      <th>years_in_operation</th>\n",
       "      <th>is_crashed</th>\n",
       "      <th>mileage</th>\n",
       "    </tr>\n",
       "    <tr>\n",
       "      <th>id</th>\n",
       "      <th></th>\n",
       "      <th></th>\n",
       "      <th></th>\n",
       "      <th></th>\n",
       "      <th></th>\n",
       "      <th></th>\n",
       "      <th></th>\n",
       "    </tr>\n",
       "  </thead>\n",
       "  <tbody>\n",
       "    <tr>\n",
       "      <th>i4530303839</th>\n",
       "      <td>Kia</td>\n",
       "      <td>Kia Rio</td>\n",
       "      <td>1170000</td>\n",
       "      <td>87 001 км, 1.4 AT (107 л.с.), седан, передний,...</td>\n",
       "      <td>9</td>\n",
       "      <td>False</td>\n",
       "      <td>87001</td>\n",
       "    </tr>\n",
       "    <tr>\n",
       "      <th>i4491877156</th>\n",
       "      <td>Geely</td>\n",
       "      <td>Geely Monjaro</td>\n",
       "      <td>3490000</td>\n",
       "      <td>2 700 км, 2 AT (238 л.с.), внедорожник, полный...</td>\n",
       "      <td>2</td>\n",
       "      <td>False</td>\n",
       "      <td>2700</td>\n",
       "    </tr>\n",
       "    <tr>\n",
       "      <th>i4118065064</th>\n",
       "      <td>ВАЗ (LADA)</td>\n",
       "      <td>ВАЗ (LADA) Vesta</td>\n",
       "      <td>1220000</td>\n",
       "      <td>53 900 км, 1.6 MT (106 л.с.), универсал, перед...</td>\n",
       "      <td>7</td>\n",
       "      <td>False</td>\n",
       "      <td>53900</td>\n",
       "    </tr>\n",
       "    <tr>\n",
       "      <th>i3743600664</th>\n",
       "      <td>Toyota</td>\n",
       "      <td>Toyota Avensis</td>\n",
       "      <td>1700000</td>\n",
       "      <td>170 000 км, 2.0 AT (147 л.с.), седан, передний...</td>\n",
       "      <td>19</td>\n",
       "      <td>False</td>\n",
       "      <td>170000</td>\n",
       "    </tr>\n",
       "    <tr>\n",
       "      <th>i4282051714</th>\n",
       "      <td>ВАЗ (LADA)</td>\n",
       "      <td>ВАЗ (LADA) Granta</td>\n",
       "      <td>845000</td>\n",
       "      <td>40 000 км, 1.6 MT (90 л.с.), седан, передний, ...</td>\n",
       "      <td>2</td>\n",
       "      <td>False</td>\n",
       "      <td>40000</td>\n",
       "    </tr>\n",
       "  </tbody>\n",
       "</table>\n",
       "</div>"
      ],
      "text/plain": [
       "                   mark               name    price  \\\n",
       "id                                                    \n",
       "i4530303839         Kia            Kia Rio  1170000   \n",
       "i4491877156       Geely      Geely Monjaro  3490000   \n",
       "i4118065064  ВАЗ (LADA)   ВАЗ (LADA) Vesta  1220000   \n",
       "i3743600664      Toyota     Toyota Avensis  1700000   \n",
       "i4282051714  ВАЗ (LADA)  ВАЗ (LADA) Granta   845000   \n",
       "\n",
       "                                                        params  \\\n",
       "id                                                               \n",
       "i4530303839  87 001 км, 1.4 AT (107 л.с.), седан, передний,...   \n",
       "i4491877156  2 700 км, 2 AT (238 л.с.), внедорожник, полный...   \n",
       "i4118065064  53 900 км, 1.6 MT (106 л.с.), универсал, перед...   \n",
       "i3743600664  170 000 км, 2.0 AT (147 л.с.), седан, передний...   \n",
       "i4282051714  40 000 км, 1.6 MT (90 л.с.), седан, передний, ...   \n",
       "\n",
       "             years_in_operation  is_crashed mileage  \n",
       "id                                                   \n",
       "i4530303839                   9       False   87001  \n",
       "i4491877156                   2       False    2700  \n",
       "i4118065064                   7       False   53900  \n",
       "i3743600664                  19       False  170000  \n",
       "i4282051714                   2       False   40000  "
      ]
     },
     "execution_count": 20,
     "metadata": {},
     "output_type": "execute_result"
    }
   ],
   "source": [
    "data.sample(n=5)"
   ]
  },
  {
   "cell_type": "markdown",
   "metadata": {},
   "source": [
    "### Признаки - **modification**, **body_type**, **drive**, **fuel_type**"
   ]
  },
  {
   "cell_type": "markdown",
   "metadata": {},
   "source": [
    "**fuel_type** - тип топлива"
   ]
  },
  {
   "cell_type": "code",
   "execution_count": 21,
   "metadata": {},
   "outputs": [],
   "source": [
    "data['fuel_type'] = data['params'].apply(lambda x: x.split(', ')[-1])"
   ]
  },
  {
   "cell_type": "code",
   "execution_count": 22,
   "metadata": {},
   "outputs": [
    {
     "data": {
      "text/plain": [
       "fuel_type\n",
       "бензин     15066\n",
       "дизель      1885\n",
       "гибрид        80\n",
       "электро       38\n",
       "газ           16\n",
       "Name: count, dtype: int64"
      ]
     },
     "execution_count": 22,
     "metadata": {},
     "output_type": "execute_result"
    }
   ],
   "source": [
    "data['fuel_type'].value_counts()"
   ]
  },
  {
   "cell_type": "code",
   "execution_count": 23,
   "metadata": {},
   "outputs": [
    {
     "data": {
      "text/html": [
       "<div>\n",
       "<style scoped>\n",
       "    .dataframe tbody tr th:only-of-type {\n",
       "        vertical-align: middle;\n",
       "    }\n",
       "\n",
       "    .dataframe tbody tr th {\n",
       "        vertical-align: top;\n",
       "    }\n",
       "\n",
       "    .dataframe thead th {\n",
       "        text-align: right;\n",
       "    }\n",
       "</style>\n",
       "<table border=\"1\" class=\"dataframe\">\n",
       "  <thead>\n",
       "    <tr style=\"text-align: right;\">\n",
       "      <th></th>\n",
       "      <th>mark</th>\n",
       "      <th>name</th>\n",
       "      <th>price</th>\n",
       "      <th>params</th>\n",
       "      <th>years_in_operation</th>\n",
       "      <th>is_crashed</th>\n",
       "      <th>mileage</th>\n",
       "      <th>fuel_type</th>\n",
       "    </tr>\n",
       "    <tr>\n",
       "      <th>id</th>\n",
       "      <th></th>\n",
       "      <th></th>\n",
       "      <th></th>\n",
       "      <th></th>\n",
       "      <th></th>\n",
       "      <th></th>\n",
       "      <th></th>\n",
       "      <th></th>\n",
       "    </tr>\n",
       "  </thead>\n",
       "  <tbody>\n",
       "    <tr>\n",
       "      <th>i4021183728</th>\n",
       "      <td>ВАЗ (LADA)</td>\n",
       "      <td>ВАЗ (LADA) Granta</td>\n",
       "      <td>269000</td>\n",
       "      <td>148 121 км, 1.6 MT (87 л.с.), седан, передний,...</td>\n",
       "      <td>12</td>\n",
       "      <td>False</td>\n",
       "      <td>148121</td>\n",
       "      <td>бензин</td>\n",
       "    </tr>\n",
       "    <tr>\n",
       "      <th>i4156426104</th>\n",
       "      <td>ВАЗ (LADA)</td>\n",
       "      <td>ВАЗ (LADA) Largus</td>\n",
       "      <td>699900</td>\n",
       "      <td>195 000 км, 1.6 MT (87 л.с.), универсал, перед...</td>\n",
       "      <td>11</td>\n",
       "      <td>False</td>\n",
       "      <td>195000</td>\n",
       "      <td>бензин</td>\n",
       "    </tr>\n",
       "    <tr>\n",
       "      <th>i4180296939</th>\n",
       "      <td>Chevrolet</td>\n",
       "      <td>Chevrolet Viva</td>\n",
       "      <td>245000</td>\n",
       "      <td>300 000 км, 1.8 MT (125 л.с.), седан, передний...</td>\n",
       "      <td>20</td>\n",
       "      <td>False</td>\n",
       "      <td>300000</td>\n",
       "      <td>бензин</td>\n",
       "    </tr>\n",
       "    <tr>\n",
       "      <th>i4230082804</th>\n",
       "      <td>Mitsubishi</td>\n",
       "      <td>Mitsubishi Lancer</td>\n",
       "      <td>555000</td>\n",
       "      <td>270 000 км, 1.6 MT (98 л.с.), седан, передний,...</td>\n",
       "      <td>18</td>\n",
       "      <td>False</td>\n",
       "      <td>270000</td>\n",
       "      <td>бензин</td>\n",
       "    </tr>\n",
       "    <tr>\n",
       "      <th>i4053996160</th>\n",
       "      <td>Chevrolet</td>\n",
       "      <td>Chevrolet Cruze</td>\n",
       "      <td>750000</td>\n",
       "      <td>236 000 км, 1.6 MT (109 л.с.), седан, передний...</td>\n",
       "      <td>13</td>\n",
       "      <td>False</td>\n",
       "      <td>236000</td>\n",
       "      <td>бензин</td>\n",
       "    </tr>\n",
       "  </tbody>\n",
       "</table>\n",
       "</div>"
      ],
      "text/plain": [
       "                   mark               name   price  \\\n",
       "id                                                   \n",
       "i4021183728  ВАЗ (LADA)  ВАЗ (LADA) Granta  269000   \n",
       "i4156426104  ВАЗ (LADA)  ВАЗ (LADA) Largus  699900   \n",
       "i4180296939   Chevrolet     Chevrolet Viva  245000   \n",
       "i4230082804  Mitsubishi  Mitsubishi Lancer  555000   \n",
       "i4053996160   Chevrolet    Chevrolet Cruze  750000   \n",
       "\n",
       "                                                        params  \\\n",
       "id                                                               \n",
       "i4021183728  148 121 км, 1.6 MT (87 л.с.), седан, передний,...   \n",
       "i4156426104  195 000 км, 1.6 MT (87 л.с.), универсал, перед...   \n",
       "i4180296939  300 000 км, 1.8 MT (125 л.с.), седан, передний...   \n",
       "i4230082804  270 000 км, 1.6 MT (98 л.с.), седан, передний,...   \n",
       "i4053996160  236 000 км, 1.6 MT (109 л.с.), седан, передний...   \n",
       "\n",
       "             years_in_operation  is_crashed mileage fuel_type  \n",
       "id                                                             \n",
       "i4021183728                  12       False  148121    бензин  \n",
       "i4156426104                  11       False  195000    бензин  \n",
       "i4180296939                  20       False  300000    бензин  \n",
       "i4230082804                  18       False  270000    бензин  \n",
       "i4053996160                  13       False  236000    бензин  "
      ]
     },
     "execution_count": 23,
     "metadata": {},
     "output_type": "execute_result"
    }
   ],
   "source": [
    "data.sample(n=5)"
   ]
  },
  {
   "cell_type": "markdown",
   "metadata": {},
   "source": [
    "**drive** - тип привода"
   ]
  },
  {
   "cell_type": "code",
   "execution_count": 24,
   "metadata": {},
   "outputs": [],
   "source": [
    "data['drive'] = data['params'].apply(lambda x: x.split(', ')[-2])"
   ]
  },
  {
   "cell_type": "code",
   "execution_count": 25,
   "metadata": {},
   "outputs": [
    {
     "data": {
      "text/plain": [
       "drive\n",
       "передний    10351\n",
       "полный       5461\n",
       "задний       1273\n",
       "Name: count, dtype: int64"
      ]
     },
     "execution_count": 25,
     "metadata": {},
     "output_type": "execute_result"
    }
   ],
   "source": [
    "data['drive'].value_counts()"
   ]
  },
  {
   "cell_type": "code",
   "execution_count": 26,
   "metadata": {},
   "outputs": [
    {
     "data": {
      "text/html": [
       "<div>\n",
       "<style scoped>\n",
       "    .dataframe tbody tr th:only-of-type {\n",
       "        vertical-align: middle;\n",
       "    }\n",
       "\n",
       "    .dataframe tbody tr th {\n",
       "        vertical-align: top;\n",
       "    }\n",
       "\n",
       "    .dataframe thead th {\n",
       "        text-align: right;\n",
       "    }\n",
       "</style>\n",
       "<table border=\"1\" class=\"dataframe\">\n",
       "  <thead>\n",
       "    <tr style=\"text-align: right;\">\n",
       "      <th></th>\n",
       "      <th>mark</th>\n",
       "      <th>name</th>\n",
       "      <th>price</th>\n",
       "      <th>params</th>\n",
       "      <th>years_in_operation</th>\n",
       "      <th>is_crashed</th>\n",
       "      <th>mileage</th>\n",
       "      <th>fuel_type</th>\n",
       "      <th>drive</th>\n",
       "    </tr>\n",
       "    <tr>\n",
       "      <th>id</th>\n",
       "      <th></th>\n",
       "      <th></th>\n",
       "      <th></th>\n",
       "      <th></th>\n",
       "      <th></th>\n",
       "      <th></th>\n",
       "      <th></th>\n",
       "      <th></th>\n",
       "      <th></th>\n",
       "    </tr>\n",
       "  </thead>\n",
       "  <tbody>\n",
       "    <tr>\n",
       "      <th>i4187918441</th>\n",
       "      <td>Chevrolet</td>\n",
       "      <td>Chevrolet Cobalt</td>\n",
       "      <td>1170000</td>\n",
       "      <td>38 975 км, 1.5 MT (106 л.с.), седан, передний,...</td>\n",
       "      <td>4</td>\n",
       "      <td>False</td>\n",
       "      <td>38975</td>\n",
       "      <td>бензин</td>\n",
       "      <td>передний</td>\n",
       "    </tr>\n",
       "    <tr>\n",
       "      <th>i4007853742</th>\n",
       "      <td>Kia</td>\n",
       "      <td>Kia Optima</td>\n",
       "      <td>2350000</td>\n",
       "      <td>99 000 км, 2.4 AT (188 л.с.), седан, передний,...</td>\n",
       "      <td>7</td>\n",
       "      <td>False</td>\n",
       "      <td>99000</td>\n",
       "      <td>бензин</td>\n",
       "      <td>передний</td>\n",
       "    </tr>\n",
       "    <tr>\n",
       "      <th>i4020990455</th>\n",
       "      <td>ВАЗ (LADA)</td>\n",
       "      <td>ВАЗ (LADA) Granta</td>\n",
       "      <td>900000</td>\n",
       "      <td>11 500 км, 1.6 MT (90 л.с.), седан, передний, ...</td>\n",
       "      <td>3</td>\n",
       "      <td>False</td>\n",
       "      <td>11500</td>\n",
       "      <td>бензин</td>\n",
       "      <td>передний</td>\n",
       "    </tr>\n",
       "    <tr>\n",
       "      <th>i4043255739</th>\n",
       "      <td>Chery</td>\n",
       "      <td>Chery M11 (A3)</td>\n",
       "      <td>295000</td>\n",
       "      <td>116 099 км, 1.6 MT (117 л.с.), хетчбэк, передн...</td>\n",
       "      <td>15</td>\n",
       "      <td>False</td>\n",
       "      <td>116099</td>\n",
       "      <td>бензин</td>\n",
       "      <td>передний</td>\n",
       "    </tr>\n",
       "    <tr>\n",
       "      <th>i4396018673</th>\n",
       "      <td>Mitsubishi</td>\n",
       "      <td>Mitsubishi Pajero</td>\n",
       "      <td>1490000</td>\n",
       "      <td>203 399 км, 3.0 AT (178 л.с.), внедорожник, по...</td>\n",
       "      <td>18</td>\n",
       "      <td>False</td>\n",
       "      <td>203399</td>\n",
       "      <td>бензин</td>\n",
       "      <td>полный</td>\n",
       "    </tr>\n",
       "  </tbody>\n",
       "</table>\n",
       "</div>"
      ],
      "text/plain": [
       "                   mark               name    price  \\\n",
       "id                                                    \n",
       "i4187918441   Chevrolet   Chevrolet Cobalt  1170000   \n",
       "i4007853742         Kia         Kia Optima  2350000   \n",
       "i4020990455  ВАЗ (LADA)  ВАЗ (LADA) Granta   900000   \n",
       "i4043255739       Chery     Chery M11 (A3)   295000   \n",
       "i4396018673  Mitsubishi  Mitsubishi Pajero  1490000   \n",
       "\n",
       "                                                        params  \\\n",
       "id                                                               \n",
       "i4187918441  38 975 км, 1.5 MT (106 л.с.), седан, передний,...   \n",
       "i4007853742  99 000 км, 2.4 AT (188 л.с.), седан, передний,...   \n",
       "i4020990455  11 500 км, 1.6 MT (90 л.с.), седан, передний, ...   \n",
       "i4043255739  116 099 км, 1.6 MT (117 л.с.), хетчбэк, передн...   \n",
       "i4396018673  203 399 км, 3.0 AT (178 л.с.), внедорожник, по...   \n",
       "\n",
       "             years_in_operation  is_crashed mileage fuel_type     drive  \n",
       "id                                                                       \n",
       "i4187918441                   4       False   38975    бензин  передний  \n",
       "i4007853742                   7       False   99000    бензин  передний  \n",
       "i4020990455                   3       False   11500    бензин  передний  \n",
       "i4043255739                  15       False  116099    бензин  передний  \n",
       "i4396018673                  18       False  203399    бензин    полный  "
      ]
     },
     "execution_count": 26,
     "metadata": {},
     "output_type": "execute_result"
    }
   ],
   "source": [
    "data.sample(n=5)"
   ]
  },
  {
   "cell_type": "markdown",
   "metadata": {},
   "source": [
    "**body_type** - тип кузова"
   ]
  },
  {
   "cell_type": "code",
   "execution_count": 27,
   "metadata": {},
   "outputs": [],
   "source": [
    "data['body_type'] = data['params'].apply(lambda x: x.split(', ')[-3])"
   ]
  },
  {
   "cell_type": "code",
   "execution_count": 28,
   "metadata": {},
   "outputs": [
    {
     "data": {
      "text/plain": [
       "body_type\n",
       "внедорожник            6232\n",
       "седан                  5635\n",
       "хетчбэк                2314\n",
       "универсал               735\n",
       "фургон                  674\n",
       "лифтбек                 643\n",
       "минивэн                 325\n",
       "пикап                   246\n",
       "микроавтобус            154\n",
       "купе                     76\n",
       "кабриолет                20\n",
       "1.6 MT хетчбэк            4\n",
       "2.0 AT внедорожник        2\n",
       "2.4 AT внедорожник        2\n",
       "5.7 AT пикап              1\n",
       "1.5 AT универсал          1\n",
       "1 AMT хетчбэк             1\n",
       "2.4 AT седан              1\n",
       "1.6 MT универсал          1\n",
       "1 MT хетчбэк              1\n",
       "1.6 MT седан              1\n",
       "1.3 MT седан              1\n",
       "1.6 AT хетчбэк            1\n",
       "1.6 AMT седан             1\n",
       "1.8 AMT минивэн           1\n",
       "2 CVT седан               1\n",
       "1.8 AT седан              1\n",
       "1.6 MT минивэн            1\n",
       "2 CVT внедорожник         1\n",
       "2.0 CVT седан             1\n",
       "2 AT внедорожник          1\n",
       "1.5 CVT седан             1\n",
       "1.5 MT хетчбэк            1\n",
       "2.3 AT купе               1\n",
       "2.2 MT микроавтобус       1\n",
       "1.6 AT седан              1\n",
       "2.7 MT пикап              1\n",
       "Name: count, dtype: int64"
      ]
     },
     "execution_count": 28,
     "metadata": {},
     "output_type": "execute_result"
    }
   ],
   "source": [
    "data['body_type'].value_counts()"
   ]
  },
  {
   "cell_type": "markdown",
   "metadata": {},
   "source": [
    "Есть записи, которые спарсились некорректно. Посмотрим, сколько таких."
   ]
  },
  {
   "cell_type": "code",
   "execution_count": 29,
   "metadata": {},
   "outputs": [
    {
     "data": {
      "text/plain": [
       "params\n",
       "5    17054\n",
       "4       31\n",
       "Name: count, dtype: int64"
      ]
     },
     "execution_count": 29,
     "metadata": {},
     "output_type": "execute_result"
    }
   ],
   "source": [
    "data['params'].apply(lambda x: len(x.split(', '))).value_counts()"
   ]
  },
  {
   "cell_type": "markdown",
   "metadata": {},
   "source": [
    "Некорретных записей немного, удалим их"
   ]
  },
  {
   "cell_type": "code",
   "execution_count": 30,
   "metadata": {},
   "outputs": [],
   "source": [
    "data['params'] = data['params'].apply(lambda x: x if len(x.split(', ')) == 5 else None)"
   ]
  },
  {
   "cell_type": "code",
   "execution_count": 31,
   "metadata": {},
   "outputs": [],
   "source": [
    "data.dropna(inplace=True)"
   ]
  },
  {
   "cell_type": "markdown",
   "metadata": {},
   "source": [
    "**modification** - модификация (объем двигателя, тип коробки передач, мощность)"
   ]
  },
  {
   "cell_type": "code",
   "execution_count": 32,
   "metadata": {},
   "outputs": [],
   "source": [
    "data['modification'] = data['params'].apply(lambda x: x.split(', ')[-4])"
   ]
  },
  {
   "cell_type": "code",
   "execution_count": 33,
   "metadata": {},
   "outputs": [
    {
     "data": {
      "text/html": [
       "<div>\n",
       "<style scoped>\n",
       "    .dataframe tbody tr th:only-of-type {\n",
       "        vertical-align: middle;\n",
       "    }\n",
       "\n",
       "    .dataframe tbody tr th {\n",
       "        vertical-align: top;\n",
       "    }\n",
       "\n",
       "    .dataframe thead th {\n",
       "        text-align: right;\n",
       "    }\n",
       "</style>\n",
       "<table border=\"1\" class=\"dataframe\">\n",
       "  <thead>\n",
       "    <tr style=\"text-align: right;\">\n",
       "      <th></th>\n",
       "      <th>mark</th>\n",
       "      <th>name</th>\n",
       "      <th>price</th>\n",
       "      <th>params</th>\n",
       "      <th>years_in_operation</th>\n",
       "      <th>is_crashed</th>\n",
       "      <th>mileage</th>\n",
       "      <th>fuel_type</th>\n",
       "      <th>drive</th>\n",
       "      <th>body_type</th>\n",
       "      <th>modification</th>\n",
       "    </tr>\n",
       "    <tr>\n",
       "      <th>id</th>\n",
       "      <th></th>\n",
       "      <th></th>\n",
       "      <th></th>\n",
       "      <th></th>\n",
       "      <th></th>\n",
       "      <th></th>\n",
       "      <th></th>\n",
       "      <th></th>\n",
       "      <th></th>\n",
       "      <th></th>\n",
       "      <th></th>\n",
       "    </tr>\n",
       "  </thead>\n",
       "  <tbody>\n",
       "    <tr>\n",
       "      <th>i4394322447</th>\n",
       "      <td>Kia</td>\n",
       "      <td>Kia Rio</td>\n",
       "      <td>815000</td>\n",
       "      <td>155 127 км, 1.6 MT (123 л.с.), седан, передний...</td>\n",
       "      <td>13</td>\n",
       "      <td>False</td>\n",
       "      <td>155127</td>\n",
       "      <td>бензин</td>\n",
       "      <td>передний</td>\n",
       "      <td>седан</td>\n",
       "      <td>1.6 MT (123 л.с.)</td>\n",
       "    </tr>\n",
       "    <tr>\n",
       "      <th>i4176640618</th>\n",
       "      <td>ВАЗ (LADA)</td>\n",
       "      <td>ВАЗ (LADA) Priora</td>\n",
       "      <td>280000</td>\n",
       "      <td>260 000 км, 1.6 MT (98 л.с.), седан, передний,...</td>\n",
       "      <td>15</td>\n",
       "      <td>False</td>\n",
       "      <td>260000</td>\n",
       "      <td>бензин</td>\n",
       "      <td>передний</td>\n",
       "      <td>седан</td>\n",
       "      <td>1.6 MT (98 л.с.)</td>\n",
       "    </tr>\n",
       "    <tr>\n",
       "      <th>i3796122390</th>\n",
       "      <td>Kia</td>\n",
       "      <td>Kia Rio</td>\n",
       "      <td>1280000</td>\n",
       "      <td>168 020 км, 1.4 AT (100 л.с.), седан, передний...</td>\n",
       "      <td>7</td>\n",
       "      <td>False</td>\n",
       "      <td>168020</td>\n",
       "      <td>бензин</td>\n",
       "      <td>передний</td>\n",
       "      <td>седан</td>\n",
       "      <td>1.4 AT (100 л.с.)</td>\n",
       "    </tr>\n",
       "    <tr>\n",
       "      <th>i4250418892</th>\n",
       "      <td>ВАЗ (LADA)</td>\n",
       "      <td>ВАЗ (LADA) XRAY</td>\n",
       "      <td>850000</td>\n",
       "      <td>62 000 км, 1.6 MT (106 л.с.), хетчбэк, передни...</td>\n",
       "      <td>7</td>\n",
       "      <td>False</td>\n",
       "      <td>62000</td>\n",
       "      <td>бензин</td>\n",
       "      <td>передний</td>\n",
       "      <td>хетчбэк</td>\n",
       "      <td>1.6 MT (106 л.с.)</td>\n",
       "    </tr>\n",
       "    <tr>\n",
       "      <th>i4229691225</th>\n",
       "      <td>Kia</td>\n",
       "      <td>Kia K5</td>\n",
       "      <td>3090000</td>\n",
       "      <td>59 500 км, 2.5 AT (194 л.с.), седан, передний,...</td>\n",
       "      <td>4</td>\n",
       "      <td>False</td>\n",
       "      <td>59500</td>\n",
       "      <td>бензин</td>\n",
       "      <td>передний</td>\n",
       "      <td>седан</td>\n",
       "      <td>2.5 AT (194 л.с.)</td>\n",
       "    </tr>\n",
       "  </tbody>\n",
       "</table>\n",
       "</div>"
      ],
      "text/plain": [
       "                   mark               name    price  \\\n",
       "id                                                    \n",
       "i4394322447         Kia            Kia Rio   815000   \n",
       "i4176640618  ВАЗ (LADA)  ВАЗ (LADA) Priora   280000   \n",
       "i3796122390         Kia            Kia Rio  1280000   \n",
       "i4250418892  ВАЗ (LADA)    ВАЗ (LADA) XRAY   850000   \n",
       "i4229691225         Kia             Kia K5  3090000   \n",
       "\n",
       "                                                        params  \\\n",
       "id                                                               \n",
       "i4394322447  155 127 км, 1.6 MT (123 л.с.), седан, передний...   \n",
       "i4176640618  260 000 км, 1.6 MT (98 л.с.), седан, передний,...   \n",
       "i3796122390  168 020 км, 1.4 AT (100 л.с.), седан, передний...   \n",
       "i4250418892  62 000 км, 1.6 MT (106 л.с.), хетчбэк, передни...   \n",
       "i4229691225  59 500 км, 2.5 AT (194 л.с.), седан, передний,...   \n",
       "\n",
       "             years_in_operation  is_crashed mileage fuel_type     drive  \\\n",
       "id                                                                        \n",
       "i4394322447                  13       False  155127    бензин  передний   \n",
       "i4176640618                  15       False  260000    бензин  передний   \n",
       "i3796122390                   7       False  168020    бензин  передний   \n",
       "i4250418892                   7       False   62000    бензин  передний   \n",
       "i4229691225                   4       False   59500    бензин  передний   \n",
       "\n",
       "            body_type       modification  \n",
       "id                                        \n",
       "i4394322447     седан  1.6 MT (123 л.с.)  \n",
       "i4176640618     седан   1.6 MT (98 л.с.)  \n",
       "i3796122390     седан  1.4 AT (100 л.с.)  \n",
       "i4250418892   хетчбэк  1.6 MT (106 л.с.)  \n",
       "i4229691225     седан  2.5 AT (194 л.с.)  "
      ]
     },
     "execution_count": 33,
     "metadata": {},
     "output_type": "execute_result"
    }
   ],
   "source": [
    "data.sample(n=5)"
   ]
  },
  {
   "cell_type": "markdown",
   "metadata": {},
   "source": [
    "Удалим лишний теперь столбец **params**"
   ]
  },
  {
   "cell_type": "code",
   "execution_count": 34,
   "metadata": {},
   "outputs": [],
   "source": [
    "data.drop(columns='params', inplace=True)"
   ]
  },
  {
   "cell_type": "markdown",
   "metadata": {},
   "source": [
    "### Признак - **engine_capacity**, **transmission_type**, **engine_power**"
   ]
  },
  {
   "cell_type": "markdown",
   "metadata": {},
   "source": [
    "**engine_capacity** - объем двигателя. Автомобили с электрическим типом двигателя не могут иметь такую характеристику, так как у них в принципе отсутствует камера сгорания топлива, по которой считается объем. Тогда можно сказать, что у электромобилей объем двигателя - 0 л и модель не будет учитывать данный признак"
   ]
  },
  {
   "cell_type": "code",
   "execution_count": 35,
   "metadata": {},
   "outputs": [],
   "source": [
    "data.loc[data['fuel_type'] == 'электро', 'modification'] = data[data['fuel_type'] == 'электро']['modification'].apply(\n",
    "    lambda x: '0 ' + x)"
   ]
  },
  {
   "cell_type": "code",
   "execution_count": 36,
   "metadata": {},
   "outputs": [],
   "source": [
    "data['engine_capacity'] = data['modification'].apply(lambda x: x.split()[0])"
   ]
  },
  {
   "cell_type": "markdown",
   "metadata": {},
   "source": [
    "**transmission_type** - тип трансмиссии"
   ]
  },
  {
   "cell_type": "code",
   "execution_count": 37,
   "metadata": {},
   "outputs": [],
   "source": [
    "data['transmission_type'] = data['modification'].apply(lambda x: x.split()[1])"
   ]
  },
  {
   "cell_type": "code",
   "execution_count": 38,
   "metadata": {},
   "outputs": [
    {
     "data": {
      "text/html": [
       "<div>\n",
       "<style scoped>\n",
       "    .dataframe tbody tr th:only-of-type {\n",
       "        vertical-align: middle;\n",
       "    }\n",
       "\n",
       "    .dataframe tbody tr th {\n",
       "        vertical-align: top;\n",
       "    }\n",
       "\n",
       "    .dataframe thead th {\n",
       "        text-align: right;\n",
       "    }\n",
       "</style>\n",
       "<table border=\"1\" class=\"dataframe\">\n",
       "  <thead>\n",
       "    <tr style=\"text-align: right;\">\n",
       "      <th></th>\n",
       "      <th>mark</th>\n",
       "      <th>name</th>\n",
       "      <th>price</th>\n",
       "      <th>years_in_operation</th>\n",
       "      <th>is_crashed</th>\n",
       "      <th>mileage</th>\n",
       "      <th>fuel_type</th>\n",
       "      <th>drive</th>\n",
       "      <th>body_type</th>\n",
       "      <th>modification</th>\n",
       "      <th>engine_capacity</th>\n",
       "      <th>transmission_type</th>\n",
       "    </tr>\n",
       "    <tr>\n",
       "      <th>id</th>\n",
       "      <th></th>\n",
       "      <th></th>\n",
       "      <th></th>\n",
       "      <th></th>\n",
       "      <th></th>\n",
       "      <th></th>\n",
       "      <th></th>\n",
       "      <th></th>\n",
       "      <th></th>\n",
       "      <th></th>\n",
       "      <th></th>\n",
       "      <th></th>\n",
       "    </tr>\n",
       "  </thead>\n",
       "  <tbody>\n",
       "    <tr>\n",
       "      <th>i4529535743</th>\n",
       "      <td>Geely</td>\n",
       "      <td>Geely Monjaro</td>\n",
       "      <td>3300000</td>\n",
       "      <td>2</td>\n",
       "      <td>False</td>\n",
       "      <td>24621</td>\n",
       "      <td>бензин</td>\n",
       "      <td>полный</td>\n",
       "      <td>внедорожник</td>\n",
       "      <td>2 AT (238 л.с.)</td>\n",
       "      <td>2</td>\n",
       "      <td>AT</td>\n",
       "    </tr>\n",
       "    <tr>\n",
       "      <th>i4013559793</th>\n",
       "      <td>Chevrolet</td>\n",
       "      <td>Chevrolet Aveo</td>\n",
       "      <td>820000</td>\n",
       "      <td>12</td>\n",
       "      <td>False</td>\n",
       "      <td>97300</td>\n",
       "      <td>бензин</td>\n",
       "      <td>передний</td>\n",
       "      <td>седан</td>\n",
       "      <td>1.6 AT (115 л.с.)</td>\n",
       "      <td>1.6</td>\n",
       "      <td>AT</td>\n",
       "    </tr>\n",
       "    <tr>\n",
       "      <th>i4211580405</th>\n",
       "      <td>ВАЗ (LADA)</td>\n",
       "      <td>ВАЗ (LADA) Vesta</td>\n",
       "      <td>1120000</td>\n",
       "      <td>5</td>\n",
       "      <td>False</td>\n",
       "      <td>118506</td>\n",
       "      <td>бензин</td>\n",
       "      <td>передний</td>\n",
       "      <td>универсал</td>\n",
       "      <td>1.6 MT (106 л.с.)</td>\n",
       "      <td>1.6</td>\n",
       "      <td>MT</td>\n",
       "    </tr>\n",
       "    <tr>\n",
       "      <th>i3848682579</th>\n",
       "      <td>Hyundai</td>\n",
       "      <td>Hyundai Solaris</td>\n",
       "      <td>839990</td>\n",
       "      <td>11</td>\n",
       "      <td>False</td>\n",
       "      <td>121244</td>\n",
       "      <td>бензин</td>\n",
       "      <td>передний</td>\n",
       "      <td>хетчбэк</td>\n",
       "      <td>1.6 AT (123 л.с.)</td>\n",
       "      <td>1.6</td>\n",
       "      <td>AT</td>\n",
       "    </tr>\n",
       "    <tr>\n",
       "      <th>i4228814149</th>\n",
       "      <td>Chevrolet</td>\n",
       "      <td>Chevrolet Aveo</td>\n",
       "      <td>750000</td>\n",
       "      <td>11</td>\n",
       "      <td>False</td>\n",
       "      <td>223940</td>\n",
       "      <td>бензин</td>\n",
       "      <td>передний</td>\n",
       "      <td>седан</td>\n",
       "      <td>1.6 AT (115 л.с.)</td>\n",
       "      <td>1.6</td>\n",
       "      <td>AT</td>\n",
       "    </tr>\n",
       "  </tbody>\n",
       "</table>\n",
       "</div>"
      ],
      "text/plain": [
       "                   mark              name    price  years_in_operation  \\\n",
       "id                                                                       \n",
       "i4529535743       Geely     Geely Monjaro  3300000                   2   \n",
       "i4013559793   Chevrolet    Chevrolet Aveo   820000                  12   \n",
       "i4211580405  ВАЗ (LADA)  ВАЗ (LADA) Vesta  1120000                   5   \n",
       "i3848682579     Hyundai   Hyundai Solaris   839990                  11   \n",
       "i4228814149   Chevrolet    Chevrolet Aveo   750000                  11   \n",
       "\n",
       "             is_crashed mileage fuel_type     drive    body_type  \\\n",
       "id                                                                 \n",
       "i4529535743       False   24621    бензин    полный  внедорожник   \n",
       "i4013559793       False   97300    бензин  передний        седан   \n",
       "i4211580405       False  118506    бензин  передний    универсал   \n",
       "i3848682579       False  121244    бензин  передний      хетчбэк   \n",
       "i4228814149       False  223940    бензин  передний        седан   \n",
       "\n",
       "                  modification engine_capacity transmission_type  \n",
       "id                                                                \n",
       "i4529535743    2 AT (238 л.с.)               2                AT  \n",
       "i4013559793  1.6 AT (115 л.с.)             1.6                AT  \n",
       "i4211580405  1.6 MT (106 л.с.)             1.6                MT  \n",
       "i3848682579  1.6 AT (123 л.с.)             1.6                AT  \n",
       "i4228814149  1.6 AT (115 л.с.)             1.6                AT  "
      ]
     },
     "execution_count": 38,
     "metadata": {},
     "output_type": "execute_result"
    }
   ],
   "source": [
    "data.sample(n=5)"
   ]
  },
  {
   "cell_type": "markdown",
   "metadata": {},
   "source": [
    "**engine_power** - мощность двигателя"
   ]
  },
  {
   "cell_type": "code",
   "execution_count": 39,
   "metadata": {},
   "outputs": [],
   "source": [
    "data['engine_power'] = data['modification'].apply(lambda x: x.split('(')[-1].split()[0])"
   ]
  },
  {
   "cell_type": "markdown",
   "metadata": {},
   "source": [
    "Удалим лишний теперь стоблец **modification**"
   ]
  },
  {
   "cell_type": "code",
   "execution_count": 40,
   "metadata": {},
   "outputs": [],
   "source": [
    "data.drop(columns='modification', inplace=True)"
   ]
  },
  {
   "cell_type": "code",
   "execution_count": 41,
   "metadata": {},
   "outputs": [
    {
     "data": {
      "text/html": [
       "<div>\n",
       "<style scoped>\n",
       "    .dataframe tbody tr th:only-of-type {\n",
       "        vertical-align: middle;\n",
       "    }\n",
       "\n",
       "    .dataframe tbody tr th {\n",
       "        vertical-align: top;\n",
       "    }\n",
       "\n",
       "    .dataframe thead th {\n",
       "        text-align: right;\n",
       "    }\n",
       "</style>\n",
       "<table border=\"1\" class=\"dataframe\">\n",
       "  <thead>\n",
       "    <tr style=\"text-align: right;\">\n",
       "      <th></th>\n",
       "      <th>mark</th>\n",
       "      <th>name</th>\n",
       "      <th>price</th>\n",
       "      <th>years_in_operation</th>\n",
       "      <th>is_crashed</th>\n",
       "      <th>mileage</th>\n",
       "      <th>fuel_type</th>\n",
       "      <th>drive</th>\n",
       "      <th>body_type</th>\n",
       "      <th>engine_capacity</th>\n",
       "      <th>transmission_type</th>\n",
       "      <th>engine_power</th>\n",
       "    </tr>\n",
       "    <tr>\n",
       "      <th>id</th>\n",
       "      <th></th>\n",
       "      <th></th>\n",
       "      <th></th>\n",
       "      <th></th>\n",
       "      <th></th>\n",
       "      <th></th>\n",
       "      <th></th>\n",
       "      <th></th>\n",
       "      <th></th>\n",
       "      <th></th>\n",
       "      <th></th>\n",
       "      <th></th>\n",
       "    </tr>\n",
       "  </thead>\n",
       "  <tbody>\n",
       "    <tr>\n",
       "      <th>i4179813080</th>\n",
       "      <td>Toyota</td>\n",
       "      <td>Toyota RAV4</td>\n",
       "      <td>2555000</td>\n",
       "      <td>9</td>\n",
       "      <td>False</td>\n",
       "      <td>68000</td>\n",
       "      <td>бензин</td>\n",
       "      <td>передний</td>\n",
       "      <td>внедорожник</td>\n",
       "      <td>2</td>\n",
       "      <td>CVT</td>\n",
       "      <td>146</td>\n",
       "    </tr>\n",
       "    <tr>\n",
       "      <th>i3885178193</th>\n",
       "      <td>Skoda</td>\n",
       "      <td>Skoda Octavia</td>\n",
       "      <td>1150000</td>\n",
       "      <td>12</td>\n",
       "      <td>False</td>\n",
       "      <td>140000</td>\n",
       "      <td>бензин</td>\n",
       "      <td>передний</td>\n",
       "      <td>лифтбек</td>\n",
       "      <td>1.6</td>\n",
       "      <td>MT</td>\n",
       "      <td>102</td>\n",
       "    </tr>\n",
       "    <tr>\n",
       "      <th>i4173620608</th>\n",
       "      <td>Suzuki</td>\n",
       "      <td>Suzuki Grand Vitara</td>\n",
       "      <td>1190000</td>\n",
       "      <td>13</td>\n",
       "      <td>False</td>\n",
       "      <td>261000</td>\n",
       "      <td>бензин</td>\n",
       "      <td>полный</td>\n",
       "      <td>внедорожник</td>\n",
       "      <td>2.0</td>\n",
       "      <td>MT</td>\n",
       "      <td>140</td>\n",
       "    </tr>\n",
       "    <tr>\n",
       "      <th>i4378267779</th>\n",
       "      <td>Haval</td>\n",
       "      <td>Haval F7</td>\n",
       "      <td>1690000</td>\n",
       "      <td>4</td>\n",
       "      <td>False</td>\n",
       "      <td>182329</td>\n",
       "      <td>бензин</td>\n",
       "      <td>полный</td>\n",
       "      <td>внедорожник</td>\n",
       "      <td>2</td>\n",
       "      <td>AMT</td>\n",
       "      <td>190</td>\n",
       "    </tr>\n",
       "    <tr>\n",
       "      <th>i4013257381</th>\n",
       "      <td>Toyota</td>\n",
       "      <td>Toyota RAV4</td>\n",
       "      <td>3899000</td>\n",
       "      <td>4</td>\n",
       "      <td>False</td>\n",
       "      <td>34589</td>\n",
       "      <td>бензин</td>\n",
       "      <td>полный</td>\n",
       "      <td>внедорожник</td>\n",
       "      <td>2.0</td>\n",
       "      <td>CVT</td>\n",
       "      <td>149</td>\n",
       "    </tr>\n",
       "  </tbody>\n",
       "</table>\n",
       "</div>"
      ],
      "text/plain": [
       "               mark                 name    price  years_in_operation  \\\n",
       "id                                                                      \n",
       "i4179813080  Toyota          Toyota RAV4  2555000                   9   \n",
       "i3885178193   Skoda        Skoda Octavia  1150000                  12   \n",
       "i4173620608  Suzuki  Suzuki Grand Vitara  1190000                  13   \n",
       "i4378267779   Haval             Haval F7  1690000                   4   \n",
       "i4013257381  Toyota          Toyota RAV4  3899000                   4   \n",
       "\n",
       "             is_crashed mileage fuel_type     drive    body_type  \\\n",
       "id                                                                 \n",
       "i4179813080       False   68000    бензин  передний  внедорожник   \n",
       "i3885178193       False  140000    бензин  передний      лифтбек   \n",
       "i4173620608       False  261000    бензин    полный  внедорожник   \n",
       "i4378267779       False  182329    бензин    полный  внедорожник   \n",
       "i4013257381       False   34589    бензин    полный  внедорожник   \n",
       "\n",
       "            engine_capacity transmission_type engine_power  \n",
       "id                                                          \n",
       "i4179813080               2               CVT          146  \n",
       "i3885178193             1.6                MT          102  \n",
       "i4173620608             2.0                MT          140  \n",
       "i4378267779               2               AMT          190  \n",
       "i4013257381             2.0               CVT          149  "
      ]
     },
     "execution_count": 41,
     "metadata": {},
     "output_type": "execute_result"
    }
   ],
   "source": [
    "data.sample(n=5)"
   ]
  },
  {
   "cell_type": "markdown",
   "metadata": {},
   "source": [
    "## Обработка вещественных признаков"
   ]
  },
  {
   "cell_type": "markdown",
   "metadata": {},
   "source": [
    "### Приведение к типу и описание"
   ]
  },
  {
   "cell_type": "code",
   "execution_count": 42,
   "metadata": {},
   "outputs": [
    {
     "data": {
      "text/plain": [
       "mark                  object\n",
       "name                  object\n",
       "price                  int64\n",
       "years_in_operation     int64\n",
       "is_crashed              bool\n",
       "mileage               object\n",
       "fuel_type             object\n",
       "drive                 object\n",
       "body_type             object\n",
       "engine_capacity       object\n",
       "transmission_type     object\n",
       "engine_power          object\n",
       "dtype: object"
      ]
     },
     "execution_count": 42,
     "metadata": {},
     "output_type": "execute_result"
    }
   ],
   "source": [
    "# посмотрим, какие колонки нужно преобразовать\n",
    "data.dtypes"
   ]
  },
  {
   "cell_type": "markdown",
   "metadata": {},
   "source": [
    "Приведем колонки **Год выпуска**, **mileage**, **Объём двигателя**, **engine_power** к числовому типу"
   ]
  },
  {
   "cell_type": "code",
   "execution_count": 43,
   "metadata": {},
   "outputs": [],
   "source": [
    "cols_to_num = ['mileage', 'engine_capacity', 'engine_power']\n",
    "data[cols_to_num] = data[cols_to_num].map(pd.to_numeric)"
   ]
  },
  {
   "cell_type": "code",
   "execution_count": 44,
   "metadata": {},
   "outputs": [
    {
     "data": {
      "text/html": [
       "<div>\n",
       "<style scoped>\n",
       "    .dataframe tbody tr th:only-of-type {\n",
       "        vertical-align: middle;\n",
       "    }\n",
       "\n",
       "    .dataframe tbody tr th {\n",
       "        vertical-align: top;\n",
       "    }\n",
       "\n",
       "    .dataframe thead th {\n",
       "        text-align: right;\n",
       "    }\n",
       "</style>\n",
       "<table border=\"1\" class=\"dataframe\">\n",
       "  <thead>\n",
       "    <tr style=\"text-align: right;\">\n",
       "      <th></th>\n",
       "      <th>mark</th>\n",
       "      <th>name</th>\n",
       "      <th>price</th>\n",
       "      <th>years_in_operation</th>\n",
       "      <th>is_crashed</th>\n",
       "      <th>mileage</th>\n",
       "      <th>fuel_type</th>\n",
       "      <th>drive</th>\n",
       "      <th>body_type</th>\n",
       "      <th>engine_capacity</th>\n",
       "      <th>transmission_type</th>\n",
       "      <th>engine_power</th>\n",
       "    </tr>\n",
       "    <tr>\n",
       "      <th>id</th>\n",
       "      <th></th>\n",
       "      <th></th>\n",
       "      <th></th>\n",
       "      <th></th>\n",
       "      <th></th>\n",
       "      <th></th>\n",
       "      <th></th>\n",
       "      <th></th>\n",
       "      <th></th>\n",
       "      <th></th>\n",
       "      <th></th>\n",
       "      <th></th>\n",
       "    </tr>\n",
       "  </thead>\n",
       "  <tbody>\n",
       "    <tr>\n",
       "      <th>i4173603259</th>\n",
       "      <td>Toyota</td>\n",
       "      <td>Toyota Corolla</td>\n",
       "      <td>710000</td>\n",
       "      <td>19</td>\n",
       "      <td>False</td>\n",
       "      <td>283000</td>\n",
       "      <td>бензин</td>\n",
       "      <td>передний</td>\n",
       "      <td>универсал</td>\n",
       "      <td>1.6</td>\n",
       "      <td>MT</td>\n",
       "      <td>110</td>\n",
       "    </tr>\n",
       "    <tr>\n",
       "      <th>i4032505766</th>\n",
       "      <td>ВАЗ (LADA)</td>\n",
       "      <td>ВАЗ (LADA) Largus</td>\n",
       "      <td>935000</td>\n",
       "      <td>7</td>\n",
       "      <td>False</td>\n",
       "      <td>124000</td>\n",
       "      <td>бензин</td>\n",
       "      <td>передний</td>\n",
       "      <td>универсал</td>\n",
       "      <td>1.6</td>\n",
       "      <td>MT</td>\n",
       "      <td>106</td>\n",
       "    </tr>\n",
       "    <tr>\n",
       "      <th>i3915343840</th>\n",
       "      <td>Nissan</td>\n",
       "      <td>Nissan X-Trail</td>\n",
       "      <td>1550000</td>\n",
       "      <td>15</td>\n",
       "      <td>False</td>\n",
       "      <td>150000</td>\n",
       "      <td>бензин</td>\n",
       "      <td>полный</td>\n",
       "      <td>внедорожник</td>\n",
       "      <td>2.0</td>\n",
       "      <td>CVT</td>\n",
       "      <td>141</td>\n",
       "    </tr>\n",
       "    <tr>\n",
       "      <th>i3598125201</th>\n",
       "      <td>Hyundai</td>\n",
       "      <td>Hyundai Elantra</td>\n",
       "      <td>2300000</td>\n",
       "      <td>2</td>\n",
       "      <td>False</td>\n",
       "      <td>47000</td>\n",
       "      <td>бензин</td>\n",
       "      <td>передний</td>\n",
       "      <td>седан</td>\n",
       "      <td>1.6</td>\n",
       "      <td>AT</td>\n",
       "      <td>128</td>\n",
       "    </tr>\n",
       "    <tr>\n",
       "      <th>i4276341139</th>\n",
       "      <td>Opel</td>\n",
       "      <td>Opel Astra</td>\n",
       "      <td>800000</td>\n",
       "      <td>11</td>\n",
       "      <td>False</td>\n",
       "      <td>150000</td>\n",
       "      <td>бензин</td>\n",
       "      <td>передний</td>\n",
       "      <td>хетчбэк</td>\n",
       "      <td>1.6</td>\n",
       "      <td>MT</td>\n",
       "      <td>115</td>\n",
       "    </tr>\n",
       "  </tbody>\n",
       "</table>\n",
       "</div>"
      ],
      "text/plain": [
       "                   mark               name    price  years_in_operation  \\\n",
       "id                                                                        \n",
       "i4173603259      Toyota     Toyota Corolla   710000                  19   \n",
       "i4032505766  ВАЗ (LADA)  ВАЗ (LADA) Largus   935000                   7   \n",
       "i3915343840      Nissan     Nissan X-Trail  1550000                  15   \n",
       "i3598125201     Hyundai    Hyundai Elantra  2300000                   2   \n",
       "i4276341139        Opel         Opel Astra   800000                  11   \n",
       "\n",
       "             is_crashed  mileage fuel_type     drive    body_type  \\\n",
       "id                                                                  \n",
       "i4173603259       False   283000    бензин  передний    универсал   \n",
       "i4032505766       False   124000    бензин  передний    универсал   \n",
       "i3915343840       False   150000    бензин    полный  внедорожник   \n",
       "i3598125201       False    47000    бензин  передний        седан   \n",
       "i4276341139       False   150000    бензин  передний      хетчбэк   \n",
       "\n",
       "             engine_capacity transmission_type  engine_power  \n",
       "id                                                            \n",
       "i4173603259              1.6                MT           110  \n",
       "i4032505766              1.6                MT           106  \n",
       "i3915343840              2.0               CVT           141  \n",
       "i3598125201              1.6                AT           128  \n",
       "i4276341139              1.6                MT           115  "
      ]
     },
     "execution_count": 44,
     "metadata": {},
     "output_type": "execute_result"
    }
   ],
   "source": [
    "data.sample(n=5)"
   ]
  },
  {
   "cell_type": "code",
   "execution_count": 45,
   "metadata": {},
   "outputs": [
    {
     "data": {
      "text/html": [
       "<div>\n",
       "<style scoped>\n",
       "    .dataframe tbody tr th:only-of-type {\n",
       "        vertical-align: middle;\n",
       "    }\n",
       "\n",
       "    .dataframe tbody tr th {\n",
       "        vertical-align: top;\n",
       "    }\n",
       "\n",
       "    .dataframe thead th {\n",
       "        text-align: right;\n",
       "    }\n",
       "</style>\n",
       "<table border=\"1\" class=\"dataframe\">\n",
       "  <thead>\n",
       "    <tr style=\"text-align: right;\">\n",
       "      <th></th>\n",
       "      <th>price</th>\n",
       "      <th>years_in_operation</th>\n",
       "      <th>mileage</th>\n",
       "      <th>engine_capacity</th>\n",
       "      <th>engine_power</th>\n",
       "    </tr>\n",
       "  </thead>\n",
       "  <tbody>\n",
       "    <tr>\n",
       "      <th>count</th>\n",
       "      <td>1.705400e+04</td>\n",
       "      <td>17054.000000</td>\n",
       "      <td>17054.000000</td>\n",
       "      <td>17054.000000</td>\n",
       "      <td>17054.000000</td>\n",
       "    </tr>\n",
       "    <tr>\n",
       "      <th>mean</th>\n",
       "      <td>1.607883e+06</td>\n",
       "      <td>11.475314</td>\n",
       "      <td>145239.819749</td>\n",
       "      <td>1.944594</td>\n",
       "      <td>139.076522</td>\n",
       "    </tr>\n",
       "    <tr>\n",
       "      <th>std</th>\n",
       "      <td>1.797618e+06</td>\n",
       "      <td>6.972494</td>\n",
       "      <td>92419.328182</td>\n",
       "      <td>0.634980</td>\n",
       "      <td>59.111816</td>\n",
       "    </tr>\n",
       "    <tr>\n",
       "      <th>min</th>\n",
       "      <td>2.255500e+04</td>\n",
       "      <td>1.000000</td>\n",
       "      <td>1.000000</td>\n",
       "      <td>0.000000</td>\n",
       "      <td>20.000000</td>\n",
       "    </tr>\n",
       "    <tr>\n",
       "      <th>25%</th>\n",
       "      <td>6.500000e+05</td>\n",
       "      <td>6.000000</td>\n",
       "      <td>80000.000000</td>\n",
       "      <td>1.600000</td>\n",
       "      <td>105.000000</td>\n",
       "    </tr>\n",
       "    <tr>\n",
       "      <th>50%</th>\n",
       "      <td>1.140000e+06</td>\n",
       "      <td>11.000000</td>\n",
       "      <td>137000.000000</td>\n",
       "      <td>1.600000</td>\n",
       "      <td>123.000000</td>\n",
       "    </tr>\n",
       "    <tr>\n",
       "      <th>75%</th>\n",
       "      <td>1.930000e+06</td>\n",
       "      <td>15.000000</td>\n",
       "      <td>196267.250000</td>\n",
       "      <td>2.000000</td>\n",
       "      <td>150.000000</td>\n",
       "    </tr>\n",
       "    <tr>\n",
       "      <th>max</th>\n",
       "      <td>3.450000e+07</td>\n",
       "      <td>103.000000</td>\n",
       "      <td>1000000.000000</td>\n",
       "      <td>6.200000</td>\n",
       "      <td>625.000000</td>\n",
       "    </tr>\n",
       "  </tbody>\n",
       "</table>\n",
       "</div>"
      ],
      "text/plain": [
       "              price  years_in_operation         mileage  engine_capacity  \\\n",
       "count  1.705400e+04        17054.000000    17054.000000     17054.000000   \n",
       "mean   1.607883e+06           11.475314   145239.819749         1.944594   \n",
       "std    1.797618e+06            6.972494    92419.328182         0.634980   \n",
       "min    2.255500e+04            1.000000        1.000000         0.000000   \n",
       "25%    6.500000e+05            6.000000    80000.000000         1.600000   \n",
       "50%    1.140000e+06           11.000000   137000.000000         1.600000   \n",
       "75%    1.930000e+06           15.000000   196267.250000         2.000000   \n",
       "max    3.450000e+07          103.000000  1000000.000000         6.200000   \n",
       "\n",
       "       engine_power  \n",
       "count  17054.000000  \n",
       "mean     139.076522  \n",
       "std       59.111816  \n",
       "min       20.000000  \n",
       "25%      105.000000  \n",
       "50%      123.000000  \n",
       "75%      150.000000  \n",
       "max      625.000000  "
      ]
     },
     "execution_count": 45,
     "metadata": {},
     "output_type": "execute_result"
    }
   ],
   "source": [
    "# Посмотрим на описание числовых признаков\n",
    "data.describe()"
   ]
  },
  {
   "cell_type": "markdown",
   "metadata": {},
   "source": [
    "### Обработка выбросов"
   ]
  },
  {
   "cell_type": "markdown",
   "metadata": {},
   "source": [
    "Напишем функцию, которая будет возвращать верхнюю и нижнюю границу усиков `boxplot`"
   ]
  },
  {
   "cell_type": "code",
   "execution_count": 46,
   "metadata": {},
   "outputs": [],
   "source": [
    "def low_up_bounds(feature, coef=1.5):\n",
    "    # Расчитаем длину усиков\n",
    "    q_low = data[feature].quantile(0.25)\n",
    "    q_high = data[feature].quantile(0.75)\n",
    "\n",
    "    tentacle_length = q_high - q_low\n",
    "\n",
    "    # вычислим верхнюю и нижнюю границы\n",
    "    upper_tentacle = q_high + coef * tentacle_length\n",
    "    lower_tentacle = q_low - coef * tentacle_length\n",
    "\n",
    "    return lower_tentacle, upper_tentacle"
   ]
  },
  {
   "cell_type": "markdown",
   "metadata": {},
   "source": [
    "Признак - **years_in_operation**"
   ]
  },
  {
   "cell_type": "code",
   "execution_count": 47,
   "metadata": {},
   "outputs": [
    {
     "data": {
      "image/png": "[encoded data removed]",
      "text/plain": [
       "<Figure size 800x500 with 1 Axes>"
      ]
     },
     "metadata": {},
     "output_type": "display_data"
    }
   ],
   "source": [
    "fig = plt.figure()\n",
    "fig.set_size_inches(8, 5)\n",
    "\n",
    "plt.boxplot(data['years_in_operation'], whis=2)\n",
    "plt.ylabel('years_in_operation')\n",
    "\n",
    "plt.show()"
   ]
  },
  {
   "cell_type": "code",
   "execution_count": 48,
   "metadata": {},
   "outputs": [
    {
     "data": {
      "text/plain": [
       "177"
      ]
     },
     "execution_count": 48,
     "metadata": {},
     "output_type": "execute_result"
    }
   ],
   "source": [
    "# посмотрим, сколько выбросов\n",
    "low_year, up_year = low_up_bounds('years_in_operation', 2)\n",
    "\n",
    "data[data['years_in_operation'] > int(up_year)].shape[0]"
   ]
  },
  {
   "cell_type": "code",
   "execution_count": 49,
   "metadata": {},
   "outputs": [],
   "source": [
    "# удалим выбросы\n",
    "data = data[data['years_in_operation'] <= int(up_year)]"
   ]
  },
  {
   "cell_type": "code",
   "execution_count": 50,
   "metadata": {},
   "outputs": [
    {
     "data": {
      "text/plain": [
       "(16877, 12)"
      ]
     },
     "execution_count": 50,
     "metadata": {},
     "output_type": "execute_result"
    }
   ],
   "source": [
    "data.shape"
   ]
  },
  {
   "cell_type": "markdown",
   "metadata": {},
   "source": [
    "Признак - **mileage**"
   ]
  },
  {
   "cell_type": "code",
   "execution_count": 51,
   "metadata": {},
   "outputs": [
    {
     "data": {
      "image/png": "[encoded data removed]",
      "text/plain": [
       "<Figure size 800x500 with 1 Axes>"
      ]
     },
     "metadata": {},
     "output_type": "display_data"
    }
   ],
   "source": [
    "fig = plt.figure()\n",
    "fig.set_size_inches(8, 5)\n",
    "\n",
    "plt.boxplot(data['mileage'], whis=3)\n",
    "plt.ylabel('mileage')\n",
    "\n",
    "plt.show()"
   ]
  },
  {
   "cell_type": "code",
   "execution_count": 52,
   "metadata": {},
   "outputs": [
    {
     "data": {
      "text/plain": [
       "55"
      ]
     },
     "execution_count": 52,
     "metadata": {},
     "output_type": "execute_result"
    }
   ],
   "source": [
    "# посмотрим, сколько выбросов\n",
    "low, up = low_up_bounds('mileage', 3)\n",
    "\n",
    "data[data['mileage'] >= int(up)].shape[0]"
   ]
  },
  {
   "cell_type": "code",
   "execution_count": 53,
   "metadata": {},
   "outputs": [],
   "source": [
    "# удалим выбросы\n",
    "data = data[data['mileage'] < int(up)]"
   ]
  },
  {
   "cell_type": "code",
   "execution_count": 54,
   "metadata": {},
   "outputs": [
    {
     "data": {
      "text/plain": [
       "(16822, 12)"
      ]
     },
     "execution_count": 54,
     "metadata": {},
     "output_type": "execute_result"
    }
   ],
   "source": [
    "data.shape"
   ]
  },
  {
   "cell_type": "markdown",
   "metadata": {},
   "source": [
    "Признак - **price**"
   ]
  },
  {
   "cell_type": "code",
   "execution_count": 55,
   "metadata": {},
   "outputs": [
    {
     "data": {
      "image/png": "[encoded data removed]",
      "text/plain": [
       "<Figure size 800x500 with 1 Axes>"
      ]
     },
     "metadata": {},
     "output_type": "display_data"
    }
   ],
   "source": [
    "fig = plt.figure()\n",
    "fig.set_size_inches(8, 5)\n",
    "\n",
    "plt.boxplot(data['price'], whis=3)\n",
    "plt.ylabel('price')\n",
    "\n",
    "plt.show()"
   ]
  },
  {
   "cell_type": "code",
   "execution_count": 56,
   "metadata": {},
   "outputs": [
    {
     "data": {
      "text/plain": [
       "459"
      ]
     },
     "execution_count": 56,
     "metadata": {},
     "output_type": "execute_result"
    }
   ],
   "source": [
    "# посмотрим, сколько выбросов\n",
    "low, up = low_up_bounds('price', 3)\n",
    "\n",
    "data[data['price'] >= int(up)].shape[0]"
   ]
  },
  {
   "cell_type": "markdown",
   "metadata": {},
   "source": [
    "По цене будем удалять выбросы с увеличенной длиной усов"
   ]
  },
  {
   "cell_type": "code",
   "execution_count": 57,
   "metadata": {},
   "outputs": [],
   "source": [
    "data = data[data['price'] <= up]"
   ]
  },
  {
   "cell_type": "code",
   "execution_count": 58,
   "metadata": {},
   "outputs": [
    {
     "data": {
      "text/plain": [
       "(16367, 12)"
      ]
     },
     "execution_count": 58,
     "metadata": {},
     "output_type": "execute_result"
    }
   ],
   "source": [
    "data.shape"
   ]
  },
  {
   "cell_type": "markdown",
   "metadata": {},
   "source": [
    "Признаки - **engine_power** и **engine_capacity**"
   ]
  },
  {
   "cell_type": "code",
   "execution_count": 59,
   "metadata": {},
   "outputs": [
    {
     "data": {
      "image/png": "[encoded data removed]",
      "text/plain": [
       "<Figure size 1000x400 with 2 Axes>"
      ]
     },
     "metadata": {},
     "output_type": "display_data"
    }
   ],
   "source": [
    "fig = plt.figure()\n",
    "\n",
    "fig.set_size_inches(10, 4)\n",
    "\n",
    "ax_1 = fig.add_subplot(1, 2, 1)\n",
    "plt.hist(data['engine_power'], bins=data['engine_power'].unique().shape[0])\n",
    "plt.ylim((1, 60))\n",
    "\n",
    "ax_2 = fig.add_subplot(1, 2, 2)\n",
    "plt.hist(data['engine_capacity'], bins=data['engine_capacity'].unique().shape[0])\n",
    "plt.ylim((1, 300))\n",
    "\n",
    "fig.tight_layout()\n",
    "\n",
    "ax_1.set(title = 'Количество авто по мощности')\n",
    "ax_2.set(title = 'Количество авто по объёму двигателя')\n",
    "\n",
    "plt.show()"
   ]
  },
  {
   "cell_type": "markdown",
   "metadata": {},
   "source": [
    "Удалим авто с мощностью больше 500 л.с. и объемом двигателя больше 6 л"
   ]
  },
  {
   "cell_type": "code",
   "execution_count": 60,
   "metadata": {},
   "outputs": [],
   "source": [
    "data = data[(data['engine_power'] <= 500) & (data['engine_capacity'] <= 6)]"
   ]
  },
  {
   "cell_type": "markdown",
   "metadata": {},
   "source": [
    "Посмотрим на матрицу корелляций числовых признаков"
   ]
  },
  {
   "cell_type": "code",
   "execution_count": 61,
   "metadata": {},
   "outputs": [],
   "source": [
    "# берем столбцы, содержащие числовой тип\n",
    "numeric_columns = data.loc[:,data.dtypes!=object].columns"
   ]
  },
  {
   "cell_type": "code",
   "execution_count": 62,
   "metadata": {},
   "outputs": [
    {
     "data": {
      "text/html": [
       "<div>\n",
       "<style scoped>\n",
       "    .dataframe tbody tr th:only-of-type {\n",
       "        vertical-align: middle;\n",
       "    }\n",
       "\n",
       "    .dataframe tbody tr th {\n",
       "        vertical-align: top;\n",
       "    }\n",
       "\n",
       "    .dataframe thead th {\n",
       "        text-align: right;\n",
       "    }\n",
       "</style>\n",
       "<table border=\"1\" class=\"dataframe\">\n",
       "  <thead>\n",
       "    <tr style=\"text-align: right;\">\n",
       "      <th></th>\n",
       "      <th>price</th>\n",
       "      <th>years_in_operation</th>\n",
       "      <th>is_crashed</th>\n",
       "      <th>mileage</th>\n",
       "      <th>engine_capacity</th>\n",
       "      <th>engine_power</th>\n",
       "    </tr>\n",
       "  </thead>\n",
       "  <tbody>\n",
       "    <tr>\n",
       "      <th>price</th>\n",
       "      <td>1.000000</td>\n",
       "      <td>-0.578439</td>\n",
       "      <td>-0.106730</td>\n",
       "      <td>-0.400222</td>\n",
       "      <td>0.400903</td>\n",
       "      <td>0.642576</td>\n",
       "    </tr>\n",
       "    <tr>\n",
       "      <th>years_in_operation</th>\n",
       "      <td>-0.578439</td>\n",
       "      <td>1.000000</td>\n",
       "      <td>0.102565</td>\n",
       "      <td>0.634217</td>\n",
       "      <td>0.089909</td>\n",
       "      <td>-0.120383</td>\n",
       "    </tr>\n",
       "    <tr>\n",
       "      <th>is_crashed</th>\n",
       "      <td>-0.106730</td>\n",
       "      <td>0.102565</td>\n",
       "      <td>1.000000</td>\n",
       "      <td>0.072112</td>\n",
       "      <td>-0.011755</td>\n",
       "      <td>-0.033320</td>\n",
       "    </tr>\n",
       "    <tr>\n",
       "      <th>mileage</th>\n",
       "      <td>-0.400222</td>\n",
       "      <td>0.634217</td>\n",
       "      <td>0.072112</td>\n",
       "      <td>1.000000</td>\n",
       "      <td>0.175917</td>\n",
       "      <td>0.002674</td>\n",
       "    </tr>\n",
       "    <tr>\n",
       "      <th>engine_capacity</th>\n",
       "      <td>0.400903</td>\n",
       "      <td>0.089909</td>\n",
       "      <td>-0.011755</td>\n",
       "      <td>0.175917</td>\n",
       "      <td>1.000000</td>\n",
       "      <td>0.713972</td>\n",
       "    </tr>\n",
       "    <tr>\n",
       "      <th>engine_power</th>\n",
       "      <td>0.642576</td>\n",
       "      <td>-0.120383</td>\n",
       "      <td>-0.033320</td>\n",
       "      <td>0.002674</td>\n",
       "      <td>0.713972</td>\n",
       "      <td>1.000000</td>\n",
       "    </tr>\n",
       "  </tbody>\n",
       "</table>\n",
       "</div>"
      ],
      "text/plain": [
       "                       price  years_in_operation  is_crashed   mileage  \\\n",
       "price               1.000000           -0.578439   -0.106730 -0.400222   \n",
       "years_in_operation -0.578439            1.000000    0.102565  0.634217   \n",
       "is_crashed         -0.106730            0.102565    1.000000  0.072112   \n",
       "mileage            -0.400222            0.634217    0.072112  1.000000   \n",
       "engine_capacity     0.400903            0.089909   -0.011755  0.175917   \n",
       "engine_power        0.642576           -0.120383   -0.033320  0.002674   \n",
       "\n",
       "                    engine_capacity  engine_power  \n",
       "price                      0.400903      0.642576  \n",
       "years_in_operation         0.089909     -0.120383  \n",
       "is_crashed                -0.011755     -0.033320  \n",
       "mileage                    0.175917      0.002674  \n",
       "engine_capacity            1.000000      0.713972  \n",
       "engine_power               0.713972      1.000000  "
      ]
     },
     "execution_count": 62,
     "metadata": {},
     "output_type": "execute_result"
    }
   ],
   "source": [
    "# посмотрим корелляции\n",
    "data[numeric_columns].corr()"
   ]
  },
  {
   "cell_type": "code",
   "execution_count": 63,
   "metadata": {},
   "outputs": [
    {
     "data": {
      "image/png": "[encoded data removed]",
      "text/plain": [
       "<Figure size 500x500 with 2 Axes>"
      ]
     },
     "metadata": {},
     "output_type": "display_data"
    }
   ],
   "source": [
    "# сделаем тепловую карту\n",
    "fig = plt.figure()\n",
    "fig.set_size_inches(5, 5)\n",
    "\n",
    "corr_matrix = data[numeric_columns].corr()\n",
    "\n",
    "sns.heatmap(corr_matrix,\n",
    "            xticklabels=corr_matrix.columns,\n",
    "            yticklabels=corr_matrix.columns,\n",
    "            cmap='bwr',\n",
    "            vmin=-1,\n",
    "            vmax=+1)\n",
    "\n",
    "plt.show()"
   ]
  },
  {
   "cell_type": "markdown",
   "metadata": {},
   "source": [
    "## Обработка категориальных признаков"
   ]
  },
  {
   "cell_type": "markdown",
   "metadata": {},
   "source": [
    "### Признак - **is_crashed**"
   ]
  },
  {
   "cell_type": "code",
   "execution_count": 64,
   "metadata": {},
   "outputs": [
    {
     "data": {
      "image/png": "[encoded data removed]",
      "text/plain": [
       "<Figure size 500x400 with 1 Axes>"
      ]
     },
     "metadata": {},
     "output_type": "display_data"
    }
   ],
   "source": [
    "# проверим зависимость, 1 - машина битая, 0 - не битая\n",
    "fig = plt.figure()\n",
    "\n",
    "fig.set_size_inches(5, 4)\n",
    "\n",
    "plt.bar(sorted(list(data['is_crashed'].unique())),\n",
    "        data.groupby('is_crashed')['price'].mean().values)\n",
    "\n",
    "plt.ylabel('price')\n",
    "\n",
    "plt.show()"
   ]
  },
  {
   "cell_type": "markdown",
   "metadata": {},
   "source": [
    "### Признак - **fuel_type**"
   ]
  },
  {
   "cell_type": "code",
   "execution_count": 65,
   "metadata": {},
   "outputs": [
    {
     "data": {
      "text/plain": [
       "fuel_type\n",
       "бензин     14630\n",
       "дизель      1613\n",
       "гибрид        72\n",
       "электро       26\n",
       "газ           14\n",
       "Name: count, dtype: int64"
      ]
     },
     "execution_count": 65,
     "metadata": {},
     "output_type": "execute_result"
    }
   ],
   "source": [
    "data['fuel_type'].value_counts()"
   ]
  },
  {
   "cell_type": "code",
   "execution_count": 66,
   "metadata": {},
   "outputs": [
    {
     "data": {
      "image/png": "[encoded data removed]",
      "text/plain": [
       "<Figure size 500x400 with 1 Axes>"
      ]
     },
     "metadata": {},
     "output_type": "display_data"
    }
   ],
   "source": [
    "# проверим зависимость\n",
    "fig = plt.figure()\n",
    "\n",
    "fig.set_size_inches(5, 4)\n",
    "\n",
    "plt.bar(sorted(list(data['fuel_type'].unique())),\n",
    "        data.groupby('fuel_type')['price'].mean().values)\n",
    "\n",
    "plt.ylabel('price')\n",
    "\n",
    "plt.show()"
   ]
  },
  {
   "cell_type": "markdown",
   "metadata": {},
   "source": [
    "Так как значения столбцов на русском языке, переименуем названия колонок"
   ]
  },
  {
   "cell_type": "code",
   "execution_count": 67,
   "metadata": {},
   "outputs": [],
   "source": [
    "data.rename(columns={'mark': 'марка', 'name': 'название', 'price': 'цена',\n",
    "            'years_in_operation': 'лет в эксплуатации', 'is_crashed': 'битый', 'mileage': 'пробег', \n",
    "            'fuel_type': 'тип топлива', 'drive': 'привод', 'body_type': 'тип кузова', 'engine_capacity': 'объем двигателя',\n",
    "            'transmission_type': 'тип трансмиссии', 'engine_power': 'мощность двигателя'}, inplace=True)"
   ]
  },
  {
   "cell_type": "code",
   "execution_count": 68,
   "metadata": {},
   "outputs": [],
   "source": [
    "# декодируем признак с помощью One Hot\n",
    "fuel_types = pd.get_dummies(data['тип топлива'], prefix='тип топлива', prefix_sep=' - ')"
   ]
  },
  {
   "cell_type": "code",
   "execution_count": 69,
   "metadata": {},
   "outputs": [],
   "source": [
    "# добавим новые столбы, удалим лишние для устранения мультиколлинеарности\n",
    "data = pd.concat([data, fuel_types], axis=1).drop(columns=['тип топлива', 'тип топлива - электро'])"
   ]
  },
  {
   "cell_type": "code",
   "execution_count": 70,
   "metadata": {},
   "outputs": [
    {
     "data": {
      "text/html": [
       "<div>\n",
       "<style scoped>\n",
       "    .dataframe tbody tr th:only-of-type {\n",
       "        vertical-align: middle;\n",
       "    }\n",
       "\n",
       "    .dataframe tbody tr th {\n",
       "        vertical-align: top;\n",
       "    }\n",
       "\n",
       "    .dataframe thead th {\n",
       "        text-align: right;\n",
       "    }\n",
       "</style>\n",
       "<table border=\"1\" class=\"dataframe\">\n",
       "  <thead>\n",
       "    <tr style=\"text-align: right;\">\n",
       "      <th></th>\n",
       "      <th>марка</th>\n",
       "      <th>название</th>\n",
       "      <th>цена</th>\n",
       "      <th>лет в эксплуатации</th>\n",
       "      <th>битый</th>\n",
       "      <th>пробег</th>\n",
       "      <th>привод</th>\n",
       "      <th>тип кузова</th>\n",
       "      <th>объем двигателя</th>\n",
       "      <th>тип трансмиссии</th>\n",
       "      <th>мощность двигателя</th>\n",
       "      <th>тип топлива - бензин</th>\n",
       "      <th>тип топлива - газ</th>\n",
       "      <th>тип топлива - гибрид</th>\n",
       "      <th>тип топлива - дизель</th>\n",
       "    </tr>\n",
       "    <tr>\n",
       "      <th>id</th>\n",
       "      <th></th>\n",
       "      <th></th>\n",
       "      <th></th>\n",
       "      <th></th>\n",
       "      <th></th>\n",
       "      <th></th>\n",
       "      <th></th>\n",
       "      <th></th>\n",
       "      <th></th>\n",
       "      <th></th>\n",
       "      <th></th>\n",
       "      <th></th>\n",
       "      <th></th>\n",
       "      <th></th>\n",
       "      <th></th>\n",
       "    </tr>\n",
       "  </thead>\n",
       "  <tbody>\n",
       "    <tr>\n",
       "      <th>i4369956682</th>\n",
       "      <td>Nissan</td>\n",
       "      <td>Nissan Qashqai</td>\n",
       "      <td>760000</td>\n",
       "      <td>17</td>\n",
       "      <td>False</td>\n",
       "      <td>262003</td>\n",
       "      <td>передний</td>\n",
       "      <td>внедорожник</td>\n",
       "      <td>1.6</td>\n",
       "      <td>MT</td>\n",
       "      <td>114</td>\n",
       "      <td>True</td>\n",
       "      <td>False</td>\n",
       "      <td>False</td>\n",
       "      <td>False</td>\n",
       "    </tr>\n",
       "    <tr>\n",
       "      <th>i4228965121</th>\n",
       "      <td>Nissan</td>\n",
       "      <td>Nissan Qashqai</td>\n",
       "      <td>749000</td>\n",
       "      <td>17</td>\n",
       "      <td>False</td>\n",
       "      <td>217000</td>\n",
       "      <td>передний</td>\n",
       "      <td>внедорожник</td>\n",
       "      <td>1.6</td>\n",
       "      <td>MT</td>\n",
       "      <td>114</td>\n",
       "      <td>True</td>\n",
       "      <td>False</td>\n",
       "      <td>False</td>\n",
       "      <td>False</td>\n",
       "    </tr>\n",
       "    <tr>\n",
       "      <th>i4192611392</th>\n",
       "      <td>ВАЗ (LADA)</td>\n",
       "      <td>ВАЗ (LADA) Granta</td>\n",
       "      <td>425000</td>\n",
       "      <td>9</td>\n",
       "      <td>False</td>\n",
       "      <td>190880</td>\n",
       "      <td>передний</td>\n",
       "      <td>седан</td>\n",
       "      <td>1.6</td>\n",
       "      <td>MT</td>\n",
       "      <td>87</td>\n",
       "      <td>True</td>\n",
       "      <td>False</td>\n",
       "      <td>False</td>\n",
       "      <td>False</td>\n",
       "    </tr>\n",
       "    <tr>\n",
       "      <th>i4010992841</th>\n",
       "      <td>Nissan</td>\n",
       "      <td>Nissan X-Trail</td>\n",
       "      <td>1360000</td>\n",
       "      <td>13</td>\n",
       "      <td>False</td>\n",
       "      <td>143709</td>\n",
       "      <td>полный</td>\n",
       "      <td>внедорожник</td>\n",
       "      <td>2.0</td>\n",
       "      <td>CVT</td>\n",
       "      <td>141</td>\n",
       "      <td>True</td>\n",
       "      <td>False</td>\n",
       "      <td>False</td>\n",
       "      <td>False</td>\n",
       "    </tr>\n",
       "    <tr>\n",
       "      <th>i4025185265</th>\n",
       "      <td>Honda</td>\n",
       "      <td>Honda Stepwgn</td>\n",
       "      <td>2729999</td>\n",
       "      <td>6</td>\n",
       "      <td>False</td>\n",
       "      <td>78609</td>\n",
       "      <td>передний</td>\n",
       "      <td>минивэн</td>\n",
       "      <td>1.5</td>\n",
       "      <td>CVT</td>\n",
       "      <td>150</td>\n",
       "      <td>True</td>\n",
       "      <td>False</td>\n",
       "      <td>False</td>\n",
       "      <td>False</td>\n",
       "    </tr>\n",
       "  </tbody>\n",
       "</table>\n",
       "</div>"
      ],
      "text/plain": [
       "                  марка           название     цена  лет в эксплуатации  \\\n",
       "id                                                                        \n",
       "i4369956682      Nissan     Nissan Qashqai   760000                  17   \n",
       "i4228965121      Nissan     Nissan Qashqai   749000                  17   \n",
       "i4192611392  ВАЗ (LADA)  ВАЗ (LADA) Granta   425000                   9   \n",
       "i4010992841      Nissan     Nissan X-Trail  1360000                  13   \n",
       "i4025185265       Honda      Honda Stepwgn  2729999                   6   \n",
       "\n",
       "             битый  пробег    привод   тип кузова  объем двигателя  \\\n",
       "id                                                                   \n",
       "i4369956682  False  262003  передний  внедорожник              1.6   \n",
       "i4228965121  False  217000  передний  внедорожник              1.6   \n",
       "i4192611392  False  190880  передний        седан              1.6   \n",
       "i4010992841  False  143709    полный  внедорожник              2.0   \n",
       "i4025185265  False   78609  передний      минивэн              1.5   \n",
       "\n",
       "            тип трансмиссии  мощность двигателя  тип топлива - бензин  \\\n",
       "id                                                                      \n",
       "i4369956682              MT                 114                  True   \n",
       "i4228965121              MT                 114                  True   \n",
       "i4192611392              MT                  87                  True   \n",
       "i4010992841             CVT                 141                  True   \n",
       "i4025185265             CVT                 150                  True   \n",
       "\n",
       "             тип топлива - газ  тип топлива - гибрид  тип топлива - дизель  \n",
       "id                                                                          \n",
       "i4369956682              False                 False                 False  \n",
       "i4228965121              False                 False                 False  \n",
       "i4192611392              False                 False                 False  \n",
       "i4010992841              False                 False                 False  \n",
       "i4025185265              False                 False                 False  "
      ]
     },
     "execution_count": 70,
     "metadata": {},
     "output_type": "execute_result"
    }
   ],
   "source": [
    "data.sample(n=5)"
   ]
  },
  {
   "cell_type": "markdown",
   "metadata": {},
   "source": [
    "### Признак - **тип трансмиссии**"
   ]
  },
  {
   "cell_type": "code",
   "execution_count": 71,
   "metadata": {},
   "outputs": [
    {
     "data": {
      "text/plain": [
       "тип трансмиссии\n",
       "MT     7828\n",
       "AT     5840\n",
       "CVT    1410\n",
       "AMT    1277\n",
       "Name: count, dtype: int64"
      ]
     },
     "execution_count": 71,
     "metadata": {},
     "output_type": "execute_result"
    }
   ],
   "source": [
    "data['тип трансмиссии'].value_counts()"
   ]
  },
  {
   "cell_type": "code",
   "execution_count": 72,
   "metadata": {},
   "outputs": [
    {
     "data": {
      "image/png": "[encoded data removed]",
      "text/plain": [
       "<Figure size 500x400 with 1 Axes>"
      ]
     },
     "metadata": {},
     "output_type": "display_data"
    }
   ],
   "source": [
    "# проверим зависимость\n",
    "fig = plt.figure()\n",
    "\n",
    "fig.set_size_inches(5, 4)\n",
    "\n",
    "plt.bar(sorted(list(data['тип трансмиссии'].unique())),\n",
    "        data.groupby('тип трансмиссии')['цена'].mean().values)\n",
    "\n",
    "plt.ylabel('цена')\n",
    "\n",
    "plt.show()"
   ]
  },
  {
   "cell_type": "code",
   "execution_count": 73,
   "metadata": {},
   "outputs": [],
   "source": [
    "# декодируем признак с помощью One Hot\n",
    "encoded = pd.get_dummies(data['тип трансмиссии'], prefix='тип трансмиссии', prefix_sep=' - ')"
   ]
  },
  {
   "cell_type": "code",
   "execution_count": 74,
   "metadata": {},
   "outputs": [],
   "source": [
    "# добавим новые столбы, удалим лишние для устранения мультиколлинеарности\n",
    "data = pd.concat([data, encoded], axis=1).drop(columns=['тип трансмиссии', 'тип трансмиссии - AMT'])"
   ]
  },
  {
   "cell_type": "code",
   "execution_count": 75,
   "metadata": {},
   "outputs": [
    {
     "data": {
      "text/html": [
       "<div>\n",
       "<style scoped>\n",
       "    .dataframe tbody tr th:only-of-type {\n",
       "        vertical-align: middle;\n",
       "    }\n",
       "\n",
       "    .dataframe tbody tr th {\n",
       "        vertical-align: top;\n",
       "    }\n",
       "\n",
       "    .dataframe thead th {\n",
       "        text-align: right;\n",
       "    }\n",
       "</style>\n",
       "<table border=\"1\" class=\"dataframe\">\n",
       "  <thead>\n",
       "    <tr style=\"text-align: right;\">\n",
       "      <th></th>\n",
       "      <th>марка</th>\n",
       "      <th>название</th>\n",
       "      <th>цена</th>\n",
       "      <th>лет в эксплуатации</th>\n",
       "      <th>битый</th>\n",
       "      <th>пробег</th>\n",
       "      <th>привод</th>\n",
       "      <th>тип кузова</th>\n",
       "      <th>объем двигателя</th>\n",
       "      <th>мощность двигателя</th>\n",
       "      <th>тип топлива - бензин</th>\n",
       "      <th>тип топлива - газ</th>\n",
       "      <th>тип топлива - гибрид</th>\n",
       "      <th>тип топлива - дизель</th>\n",
       "      <th>тип трансмиссии - AT</th>\n",
       "      <th>тип трансмиссии - CVT</th>\n",
       "      <th>тип трансмиссии - MT</th>\n",
       "    </tr>\n",
       "    <tr>\n",
       "      <th>id</th>\n",
       "      <th></th>\n",
       "      <th></th>\n",
       "      <th></th>\n",
       "      <th></th>\n",
       "      <th></th>\n",
       "      <th></th>\n",
       "      <th></th>\n",
       "      <th></th>\n",
       "      <th></th>\n",
       "      <th></th>\n",
       "      <th></th>\n",
       "      <th></th>\n",
       "      <th></th>\n",
       "      <th></th>\n",
       "      <th></th>\n",
       "      <th></th>\n",
       "      <th></th>\n",
       "    </tr>\n",
       "  </thead>\n",
       "  <tbody>\n",
       "    <tr>\n",
       "      <th>i4161476366</th>\n",
       "      <td>ВАЗ (LADA)</td>\n",
       "      <td>ВАЗ (LADA) 2114 Samara</td>\n",
       "      <td>235000</td>\n",
       "      <td>14</td>\n",
       "      <td>False</td>\n",
       "      <td>179665</td>\n",
       "      <td>передний</td>\n",
       "      <td>хетчбэк</td>\n",
       "      <td>1.6</td>\n",
       "      <td>81</td>\n",
       "      <td>True</td>\n",
       "      <td>False</td>\n",
       "      <td>False</td>\n",
       "      <td>False</td>\n",
       "      <td>False</td>\n",
       "      <td>False</td>\n",
       "      <td>True</td>\n",
       "    </tr>\n",
       "    <tr>\n",
       "      <th>i3939513091</th>\n",
       "      <td>УАЗ</td>\n",
       "      <td>УАЗ 3909</td>\n",
       "      <td>120000</td>\n",
       "      <td>27</td>\n",
       "      <td>False</td>\n",
       "      <td>100000</td>\n",
       "      <td>полный</td>\n",
       "      <td>микроавтобус</td>\n",
       "      <td>2.9</td>\n",
       "      <td>74</td>\n",
       "      <td>True</td>\n",
       "      <td>False</td>\n",
       "      <td>False</td>\n",
       "      <td>False</td>\n",
       "      <td>False</td>\n",
       "      <td>False</td>\n",
       "      <td>True</td>\n",
       "    </tr>\n",
       "    <tr>\n",
       "      <th>i4024123368</th>\n",
       "      <td>Volkswagen</td>\n",
       "      <td>Volkswagen Tiguan</td>\n",
       "      <td>1500000</td>\n",
       "      <td>12</td>\n",
       "      <td>False</td>\n",
       "      <td>185000</td>\n",
       "      <td>полный</td>\n",
       "      <td>внедорожник</td>\n",
       "      <td>2.0</td>\n",
       "      <td>170</td>\n",
       "      <td>True</td>\n",
       "      <td>False</td>\n",
       "      <td>False</td>\n",
       "      <td>False</td>\n",
       "      <td>True</td>\n",
       "      <td>False</td>\n",
       "      <td>False</td>\n",
       "    </tr>\n",
       "    <tr>\n",
       "      <th>i4311534092</th>\n",
       "      <td>Kia</td>\n",
       "      <td>Kia Sportage</td>\n",
       "      <td>2220000</td>\n",
       "      <td>8</td>\n",
       "      <td>False</td>\n",
       "      <td>69000</td>\n",
       "      <td>полный</td>\n",
       "      <td>внедорожник</td>\n",
       "      <td>2.0</td>\n",
       "      <td>150</td>\n",
       "      <td>True</td>\n",
       "      <td>False</td>\n",
       "      <td>False</td>\n",
       "      <td>False</td>\n",
       "      <td>True</td>\n",
       "      <td>False</td>\n",
       "      <td>False</td>\n",
       "    </tr>\n",
       "    <tr>\n",
       "      <th>i3975850358</th>\n",
       "      <td>Mitsubishi</td>\n",
       "      <td>Mitsubishi ASX</td>\n",
       "      <td>999000</td>\n",
       "      <td>12</td>\n",
       "      <td>False</td>\n",
       "      <td>250844</td>\n",
       "      <td>передний</td>\n",
       "      <td>внедорожник</td>\n",
       "      <td>1.8</td>\n",
       "      <td>140</td>\n",
       "      <td>True</td>\n",
       "      <td>False</td>\n",
       "      <td>False</td>\n",
       "      <td>False</td>\n",
       "      <td>False</td>\n",
       "      <td>True</td>\n",
       "      <td>False</td>\n",
       "    </tr>\n",
       "  </tbody>\n",
       "</table>\n",
       "</div>"
      ],
      "text/plain": [
       "                  марка                название     цена  лет в эксплуатации  \\\n",
       "id                                                                             \n",
       "i4161476366  ВАЗ (LADA)  ВАЗ (LADA) 2114 Samara   235000                  14   \n",
       "i3939513091         УАЗ                УАЗ 3909   120000                  27   \n",
       "i4024123368  Volkswagen       Volkswagen Tiguan  1500000                  12   \n",
       "i4311534092         Kia            Kia Sportage  2220000                   8   \n",
       "i3975850358  Mitsubishi          Mitsubishi ASX   999000                  12   \n",
       "\n",
       "             битый  пробег    привод    тип кузова  объем двигателя  \\\n",
       "id                                                                    \n",
       "i4161476366  False  179665  передний       хетчбэк              1.6   \n",
       "i3939513091  False  100000    полный  микроавтобус              2.9   \n",
       "i4024123368  False  185000    полный   внедорожник              2.0   \n",
       "i4311534092  False   69000    полный   внедорожник              2.0   \n",
       "i3975850358  False  250844  передний   внедорожник              1.8   \n",
       "\n",
       "             мощность двигателя  тип топлива - бензин  тип топлива - газ  \\\n",
       "id                                                                         \n",
       "i4161476366                  81                  True              False   \n",
       "i3939513091                  74                  True              False   \n",
       "i4024123368                 170                  True              False   \n",
       "i4311534092                 150                  True              False   \n",
       "i3975850358                 140                  True              False   \n",
       "\n",
       "             тип топлива - гибрид  тип топлива - дизель  тип трансмиссии - AT  \\\n",
       "id                                                                              \n",
       "i4161476366                 False                 False                 False   \n",
       "i3939513091                 False                 False                 False   \n",
       "i4024123368                 False                 False                  True   \n",
       "i4311534092                 False                 False                  True   \n",
       "i3975850358                 False                 False                 False   \n",
       "\n",
       "             тип трансмиссии - CVT  тип трансмиссии - MT  \n",
       "id                                                        \n",
       "i4161476366                  False                  True  \n",
       "i3939513091                  False                  True  \n",
       "i4024123368                  False                 False  \n",
       "i4311534092                  False                 False  \n",
       "i3975850358                   True                 False  "
      ]
     },
     "execution_count": 75,
     "metadata": {},
     "output_type": "execute_result"
    }
   ],
   "source": [
    "data.sample(n=5)"
   ]
  },
  {
   "cell_type": "markdown",
   "metadata": {},
   "source": [
    "### Признак - **тип кузова**"
   ]
  },
  {
   "cell_type": "code",
   "execution_count": 76,
   "metadata": {},
   "outputs": [
    {
     "data": {
      "text/plain": [
       "тип кузова\n",
       "внедорожник     5796\n",
       "седан           5498\n",
       "хетчбэк         2300\n",
       "универсал        727\n",
       "фургон           646\n",
       "лифтбек          637\n",
       "минивэн          304\n",
       "пикап            229\n",
       "микроавтобус     139\n",
       "купе              62\n",
       "кабриолет         17\n",
       "Name: count, dtype: int64"
      ]
     },
     "execution_count": 76,
     "metadata": {},
     "output_type": "execute_result"
    }
   ],
   "source": [
    "data['тип кузова'].value_counts()"
   ]
  },
  {
   "cell_type": "code",
   "execution_count": 77,
   "metadata": {},
   "outputs": [
    {
     "data": {
      "image/png": "[encoded data removed]",
      "text/plain": [
       "<Figure size 1000x400 with 1 Axes>"
      ]
     },
     "metadata": {},
     "output_type": "display_data"
    }
   ],
   "source": [
    "# проверим зависимость\n",
    "fig = plt.figure()\n",
    "\n",
    "fig.set_size_inches(10, 4)\n",
    "\n",
    "plt.bar(sorted(list(data['тип кузова'].unique())),\n",
    "        data.groupby('тип кузова')['цена'].mean().values)\n",
    "\n",
    "plt.ylabel('цена')\n",
    "plt.xticks(rotation=40)\n",
    "\n",
    "plt.show()"
   ]
  },
  {
   "cell_type": "code",
   "execution_count": 78,
   "metadata": {},
   "outputs": [],
   "source": [
    "# декодируем признак с помощью One Hot\n",
    "encoded = pd.get_dummies(data['тип кузова'], prefix='тип кузова', prefix_sep=' - ')"
   ]
  },
  {
   "cell_type": "code",
   "execution_count": 79,
   "metadata": {},
   "outputs": [],
   "source": [
    "# добавим новые столбы, удалим лишние для устранения мультиколлинеарности\n",
    "data = pd.concat([data, encoded], axis=1).drop(columns=['тип кузова', 'тип кузова - кабриолет'])"
   ]
  },
  {
   "cell_type": "code",
   "execution_count": 80,
   "metadata": {},
   "outputs": [
    {
     "data": {
      "text/html": [
       "<div>\n",
       "<style scoped>\n",
       "    .dataframe tbody tr th:only-of-type {\n",
       "        vertical-align: middle;\n",
       "    }\n",
       "\n",
       "    .dataframe tbody tr th {\n",
       "        vertical-align: top;\n",
       "    }\n",
       "\n",
       "    .dataframe thead th {\n",
       "        text-align: right;\n",
       "    }\n",
       "</style>\n",
       "<table border=\"1\" class=\"dataframe\">\n",
       "  <thead>\n",
       "    <tr style=\"text-align: right;\">\n",
       "      <th></th>\n",
       "      <th>марка</th>\n",
       "      <th>название</th>\n",
       "      <th>цена</th>\n",
       "      <th>лет в эксплуатации</th>\n",
       "      <th>битый</th>\n",
       "      <th>пробег</th>\n",
       "      <th>привод</th>\n",
       "      <th>объем двигателя</th>\n",
       "      <th>мощность двигателя</th>\n",
       "      <th>тип топлива - бензин</th>\n",
       "      <th>...</th>\n",
       "      <th>тип кузова - внедорожник</th>\n",
       "      <th>тип кузова - купе</th>\n",
       "      <th>тип кузова - лифтбек</th>\n",
       "      <th>тип кузова - микроавтобус</th>\n",
       "      <th>тип кузова - минивэн</th>\n",
       "      <th>тип кузова - пикап</th>\n",
       "      <th>тип кузова - седан</th>\n",
       "      <th>тип кузова - универсал</th>\n",
       "      <th>тип кузова - фургон</th>\n",
       "      <th>тип кузова - хетчбэк</th>\n",
       "    </tr>\n",
       "    <tr>\n",
       "      <th>id</th>\n",
       "      <th></th>\n",
       "      <th></th>\n",
       "      <th></th>\n",
       "      <th></th>\n",
       "      <th></th>\n",
       "      <th></th>\n",
       "      <th></th>\n",
       "      <th></th>\n",
       "      <th></th>\n",
       "      <th></th>\n",
       "      <th></th>\n",
       "      <th></th>\n",
       "      <th></th>\n",
       "      <th></th>\n",
       "      <th></th>\n",
       "      <th></th>\n",
       "      <th></th>\n",
       "      <th></th>\n",
       "      <th></th>\n",
       "      <th></th>\n",
       "      <th></th>\n",
       "    </tr>\n",
       "  </thead>\n",
       "  <tbody>\n",
       "    <tr>\n",
       "      <th>i3918328019</th>\n",
       "      <td>Chevrolet</td>\n",
       "      <td>Chevrolet Lacetti</td>\n",
       "      <td>550000</td>\n",
       "      <td>14</td>\n",
       "      <td>False</td>\n",
       "      <td>139000</td>\n",
       "      <td>передний</td>\n",
       "      <td>1.4</td>\n",
       "      <td>94</td>\n",
       "      <td>True</td>\n",
       "      <td>...</td>\n",
       "      <td>False</td>\n",
       "      <td>False</td>\n",
       "      <td>False</td>\n",
       "      <td>False</td>\n",
       "      <td>False</td>\n",
       "      <td>False</td>\n",
       "      <td>True</td>\n",
       "      <td>False</td>\n",
       "      <td>False</td>\n",
       "      <td>False</td>\n",
       "    </tr>\n",
       "    <tr>\n",
       "      <th>i4075660116</th>\n",
       "      <td>ВАЗ (LADA)</td>\n",
       "      <td>ВАЗ (LADA) Largus</td>\n",
       "      <td>1290000</td>\n",
       "      <td>4</td>\n",
       "      <td>False</td>\n",
       "      <td>111931</td>\n",
       "      <td>передний</td>\n",
       "      <td>1.6</td>\n",
       "      <td>90</td>\n",
       "      <td>True</td>\n",
       "      <td>...</td>\n",
       "      <td>False</td>\n",
       "      <td>False</td>\n",
       "      <td>False</td>\n",
       "      <td>False</td>\n",
       "      <td>False</td>\n",
       "      <td>False</td>\n",
       "      <td>False</td>\n",
       "      <td>False</td>\n",
       "      <td>True</td>\n",
       "      <td>False</td>\n",
       "    </tr>\n",
       "    <tr>\n",
       "      <th>i3948392109</th>\n",
       "      <td>ГАЗ</td>\n",
       "      <td>ГАЗ ГАЗель Next</td>\n",
       "      <td>2070000</td>\n",
       "      <td>7</td>\n",
       "      <td>False</td>\n",
       "      <td>297125</td>\n",
       "      <td>задний</td>\n",
       "      <td>2.7</td>\n",
       "      <td>107</td>\n",
       "      <td>True</td>\n",
       "      <td>...</td>\n",
       "      <td>False</td>\n",
       "      <td>False</td>\n",
       "      <td>False</td>\n",
       "      <td>False</td>\n",
       "      <td>False</td>\n",
       "      <td>False</td>\n",
       "      <td>False</td>\n",
       "      <td>False</td>\n",
       "      <td>True</td>\n",
       "      <td>False</td>\n",
       "    </tr>\n",
       "    <tr>\n",
       "      <th>i4160725829</th>\n",
       "      <td>Nissan</td>\n",
       "      <td>Nissan Tiida</td>\n",
       "      <td>600000</td>\n",
       "      <td>18</td>\n",
       "      <td>False</td>\n",
       "      <td>203000</td>\n",
       "      <td>передний</td>\n",
       "      <td>1.6</td>\n",
       "      <td>110</td>\n",
       "      <td>True</td>\n",
       "      <td>...</td>\n",
       "      <td>False</td>\n",
       "      <td>False</td>\n",
       "      <td>False</td>\n",
       "      <td>False</td>\n",
       "      <td>False</td>\n",
       "      <td>False</td>\n",
       "      <td>False</td>\n",
       "      <td>False</td>\n",
       "      <td>False</td>\n",
       "      <td>True</td>\n",
       "    </tr>\n",
       "    <tr>\n",
       "      <th>i4074575230</th>\n",
       "      <td>ВАЗ (LADA)</td>\n",
       "      <td>ВАЗ (LADA) Kalina</td>\n",
       "      <td>350000</td>\n",
       "      <td>16</td>\n",
       "      <td>False</td>\n",
       "      <td>72000</td>\n",
       "      <td>передний</td>\n",
       "      <td>1.4</td>\n",
       "      <td>89</td>\n",
       "      <td>True</td>\n",
       "      <td>...</td>\n",
       "      <td>False</td>\n",
       "      <td>False</td>\n",
       "      <td>False</td>\n",
       "      <td>False</td>\n",
       "      <td>False</td>\n",
       "      <td>False</td>\n",
       "      <td>True</td>\n",
       "      <td>False</td>\n",
       "      <td>False</td>\n",
       "      <td>False</td>\n",
       "    </tr>\n",
       "  </tbody>\n",
       "</table>\n",
       "<p>5 rows × 26 columns</p>\n",
       "</div>"
      ],
      "text/plain": [
       "                  марка           название     цена  лет в эксплуатации  \\\n",
       "id                                                                        \n",
       "i3918328019   Chevrolet  Chevrolet Lacetti   550000                  14   \n",
       "i4075660116  ВАЗ (LADA)  ВАЗ (LADA) Largus  1290000                   4   \n",
       "i3948392109         ГАЗ    ГАЗ ГАЗель Next  2070000                   7   \n",
       "i4160725829      Nissan       Nissan Tiida   600000                  18   \n",
       "i4074575230  ВАЗ (LADA)  ВАЗ (LADA) Kalina   350000                  16   \n",
       "\n",
       "             битый  пробег    привод  объем двигателя  мощность двигателя  \\\n",
       "id                                                                          \n",
       "i3918328019  False  139000  передний              1.4                  94   \n",
       "i4075660116  False  111931  передний              1.6                  90   \n",
       "i3948392109  False  297125    задний              2.7                 107   \n",
       "i4160725829  False  203000  передний              1.6                 110   \n",
       "i4074575230  False   72000  передний              1.4                  89   \n",
       "\n",
       "             тип топлива - бензин  ...  тип кузова - внедорожник  \\\n",
       "id                                 ...                             \n",
       "i3918328019                  True  ...                     False   \n",
       "i4075660116                  True  ...                     False   \n",
       "i3948392109                  True  ...                     False   \n",
       "i4160725829                  True  ...                     False   \n",
       "i4074575230                  True  ...                     False   \n",
       "\n",
       "             тип кузова - купе  тип кузова - лифтбек  \\\n",
       "id                                                     \n",
       "i3918328019              False                 False   \n",
       "i4075660116              False                 False   \n",
       "i3948392109              False                 False   \n",
       "i4160725829              False                 False   \n",
       "i4074575230              False                 False   \n",
       "\n",
       "             тип кузова - микроавтобус  тип кузова - минивэн  \\\n",
       "id                                                             \n",
       "i3918328019                      False                 False   \n",
       "i4075660116                      False                 False   \n",
       "i3948392109                      False                 False   \n",
       "i4160725829                      False                 False   \n",
       "i4074575230                      False                 False   \n",
       "\n",
       "             тип кузова - пикап  тип кузова - седан  тип кузова - универсал  \\\n",
       "id                                                                            \n",
       "i3918328019               False                True                   False   \n",
       "i4075660116               False               False                   False   \n",
       "i3948392109               False               False                   False   \n",
       "i4160725829               False               False                   False   \n",
       "i4074575230               False                True                   False   \n",
       "\n",
       "             тип кузова - фургон  тип кузова - хетчбэк  \n",
       "id                                                      \n",
       "i3918328019                False                 False  \n",
       "i4075660116                 True                 False  \n",
       "i3948392109                 True                 False  \n",
       "i4160725829                False                  True  \n",
       "i4074575230                False                 False  \n",
       "\n",
       "[5 rows x 26 columns]"
      ]
     },
     "execution_count": 80,
     "metadata": {},
     "output_type": "execute_result"
    }
   ],
   "source": [
    "data.sample(n=5)"
   ]
  },
  {
   "cell_type": "markdown",
   "metadata": {},
   "source": [
    "### Признак - **привод**"
   ]
  },
  {
   "cell_type": "code",
   "execution_count": 81,
   "metadata": {},
   "outputs": [
    {
     "data": {
      "text/plain": [
       "привод\n",
       "передний    10272\n",
       "полный       4940\n",
       "задний       1143\n",
       "Name: count, dtype: int64"
      ]
     },
     "execution_count": 81,
     "metadata": {},
     "output_type": "execute_result"
    }
   ],
   "source": [
    "data['привод'].value_counts()"
   ]
  },
  {
   "cell_type": "code",
   "execution_count": 82,
   "metadata": {},
   "outputs": [
    {
     "data": {
      "image/png": "[encoded data removed]",
      "text/plain": [
       "<Figure size 500x400 with 1 Axes>"
      ]
     },
     "metadata": {},
     "output_type": "display_data"
    }
   ],
   "source": [
    "# проверим зависимость\n",
    "fig = plt.figure()\n",
    "\n",
    "fig.set_size_inches(5, 4)\n",
    "\n",
    "plt.bar(sorted(list(data['привод'].unique())),\n",
    "        data.groupby('привод')['цена'].mean().values)\n",
    "\n",
    "plt.ylabel('цена')\n",
    "\n",
    "plt.show()"
   ]
  },
  {
   "cell_type": "code",
   "execution_count": 83,
   "metadata": {},
   "outputs": [],
   "source": [
    "# декодируем признак с помощью One Hot\n",
    "encoded = pd.get_dummies(data['привод'], prefix='привод', prefix_sep=' - ')"
   ]
  },
  {
   "cell_type": "code",
   "execution_count": 84,
   "metadata": {},
   "outputs": [],
   "source": [
    "# добавим новые столбы, удалим лишние для устранения мультиколлинеарности\n",
    "data = pd.concat([data, encoded], axis=1).drop(columns=['привод', 'привод - полный'])"
   ]
  },
  {
   "cell_type": "code",
   "execution_count": 85,
   "metadata": {},
   "outputs": [
    {
     "data": {
      "text/html": [
       "<div>\n",
       "<style scoped>\n",
       "    .dataframe tbody tr th:only-of-type {\n",
       "        vertical-align: middle;\n",
       "    }\n",
       "\n",
       "    .dataframe tbody tr th {\n",
       "        vertical-align: top;\n",
       "    }\n",
       "\n",
       "    .dataframe thead th {\n",
       "        text-align: right;\n",
       "    }\n",
       "</style>\n",
       "<table border=\"1\" class=\"dataframe\">\n",
       "  <thead>\n",
       "    <tr style=\"text-align: right;\">\n",
       "      <th></th>\n",
       "      <th>марка</th>\n",
       "      <th>название</th>\n",
       "      <th>цена</th>\n",
       "      <th>лет в эксплуатации</th>\n",
       "      <th>битый</th>\n",
       "      <th>пробег</th>\n",
       "      <th>объем двигателя</th>\n",
       "      <th>мощность двигателя</th>\n",
       "      <th>тип топлива - бензин</th>\n",
       "      <th>тип топлива - газ</th>\n",
       "      <th>...</th>\n",
       "      <th>тип кузова - лифтбек</th>\n",
       "      <th>тип кузова - микроавтобус</th>\n",
       "      <th>тип кузова - минивэн</th>\n",
       "      <th>тип кузова - пикап</th>\n",
       "      <th>тип кузова - седан</th>\n",
       "      <th>тип кузова - универсал</th>\n",
       "      <th>тип кузова - фургон</th>\n",
       "      <th>тип кузова - хетчбэк</th>\n",
       "      <th>привод - задний</th>\n",
       "      <th>привод - передний</th>\n",
       "    </tr>\n",
       "    <tr>\n",
       "      <th>id</th>\n",
       "      <th></th>\n",
       "      <th></th>\n",
       "      <th></th>\n",
       "      <th></th>\n",
       "      <th></th>\n",
       "      <th></th>\n",
       "      <th></th>\n",
       "      <th></th>\n",
       "      <th></th>\n",
       "      <th></th>\n",
       "      <th></th>\n",
       "      <th></th>\n",
       "      <th></th>\n",
       "      <th></th>\n",
       "      <th></th>\n",
       "      <th></th>\n",
       "      <th></th>\n",
       "      <th></th>\n",
       "      <th></th>\n",
       "      <th></th>\n",
       "      <th></th>\n",
       "    </tr>\n",
       "  </thead>\n",
       "  <tbody>\n",
       "    <tr>\n",
       "      <th>i4229522095</th>\n",
       "      <td>Toyota</td>\n",
       "      <td>Toyota Yaris</td>\n",
       "      <td>209000</td>\n",
       "      <td>26</td>\n",
       "      <td>False</td>\n",
       "      <td>176000</td>\n",
       "      <td>1.0</td>\n",
       "      <td>68</td>\n",
       "      <td>True</td>\n",
       "      <td>False</td>\n",
       "      <td>...</td>\n",
       "      <td>False</td>\n",
       "      <td>False</td>\n",
       "      <td>False</td>\n",
       "      <td>False</td>\n",
       "      <td>False</td>\n",
       "      <td>False</td>\n",
       "      <td>False</td>\n",
       "      <td>True</td>\n",
       "      <td>False</td>\n",
       "      <td>True</td>\n",
       "    </tr>\n",
       "    <tr>\n",
       "      <th>i4093501171</th>\n",
       "      <td>Mitsubishi</td>\n",
       "      <td>Mitsubishi Lancer</td>\n",
       "      <td>800000</td>\n",
       "      <td>18</td>\n",
       "      <td>False</td>\n",
       "      <td>62261</td>\n",
       "      <td>1.6</td>\n",
       "      <td>98</td>\n",
       "      <td>True</td>\n",
       "      <td>False</td>\n",
       "      <td>...</td>\n",
       "      <td>False</td>\n",
       "      <td>False</td>\n",
       "      <td>False</td>\n",
       "      <td>False</td>\n",
       "      <td>True</td>\n",
       "      <td>False</td>\n",
       "      <td>False</td>\n",
       "      <td>False</td>\n",
       "      <td>False</td>\n",
       "      <td>True</td>\n",
       "    </tr>\n",
       "    <tr>\n",
       "      <th>i3638880427</th>\n",
       "      <td>Mitsubishi</td>\n",
       "      <td>Mitsubishi Eclipse Cross</td>\n",
       "      <td>3850000</td>\n",
       "      <td>2</td>\n",
       "      <td>False</td>\n",
       "      <td>1</td>\n",
       "      <td>1.5</td>\n",
       "      <td>150</td>\n",
       "      <td>True</td>\n",
       "      <td>False</td>\n",
       "      <td>...</td>\n",
       "      <td>False</td>\n",
       "      <td>False</td>\n",
       "      <td>False</td>\n",
       "      <td>False</td>\n",
       "      <td>False</td>\n",
       "      <td>False</td>\n",
       "      <td>False</td>\n",
       "      <td>False</td>\n",
       "      <td>False</td>\n",
       "      <td>False</td>\n",
       "    </tr>\n",
       "    <tr>\n",
       "      <th>i4271814998</th>\n",
       "      <td>Hyundai</td>\n",
       "      <td>Hyundai Creta</td>\n",
       "      <td>1850000</td>\n",
       "      <td>6</td>\n",
       "      <td>False</td>\n",
       "      <td>35000</td>\n",
       "      <td>1.6</td>\n",
       "      <td>123</td>\n",
       "      <td>True</td>\n",
       "      <td>False</td>\n",
       "      <td>...</td>\n",
       "      <td>False</td>\n",
       "      <td>False</td>\n",
       "      <td>False</td>\n",
       "      <td>False</td>\n",
       "      <td>False</td>\n",
       "      <td>False</td>\n",
       "      <td>False</td>\n",
       "      <td>False</td>\n",
       "      <td>False</td>\n",
       "      <td>True</td>\n",
       "    </tr>\n",
       "    <tr>\n",
       "      <th>i4094628379</th>\n",
       "      <td>Opel</td>\n",
       "      <td>Opel Insignia</td>\n",
       "      <td>1150000</td>\n",
       "      <td>12</td>\n",
       "      <td>False</td>\n",
       "      <td>210000</td>\n",
       "      <td>1.6</td>\n",
       "      <td>170</td>\n",
       "      <td>True</td>\n",
       "      <td>False</td>\n",
       "      <td>...</td>\n",
       "      <td>False</td>\n",
       "      <td>False</td>\n",
       "      <td>False</td>\n",
       "      <td>False</td>\n",
       "      <td>True</td>\n",
       "      <td>False</td>\n",
       "      <td>False</td>\n",
       "      <td>False</td>\n",
       "      <td>False</td>\n",
       "      <td>True</td>\n",
       "    </tr>\n",
       "  </tbody>\n",
       "</table>\n",
       "<p>5 rows × 27 columns</p>\n",
       "</div>"
      ],
      "text/plain": [
       "                  марка                  название     цена  \\\n",
       "id                                                           \n",
       "i4229522095      Toyota              Toyota Yaris   209000   \n",
       "i4093501171  Mitsubishi         Mitsubishi Lancer   800000   \n",
       "i3638880427  Mitsubishi  Mitsubishi Eclipse Cross  3850000   \n",
       "i4271814998     Hyundai             Hyundai Creta  1850000   \n",
       "i4094628379        Opel             Opel Insignia  1150000   \n",
       "\n",
       "             лет в эксплуатации  битый  пробег  объем двигателя  \\\n",
       "id                                                                \n",
       "i4229522095                  26  False  176000              1.0   \n",
       "i4093501171                  18  False   62261              1.6   \n",
       "i3638880427                   2  False       1              1.5   \n",
       "i4271814998                   6  False   35000              1.6   \n",
       "i4094628379                  12  False  210000              1.6   \n",
       "\n",
       "             мощность двигателя  тип топлива - бензин  тип топлива - газ  ...  \\\n",
       "id                                                                        ...   \n",
       "i4229522095                  68                  True              False  ...   \n",
       "i4093501171                  98                  True              False  ...   \n",
       "i3638880427                 150                  True              False  ...   \n",
       "i4271814998                 123                  True              False  ...   \n",
       "i4094628379                 170                  True              False  ...   \n",
       "\n",
       "             тип кузова - лифтбек  тип кузова - микроавтобус  \\\n",
       "id                                                             \n",
       "i4229522095                 False                      False   \n",
       "i4093501171                 False                      False   \n",
       "i3638880427                 False                      False   \n",
       "i4271814998                 False                      False   \n",
       "i4094628379                 False                      False   \n",
       "\n",
       "             тип кузова - минивэн  тип кузова - пикап  тип кузова - седан  \\\n",
       "id                                                                          \n",
       "i4229522095                 False               False               False   \n",
       "i4093501171                 False               False                True   \n",
       "i3638880427                 False               False               False   \n",
       "i4271814998                 False               False               False   \n",
       "i4094628379                 False               False                True   \n",
       "\n",
       "             тип кузова - универсал  тип кузова - фургон  \\\n",
       "id                                                         \n",
       "i4229522095                   False                False   \n",
       "i4093501171                   False                False   \n",
       "i3638880427                   False                False   \n",
       "i4271814998                   False                False   \n",
       "i4094628379                   False                False   \n",
       "\n",
       "             тип кузова - хетчбэк  привод - задний  привод - передний  \n",
       "id                                                                     \n",
       "i4229522095                  True            False               True  \n",
       "i4093501171                 False            False               True  \n",
       "i3638880427                 False            False              False  \n",
       "i4271814998                 False            False               True  \n",
       "i4094628379                 False            False               True  \n",
       "\n",
       "[5 rows x 27 columns]"
      ]
     },
     "execution_count": 85,
     "metadata": {},
     "output_type": "execute_result"
    }
   ],
   "source": [
    "data.sample(n=5)"
   ]
  },
  {
   "cell_type": "markdown",
   "metadata": {},
   "source": [
    "### Признаки - **название** и **марка**"
   ]
  },
  {
   "cell_type": "code",
   "execution_count": 86,
   "metadata": {},
   "outputs": [],
   "source": [
    "# декодируем признаки с помощью Target Encoding - заменим значения на медианы\n",
    "data['название'] = data.groupby('название')['цена'].transform('median')\n",
    "data['марка'] = data.groupby('марка')['цена'].transform('median')"
   ]
  },
  {
   "cell_type": "markdown",
   "metadata": {},
   "source": [
    "## Сохранение данных"
   ]
  },
  {
   "cell_type": "code",
   "execution_count": 87,
   "metadata": {},
   "outputs": [
    {
     "data": {
      "text/html": [
       "<div>\n",
       "<style scoped>\n",
       "    .dataframe tbody tr th:only-of-type {\n",
       "        vertical-align: middle;\n",
       "    }\n",
       "\n",
       "    .dataframe tbody tr th {\n",
       "        vertical-align: top;\n",
       "    }\n",
       "\n",
       "    .dataframe thead th {\n",
       "        text-align: right;\n",
       "    }\n",
       "</style>\n",
       "<table border=\"1\" class=\"dataframe\">\n",
       "  <thead>\n",
       "    <tr style=\"text-align: right;\">\n",
       "      <th></th>\n",
       "      <th>марка</th>\n",
       "      <th>название</th>\n",
       "      <th>цена</th>\n",
       "      <th>лет в эксплуатации</th>\n",
       "      <th>битый</th>\n",
       "      <th>пробег</th>\n",
       "      <th>объем двигателя</th>\n",
       "      <th>мощность двигателя</th>\n",
       "      <th>тип топлива - бензин</th>\n",
       "      <th>тип топлива - газ</th>\n",
       "      <th>...</th>\n",
       "      <th>тип кузова - лифтбек</th>\n",
       "      <th>тип кузова - микроавтобус</th>\n",
       "      <th>тип кузова - минивэн</th>\n",
       "      <th>тип кузова - пикап</th>\n",
       "      <th>тип кузова - седан</th>\n",
       "      <th>тип кузова - универсал</th>\n",
       "      <th>тип кузова - фургон</th>\n",
       "      <th>тип кузова - хетчбэк</th>\n",
       "      <th>привод - задний</th>\n",
       "      <th>привод - передний</th>\n",
       "    </tr>\n",
       "    <tr>\n",
       "      <th>id</th>\n",
       "      <th></th>\n",
       "      <th></th>\n",
       "      <th></th>\n",
       "      <th></th>\n",
       "      <th></th>\n",
       "      <th></th>\n",
       "      <th></th>\n",
       "      <th></th>\n",
       "      <th></th>\n",
       "      <th></th>\n",
       "      <th></th>\n",
       "      <th></th>\n",
       "      <th></th>\n",
       "      <th></th>\n",
       "      <th></th>\n",
       "      <th></th>\n",
       "      <th></th>\n",
       "      <th></th>\n",
       "      <th></th>\n",
       "      <th></th>\n",
       "      <th></th>\n",
       "    </tr>\n",
       "  </thead>\n",
       "  <tbody>\n",
       "    <tr>\n",
       "      <th>i3693116272</th>\n",
       "      <td>999000.0</td>\n",
       "      <td>1639000.0</td>\n",
       "      <td>1798000</td>\n",
       "      <td>7</td>\n",
       "      <td>False</td>\n",
       "      <td>126000</td>\n",
       "      <td>2.0</td>\n",
       "      <td>143</td>\n",
       "      <td>True</td>\n",
       "      <td>False</td>\n",
       "      <td>...</td>\n",
       "      <td>False</td>\n",
       "      <td>False</td>\n",
       "      <td>False</td>\n",
       "      <td>False</td>\n",
       "      <td>False</td>\n",
       "      <td>False</td>\n",
       "      <td>False</td>\n",
       "      <td>False</td>\n",
       "      <td>False</td>\n",
       "      <td>False</td>\n",
       "    </tr>\n",
       "    <tr>\n",
       "      <th>i3501094121</th>\n",
       "      <td>1300000.0</td>\n",
       "      <td>2899500.0</td>\n",
       "      <td>2900000</td>\n",
       "      <td>17</td>\n",
       "      <td>False</td>\n",
       "      <td>107740</td>\n",
       "      <td>2.0</td>\n",
       "      <td>295</td>\n",
       "      <td>True</td>\n",
       "      <td>False</td>\n",
       "      <td>...</td>\n",
       "      <td>False</td>\n",
       "      <td>False</td>\n",
       "      <td>False</td>\n",
       "      <td>False</td>\n",
       "      <td>True</td>\n",
       "      <td>False</td>\n",
       "      <td>False</td>\n",
       "      <td>False</td>\n",
       "      <td>False</td>\n",
       "      <td>False</td>\n",
       "    </tr>\n",
       "    <tr>\n",
       "      <th>i4250205587</th>\n",
       "      <td>726000.0</td>\n",
       "      <td>669995.0</td>\n",
       "      <td>650000</td>\n",
       "      <td>18</td>\n",
       "      <td>False</td>\n",
       "      <td>179000</td>\n",
       "      <td>1.8</td>\n",
       "      <td>140</td>\n",
       "      <td>True</td>\n",
       "      <td>False</td>\n",
       "      <td>...</td>\n",
       "      <td>False</td>\n",
       "      <td>False</td>\n",
       "      <td>False</td>\n",
       "      <td>False</td>\n",
       "      <td>False</td>\n",
       "      <td>False</td>\n",
       "      <td>False</td>\n",
       "      <td>True</td>\n",
       "      <td>False</td>\n",
       "      <td>True</td>\n",
       "    </tr>\n",
       "    <tr>\n",
       "      <th>i4087057206</th>\n",
       "      <td>560000.0</td>\n",
       "      <td>994500.0</td>\n",
       "      <td>1115000</td>\n",
       "      <td>2</td>\n",
       "      <td>False</td>\n",
       "      <td>7800</td>\n",
       "      <td>1.6</td>\n",
       "      <td>106</td>\n",
       "      <td>True</td>\n",
       "      <td>False</td>\n",
       "      <td>...</td>\n",
       "      <td>False</td>\n",
       "      <td>False</td>\n",
       "      <td>False</td>\n",
       "      <td>False</td>\n",
       "      <td>False</td>\n",
       "      <td>True</td>\n",
       "      <td>False</td>\n",
       "      <td>False</td>\n",
       "      <td>False</td>\n",
       "      <td>True</td>\n",
       "    </tr>\n",
       "    <tr>\n",
       "      <th>i4206295319</th>\n",
       "      <td>1245000.0</td>\n",
       "      <td>1300000.0</td>\n",
       "      <td>1797000</td>\n",
       "      <td>4</td>\n",
       "      <td>False</td>\n",
       "      <td>108900</td>\n",
       "      <td>1.4</td>\n",
       "      <td>125</td>\n",
       "      <td>True</td>\n",
       "      <td>False</td>\n",
       "      <td>...</td>\n",
       "      <td>True</td>\n",
       "      <td>False</td>\n",
       "      <td>False</td>\n",
       "      <td>False</td>\n",
       "      <td>False</td>\n",
       "      <td>False</td>\n",
       "      <td>False</td>\n",
       "      <td>False</td>\n",
       "      <td>False</td>\n",
       "      <td>True</td>\n",
       "    </tr>\n",
       "  </tbody>\n",
       "</table>\n",
       "<p>5 rows × 27 columns</p>\n",
       "</div>"
      ],
      "text/plain": [
       "                 марка   название     цена  лет в эксплуатации  битый  пробег  \\\n",
       "id                                                                              \n",
       "i3693116272   999000.0  1639000.0  1798000                   7  False  126000   \n",
       "i3501094121  1300000.0  2899500.0  2900000                  17  False  107740   \n",
       "i4250205587   726000.0   669995.0   650000                  18  False  179000   \n",
       "i4087057206   560000.0   994500.0  1115000                   2  False    7800   \n",
       "i4206295319  1245000.0  1300000.0  1797000                   4  False  108900   \n",
       "\n",
       "             объем двигателя  мощность двигателя  тип топлива - бензин  \\\n",
       "id                                                                       \n",
       "i3693116272              2.0                 143                  True   \n",
       "i3501094121              2.0                 295                  True   \n",
       "i4250205587              1.8                 140                  True   \n",
       "i4087057206              1.6                 106                  True   \n",
       "i4206295319              1.4                 125                  True   \n",
       "\n",
       "             тип топлива - газ  ...  тип кузова - лифтбек  \\\n",
       "id                              ...                         \n",
       "i3693116272              False  ...                 False   \n",
       "i3501094121              False  ...                 False   \n",
       "i4250205587              False  ...                 False   \n",
       "i4087057206              False  ...                 False   \n",
       "i4206295319              False  ...                  True   \n",
       "\n",
       "             тип кузова - микроавтобус  тип кузова - минивэн  \\\n",
       "id                                                             \n",
       "i3693116272                      False                 False   \n",
       "i3501094121                      False                 False   \n",
       "i4250205587                      False                 False   \n",
       "i4087057206                      False                 False   \n",
       "i4206295319                      False                 False   \n",
       "\n",
       "             тип кузова - пикап  тип кузова - седан  тип кузова - универсал  \\\n",
       "id                                                                            \n",
       "i3693116272               False               False                   False   \n",
       "i3501094121               False                True                   False   \n",
       "i4250205587               False               False                   False   \n",
       "i4087057206               False               False                    True   \n",
       "i4206295319               False               False                   False   \n",
       "\n",
       "             тип кузова - фургон  тип кузова - хетчбэк  привод - задний  \\\n",
       "id                                                                        \n",
       "i3693116272                False                 False            False   \n",
       "i3501094121                False                 False            False   \n",
       "i4250205587                False                  True            False   \n",
       "i4087057206                False                 False            False   \n",
       "i4206295319                False                 False            False   \n",
       "\n",
       "             привод - передний  \n",
       "id                              \n",
       "i3693116272              False  \n",
       "i3501094121              False  \n",
       "i4250205587               True  \n",
       "i4087057206               True  \n",
       "i4206295319               True  \n",
       "\n",
       "[5 rows x 27 columns]"
      ]
     },
     "execution_count": 87,
     "metadata": {},
     "output_type": "execute_result"
    }
   ],
   "source": [
    "data.sample(n=5)"
   ]
  },
  {
   "cell_type": "code",
   "execution_count": 88,
   "metadata": {},
   "outputs": [],
   "source": [
    "# сохраним обработанные данные \n",
    "data.to_csv('../data/processed_data.csv', sep=';')"
   ]
  }
 ],
 "metadata": {
  "kernelspec": {
   "display_name": "Python 3",
   "language": "python",
   "name": "python3"
  },
  "language_info": {
   "codemirror_mode": {
    "name": "ipython",
    "version": 3
   },
   "file_extension": ".py",
   "mimetype": "text/x-python",
   "name": "python",
   "nbconvert_exporter": "python",
   "pygments_lexer": "ipython3",
   "version": "3.12.4"
  }
 },
 "nbformat": 4,
 "nbformat_minor": 2
}
