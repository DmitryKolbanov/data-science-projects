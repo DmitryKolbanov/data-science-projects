{
 "cells": [
  {
   "cell_type": "markdown",
   "metadata": {},
   "source": [
    "# Обработка данных"
   ]
  },
  {
   "cell_type": "markdown",
   "metadata": {},
   "source": [
    "## Подключение библиотек и считывание данных"
   ]
  },
  {
   "cell_type": "code",
   "execution_count": 105,
   "metadata": {},
   "outputs": [],
   "source": [
    "# импорт библиотек\n",
    "import pandas as pd"
   ]
  },
  {
   "cell_type": "code",
   "execution_count": 106,
   "metadata": {},
   "outputs": [
    {
     "data": {
      "text/html": [
       "<div>\n",
       "<style scoped>\n",
       "    .dataframe tbody tr th:only-of-type {\n",
       "        vertical-align: middle;\n",
       "    }\n",
       "\n",
       "    .dataframe tbody tr th {\n",
       "        vertical-align: top;\n",
       "    }\n",
       "\n",
       "    .dataframe thead th {\n",
       "        text-align: right;\n",
       "    }\n",
       "</style>\n",
       "<table border=\"1\" class=\"dataframe\">\n",
       "  <thead>\n",
       "    <tr style=\"text-align: right;\">\n",
       "      <th></th>\n",
       "      <th>Год выпуска</th>\n",
       "      <th>Поколение</th>\n",
       "      <th>Пробег</th>\n",
       "      <th>История пробега</th>\n",
       "      <th>ПТС</th>\n",
       "      <th>Владельцев по ПТС</th>\n",
       "      <th>Состояние</th>\n",
       "      <th>Модификация</th>\n",
       "      <th>Объём двигателя</th>\n",
       "      <th>Тип двигателя</th>\n",
       "      <th>Коробка передач</th>\n",
       "      <th>Привод</th>\n",
       "      <th>Комплектация</th>\n",
       "      <th>Тип кузова</th>\n",
       "      <th>Цвет</th>\n",
       "      <th>Руль</th>\n",
       "      <th>VIN или номер кузова</th>\n",
       "      <th>Название</th>\n",
       "      <th>Цена</th>\n",
       "      <th>Обмен</th>\n",
       "    </tr>\n",
       "  </thead>\n",
       "  <tbody>\n",
       "    <tr>\n",
       "      <th>0</th>\n",
       "      <td>2010</td>\n",
       "      <td>I рестайлинг (2009—2012)</td>\n",
       "      <td>156 000 км</td>\n",
       "      <td>7 записей в отчёте Автотеки</td>\n",
       "      <td>Оригинал</td>\n",
       "      <td>2</td>\n",
       "      <td>Не битый</td>\n",
       "      <td>2.3 4WD AT (238 л.с.)</td>\n",
       "      <td>2.3 л</td>\n",
       "      <td>Бензин</td>\n",
       "      <td>Автомат</td>\n",
       "      <td>Полный</td>\n",
       "      <td>Sport</td>\n",
       "      <td>Внедорожник 5-дверный</td>\n",
       "      <td>Белый</td>\n",
       "      <td>Левый</td>\n",
       "      <td>JMZE*************</td>\n",
       "      <td>Mazda CX-7</td>\n",
       "      <td>1050000</td>\n",
       "      <td>NaN</td>\n",
       "    </tr>\n",
       "    <tr>\n",
       "      <th>1</th>\n",
       "      <td>2020</td>\n",
       "      <td>G07 (2018—2022)</td>\n",
       "      <td>109 000 км</td>\n",
       "      <td>Проверить в Автотеке</td>\n",
       "      <td>Оригинал</td>\n",
       "      <td>1</td>\n",
       "      <td>Не битый</td>\n",
       "      <td>M50d 3.0 xDrive Steptronic (400 л.с.)</td>\n",
       "      <td>3 л</td>\n",
       "      <td>Дизель</td>\n",
       "      <td>Автомат</td>\n",
       "      <td>Полный</td>\n",
       "      <td>Special by Individual</td>\n",
       "      <td>Внедорожник 5-дверный</td>\n",
       "      <td>Синий</td>\n",
       "      <td>Левый</td>\n",
       "      <td>WBAC*************</td>\n",
       "      <td>BMW X7</td>\n",
       "      <td>8800000</td>\n",
       "      <td>Не интересует</td>\n",
       "    </tr>\n",
       "    <tr>\n",
       "      <th>2</th>\n",
       "      <td>2023</td>\n",
       "      <td>I (2023—2024)</td>\n",
       "      <td>15 км</td>\n",
       "      <td>NaN</td>\n",
       "      <td>NaN</td>\n",
       "      <td>1</td>\n",
       "      <td>Не битый</td>\n",
       "      <td>2.0 T-GDI 4WD DCT (249 л.с.)</td>\n",
       "      <td>2 л</td>\n",
       "      <td>Бензин</td>\n",
       "      <td>Робот</td>\n",
       "      <td>Полный</td>\n",
       "      <td>Platinum</td>\n",
       "      <td>Внедорожник 5-дверный</td>\n",
       "      <td>Чёрный</td>\n",
       "      <td>Левый</td>\n",
       "      <td>LVTD*************</td>\n",
       "      <td>EXEED RX</td>\n",
       "      <td>3730000</td>\n",
       "      <td>NaN</td>\n",
       "    </tr>\n",
       "    <tr>\n",
       "      <th>3</th>\n",
       "      <td>2024</td>\n",
       "      <td>I (2022—2024)</td>\n",
       "      <td>300 км</td>\n",
       "      <td>2 записи в отчёте Автотеки</td>\n",
       "      <td>NaN</td>\n",
       "      <td>1</td>\n",
       "      <td>Не битый</td>\n",
       "      <td>1.5hyb 4WD AT (530 л.с.)</td>\n",
       "      <td>1.5 л</td>\n",
       "      <td>Гибрид</td>\n",
       "      <td>Автомат</td>\n",
       "      <td>Полный</td>\n",
       "      <td>Executive</td>\n",
       "      <td>Седан</td>\n",
       "      <td>Чёрный</td>\n",
       "      <td>Левый</td>\n",
       "      <td>LDP9*************</td>\n",
       "      <td>Voyah Passion (Chasing Light)</td>\n",
       "      <td>6770000</td>\n",
       "      <td>NaN</td>\n",
       "    </tr>\n",
       "    <tr>\n",
       "      <th>4</th>\n",
       "      <td>2024</td>\n",
       "      <td>I (2021—2024)</td>\n",
       "      <td>10 км</td>\n",
       "      <td>NaN</td>\n",
       "      <td>Электронный</td>\n",
       "      <td>1</td>\n",
       "      <td>Не битый</td>\n",
       "      <td>2.0 4WD AT (238 л.с.)</td>\n",
       "      <td>2 л</td>\n",
       "      <td>Бензин</td>\n",
       "      <td>Автомат</td>\n",
       "      <td>Полный</td>\n",
       "      <td>Flagship</td>\n",
       "      <td>Внедорожник 5-дверный</td>\n",
       "      <td>Белый</td>\n",
       "      <td>Левый</td>\n",
       "      <td>LB37*************</td>\n",
       "      <td>Geely Monjaro</td>\n",
       "      <td>3600000</td>\n",
       "      <td>Не интересует</td>\n",
       "    </tr>\n",
       "  </tbody>\n",
       "</table>\n",
       "</div>"
      ],
      "text/plain": [
       "   Год выпуска                 Поколение      Пробег  \\\n",
       "0         2010  I рестайлинг (2009—2012)  156 000 км   \n",
       "1         2020           G07 (2018—2022)  109 000 км   \n",
       "2         2023             I (2023—2024)       15 км   \n",
       "3         2024             I (2022—2024)      300 км   \n",
       "4         2024             I (2021—2024)       10 км   \n",
       "\n",
       "               История пробега          ПТС Владельцев по ПТС Состояние  \\\n",
       "0  7 записей в отчёте Автотеки     Оригинал                 2  Не битый   \n",
       "1         Проверить в Автотеке     Оригинал                 1  Не битый   \n",
       "2                          NaN          NaN                 1  Не битый   \n",
       "3   2 записи в отчёте Автотеки          NaN                 1  Не битый   \n",
       "4                          NaN  Электронный                 1  Не битый   \n",
       "\n",
       "                             Модификация Объём двигателя Тип двигателя  \\\n",
       "0                  2.3 4WD AT (238 л.с.)           2.3 л        Бензин   \n",
       "1  M50d 3.0 xDrive Steptronic (400 л.с.)             3 л        Дизель   \n",
       "2           2.0 T-GDI 4WD DCT (249 л.с.)             2 л        Бензин   \n",
       "3               1.5hyb 4WD AT (530 л.с.)           1.5 л        Гибрид   \n",
       "4                  2.0 4WD AT (238 л.с.)             2 л        Бензин   \n",
       "\n",
       "  Коробка передач  Привод           Комплектация             Тип кузова  \\\n",
       "0         Автомат  Полный                  Sport  Внедорожник 5-дверный   \n",
       "1         Автомат  Полный  Special by Individual  Внедорожник 5-дверный   \n",
       "2           Робот  Полный               Platinum  Внедорожник 5-дверный   \n",
       "3         Автомат  Полный              Executive                  Седан   \n",
       "4         Автомат  Полный               Flagship  Внедорожник 5-дверный   \n",
       "\n",
       "     Цвет   Руль VIN или номер кузова                       Название     Цена  \\\n",
       "0   Белый  Левый    JMZE*************                     Mazda CX-7  1050000   \n",
       "1   Синий  Левый    WBAC*************                         BMW X7  8800000   \n",
       "2  Чёрный  Левый    LVTD*************                       EXEED RX  3730000   \n",
       "3  Чёрный  Левый    LDP9*************  Voyah Passion (Chasing Light)  6770000   \n",
       "4   Белый  Левый    LB37*************                  Geely Monjaro  3600000   \n",
       "\n",
       "           Обмен  \n",
       "0            NaN  \n",
       "1  Не интересует  \n",
       "2            NaN  \n",
       "3            NaN  \n",
       "4  Не интересует  "
      ]
     },
     "execution_count": 106,
     "metadata": {},
     "output_type": "execute_result"
    }
   ],
   "source": [
    "# считываем данные\n",
    "data = pd.read_csv('../data/car_price.csv', index_col=0)\n",
    "\n",
    "data.head()"
   ]
  },
  {
   "cell_type": "markdown",
   "metadata": {},
   "source": [
    "## Обработка пропущенных значений"
   ]
  },
  {
   "cell_type": "markdown",
   "metadata": {},
   "source": [
    "### Обзор данных"
   ]
  },
  {
   "cell_type": "code",
   "execution_count": 107,
   "metadata": {},
   "outputs": [
    {
     "data": {
      "text/plain": [
       "(2109, 20)"
      ]
     },
     "execution_count": 107,
     "metadata": {},
     "output_type": "execute_result"
    }
   ],
   "source": [
    "# удалим дубликаты, пересоберем индексы, посмотрим размерность\n",
    "data.drop_duplicates(keep='first', inplace=True)\n",
    "data.reset_index(drop=True, inplace=True)\n",
    "data.shape"
   ]
  },
  {
   "cell_type": "code",
   "execution_count": 108,
   "metadata": {},
   "outputs": [
    {
     "name": "stdout",
     "output_type": "stream",
     "text": [
      "<class 'pandas.core.frame.DataFrame'>\n",
      "RangeIndex: 2109 entries, 0 to 2108\n",
      "Data columns (total 20 columns):\n",
      " #   Column                Non-Null Count  Dtype \n",
      "---  ------                --------------  ----- \n",
      " 0   Год выпуска           2109 non-null   int64 \n",
      " 1   Поколение             2109 non-null   object\n",
      " 2   Пробег                2109 non-null   object\n",
      " 3   История пробега       2008 non-null   object\n",
      " 4   ПТС                   1373 non-null   object\n",
      " 5   Владельцев по ПТС     2109 non-null   object\n",
      " 6   Состояние             2109 non-null   object\n",
      " 7   Модификация           2108 non-null   object\n",
      " 8   Объём двигателя       2107 non-null   object\n",
      " 9   Тип двигателя         2109 non-null   object\n",
      " 10  Коробка передач       2109 non-null   object\n",
      " 11  Привод                2109 non-null   object\n",
      " 12  Комплектация          1715 non-null   object\n",
      " 13  Тип кузова            2109 non-null   object\n",
      " 14  Цвет                  2109 non-null   object\n",
      " 15  Руль                  2109 non-null   object\n",
      " 16  VIN или номер кузова  2109 non-null   object\n",
      " 17  Название              2109 non-null   object\n",
      " 18  Цена                  2109 non-null   int64 \n",
      " 19  Обмен                 1554 non-null   object\n",
      "dtypes: int64(2), object(18)\n",
      "memory usage: 329.7+ KB\n"
     ]
    }
   ],
   "source": [
    "# посмотрим на краткое содержание данных\n",
    "data.info()"
   ]
  },
  {
   "cell_type": "markdown",
   "metadata": {},
   "source": [
    "Видно, что у признаков **История пробега**, **ПТС**, **Модификация**, **Объем двигателя**, **Комплектация** и **Обмен** есть пропущенные значения."
   ]
  },
  {
   "cell_type": "markdown",
   "metadata": {},
   "source": [
    "### Признак - **История пробега**"
   ]
  },
  {
   "cell_type": "markdown",
   "metadata": {},
   "source": [
    "**История пробега** показывает количество информации об автомобиле на конкретном агрегаторе - Авито. Его можно удалить"
   ]
  },
  {
   "cell_type": "code",
   "execution_count": 109,
   "metadata": {},
   "outputs": [],
   "source": [
    "data.drop(columns=\"История пробега\", inplace=True)"
   ]
  },
  {
   "cell_type": "markdown",
   "metadata": {},
   "source": [
    "### Признак - **ПТС**"
   ]
  },
  {
   "cell_type": "code",
   "execution_count": 110,
   "metadata": {},
   "outputs": [
    {
     "data": {
      "text/plain": [
       "ПТС\n",
       "Оригинал       1002\n",
       "Электронный     213\n",
       "Дубликат        158\n",
       "Name: count, dtype: int64"
      ]
     },
     "execution_count": 110,
     "metadata": {},
     "output_type": "execute_result"
    }
   ],
   "source": [
    "# посмотрим, какие значения может принимать столбец ПТС\n",
    "data['ПТС'].value_counts()"
   ]
  },
  {
   "cell_type": "markdown",
   "metadata": {},
   "source": [
    "Можно было бы сделать данный признак бинарным - ПТС указан/не указан, однако формат ПТС также может влиять на автомобиля. Считается, что с дубликат ПТС является менее предпочтительным вариантом, так как может, например, указывать на частую смену владельцев. Более подробно про виды ПТС:\n",
    "- https://rolf-probeg.ru/blog/dublikat-pts-chem-opasen-i-kak-otlichit-ot-originala/?utm_source=google.com&utm_medium=organic&utm_campaign=google.com&utm_referrer=google.com\n",
    "- https://ufa.tts.ru/blog/sovety-avtomobilistam/vse-ob-elektronnom-pts-v-chem-otlichiya-ot-bumazhnogo-formata-kak-poluchit-epts-i-postavit-mashinu-n/\n",
    "\n",
    "Данный признак является категориальным. Заполним пропущенные ячейки значением \"Не указан\""
   ]
  },
  {
   "cell_type": "code",
   "execution_count": 111,
   "metadata": {},
   "outputs": [],
   "source": [
    "data['ПТС'].fillna('Не указан', inplace=True)"
   ]
  },
  {
   "cell_type": "markdown",
   "metadata": {},
   "source": [
    "### Признак - **Модификация**"
   ]
  },
  {
   "cell_type": "code",
   "execution_count": 112,
   "metadata": {},
   "outputs": [
    {
     "data": {
      "text/plain": [
       "0                    2.3 4WD AT (238 л.с.)\n",
       "1    M50d 3.0 xDrive Steptronic (400 л.с.)\n",
       "2             2.0 T-GDI 4WD DCT (249 л.с.)\n",
       "3                 1.5hyb 4WD AT (530 л.с.)\n",
       "4                    2.0 4WD AT (238 л.с.)\n",
       "Name: Модификация, dtype: object"
      ]
     },
     "execution_count": 112,
     "metadata": {},
     "output_type": "execute_result"
    }
   ],
   "source": [
    "# посмотрим на некоторые значения \n",
    "data['Модификация'].head()"
   ]
  },
  {
   "cell_type": "code",
   "execution_count": 113,
   "metadata": {},
   "outputs": [
    {
     "data": {
      "text/html": [
       "<div>\n",
       "<style scoped>\n",
       "    .dataframe tbody tr th:only-of-type {\n",
       "        vertical-align: middle;\n",
       "    }\n",
       "\n",
       "    .dataframe tbody tr th {\n",
       "        vertical-align: top;\n",
       "    }\n",
       "\n",
       "    .dataframe thead th {\n",
       "        text-align: right;\n",
       "    }\n",
       "</style>\n",
       "<table border=\"1\" class=\"dataframe\">\n",
       "  <thead>\n",
       "    <tr style=\"text-align: right;\">\n",
       "      <th></th>\n",
       "      <th>Год выпуска</th>\n",
       "      <th>Поколение</th>\n",
       "      <th>Пробег</th>\n",
       "      <th>ПТС</th>\n",
       "      <th>Владельцев по ПТС</th>\n",
       "      <th>Состояние</th>\n",
       "      <th>Модификация</th>\n",
       "      <th>Объём двигателя</th>\n",
       "      <th>Тип двигателя</th>\n",
       "      <th>Коробка передач</th>\n",
       "      <th>Привод</th>\n",
       "      <th>Комплектация</th>\n",
       "      <th>Тип кузова</th>\n",
       "      <th>Цвет</th>\n",
       "      <th>Руль</th>\n",
       "      <th>VIN или номер кузова</th>\n",
       "      <th>Название</th>\n",
       "      <th>Цена</th>\n",
       "      <th>Обмен</th>\n",
       "    </tr>\n",
       "  </thead>\n",
       "  <tbody>\n",
       "    <tr>\n",
       "      <th>1621</th>\n",
       "      <td>2014</td>\n",
       "      <td>I (2010—2014)</td>\n",
       "      <td>109 000 км</td>\n",
       "      <td>Не указан</td>\n",
       "      <td>2</td>\n",
       "      <td>Не битый</td>\n",
       "      <td>NaN</td>\n",
       "      <td>1.6 л</td>\n",
       "      <td>Бензин</td>\n",
       "      <td>Вариатор</td>\n",
       "      <td>Полный</td>\n",
       "      <td>NaN</td>\n",
       "      <td>Внедорожник 5-дверный</td>\n",
       "      <td>Белый</td>\n",
       "      <td>Левый</td>\n",
       "      <td>SJNF*************</td>\n",
       "      <td>Nissan Juke</td>\n",
       "      <td>1419000</td>\n",
       "      <td>Возможен</td>\n",
       "    </tr>\n",
       "  </tbody>\n",
       "</table>\n",
       "</div>"
      ],
      "text/plain": [
       "      Год выпуска      Поколение      Пробег        ПТС Владельцев по ПТС  \\\n",
       "1621         2014  I (2010—2014)  109 000 км  Не указан                 2   \n",
       "\n",
       "     Состояние Модификация Объём двигателя Тип двигателя Коробка передач  \\\n",
       "1621  Не битый         NaN           1.6 л        Бензин        Вариатор   \n",
       "\n",
       "      Привод Комплектация             Тип кузова   Цвет   Руль  \\\n",
       "1621  Полный          NaN  Внедорожник 5-дверный  Белый  Левый   \n",
       "\n",
       "     VIN или номер кузова     Название     Цена     Обмен  \n",
       "1621    SJNF*************  Nissan Juke  1419000  Возможен  "
      ]
     },
     "execution_count": 113,
     "metadata": {},
     "output_type": "execute_result"
    }
   ],
   "source": [
    "# посмотрим на строки с пропущенными значениями\n",
    "data[data['Модификация'].isna()]"
   ]
  },
  {
   "cell_type": "markdown",
   "metadata": {},
   "source": [
    "Модификацию можно определить по другим признакам. Найдем машину с такими же характеристиками"
   ]
  },
  {
   "cell_type": "code",
   "execution_count": 114,
   "metadata": {},
   "outputs": [
    {
     "data": {
      "text/html": [
       "<div>\n",
       "<style scoped>\n",
       "    .dataframe tbody tr th:only-of-type {\n",
       "        vertical-align: middle;\n",
       "    }\n",
       "\n",
       "    .dataframe tbody tr th {\n",
       "        vertical-align: top;\n",
       "    }\n",
       "\n",
       "    .dataframe thead th {\n",
       "        text-align: right;\n",
       "    }\n",
       "</style>\n",
       "<table border=\"1\" class=\"dataframe\">\n",
       "  <thead>\n",
       "    <tr style=\"text-align: right;\">\n",
       "      <th></th>\n",
       "      <th>Год выпуска</th>\n",
       "      <th>Поколение</th>\n",
       "      <th>Пробег</th>\n",
       "      <th>ПТС</th>\n",
       "      <th>Владельцев по ПТС</th>\n",
       "      <th>Состояние</th>\n",
       "      <th>Модификация</th>\n",
       "      <th>Объём двигателя</th>\n",
       "      <th>Тип двигателя</th>\n",
       "      <th>Коробка передач</th>\n",
       "      <th>Привод</th>\n",
       "      <th>Комплектация</th>\n",
       "      <th>Тип кузова</th>\n",
       "      <th>Цвет</th>\n",
       "      <th>Руль</th>\n",
       "      <th>VIN или номер кузова</th>\n",
       "      <th>Название</th>\n",
       "      <th>Цена</th>\n",
       "      <th>Обмен</th>\n",
       "    </tr>\n",
       "  </thead>\n",
       "  <tbody>\n",
       "    <tr>\n",
       "      <th>1621</th>\n",
       "      <td>2014</td>\n",
       "      <td>I (2010—2014)</td>\n",
       "      <td>109 000 км</td>\n",
       "      <td>Не указан</td>\n",
       "      <td>2</td>\n",
       "      <td>Не битый</td>\n",
       "      <td>NaN</td>\n",
       "      <td>1.6 л</td>\n",
       "      <td>Бензин</td>\n",
       "      <td>Вариатор</td>\n",
       "      <td>Полный</td>\n",
       "      <td>NaN</td>\n",
       "      <td>Внедорожник 5-дверный</td>\n",
       "      <td>Белый</td>\n",
       "      <td>Левый</td>\n",
       "      <td>SJNF*************</td>\n",
       "      <td>Nissan Juke</td>\n",
       "      <td>1419000</td>\n",
       "      <td>Возможен</td>\n",
       "    </tr>\n",
       "    <tr>\n",
       "      <th>1667</th>\n",
       "      <td>2011</td>\n",
       "      <td>I (2010—2014)</td>\n",
       "      <td>103 000 км</td>\n",
       "      <td>Оригинал</td>\n",
       "      <td>2</td>\n",
       "      <td>Не битый</td>\n",
       "      <td>1.6 CVT (190 л.с.) 4WD</td>\n",
       "      <td>1.6 л</td>\n",
       "      <td>Бензин</td>\n",
       "      <td>Вариатор</td>\n",
       "      <td>Полный</td>\n",
       "      <td>Базовая</td>\n",
       "      <td>Внедорожник 5-дверный</td>\n",
       "      <td>Чёрный</td>\n",
       "      <td>Левый</td>\n",
       "      <td>JN8A*************</td>\n",
       "      <td>Nissan Juke</td>\n",
       "      <td>1170000</td>\n",
       "      <td>Возможен</td>\n",
       "    </tr>\n",
       "  </tbody>\n",
       "</table>\n",
       "</div>"
      ],
      "text/plain": [
       "      Год выпуска      Поколение      Пробег        ПТС Владельцев по ПТС  \\\n",
       "1621         2014  I (2010—2014)  109 000 км  Не указан                 2   \n",
       "1667         2011  I (2010—2014)  103 000 км   Оригинал                 2   \n",
       "\n",
       "     Состояние             Модификация Объём двигателя Тип двигателя  \\\n",
       "1621  Не битый                     NaN           1.6 л        Бензин   \n",
       "1667  Не битый  1.6 CVT (190 л.с.) 4WD           1.6 л        Бензин   \n",
       "\n",
       "     Коробка передач  Привод Комплектация             Тип кузова    Цвет  \\\n",
       "1621        Вариатор  Полный          NaN  Внедорожник 5-дверный   Белый   \n",
       "1667        Вариатор  Полный      Базовая  Внедорожник 5-дверный  Чёрный   \n",
       "\n",
       "       Руль VIN или номер кузова     Название     Цена     Обмен  \n",
       "1621  Левый    SJNF*************  Nissan Juke  1419000  Возможен  \n",
       "1667  Левый    JN8A*************  Nissan Juke  1170000  Возможен  "
      ]
     },
     "execution_count": 114,
     "metadata": {},
     "output_type": "execute_result"
    }
   ],
   "source": [
    "data[(data['Название'] == 'Nissan Juke') & (data['Привод'] == 'Полный')]"
   ]
  },
  {
   "cell_type": "code",
   "execution_count": 115,
   "metadata": {},
   "outputs": [],
   "source": [
    "# запишем вместо пустого значения модификацию - \"1.6 CVT (190 л.с.) 4WD\"\n",
    "data.loc[1621, 'Модификация'] = \"1.6 CVT (190 л.с.) 4WD\""
   ]
  },
  {
   "cell_type": "markdown",
   "metadata": {},
   "source": [
    "Модификация включает себя следующий параметры автомобиля: характеристики двигателя (объем, мощность, тип топлива, индекс/наименование), тип привода, тип КПП. Получается, данный признак дублирует информацию 4-х других признаков - **Объём двигателя**, **Тип двигателя**, **Коробка передач**, **Привод**. Тогда заменим признак **Модификация** на **Мощность**, вытащив нужную информацию"
   ]
  },
  {
   "cell_type": "code",
   "execution_count": 116,
   "metadata": {},
   "outputs": [
    {
     "data": {
      "text/html": [
       "<div>\n",
       "<style scoped>\n",
       "    .dataframe tbody tr th:only-of-type {\n",
       "        vertical-align: middle;\n",
       "    }\n",
       "\n",
       "    .dataframe tbody tr th {\n",
       "        vertical-align: top;\n",
       "    }\n",
       "\n",
       "    .dataframe thead th {\n",
       "        text-align: right;\n",
       "    }\n",
       "</style>\n",
       "<table border=\"1\" class=\"dataframe\">\n",
       "  <thead>\n",
       "    <tr style=\"text-align: right;\">\n",
       "      <th></th>\n",
       "      <th>Год выпуска</th>\n",
       "      <th>Поколение</th>\n",
       "      <th>Пробег</th>\n",
       "      <th>ПТС</th>\n",
       "      <th>Владельцев по ПТС</th>\n",
       "      <th>Состояние</th>\n",
       "      <th>Модификация</th>\n",
       "      <th>Объём двигателя</th>\n",
       "      <th>Тип двигателя</th>\n",
       "      <th>Коробка передач</th>\n",
       "      <th>Привод</th>\n",
       "      <th>Комплектация</th>\n",
       "      <th>Тип кузова</th>\n",
       "      <th>Цвет</th>\n",
       "      <th>Руль</th>\n",
       "      <th>VIN или номер кузова</th>\n",
       "      <th>Название</th>\n",
       "      <th>Цена</th>\n",
       "      <th>Обмен</th>\n",
       "      <th>Мощность</th>\n",
       "    </tr>\n",
       "  </thead>\n",
       "  <tbody>\n",
       "    <tr>\n",
       "      <th>0</th>\n",
       "      <td>2010</td>\n",
       "      <td>I рестайлинг (2009—2012)</td>\n",
       "      <td>156 000 км</td>\n",
       "      <td>Оригинал</td>\n",
       "      <td>2</td>\n",
       "      <td>Не битый</td>\n",
       "      <td>2.3 4WD AT (238 л.с.)</td>\n",
       "      <td>2.3 л</td>\n",
       "      <td>Бензин</td>\n",
       "      <td>Автомат</td>\n",
       "      <td>Полный</td>\n",
       "      <td>Sport</td>\n",
       "      <td>Внедорожник 5-дверный</td>\n",
       "      <td>Белый</td>\n",
       "      <td>Левый</td>\n",
       "      <td>JMZE*************</td>\n",
       "      <td>Mazda CX-7</td>\n",
       "      <td>1050000</td>\n",
       "      <td>NaN</td>\n",
       "      <td>238</td>\n",
       "    </tr>\n",
       "    <tr>\n",
       "      <th>1</th>\n",
       "      <td>2020</td>\n",
       "      <td>G07 (2018—2022)</td>\n",
       "      <td>109 000 км</td>\n",
       "      <td>Оригинал</td>\n",
       "      <td>1</td>\n",
       "      <td>Не битый</td>\n",
       "      <td>M50d 3.0 xDrive Steptronic (400 л.с.)</td>\n",
       "      <td>3 л</td>\n",
       "      <td>Дизель</td>\n",
       "      <td>Автомат</td>\n",
       "      <td>Полный</td>\n",
       "      <td>Special by Individual</td>\n",
       "      <td>Внедорожник 5-дверный</td>\n",
       "      <td>Синий</td>\n",
       "      <td>Левый</td>\n",
       "      <td>WBAC*************</td>\n",
       "      <td>BMW X7</td>\n",
       "      <td>8800000</td>\n",
       "      <td>Не интересует</td>\n",
       "      <td>400</td>\n",
       "    </tr>\n",
       "    <tr>\n",
       "      <th>2</th>\n",
       "      <td>2023</td>\n",
       "      <td>I (2023—2024)</td>\n",
       "      <td>15 км</td>\n",
       "      <td>Не указан</td>\n",
       "      <td>1</td>\n",
       "      <td>Не битый</td>\n",
       "      <td>2.0 T-GDI 4WD DCT (249 л.с.)</td>\n",
       "      <td>2 л</td>\n",
       "      <td>Бензин</td>\n",
       "      <td>Робот</td>\n",
       "      <td>Полный</td>\n",
       "      <td>Platinum</td>\n",
       "      <td>Внедорожник 5-дверный</td>\n",
       "      <td>Чёрный</td>\n",
       "      <td>Левый</td>\n",
       "      <td>LVTD*************</td>\n",
       "      <td>EXEED RX</td>\n",
       "      <td>3730000</td>\n",
       "      <td>NaN</td>\n",
       "      <td>249</td>\n",
       "    </tr>\n",
       "    <tr>\n",
       "      <th>3</th>\n",
       "      <td>2024</td>\n",
       "      <td>I (2022—2024)</td>\n",
       "      <td>300 км</td>\n",
       "      <td>Не указан</td>\n",
       "      <td>1</td>\n",
       "      <td>Не битый</td>\n",
       "      <td>1.5hyb 4WD AT (530 л.с.)</td>\n",
       "      <td>1.5 л</td>\n",
       "      <td>Гибрид</td>\n",
       "      <td>Автомат</td>\n",
       "      <td>Полный</td>\n",
       "      <td>Executive</td>\n",
       "      <td>Седан</td>\n",
       "      <td>Чёрный</td>\n",
       "      <td>Левый</td>\n",
       "      <td>LDP9*************</td>\n",
       "      <td>Voyah Passion (Chasing Light)</td>\n",
       "      <td>6770000</td>\n",
       "      <td>NaN</td>\n",
       "      <td>530</td>\n",
       "    </tr>\n",
       "    <tr>\n",
       "      <th>4</th>\n",
       "      <td>2024</td>\n",
       "      <td>I (2021—2024)</td>\n",
       "      <td>10 км</td>\n",
       "      <td>Электронный</td>\n",
       "      <td>1</td>\n",
       "      <td>Не битый</td>\n",
       "      <td>2.0 4WD AT (238 л.с.)</td>\n",
       "      <td>2 л</td>\n",
       "      <td>Бензин</td>\n",
       "      <td>Автомат</td>\n",
       "      <td>Полный</td>\n",
       "      <td>Flagship</td>\n",
       "      <td>Внедорожник 5-дверный</td>\n",
       "      <td>Белый</td>\n",
       "      <td>Левый</td>\n",
       "      <td>LB37*************</td>\n",
       "      <td>Geely Monjaro</td>\n",
       "      <td>3600000</td>\n",
       "      <td>Не интересует</td>\n",
       "      <td>238</td>\n",
       "    </tr>\n",
       "  </tbody>\n",
       "</table>\n",
       "</div>"
      ],
      "text/plain": [
       "   Год выпуска                 Поколение      Пробег          ПТС  \\\n",
       "0         2010  I рестайлинг (2009—2012)  156 000 км     Оригинал   \n",
       "1         2020           G07 (2018—2022)  109 000 км     Оригинал   \n",
       "2         2023             I (2023—2024)       15 км    Не указан   \n",
       "3         2024             I (2022—2024)      300 км    Не указан   \n",
       "4         2024             I (2021—2024)       10 км  Электронный   \n",
       "\n",
       "  Владельцев по ПТС Состояние                            Модификация  \\\n",
       "0                 2  Не битый                  2.3 4WD AT (238 л.с.)   \n",
       "1                 1  Не битый  M50d 3.0 xDrive Steptronic (400 л.с.)   \n",
       "2                 1  Не битый           2.0 T-GDI 4WD DCT (249 л.с.)   \n",
       "3                 1  Не битый               1.5hyb 4WD AT (530 л.с.)   \n",
       "4                 1  Не битый                  2.0 4WD AT (238 л.с.)   \n",
       "\n",
       "  Объём двигателя Тип двигателя Коробка передач  Привод  \\\n",
       "0           2.3 л        Бензин         Автомат  Полный   \n",
       "1             3 л        Дизель         Автомат  Полный   \n",
       "2             2 л        Бензин           Робот  Полный   \n",
       "3           1.5 л        Гибрид         Автомат  Полный   \n",
       "4             2 л        Бензин         Автомат  Полный   \n",
       "\n",
       "            Комплектация             Тип кузова    Цвет   Руль  \\\n",
       "0                  Sport  Внедорожник 5-дверный   Белый  Левый   \n",
       "1  Special by Individual  Внедорожник 5-дверный   Синий  Левый   \n",
       "2               Platinum  Внедорожник 5-дверный  Чёрный  Левый   \n",
       "3              Executive                  Седан  Чёрный  Левый   \n",
       "4               Flagship  Внедорожник 5-дверный   Белый  Левый   \n",
       "\n",
       "  VIN или номер кузова                       Название     Цена          Обмен  \\\n",
       "0    JMZE*************                     Mazda CX-7  1050000            NaN   \n",
       "1    WBAC*************                         BMW X7  8800000  Не интересует   \n",
       "2    LVTD*************                       EXEED RX  3730000            NaN   \n",
       "3    LDP9*************  Voyah Passion (Chasing Light)  6770000            NaN   \n",
       "4    LB37*************                  Geely Monjaro  3600000  Не интересует   \n",
       "\n",
       "  Мощность  \n",
       "0      238  \n",
       "1      400  \n",
       "2      249  \n",
       "3      530  \n",
       "4      238  "
      ]
     },
     "execution_count": 116,
     "metadata": {},
     "output_type": "execute_result"
    }
   ],
   "source": [
    "data['Мощность'] = data['Модификация'].apply(lambda x: str(x).split()[-2].replace('(', ''))\n",
    "data.head()"
   ]
  },
  {
   "cell_type": "code",
   "execution_count": 119,
   "metadata": {},
   "outputs": [],
   "source": [
    "# удалим теперь не нужный столбец \"Модификация\"\n",
    "data.drop(columns='Модификация', inplace=True)"
   ]
  },
  {
   "cell_type": "markdown",
   "metadata": {},
   "source": [
    "## Удаление лишних признаков"
   ]
  },
  {
   "cell_type": "markdown",
   "metadata": {},
   "source": [
    "Уберем лишние признаки. *История пробега* показывает количество информации на конкретном агрегаторе - Авито. *Комплектация* уникальна для каждой модели"
   ]
  },
  {
   "cell_type": "code",
   "execution_count": 118,
   "metadata": {},
   "outputs": [
    {
     "ename": "KeyError",
     "evalue": "\"['История пробега'] not found in axis\"",
     "output_type": "error",
     "traceback": [
      "\u001b[1;31m---------------------------------------------------------------------------\u001b[0m",
      "\u001b[1;31mKeyError\u001b[0m                                  Traceback (most recent call last)",
      "Cell \u001b[1;32mIn[118], line 1\u001b[0m\n\u001b[1;32m----> 1\u001b[0m \u001b[43mdata\u001b[49m\u001b[38;5;241;43m.\u001b[39;49m\u001b[43mdrop\u001b[49m\u001b[43m(\u001b[49m\u001b[43mcolumns\u001b[49m\u001b[38;5;241;43m=\u001b[39;49m\u001b[43m[\u001b[49m\u001b[38;5;124;43m\"\u001b[39;49m\u001b[38;5;124;43mИстория пробега\u001b[39;49m\u001b[38;5;124;43m\"\u001b[39;49m\u001b[43m,\u001b[49m\u001b[43m \u001b[49m\u001b[38;5;124;43m\"\u001b[39;49m\u001b[38;5;124;43mКомплектация\u001b[39;49m\u001b[38;5;124;43m\"\u001b[39;49m\u001b[43m]\u001b[49m\u001b[43m,\u001b[49m\u001b[43m \u001b[49m\u001b[43minplace\u001b[49m\u001b[38;5;241;43m=\u001b[39;49m\u001b[38;5;28;43;01mTrue\u001b[39;49;00m\u001b[43m)\u001b[49m\n",
      "File \u001b[1;32mc:\\Users\\Dmitry\\AppData\\Local\\Programs\\Python\\Python311\\Lib\\site-packages\\pandas\\core\\frame.py:5347\u001b[0m, in \u001b[0;36mDataFrame.drop\u001b[1;34m(self, labels, axis, index, columns, level, inplace, errors)\u001b[0m\n\u001b[0;32m   5199\u001b[0m \u001b[38;5;28;01mdef\u001b[39;00m \u001b[38;5;21mdrop\u001b[39m(\n\u001b[0;32m   5200\u001b[0m     \u001b[38;5;28mself\u001b[39m,\n\u001b[0;32m   5201\u001b[0m     labels: IndexLabel \u001b[38;5;241m|\u001b[39m \u001b[38;5;28;01mNone\u001b[39;00m \u001b[38;5;241m=\u001b[39m \u001b[38;5;28;01mNone\u001b[39;00m,\n\u001b[1;32m   (...)\u001b[0m\n\u001b[0;32m   5208\u001b[0m     errors: IgnoreRaise \u001b[38;5;241m=\u001b[39m \u001b[38;5;124m\"\u001b[39m\u001b[38;5;124mraise\u001b[39m\u001b[38;5;124m\"\u001b[39m,\n\u001b[0;32m   5209\u001b[0m ) \u001b[38;5;241m-\u001b[39m\u001b[38;5;241m>\u001b[39m DataFrame \u001b[38;5;241m|\u001b[39m \u001b[38;5;28;01mNone\u001b[39;00m:\n\u001b[0;32m   5210\u001b[0m \u001b[38;5;250m    \u001b[39m\u001b[38;5;124;03m\"\"\"\u001b[39;00m\n\u001b[0;32m   5211\u001b[0m \u001b[38;5;124;03m    Drop specified labels from rows or columns.\u001b[39;00m\n\u001b[0;32m   5212\u001b[0m \n\u001b[1;32m   (...)\u001b[0m\n\u001b[0;32m   5345\u001b[0m \u001b[38;5;124;03m            weight  1.0     0.8\u001b[39;00m\n\u001b[0;32m   5346\u001b[0m \u001b[38;5;124;03m    \"\"\"\u001b[39;00m\n\u001b[1;32m-> 5347\u001b[0m     \u001b[38;5;28;01mreturn\u001b[39;00m \u001b[38;5;28;43msuper\u001b[39;49m\u001b[43m(\u001b[49m\u001b[43m)\u001b[49m\u001b[38;5;241;43m.\u001b[39;49m\u001b[43mdrop\u001b[49m\u001b[43m(\u001b[49m\n\u001b[0;32m   5348\u001b[0m \u001b[43m        \u001b[49m\u001b[43mlabels\u001b[49m\u001b[38;5;241;43m=\u001b[39;49m\u001b[43mlabels\u001b[49m\u001b[43m,\u001b[49m\n\u001b[0;32m   5349\u001b[0m \u001b[43m        \u001b[49m\u001b[43maxis\u001b[49m\u001b[38;5;241;43m=\u001b[39;49m\u001b[43maxis\u001b[49m\u001b[43m,\u001b[49m\n\u001b[0;32m   5350\u001b[0m \u001b[43m        \u001b[49m\u001b[43mindex\u001b[49m\u001b[38;5;241;43m=\u001b[39;49m\u001b[43mindex\u001b[49m\u001b[43m,\u001b[49m\n\u001b[0;32m   5351\u001b[0m \u001b[43m        \u001b[49m\u001b[43mcolumns\u001b[49m\u001b[38;5;241;43m=\u001b[39;49m\u001b[43mcolumns\u001b[49m\u001b[43m,\u001b[49m\n\u001b[0;32m   5352\u001b[0m \u001b[43m        \u001b[49m\u001b[43mlevel\u001b[49m\u001b[38;5;241;43m=\u001b[39;49m\u001b[43mlevel\u001b[49m\u001b[43m,\u001b[49m\n\u001b[0;32m   5353\u001b[0m \u001b[43m        \u001b[49m\u001b[43minplace\u001b[49m\u001b[38;5;241;43m=\u001b[39;49m\u001b[43minplace\u001b[49m\u001b[43m,\u001b[49m\n\u001b[0;32m   5354\u001b[0m \u001b[43m        \u001b[49m\u001b[43merrors\u001b[49m\u001b[38;5;241;43m=\u001b[39;49m\u001b[43merrors\u001b[49m\u001b[43m,\u001b[49m\n\u001b[0;32m   5355\u001b[0m \u001b[43m    \u001b[49m\u001b[43m)\u001b[49m\n",
      "File \u001b[1;32mc:\\Users\\Dmitry\\AppData\\Local\\Programs\\Python\\Python311\\Lib\\site-packages\\pandas\\core\\generic.py:4711\u001b[0m, in \u001b[0;36mNDFrame.drop\u001b[1;34m(self, labels, axis, index, columns, level, inplace, errors)\u001b[0m\n\u001b[0;32m   4709\u001b[0m \u001b[38;5;28;01mfor\u001b[39;00m axis, labels \u001b[38;5;129;01min\u001b[39;00m axes\u001b[38;5;241m.\u001b[39mitems():\n\u001b[0;32m   4710\u001b[0m     \u001b[38;5;28;01mif\u001b[39;00m labels \u001b[38;5;129;01mis\u001b[39;00m \u001b[38;5;129;01mnot\u001b[39;00m \u001b[38;5;28;01mNone\u001b[39;00m:\n\u001b[1;32m-> 4711\u001b[0m         obj \u001b[38;5;241m=\u001b[39m \u001b[43mobj\u001b[49m\u001b[38;5;241;43m.\u001b[39;49m\u001b[43m_drop_axis\u001b[49m\u001b[43m(\u001b[49m\u001b[43mlabels\u001b[49m\u001b[43m,\u001b[49m\u001b[43m \u001b[49m\u001b[43maxis\u001b[49m\u001b[43m,\u001b[49m\u001b[43m \u001b[49m\u001b[43mlevel\u001b[49m\u001b[38;5;241;43m=\u001b[39;49m\u001b[43mlevel\u001b[49m\u001b[43m,\u001b[49m\u001b[43m \u001b[49m\u001b[43merrors\u001b[49m\u001b[38;5;241;43m=\u001b[39;49m\u001b[43merrors\u001b[49m\u001b[43m)\u001b[49m\n\u001b[0;32m   4713\u001b[0m \u001b[38;5;28;01mif\u001b[39;00m inplace:\n\u001b[0;32m   4714\u001b[0m     \u001b[38;5;28mself\u001b[39m\u001b[38;5;241m.\u001b[39m_update_inplace(obj)\n",
      "File \u001b[1;32mc:\\Users\\Dmitry\\AppData\\Local\\Programs\\Python\\Python311\\Lib\\site-packages\\pandas\\core\\generic.py:4753\u001b[0m, in \u001b[0;36mNDFrame._drop_axis\u001b[1;34m(self, labels, axis, level, errors, only_slice)\u001b[0m\n\u001b[0;32m   4751\u001b[0m         new_axis \u001b[38;5;241m=\u001b[39m axis\u001b[38;5;241m.\u001b[39mdrop(labels, level\u001b[38;5;241m=\u001b[39mlevel, errors\u001b[38;5;241m=\u001b[39merrors)\n\u001b[0;32m   4752\u001b[0m     \u001b[38;5;28;01melse\u001b[39;00m:\n\u001b[1;32m-> 4753\u001b[0m         new_axis \u001b[38;5;241m=\u001b[39m \u001b[43maxis\u001b[49m\u001b[38;5;241;43m.\u001b[39;49m\u001b[43mdrop\u001b[49m\u001b[43m(\u001b[49m\u001b[43mlabels\u001b[49m\u001b[43m,\u001b[49m\u001b[43m \u001b[49m\u001b[43merrors\u001b[49m\u001b[38;5;241;43m=\u001b[39;49m\u001b[43merrors\u001b[49m\u001b[43m)\u001b[49m\n\u001b[0;32m   4754\u001b[0m     indexer \u001b[38;5;241m=\u001b[39m axis\u001b[38;5;241m.\u001b[39mget_indexer(new_axis)\n\u001b[0;32m   4756\u001b[0m \u001b[38;5;66;03m# Case for non-unique axis\u001b[39;00m\n\u001b[0;32m   4757\u001b[0m \u001b[38;5;28;01melse\u001b[39;00m:\n",
      "File \u001b[1;32mc:\\Users\\Dmitry\\AppData\\Local\\Programs\\Python\\Python311\\Lib\\site-packages\\pandas\\core\\indexes\\base.py:6992\u001b[0m, in \u001b[0;36mIndex.drop\u001b[1;34m(self, labels, errors)\u001b[0m\n\u001b[0;32m   6990\u001b[0m \u001b[38;5;28;01mif\u001b[39;00m mask\u001b[38;5;241m.\u001b[39many():\n\u001b[0;32m   6991\u001b[0m     \u001b[38;5;28;01mif\u001b[39;00m errors \u001b[38;5;241m!=\u001b[39m \u001b[38;5;124m\"\u001b[39m\u001b[38;5;124mignore\u001b[39m\u001b[38;5;124m\"\u001b[39m:\n\u001b[1;32m-> 6992\u001b[0m         \u001b[38;5;28;01mraise\u001b[39;00m \u001b[38;5;167;01mKeyError\u001b[39;00m(\u001b[38;5;124mf\u001b[39m\u001b[38;5;124m\"\u001b[39m\u001b[38;5;132;01m{\u001b[39;00mlabels[mask]\u001b[38;5;241m.\u001b[39mtolist()\u001b[38;5;132;01m}\u001b[39;00m\u001b[38;5;124m not found in axis\u001b[39m\u001b[38;5;124m\"\u001b[39m)\n\u001b[0;32m   6993\u001b[0m     indexer \u001b[38;5;241m=\u001b[39m indexer[\u001b[38;5;241m~\u001b[39mmask]\n\u001b[0;32m   6994\u001b[0m \u001b[38;5;28;01mreturn\u001b[39;00m \u001b[38;5;28mself\u001b[39m\u001b[38;5;241m.\u001b[39mdelete(indexer)\n",
      "\u001b[1;31mKeyError\u001b[0m: \"['История пробега'] not found in axis\""
     ]
    }
   ],
   "source": [
    "data.drop(columns=[\"История пробега\", \"Комплектация\"], inplace=True)"
   ]
  },
  {
   "cell_type": "markdown",
   "metadata": {},
   "source": [
    "Признак *VIN или номер кузова* можно оставить, если есть Nan значения, и сделать бинарным признаком - VIN указан/не указан"
   ]
  },
  {
   "cell_type": "code",
   "execution_count": null,
   "metadata": {},
   "outputs": [
    {
     "data": {
      "text/plain": [
       "False"
      ]
     },
     "execution_count": 14,
     "metadata": {},
     "output_type": "execute_result"
    }
   ],
   "source": [
    "# проверим, есть ли NaN значения\n",
    "data['VIN или номер кузова'].isna().any()"
   ]
  },
  {
   "cell_type": "markdown",
   "metadata": {},
   "source": [
    "Данный признак не получится сделать бинарным. Сам по себе номер кузов служит для идентификации конкретного автомобиля. Если бы были видно все символы VIN, можно было бы сделать данный признак индексом. Однако доступны только первые 4 символа и встречаются повторяющиеся значения. Признак *VIN или номер кузова* можно удалить"
   ]
  },
  {
   "cell_type": "code",
   "execution_count": null,
   "metadata": {},
   "outputs": [],
   "source": [
    "data.drop(columns='VIN или номер кузова', inplace=True)"
   ]
  },
  {
   "cell_type": "code",
   "execution_count": null,
   "metadata": {},
   "outputs": [
    {
     "data": {
      "text/plain": [
       "Руль\n",
       "Левый     4923\n",
       "Правый      23\n",
       "Name: count, dtype: int64"
      ]
     },
     "execution_count": 16,
     "metadata": {},
     "output_type": "execute_result"
    }
   ],
   "source": [
    "data['Руль'].value_counts()"
   ]
  },
  {
   "cell_type": "code",
   "execution_count": null,
   "metadata": {},
   "outputs": [
    {
     "data": {
      "text/html": [
       "<div>\n",
       "<style scoped>\n",
       "    .dataframe tbody tr th:only-of-type {\n",
       "        vertical-align: middle;\n",
       "    }\n",
       "\n",
       "    .dataframe tbody tr th {\n",
       "        vertical-align: top;\n",
       "    }\n",
       "\n",
       "    .dataframe thead th {\n",
       "        text-align: right;\n",
       "    }\n",
       "</style>\n",
       "<table border=\"1\" class=\"dataframe\">\n",
       "  <thead>\n",
       "    <tr style=\"text-align: right;\">\n",
       "      <th></th>\n",
       "      <th>Год выпуска</th>\n",
       "      <th>Поколение</th>\n",
       "      <th>Пробег</th>\n",
       "      <th>ПТС</th>\n",
       "      <th>Владельцев по ПТС</th>\n",
       "      <th>Состояние</th>\n",
       "      <th>Модификация</th>\n",
       "      <th>Объём двигателя</th>\n",
       "      <th>Тип двигателя</th>\n",
       "      <th>Коробка передач</th>\n",
       "      <th>Привод</th>\n",
       "      <th>Тип кузова</th>\n",
       "      <th>Цвет</th>\n",
       "      <th>Руль</th>\n",
       "      <th>Название</th>\n",
       "      <th>Цена</th>\n",
       "      <th>Обмен</th>\n",
       "    </tr>\n",
       "  </thead>\n",
       "  <tbody>\n",
       "    <tr>\n",
       "      <th>0</th>\n",
       "      <td>2010</td>\n",
       "      <td>I рестайлинг (2009—2012)</td>\n",
       "      <td>156 000 км</td>\n",
       "      <td>Оригинал</td>\n",
       "      <td>2</td>\n",
       "      <td>Не битый</td>\n",
       "      <td>2.3 4WD AT (238 л.с.)</td>\n",
       "      <td>2.3 л</td>\n",
       "      <td>Бензин</td>\n",
       "      <td>Автомат</td>\n",
       "      <td>Полный</td>\n",
       "      <td>Внедорожник 5-дверный</td>\n",
       "      <td>Белый</td>\n",
       "      <td>Левый</td>\n",
       "      <td>Mazda CX-7</td>\n",
       "      <td>1050000</td>\n",
       "      <td>NaN</td>\n",
       "    </tr>\n",
       "    <tr>\n",
       "      <th>1</th>\n",
       "      <td>2020</td>\n",
       "      <td>G07 (2018—2022)</td>\n",
       "      <td>109 000 км</td>\n",
       "      <td>Оригинал</td>\n",
       "      <td>1</td>\n",
       "      <td>Не битый</td>\n",
       "      <td>M50d 3.0 xDrive Steptronic (400 л.с.)</td>\n",
       "      <td>3 л</td>\n",
       "      <td>Дизель</td>\n",
       "      <td>Автомат</td>\n",
       "      <td>Полный</td>\n",
       "      <td>Внедорожник 5-дверный</td>\n",
       "      <td>Синий</td>\n",
       "      <td>Левый</td>\n",
       "      <td>BMW X7</td>\n",
       "      <td>8800000</td>\n",
       "      <td>Не интересует</td>\n",
       "    </tr>\n",
       "    <tr>\n",
       "      <th>2</th>\n",
       "      <td>2023</td>\n",
       "      <td>I (2023—2024)</td>\n",
       "      <td>15 км</td>\n",
       "      <td>NaN</td>\n",
       "      <td>1</td>\n",
       "      <td>Не битый</td>\n",
       "      <td>2.0 T-GDI 4WD DCT (249 л.с.)</td>\n",
       "      <td>2 л</td>\n",
       "      <td>Бензин</td>\n",
       "      <td>Робот</td>\n",
       "      <td>Полный</td>\n",
       "      <td>Внедорожник 5-дверный</td>\n",
       "      <td>Чёрный</td>\n",
       "      <td>Левый</td>\n",
       "      <td>EXEED RX</td>\n",
       "      <td>3730000</td>\n",
       "      <td>NaN</td>\n",
       "    </tr>\n",
       "    <tr>\n",
       "      <th>3</th>\n",
       "      <td>2024</td>\n",
       "      <td>I (2022—2024)</td>\n",
       "      <td>300 км</td>\n",
       "      <td>NaN</td>\n",
       "      <td>1</td>\n",
       "      <td>Не битый</td>\n",
       "      <td>1.5hyb 4WD AT (530 л.с.)</td>\n",
       "      <td>1.5 л</td>\n",
       "      <td>Гибрид</td>\n",
       "      <td>Автомат</td>\n",
       "      <td>Полный</td>\n",
       "      <td>Седан</td>\n",
       "      <td>Чёрный</td>\n",
       "      <td>Левый</td>\n",
       "      <td>Voyah Passion (Chasing Light)</td>\n",
       "      <td>6770000</td>\n",
       "      <td>NaN</td>\n",
       "    </tr>\n",
       "    <tr>\n",
       "      <th>4</th>\n",
       "      <td>2024</td>\n",
       "      <td>I (2021—2024)</td>\n",
       "      <td>10 км</td>\n",
       "      <td>Электронный</td>\n",
       "      <td>1</td>\n",
       "      <td>Не битый</td>\n",
       "      <td>2.0 4WD AT (238 л.с.)</td>\n",
       "      <td>2 л</td>\n",
       "      <td>Бензин</td>\n",
       "      <td>Автомат</td>\n",
       "      <td>Полный</td>\n",
       "      <td>Внедорожник 5-дверный</td>\n",
       "      <td>Белый</td>\n",
       "      <td>Левый</td>\n",
       "      <td>Geely Monjaro</td>\n",
       "      <td>3600000</td>\n",
       "      <td>Не интересует</td>\n",
       "    </tr>\n",
       "  </tbody>\n",
       "</table>\n",
       "</div>"
      ],
      "text/plain": [
       "   Год выпуска                 Поколение      Пробег          ПТС  \\\n",
       "0         2010  I рестайлинг (2009—2012)  156 000 км     Оригинал   \n",
       "1         2020           G07 (2018—2022)  109 000 км     Оригинал   \n",
       "2         2023             I (2023—2024)       15 км          NaN   \n",
       "3         2024             I (2022—2024)      300 км          NaN   \n",
       "4         2024             I (2021—2024)       10 км  Электронный   \n",
       "\n",
       "  Владельцев по ПТС Состояние                            Модификация  \\\n",
       "0                 2  Не битый                  2.3 4WD AT (238 л.с.)   \n",
       "1                 1  Не битый  M50d 3.0 xDrive Steptronic (400 л.с.)   \n",
       "2                 1  Не битый           2.0 T-GDI 4WD DCT (249 л.с.)   \n",
       "3                 1  Не битый               1.5hyb 4WD AT (530 л.с.)   \n",
       "4                 1  Не битый                  2.0 4WD AT (238 л.с.)   \n",
       "\n",
       "  Объём двигателя Тип двигателя Коробка передач  Привод  \\\n",
       "0           2.3 л        Бензин         Автомат  Полный   \n",
       "1             3 л        Дизель         Автомат  Полный   \n",
       "2             2 л        Бензин           Робот  Полный   \n",
       "3           1.5 л        Гибрид         Автомат  Полный   \n",
       "4             2 л        Бензин         Автомат  Полный   \n",
       "\n",
       "              Тип кузова    Цвет   Руль                       Название  \\\n",
       "0  Внедорожник 5-дверный   Белый  Левый                     Mazda CX-7   \n",
       "1  Внедорожник 5-дверный   Синий  Левый                         BMW X7   \n",
       "2  Внедорожник 5-дверный  Чёрный  Левый                       EXEED RX   \n",
       "3                  Седан  Чёрный  Левый  Voyah Passion (Chasing Light)   \n",
       "4  Внедорожник 5-дверный   Белый  Левый                  Geely Monjaro   \n",
       "\n",
       "      Цена          Обмен  \n",
       "0  1050000            NaN  \n",
       "1  8800000  Не интересует  \n",
       "2  3730000            NaN  \n",
       "3  6770000            NaN  \n",
       "4  3600000  Не интересует  "
      ]
     },
     "execution_count": 17,
     "metadata": {},
     "output_type": "execute_result"
    }
   ],
   "source": [
    "data.head()"
   ]
  }
 ],
 "metadata": {
  "kernelspec": {
   "display_name": "Python 3",
   "language": "python",
   "name": "python3"
  },
  "language_info": {
   "codemirror_mode": {
    "name": "ipython",
    "version": 3
   },
   "file_extension": ".py",
   "mimetype": "text/x-python",
   "name": "python",
   "nbconvert_exporter": "python",
   "pygments_lexer": "ipython3",
   "version": "3.11.3"
  }
 },
 "nbformat": 4,
 "nbformat_minor": 2
}
