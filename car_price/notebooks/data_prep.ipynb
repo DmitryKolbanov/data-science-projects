{
 "cells": [
  {
   "cell_type": "markdown",
   "metadata": {},
   "source": [
    "# Обработка данных"
   ]
  },
  {
   "cell_type": "markdown",
   "metadata": {},
   "source": [
    "## Подключение библиотек и считывание данных"
   ]
  },
  {
   "cell_type": "code",
   "metadata": {
    "ExecuteTime": {
     "end_time": "2024-08-12T11:53:56.223199Z",
     "start_time": "2024-08-12T11:53:56.213009Z"
    }
   },
   "source": [
    "# импорт библиотек\n",
    "import pandas as pd\n",
    "import numpy as np"
   ],
   "outputs": [],
   "execution_count": 58
  },
  {
   "cell_type": "code",
   "metadata": {
    "ExecuteTime": {
     "end_time": "2024-08-12T11:53:57.012391Z",
     "start_time": "2024-08-12T11:53:56.753159Z"
    }
   },
   "source": [
    "# считываем данные\n",
    "data = pd.read_csv('../data/car_price.csv', index_col=0)\n",
    "\n",
    "data.head()"
   ],
   "outputs": [
    {
     "data": {
      "text/plain": [
       "   Год выпуска                 Поколение      Пробег  \\\n",
       "0         2010  I рестайлинг (2009—2012)  156 000 км   \n",
       "1         2020           G07 (2018—2022)  109 000 км   \n",
       "2         2023             I (2023—2024)       15 км   \n",
       "3         2024             I (2022—2024)      300 км   \n",
       "4         2024             I (2021—2024)       10 км   \n",
       "\n",
       "               История пробега          ПТС Владельцев по ПТС Состояние  \\\n",
       "0  7 записей в отчёте Автотеки     Оригинал                 2  Не битый   \n",
       "1         Проверить в Автотеке     Оригинал                 1  Не битый   \n",
       "2                          NaN          NaN                 1  Не битый   \n",
       "3   2 записи в отчёте Автотеки          NaN                 1  Не битый   \n",
       "4                          NaN  Электронный                 1  Не битый   \n",
       "\n",
       "                             Модификация Объём двигателя Тип двигателя  \\\n",
       "0                  2.3 4WD AT (238 л.с.)           2.3 л        Бензин   \n",
       "1  M50d 3.0 xDrive Steptronic (400 л.с.)             3 л        Дизель   \n",
       "2           2.0 T-GDI 4WD DCT (249 л.с.)             2 л        Бензин   \n",
       "3               1.5hyb 4WD AT (530 л.с.)           1.5 л        Гибрид   \n",
       "4                  2.0 4WD AT (238 л.с.)             2 л        Бензин   \n",
       "\n",
       "  Коробка передач  Привод           Комплектация             Тип кузова  \\\n",
       "0         Автомат  Полный                  Sport  Внедорожник 5-дверный   \n",
       "1         Автомат  Полный  Special by Individual  Внедорожник 5-дверный   \n",
       "2           Робот  Полный               Platinum  Внедорожник 5-дверный   \n",
       "3         Автомат  Полный              Executive                  Седан   \n",
       "4         Автомат  Полный               Flagship  Внедорожник 5-дверный   \n",
       "\n",
       "     Цвет   Руль VIN или номер кузова                       Название     Цена  \\\n",
       "0   Белый  Левый    JMZE*************                     Mazda CX-7  1050000   \n",
       "1   Синий  Левый    WBAC*************                         BMW X7  8800000   \n",
       "2  Чёрный  Левый    LVTD*************                       EXEED RX  3730000   \n",
       "3  Чёрный  Левый    LDP9*************  Voyah Passion (Chasing Light)  6770000   \n",
       "4   Белый  Левый    LB37*************                  Geely Monjaro  3600000   \n",
       "\n",
       "           Обмен  \n",
       "0            NaN  \n",
       "1  Не интересует  \n",
       "2            NaN  \n",
       "3            NaN  \n",
       "4  Не интересует  "
      ],
      "text/html": [
       "<div>\n",
       "<style scoped>\n",
       "    .dataframe tbody tr th:only-of-type {\n",
       "        vertical-align: middle;\n",
       "    }\n",
       "\n",
       "    .dataframe tbody tr th {\n",
       "        vertical-align: top;\n",
       "    }\n",
       "\n",
       "    .dataframe thead th {\n",
       "        text-align: right;\n",
       "    }\n",
       "</style>\n",
       "<table border=\"1\" class=\"dataframe\">\n",
       "  <thead>\n",
       "    <tr style=\"text-align: right;\">\n",
       "      <th></th>\n",
       "      <th>Год выпуска</th>\n",
       "      <th>Поколение</th>\n",
       "      <th>Пробег</th>\n",
       "      <th>История пробега</th>\n",
       "      <th>ПТС</th>\n",
       "      <th>Владельцев по ПТС</th>\n",
       "      <th>Состояние</th>\n",
       "      <th>Модификация</th>\n",
       "      <th>Объём двигателя</th>\n",
       "      <th>Тип двигателя</th>\n",
       "      <th>Коробка передач</th>\n",
       "      <th>Привод</th>\n",
       "      <th>Комплектация</th>\n",
       "      <th>Тип кузова</th>\n",
       "      <th>Цвет</th>\n",
       "      <th>Руль</th>\n",
       "      <th>VIN или номер кузова</th>\n",
       "      <th>Название</th>\n",
       "      <th>Цена</th>\n",
       "      <th>Обмен</th>\n",
       "    </tr>\n",
       "  </thead>\n",
       "  <tbody>\n",
       "    <tr>\n",
       "      <th>0</th>\n",
       "      <td>2010</td>\n",
       "      <td>I рестайлинг (2009—2012)</td>\n",
       "      <td>156 000 км</td>\n",
       "      <td>7 записей в отчёте Автотеки</td>\n",
       "      <td>Оригинал</td>\n",
       "      <td>2</td>\n",
       "      <td>Не битый</td>\n",
       "      <td>2.3 4WD AT (238 л.с.)</td>\n",
       "      <td>2.3 л</td>\n",
       "      <td>Бензин</td>\n",
       "      <td>Автомат</td>\n",
       "      <td>Полный</td>\n",
       "      <td>Sport</td>\n",
       "      <td>Внедорожник 5-дверный</td>\n",
       "      <td>Белый</td>\n",
       "      <td>Левый</td>\n",
       "      <td>JMZE*************</td>\n",
       "      <td>Mazda CX-7</td>\n",
       "      <td>1050000</td>\n",
       "      <td>NaN</td>\n",
       "    </tr>\n",
       "    <tr>\n",
       "      <th>1</th>\n",
       "      <td>2020</td>\n",
       "      <td>G07 (2018—2022)</td>\n",
       "      <td>109 000 км</td>\n",
       "      <td>Проверить в Автотеке</td>\n",
       "      <td>Оригинал</td>\n",
       "      <td>1</td>\n",
       "      <td>Не битый</td>\n",
       "      <td>M50d 3.0 xDrive Steptronic (400 л.с.)</td>\n",
       "      <td>3 л</td>\n",
       "      <td>Дизель</td>\n",
       "      <td>Автомат</td>\n",
       "      <td>Полный</td>\n",
       "      <td>Special by Individual</td>\n",
       "      <td>Внедорожник 5-дверный</td>\n",
       "      <td>Синий</td>\n",
       "      <td>Левый</td>\n",
       "      <td>WBAC*************</td>\n",
       "      <td>BMW X7</td>\n",
       "      <td>8800000</td>\n",
       "      <td>Не интересует</td>\n",
       "    </tr>\n",
       "    <tr>\n",
       "      <th>2</th>\n",
       "      <td>2023</td>\n",
       "      <td>I (2023—2024)</td>\n",
       "      <td>15 км</td>\n",
       "      <td>NaN</td>\n",
       "      <td>NaN</td>\n",
       "      <td>1</td>\n",
       "      <td>Не битый</td>\n",
       "      <td>2.0 T-GDI 4WD DCT (249 л.с.)</td>\n",
       "      <td>2 л</td>\n",
       "      <td>Бензин</td>\n",
       "      <td>Робот</td>\n",
       "      <td>Полный</td>\n",
       "      <td>Platinum</td>\n",
       "      <td>Внедорожник 5-дверный</td>\n",
       "      <td>Чёрный</td>\n",
       "      <td>Левый</td>\n",
       "      <td>LVTD*************</td>\n",
       "      <td>EXEED RX</td>\n",
       "      <td>3730000</td>\n",
       "      <td>NaN</td>\n",
       "    </tr>\n",
       "    <tr>\n",
       "      <th>3</th>\n",
       "      <td>2024</td>\n",
       "      <td>I (2022—2024)</td>\n",
       "      <td>300 км</td>\n",
       "      <td>2 записи в отчёте Автотеки</td>\n",
       "      <td>NaN</td>\n",
       "      <td>1</td>\n",
       "      <td>Не битый</td>\n",
       "      <td>1.5hyb 4WD AT (530 л.с.)</td>\n",
       "      <td>1.5 л</td>\n",
       "      <td>Гибрид</td>\n",
       "      <td>Автомат</td>\n",
       "      <td>Полный</td>\n",
       "      <td>Executive</td>\n",
       "      <td>Седан</td>\n",
       "      <td>Чёрный</td>\n",
       "      <td>Левый</td>\n",
       "      <td>LDP9*************</td>\n",
       "      <td>Voyah Passion (Chasing Light)</td>\n",
       "      <td>6770000</td>\n",
       "      <td>NaN</td>\n",
       "    </tr>\n",
       "    <tr>\n",
       "      <th>4</th>\n",
       "      <td>2024</td>\n",
       "      <td>I (2021—2024)</td>\n",
       "      <td>10 км</td>\n",
       "      <td>NaN</td>\n",
       "      <td>Электронный</td>\n",
       "      <td>1</td>\n",
       "      <td>Не битый</td>\n",
       "      <td>2.0 4WD AT (238 л.с.)</td>\n",
       "      <td>2 л</td>\n",
       "      <td>Бензин</td>\n",
       "      <td>Автомат</td>\n",
       "      <td>Полный</td>\n",
       "      <td>Flagship</td>\n",
       "      <td>Внедорожник 5-дверный</td>\n",
       "      <td>Белый</td>\n",
       "      <td>Левый</td>\n",
       "      <td>LB37*************</td>\n",
       "      <td>Geely Monjaro</td>\n",
       "      <td>3600000</td>\n",
       "      <td>Не интересует</td>\n",
       "    </tr>\n",
       "  </tbody>\n",
       "</table>\n",
       "</div>"
      ]
     },
     "execution_count": 59,
     "metadata": {},
     "output_type": "execute_result"
    }
   ],
   "execution_count": 59
  },
  {
   "cell_type": "markdown",
   "metadata": {},
   "source": [
    "## Обработка пропущенных значений"
   ]
  },
  {
   "cell_type": "markdown",
   "metadata": {},
   "source": [
    "### Обзор данных"
   ]
  },
  {
   "cell_type": "code",
   "metadata": {
    "ExecuteTime": {
     "end_time": "2024-08-12T11:53:57.054515Z",
     "start_time": "2024-08-12T11:53:57.012391Z"
    }
   },
   "source": [
    "# удалим дубликаты, пересоберем индексы, посмотрим размерность\n",
    "data.drop_duplicates(keep='first', inplace=True)\n",
    "data.reset_index(drop=True, inplace=True)\n",
    "data.shape"
   ],
   "outputs": [
    {
     "data": {
      "text/plain": [
       "(2109, 20)"
      ]
     },
     "execution_count": 60,
     "metadata": {},
     "output_type": "execute_result"
    }
   ],
   "execution_count": 60
  },
  {
   "cell_type": "code",
   "metadata": {
    "ExecuteTime": {
     "end_time": "2024-08-12T11:53:57.101356Z",
     "start_time": "2024-08-12T11:53:57.054515Z"
    }
   },
   "source": [
    "# посмотрим на краткое содержание данных\n",
    "data.info()"
   ],
   "outputs": [
    {
     "name": "stdout",
     "output_type": "stream",
     "text": [
      "<class 'pandas.core.frame.DataFrame'>\n",
      "RangeIndex: 2109 entries, 0 to 2108\n",
      "Data columns (total 20 columns):\n",
      " #   Column                Non-Null Count  Dtype \n",
      "---  ------                --------------  ----- \n",
      " 0   Год выпуска           2109 non-null   int64 \n",
      " 1   Поколение             2109 non-null   object\n",
      " 2   Пробег                2109 non-null   object\n",
      " 3   История пробега       2008 non-null   object\n",
      " 4   ПТС                   1373 non-null   object\n",
      " 5   Владельцев по ПТС     2109 non-null   object\n",
      " 6   Состояние             2109 non-null   object\n",
      " 7   Модификация           2108 non-null   object\n",
      " 8   Объём двигателя       2107 non-null   object\n",
      " 9   Тип двигателя         2109 non-null   object\n",
      " 10  Коробка передач       2109 non-null   object\n",
      " 11  Привод                2109 non-null   object\n",
      " 12  Комплектация          1715 non-null   object\n",
      " 13  Тип кузова            2109 non-null   object\n",
      " 14  Цвет                  2109 non-null   object\n",
      " 15  Руль                  2109 non-null   object\n",
      " 16  VIN или номер кузова  2109 non-null   object\n",
      " 17  Название              2109 non-null   object\n",
      " 18  Цена                  2109 non-null   int64 \n",
      " 19  Обмен                 1554 non-null   object\n",
      "dtypes: int64(2), object(18)\n",
      "memory usage: 329.7+ KB\n"
     ]
    }
   ],
   "execution_count": 61
  },
  {
   "cell_type": "markdown",
   "metadata": {},
   "source": [
    "Видно, что у признаков **История пробега**, **ПТС**, **Модификация**, **Объем двигателя**, **Комплектация** и **Обмен** есть пропущенные значения."
   ]
  },
  {
   "cell_type": "markdown",
   "metadata": {},
   "source": [
    "### Признак - **История пробега**"
   ]
  },
  {
   "cell_type": "markdown",
   "metadata": {},
   "source": [
    "**История пробега** показывает количество информации об автомобиле на конкретном агрегаторе - Авито. Его можно удалить"
   ]
  },
  {
   "cell_type": "code",
   "metadata": {
    "ExecuteTime": {
     "end_time": "2024-08-12T11:53:57.115666Z",
     "start_time": "2024-08-12T11:53:57.102363Z"
    }
   },
   "source": [
    "data.drop(columns=\"История пробега\", inplace=True)"
   ],
   "outputs": [],
   "execution_count": 62
  },
  {
   "cell_type": "markdown",
   "metadata": {},
   "source": [
    "### Признак - **ПТС**"
   ]
  },
  {
   "cell_type": "code",
   "metadata": {
    "ExecuteTime": {
     "end_time": "2024-08-12T11:53:57.139244Z",
     "start_time": "2024-08-12T11:53:57.117610Z"
    }
   },
   "source": [
    "# посмотрим, какие значения может принимать столбец ПТС\n",
    "data['ПТС'].value_counts()"
   ],
   "outputs": [
    {
     "data": {
      "text/plain": [
       "ПТС\n",
       "Оригинал       1002\n",
       "Электронный     213\n",
       "Дубликат        158\n",
       "Name: count, dtype: int64"
      ]
     },
     "execution_count": 63,
     "metadata": {},
     "output_type": "execute_result"
    }
   ],
   "execution_count": 63
  },
  {
   "cell_type": "markdown",
   "metadata": {},
   "source": [
    "Можно было бы сделать данный признак бинарным - ПТС указан/не указан, однако формат ПТС также может влиять на автомобиля. Считается, что с дубликат ПТС является менее предпочтительным вариантом, так как может, например, указывать на частую смену владельцев. Более подробно про виды ПТС:\n",
    "- https://rolf-probeg.ru/blog/dublikat-pts-chem-opasen-i-kak-otlichit-ot-originala/?utm_source=google.com&utm_medium=organic&utm_campaign=google.com&utm_referrer=google.com\n",
    "- https://ufa.tts.ru/blog/sovety-avtomobilistam/vse-ob-elektronnom-pts-v-chem-otlichiya-ot-bumazhnogo-formata-kak-poluchit-epts-i-postavit-mashinu-n/\n",
    "\n",
    "Данный признак является категориальным. Заполним пропущенные ячейки значением \"Не указан\""
   ]
  },
  {
   "cell_type": "code",
   "metadata": {
    "ExecuteTime": {
     "end_time": "2024-08-12T11:53:57.305894Z",
     "start_time": "2024-08-12T11:53:57.297494Z"
    }
   },
   "source": [
    "data['ПТС'].fillna('Не указан', inplace=True)"
   ],
   "outputs": [],
   "execution_count": 64
  },
  {
   "cell_type": "markdown",
   "metadata": {},
   "source": [
    "### Признак - **Модификация**"
   ]
  },
  {
   "cell_type": "code",
   "metadata": {
    "ExecuteTime": {
     "end_time": "2024-08-12T11:53:57.556757Z",
     "start_time": "2024-08-12T11:53:57.542285Z"
    }
   },
   "source": [
    "# посмотрим на некоторые значения \n",
    "data['Модификация'].head()"
   ],
   "outputs": [
    {
     "data": {
      "text/plain": [
       "0                    2.3 4WD AT (238 л.с.)\n",
       "1    M50d 3.0 xDrive Steptronic (400 л.с.)\n",
       "2             2.0 T-GDI 4WD DCT (249 л.с.)\n",
       "3                 1.5hyb 4WD AT (530 л.с.)\n",
       "4                    2.0 4WD AT (238 л.с.)\n",
       "Name: Модификация, dtype: object"
      ]
     },
     "execution_count": 65,
     "metadata": {},
     "output_type": "execute_result"
    }
   ],
   "execution_count": 65
  },
  {
   "cell_type": "code",
   "metadata": {
    "ExecuteTime": {
     "end_time": "2024-08-12T11:53:57.846138Z",
     "start_time": "2024-08-12T11:53:57.818928Z"
    }
   },
   "source": [
    "# посмотрим на строки с пропущенными значениями\n",
    "data[data['Модификация'].isna()]"
   ],
   "outputs": [
    {
     "data": {
      "text/plain": [
       "      Год выпуска      Поколение      Пробег        ПТС Владельцев по ПТС  \\\n",
       "1621         2014  I (2010—2014)  109 000 км  Не указан                 2   \n",
       "\n",
       "     Состояние Модификация Объём двигателя Тип двигателя Коробка передач  \\\n",
       "1621  Не битый         NaN           1.6 л        Бензин        Вариатор   \n",
       "\n",
       "      Привод Комплектация             Тип кузова   Цвет   Руль  \\\n",
       "1621  Полный          NaN  Внедорожник 5-дверный  Белый  Левый   \n",
       "\n",
       "     VIN или номер кузова     Название     Цена     Обмен  \n",
       "1621    SJNF*************  Nissan Juke  1419000  Возможен  "
      ],
      "text/html": [
       "<div>\n",
       "<style scoped>\n",
       "    .dataframe tbody tr th:only-of-type {\n",
       "        vertical-align: middle;\n",
       "    }\n",
       "\n",
       "    .dataframe tbody tr th {\n",
       "        vertical-align: top;\n",
       "    }\n",
       "\n",
       "    .dataframe thead th {\n",
       "        text-align: right;\n",
       "    }\n",
       "</style>\n",
       "<table border=\"1\" class=\"dataframe\">\n",
       "  <thead>\n",
       "    <tr style=\"text-align: right;\">\n",
       "      <th></th>\n",
       "      <th>Год выпуска</th>\n",
       "      <th>Поколение</th>\n",
       "      <th>Пробег</th>\n",
       "      <th>ПТС</th>\n",
       "      <th>Владельцев по ПТС</th>\n",
       "      <th>Состояние</th>\n",
       "      <th>Модификация</th>\n",
       "      <th>Объём двигателя</th>\n",
       "      <th>Тип двигателя</th>\n",
       "      <th>Коробка передач</th>\n",
       "      <th>Привод</th>\n",
       "      <th>Комплектация</th>\n",
       "      <th>Тип кузова</th>\n",
       "      <th>Цвет</th>\n",
       "      <th>Руль</th>\n",
       "      <th>VIN или номер кузова</th>\n",
       "      <th>Название</th>\n",
       "      <th>Цена</th>\n",
       "      <th>Обмен</th>\n",
       "    </tr>\n",
       "  </thead>\n",
       "  <tbody>\n",
       "    <tr>\n",
       "      <th>1621</th>\n",
       "      <td>2014</td>\n",
       "      <td>I (2010—2014)</td>\n",
       "      <td>109 000 км</td>\n",
       "      <td>Не указан</td>\n",
       "      <td>2</td>\n",
       "      <td>Не битый</td>\n",
       "      <td>NaN</td>\n",
       "      <td>1.6 л</td>\n",
       "      <td>Бензин</td>\n",
       "      <td>Вариатор</td>\n",
       "      <td>Полный</td>\n",
       "      <td>NaN</td>\n",
       "      <td>Внедорожник 5-дверный</td>\n",
       "      <td>Белый</td>\n",
       "      <td>Левый</td>\n",
       "      <td>SJNF*************</td>\n",
       "      <td>Nissan Juke</td>\n",
       "      <td>1419000</td>\n",
       "      <td>Возможен</td>\n",
       "    </tr>\n",
       "  </tbody>\n",
       "</table>\n",
       "</div>"
      ]
     },
     "execution_count": 66,
     "metadata": {},
     "output_type": "execute_result"
    }
   ],
   "execution_count": 66
  },
  {
   "cell_type": "markdown",
   "metadata": {},
   "source": [
    "Модификацию можно определить по другим признакам. Найдем машину с такими же характеристиками"
   ]
  },
  {
   "cell_type": "code",
   "metadata": {
    "ExecuteTime": {
     "end_time": "2024-08-12T11:53:58.089177Z",
     "start_time": "2024-08-12T11:53:58.058373Z"
    }
   },
   "source": [
    "data[(data['Название'] == 'Nissan Juke') & (data['Привод'] == 'Полный')]"
   ],
   "outputs": [
    {
     "data": {
      "text/plain": [
       "      Год выпуска      Поколение      Пробег        ПТС Владельцев по ПТС  \\\n",
       "1621         2014  I (2010—2014)  109 000 км  Не указан                 2   \n",
       "1667         2011  I (2010—2014)  103 000 км   Оригинал                 2   \n",
       "\n",
       "     Состояние             Модификация Объём двигателя Тип двигателя  \\\n",
       "1621  Не битый                     NaN           1.6 л        Бензин   \n",
       "1667  Не битый  1.6 CVT (190 л.с.) 4WD           1.6 л        Бензин   \n",
       "\n",
       "     Коробка передач  Привод Комплектация             Тип кузова    Цвет  \\\n",
       "1621        Вариатор  Полный          NaN  Внедорожник 5-дверный   Белый   \n",
       "1667        Вариатор  Полный      Базовая  Внедорожник 5-дверный  Чёрный   \n",
       "\n",
       "       Руль VIN или номер кузова     Название     Цена     Обмен  \n",
       "1621  Левый    SJNF*************  Nissan Juke  1419000  Возможен  \n",
       "1667  Левый    JN8A*************  Nissan Juke  1170000  Возможен  "
      ],
      "text/html": [
       "<div>\n",
       "<style scoped>\n",
       "    .dataframe tbody tr th:only-of-type {\n",
       "        vertical-align: middle;\n",
       "    }\n",
       "\n",
       "    .dataframe tbody tr th {\n",
       "        vertical-align: top;\n",
       "    }\n",
       "\n",
       "    .dataframe thead th {\n",
       "        text-align: right;\n",
       "    }\n",
       "</style>\n",
       "<table border=\"1\" class=\"dataframe\">\n",
       "  <thead>\n",
       "    <tr style=\"text-align: right;\">\n",
       "      <th></th>\n",
       "      <th>Год выпуска</th>\n",
       "      <th>Поколение</th>\n",
       "      <th>Пробег</th>\n",
       "      <th>ПТС</th>\n",
       "      <th>Владельцев по ПТС</th>\n",
       "      <th>Состояние</th>\n",
       "      <th>Модификация</th>\n",
       "      <th>Объём двигателя</th>\n",
       "      <th>Тип двигателя</th>\n",
       "      <th>Коробка передач</th>\n",
       "      <th>Привод</th>\n",
       "      <th>Комплектация</th>\n",
       "      <th>Тип кузова</th>\n",
       "      <th>Цвет</th>\n",
       "      <th>Руль</th>\n",
       "      <th>VIN или номер кузова</th>\n",
       "      <th>Название</th>\n",
       "      <th>Цена</th>\n",
       "      <th>Обмен</th>\n",
       "    </tr>\n",
       "  </thead>\n",
       "  <tbody>\n",
       "    <tr>\n",
       "      <th>1621</th>\n",
       "      <td>2014</td>\n",
       "      <td>I (2010—2014)</td>\n",
       "      <td>109 000 км</td>\n",
       "      <td>Не указан</td>\n",
       "      <td>2</td>\n",
       "      <td>Не битый</td>\n",
       "      <td>NaN</td>\n",
       "      <td>1.6 л</td>\n",
       "      <td>Бензин</td>\n",
       "      <td>Вариатор</td>\n",
       "      <td>Полный</td>\n",
       "      <td>NaN</td>\n",
       "      <td>Внедорожник 5-дверный</td>\n",
       "      <td>Белый</td>\n",
       "      <td>Левый</td>\n",
       "      <td>SJNF*************</td>\n",
       "      <td>Nissan Juke</td>\n",
       "      <td>1419000</td>\n",
       "      <td>Возможен</td>\n",
       "    </tr>\n",
       "    <tr>\n",
       "      <th>1667</th>\n",
       "      <td>2011</td>\n",
       "      <td>I (2010—2014)</td>\n",
       "      <td>103 000 км</td>\n",
       "      <td>Оригинал</td>\n",
       "      <td>2</td>\n",
       "      <td>Не битый</td>\n",
       "      <td>1.6 CVT (190 л.с.) 4WD</td>\n",
       "      <td>1.6 л</td>\n",
       "      <td>Бензин</td>\n",
       "      <td>Вариатор</td>\n",
       "      <td>Полный</td>\n",
       "      <td>Базовая</td>\n",
       "      <td>Внедорожник 5-дверный</td>\n",
       "      <td>Чёрный</td>\n",
       "      <td>Левый</td>\n",
       "      <td>JN8A*************</td>\n",
       "      <td>Nissan Juke</td>\n",
       "      <td>1170000</td>\n",
       "      <td>Возможен</td>\n",
       "    </tr>\n",
       "  </tbody>\n",
       "</table>\n",
       "</div>"
      ]
     },
     "execution_count": 67,
     "metadata": {},
     "output_type": "execute_result"
    }
   ],
   "execution_count": 67
  },
  {
   "cell_type": "code",
   "metadata": {
    "ExecuteTime": {
     "end_time": "2024-08-12T11:53:58.191438Z",
     "start_time": "2024-08-12T11:53:58.182679Z"
    }
   },
   "source": [
    "# запишем вместо пустого значения модификацию - \"1.6 CVT (190 л.с.) 4WD\"\n",
    "data.loc[1621, 'Модификация'] = \"1.6 CVT (190 л.с.) 4WD\""
   ],
   "outputs": [],
   "execution_count": 68
  },
  {
   "cell_type": "markdown",
   "metadata": {},
   "source": [
    "Модификация включает себя следующий параметры автомобиля: характеристики двигателя (объем, мощность, тип топлива, индекс/наименование), тип привода, тип КПП. Получается, данный признак дублирует информацию 4-х других признаков - **Объём двигателя**, **Тип двигателя**, **Коробка передач**, **Привод**. Тогда заменим признак **Модификация** на **Мощность**, вытащив нужную информацию"
   ]
  },
  {
   "cell_type": "code",
   "metadata": {
    "ExecuteTime": {
     "end_time": "2024-08-12T11:53:58.308827Z",
     "start_time": "2024-08-12T11:53:58.266496Z"
    }
   },
   "source": [
    "data['Мощность'] = data['Модификация'].apply(lambda x: str(x).split('(')[-1].split()[0])\n",
    "data.head()"
   ],
   "outputs": [
    {
     "data": {
      "text/plain": [
       "   Год выпуска                 Поколение      Пробег          ПТС  \\\n",
       "0         2010  I рестайлинг (2009—2012)  156 000 км     Оригинал   \n",
       "1         2020           G07 (2018—2022)  109 000 км     Оригинал   \n",
       "2         2023             I (2023—2024)       15 км    Не указан   \n",
       "3         2024             I (2022—2024)      300 км    Не указан   \n",
       "4         2024             I (2021—2024)       10 км  Электронный   \n",
       "\n",
       "  Владельцев по ПТС Состояние                            Модификация  \\\n",
       "0                 2  Не битый                  2.3 4WD AT (238 л.с.)   \n",
       "1                 1  Не битый  M50d 3.0 xDrive Steptronic (400 л.с.)   \n",
       "2                 1  Не битый           2.0 T-GDI 4WD DCT (249 л.с.)   \n",
       "3                 1  Не битый               1.5hyb 4WD AT (530 л.с.)   \n",
       "4                 1  Не битый                  2.0 4WD AT (238 л.с.)   \n",
       "\n",
       "  Объём двигателя Тип двигателя Коробка передач  Привод  \\\n",
       "0           2.3 л        Бензин         Автомат  Полный   \n",
       "1             3 л        Дизель         Автомат  Полный   \n",
       "2             2 л        Бензин           Робот  Полный   \n",
       "3           1.5 л        Гибрид         Автомат  Полный   \n",
       "4             2 л        Бензин         Автомат  Полный   \n",
       "\n",
       "            Комплектация             Тип кузова    Цвет   Руль  \\\n",
       "0                  Sport  Внедорожник 5-дверный   Белый  Левый   \n",
       "1  Special by Individual  Внедорожник 5-дверный   Синий  Левый   \n",
       "2               Platinum  Внедорожник 5-дверный  Чёрный  Левый   \n",
       "3              Executive                  Седан  Чёрный  Левый   \n",
       "4               Flagship  Внедорожник 5-дверный   Белый  Левый   \n",
       "\n",
       "  VIN или номер кузова                       Название     Цена          Обмен  \\\n",
       "0    JMZE*************                     Mazda CX-7  1050000            NaN   \n",
       "1    WBAC*************                         BMW X7  8800000  Не интересует   \n",
       "2    LVTD*************                       EXEED RX  3730000            NaN   \n",
       "3    LDP9*************  Voyah Passion (Chasing Light)  6770000            NaN   \n",
       "4    LB37*************                  Geely Monjaro  3600000  Не интересует   \n",
       "\n",
       "  Мощность  \n",
       "0      238  \n",
       "1      400  \n",
       "2      249  \n",
       "3      530  \n",
       "4      238  "
      ],
      "text/html": [
       "<div>\n",
       "<style scoped>\n",
       "    .dataframe tbody tr th:only-of-type {\n",
       "        vertical-align: middle;\n",
       "    }\n",
       "\n",
       "    .dataframe tbody tr th {\n",
       "        vertical-align: top;\n",
       "    }\n",
       "\n",
       "    .dataframe thead th {\n",
       "        text-align: right;\n",
       "    }\n",
       "</style>\n",
       "<table border=\"1\" class=\"dataframe\">\n",
       "  <thead>\n",
       "    <tr style=\"text-align: right;\">\n",
       "      <th></th>\n",
       "      <th>Год выпуска</th>\n",
       "      <th>Поколение</th>\n",
       "      <th>Пробег</th>\n",
       "      <th>ПТС</th>\n",
       "      <th>Владельцев по ПТС</th>\n",
       "      <th>Состояние</th>\n",
       "      <th>Модификация</th>\n",
       "      <th>Объём двигателя</th>\n",
       "      <th>Тип двигателя</th>\n",
       "      <th>Коробка передач</th>\n",
       "      <th>Привод</th>\n",
       "      <th>Комплектация</th>\n",
       "      <th>Тип кузова</th>\n",
       "      <th>Цвет</th>\n",
       "      <th>Руль</th>\n",
       "      <th>VIN или номер кузова</th>\n",
       "      <th>Название</th>\n",
       "      <th>Цена</th>\n",
       "      <th>Обмен</th>\n",
       "      <th>Мощность</th>\n",
       "    </tr>\n",
       "  </thead>\n",
       "  <tbody>\n",
       "    <tr>\n",
       "      <th>0</th>\n",
       "      <td>2010</td>\n",
       "      <td>I рестайлинг (2009—2012)</td>\n",
       "      <td>156 000 км</td>\n",
       "      <td>Оригинал</td>\n",
       "      <td>2</td>\n",
       "      <td>Не битый</td>\n",
       "      <td>2.3 4WD AT (238 л.с.)</td>\n",
       "      <td>2.3 л</td>\n",
       "      <td>Бензин</td>\n",
       "      <td>Автомат</td>\n",
       "      <td>Полный</td>\n",
       "      <td>Sport</td>\n",
       "      <td>Внедорожник 5-дверный</td>\n",
       "      <td>Белый</td>\n",
       "      <td>Левый</td>\n",
       "      <td>JMZE*************</td>\n",
       "      <td>Mazda CX-7</td>\n",
       "      <td>1050000</td>\n",
       "      <td>NaN</td>\n",
       "      <td>238</td>\n",
       "    </tr>\n",
       "    <tr>\n",
       "      <th>1</th>\n",
       "      <td>2020</td>\n",
       "      <td>G07 (2018—2022)</td>\n",
       "      <td>109 000 км</td>\n",
       "      <td>Оригинал</td>\n",
       "      <td>1</td>\n",
       "      <td>Не битый</td>\n",
       "      <td>M50d 3.0 xDrive Steptronic (400 л.с.)</td>\n",
       "      <td>3 л</td>\n",
       "      <td>Дизель</td>\n",
       "      <td>Автомат</td>\n",
       "      <td>Полный</td>\n",
       "      <td>Special by Individual</td>\n",
       "      <td>Внедорожник 5-дверный</td>\n",
       "      <td>Синий</td>\n",
       "      <td>Левый</td>\n",
       "      <td>WBAC*************</td>\n",
       "      <td>BMW X7</td>\n",
       "      <td>8800000</td>\n",
       "      <td>Не интересует</td>\n",
       "      <td>400</td>\n",
       "    </tr>\n",
       "    <tr>\n",
       "      <th>2</th>\n",
       "      <td>2023</td>\n",
       "      <td>I (2023—2024)</td>\n",
       "      <td>15 км</td>\n",
       "      <td>Не указан</td>\n",
       "      <td>1</td>\n",
       "      <td>Не битый</td>\n",
       "      <td>2.0 T-GDI 4WD DCT (249 л.с.)</td>\n",
       "      <td>2 л</td>\n",
       "      <td>Бензин</td>\n",
       "      <td>Робот</td>\n",
       "      <td>Полный</td>\n",
       "      <td>Platinum</td>\n",
       "      <td>Внедорожник 5-дверный</td>\n",
       "      <td>Чёрный</td>\n",
       "      <td>Левый</td>\n",
       "      <td>LVTD*************</td>\n",
       "      <td>EXEED RX</td>\n",
       "      <td>3730000</td>\n",
       "      <td>NaN</td>\n",
       "      <td>249</td>\n",
       "    </tr>\n",
       "    <tr>\n",
       "      <th>3</th>\n",
       "      <td>2024</td>\n",
       "      <td>I (2022—2024)</td>\n",
       "      <td>300 км</td>\n",
       "      <td>Не указан</td>\n",
       "      <td>1</td>\n",
       "      <td>Не битый</td>\n",
       "      <td>1.5hyb 4WD AT (530 л.с.)</td>\n",
       "      <td>1.5 л</td>\n",
       "      <td>Гибрид</td>\n",
       "      <td>Автомат</td>\n",
       "      <td>Полный</td>\n",
       "      <td>Executive</td>\n",
       "      <td>Седан</td>\n",
       "      <td>Чёрный</td>\n",
       "      <td>Левый</td>\n",
       "      <td>LDP9*************</td>\n",
       "      <td>Voyah Passion (Chasing Light)</td>\n",
       "      <td>6770000</td>\n",
       "      <td>NaN</td>\n",
       "      <td>530</td>\n",
       "    </tr>\n",
       "    <tr>\n",
       "      <th>4</th>\n",
       "      <td>2024</td>\n",
       "      <td>I (2021—2024)</td>\n",
       "      <td>10 км</td>\n",
       "      <td>Электронный</td>\n",
       "      <td>1</td>\n",
       "      <td>Не битый</td>\n",
       "      <td>2.0 4WD AT (238 л.с.)</td>\n",
       "      <td>2 л</td>\n",
       "      <td>Бензин</td>\n",
       "      <td>Автомат</td>\n",
       "      <td>Полный</td>\n",
       "      <td>Flagship</td>\n",
       "      <td>Внедорожник 5-дверный</td>\n",
       "      <td>Белый</td>\n",
       "      <td>Левый</td>\n",
       "      <td>LB37*************</td>\n",
       "      <td>Geely Monjaro</td>\n",
       "      <td>3600000</td>\n",
       "      <td>Не интересует</td>\n",
       "      <td>238</td>\n",
       "    </tr>\n",
       "  </tbody>\n",
       "</table>\n",
       "</div>"
      ]
     },
     "execution_count": 69,
     "metadata": {},
     "output_type": "execute_result"
    }
   ],
   "execution_count": 69
  },
  {
   "cell_type": "code",
   "metadata": {
    "ExecuteTime": {
     "end_time": "2024-08-12T11:53:58.492102Z",
     "start_time": "2024-08-12T11:53:58.482868Z"
    }
   },
   "source": [
    "# удалим теперь не нужный столбец \"Модификация\"\n",
    "data.drop(columns='Модификация', inplace=True)"
   ],
   "outputs": [],
   "execution_count": 70
  },
  {
   "cell_type": "markdown",
   "metadata": {},
   "source": [
    "### Признак - **Объем двигателя**"
   ]
  },
  {
   "cell_type": "markdown",
   "metadata": {},
   "source": [
    "Посмотрим, у каких строк отсутствуют значения данной колонки"
   ]
  },
  {
   "cell_type": "code",
   "metadata": {
    "ExecuteTime": {
     "end_time": "2024-08-12T11:53:58.987932Z",
     "start_time": "2024-08-12T11:53:58.916591Z"
    }
   },
   "source": [
    "data[data['Объём двигателя'].isna()] "
   ],
   "outputs": [
    {
     "data": {
      "text/plain": [
       "      Год выпуска                  Поколение      Пробег          ПТС  \\\n",
       "1736         2022             II (2017—2024)   15 220 км  Электронный   \n",
       "1810         2015  II рестайлинг (2015—2017)  124 636 км    Не указан   \n",
       "\n",
       "     Владельцев по ПТС Состояние Объём двигателя Тип двигателя  \\\n",
       "1736                 1  Не битый             NaN       Электро   \n",
       "1810                 3  Не битый             NaN        Бензин   \n",
       "\n",
       "     Коробка передач    Привод Комплектация         Тип кузова     Цвет  \\\n",
       "1736         Автомат  Передний      Базовая  Хетчбек 5-дверный    Белый   \n",
       "1810         Автомат  Передний         Luxe  Хетчбек 5-дверный  Розовый   \n",
       "\n",
       "       Руль VIN или номер кузова     Название     Цена     Обмен Мощность  \n",
       "1736  Левый    1N4C*************  Nissan Leaf  2930000  Возможен      218  \n",
       "1810  Левый    KNAB*************  Kia Picanto  1020000       NaN       85  "
      ],
      "text/html": [
       "<div>\n",
       "<style scoped>\n",
       "    .dataframe tbody tr th:only-of-type {\n",
       "        vertical-align: middle;\n",
       "    }\n",
       "\n",
       "    .dataframe tbody tr th {\n",
       "        vertical-align: top;\n",
       "    }\n",
       "\n",
       "    .dataframe thead th {\n",
       "        text-align: right;\n",
       "    }\n",
       "</style>\n",
       "<table border=\"1\" class=\"dataframe\">\n",
       "  <thead>\n",
       "    <tr style=\"text-align: right;\">\n",
       "      <th></th>\n",
       "      <th>Год выпуска</th>\n",
       "      <th>Поколение</th>\n",
       "      <th>Пробег</th>\n",
       "      <th>ПТС</th>\n",
       "      <th>Владельцев по ПТС</th>\n",
       "      <th>Состояние</th>\n",
       "      <th>Объём двигателя</th>\n",
       "      <th>Тип двигателя</th>\n",
       "      <th>Коробка передач</th>\n",
       "      <th>Привод</th>\n",
       "      <th>Комплектация</th>\n",
       "      <th>Тип кузова</th>\n",
       "      <th>Цвет</th>\n",
       "      <th>Руль</th>\n",
       "      <th>VIN или номер кузова</th>\n",
       "      <th>Название</th>\n",
       "      <th>Цена</th>\n",
       "      <th>Обмен</th>\n",
       "      <th>Мощность</th>\n",
       "    </tr>\n",
       "  </thead>\n",
       "  <tbody>\n",
       "    <tr>\n",
       "      <th>1736</th>\n",
       "      <td>2022</td>\n",
       "      <td>II (2017—2024)</td>\n",
       "      <td>15 220 км</td>\n",
       "      <td>Электронный</td>\n",
       "      <td>1</td>\n",
       "      <td>Не битый</td>\n",
       "      <td>NaN</td>\n",
       "      <td>Электро</td>\n",
       "      <td>Автомат</td>\n",
       "      <td>Передний</td>\n",
       "      <td>Базовая</td>\n",
       "      <td>Хетчбек 5-дверный</td>\n",
       "      <td>Белый</td>\n",
       "      <td>Левый</td>\n",
       "      <td>1N4C*************</td>\n",
       "      <td>Nissan Leaf</td>\n",
       "      <td>2930000</td>\n",
       "      <td>Возможен</td>\n",
       "      <td>218</td>\n",
       "    </tr>\n",
       "    <tr>\n",
       "      <th>1810</th>\n",
       "      <td>2015</td>\n",
       "      <td>II рестайлинг (2015—2017)</td>\n",
       "      <td>124 636 км</td>\n",
       "      <td>Не указан</td>\n",
       "      <td>3</td>\n",
       "      <td>Не битый</td>\n",
       "      <td>NaN</td>\n",
       "      <td>Бензин</td>\n",
       "      <td>Автомат</td>\n",
       "      <td>Передний</td>\n",
       "      <td>Luxe</td>\n",
       "      <td>Хетчбек 5-дверный</td>\n",
       "      <td>Розовый</td>\n",
       "      <td>Левый</td>\n",
       "      <td>KNAB*************</td>\n",
       "      <td>Kia Picanto</td>\n",
       "      <td>1020000</td>\n",
       "      <td>NaN</td>\n",
       "      <td>85</td>\n",
       "    </tr>\n",
       "  </tbody>\n",
       "</table>\n",
       "</div>"
      ]
     },
     "execution_count": 71,
     "metadata": {},
     "output_type": "execute_result"
    }
   ],
   "execution_count": 71
  },
  {
   "cell_type": "markdown",
   "metadata": {},
   "source": [
    "Сначала заполним строку с Kia Picanto, найдя машину с такими же остальными характеристиками"
   ]
  },
  {
   "cell_type": "code",
   "metadata": {
    "ExecuteTime": {
     "end_time": "2024-08-12T11:53:59.194430Z",
     "start_time": "2024-08-12T11:53:59.180730Z"
    }
   },
   "source": [
    "data[(data['Название'] == 'Kia Picanto') & (data['Мощность'] == 85)]"
   ],
   "outputs": [
    {
     "data": {
      "text/plain": [
       "Empty DataFrame\n",
       "Columns: [Год выпуска, Поколение, Пробег, ПТС, Владельцев по ПТС, Состояние, Объём двигателя, Тип двигателя, Коробка передач, Привод, Комплектация, Тип кузова, Цвет, Руль, VIN или номер кузова, Название, Цена, Обмен, Мощность]\n",
       "Index: []"
      ],
      "text/html": [
       "<div>\n",
       "<style scoped>\n",
       "    .dataframe tbody tr th:only-of-type {\n",
       "        vertical-align: middle;\n",
       "    }\n",
       "\n",
       "    .dataframe tbody tr th {\n",
       "        vertical-align: top;\n",
       "    }\n",
       "\n",
       "    .dataframe thead th {\n",
       "        text-align: right;\n",
       "    }\n",
       "</style>\n",
       "<table border=\"1\" class=\"dataframe\">\n",
       "  <thead>\n",
       "    <tr style=\"text-align: right;\">\n",
       "      <th></th>\n",
       "      <th>Год выпуска</th>\n",
       "      <th>Поколение</th>\n",
       "      <th>Пробег</th>\n",
       "      <th>ПТС</th>\n",
       "      <th>Владельцев по ПТС</th>\n",
       "      <th>Состояние</th>\n",
       "      <th>Объём двигателя</th>\n",
       "      <th>Тип двигателя</th>\n",
       "      <th>Коробка передач</th>\n",
       "      <th>Привод</th>\n",
       "      <th>Комплектация</th>\n",
       "      <th>Тип кузова</th>\n",
       "      <th>Цвет</th>\n",
       "      <th>Руль</th>\n",
       "      <th>VIN или номер кузова</th>\n",
       "      <th>Название</th>\n",
       "      <th>Цена</th>\n",
       "      <th>Обмен</th>\n",
       "      <th>Мощность</th>\n",
       "    </tr>\n",
       "  </thead>\n",
       "  <tbody>\n",
       "  </tbody>\n",
       "</table>\n",
       "</div>"
      ]
     },
     "execution_count": 72,
     "metadata": {},
     "output_type": "execute_result"
    }
   ],
   "execution_count": 72
  },
  {
   "cell_type": "markdown",
   "metadata": {},
   "source": [
    "В датасете не нашлось таких же авто. Найдем объем двигателя, обратясь к каталогу *Авито*:\n",
    "- https://www.avito.ru/catalog/auto/kia/picanto/ii_restayling/hetchbek/specs-ASgBAgICBUTgtg3KmCjitg3yrCjmtg3Qtyjqtg3~_CjQvA78m9EB?uid=7OV8QUr\n",
    "\n",
    "Объем двигателя - 1.3 л"
   ]
  },
  {
   "cell_type": "code",
   "metadata": {
    "ExecuteTime": {
     "end_time": "2024-08-12T11:53:59.519077Z",
     "start_time": "2024-08-12T11:53:59.509940Z"
    }
   },
   "source": [
    "# запишем в датафрейм\n",
    "data.loc[1810, 'Объём двигателя'] = \"1.3 л\""
   ],
   "outputs": [],
   "execution_count": 73
  },
  {
   "cell_type": "markdown",
   "metadata": {},
   "source": [
    "Заметим, что у автомобилей с электрическим типом двигателя не может быть такой характеристики, как **Объем двигателя**. Запишем в эту колонку `0` у электромобилей. Тогда модель просто не будет учитывать этот признак у авто с электродвигателем, что логично"
   ]
  },
  {
   "cell_type": "code",
   "metadata": {
    "ExecuteTime": {
     "end_time": "2024-08-12T11:53:59.703873Z",
     "start_time": "2024-08-12T11:53:59.685121Z"
    }
   },
   "source": [
    "# обновим значения\n",
    "data.update(data[data['Тип двигателя'] == 'Электро']['Объём двигателя'].fillna('0 л'))"
   ],
   "outputs": [],
   "execution_count": 74
  },
  {
   "cell_type": "code",
   "metadata": {
    "ExecuteTime": {
     "end_time": "2024-08-12T11:53:59.920774Z",
     "start_time": "2024-08-12T11:53:59.903596Z"
    }
   },
   "source": [
    "# посмотрим, что исправилось корректно\n",
    "data[data['Тип двигателя'] == 'Электро'] "
   ],
   "outputs": [
    {
     "data": {
      "text/plain": [
       "      Год выпуска       Поколение     Пробег          ПТС Владельцев по ПТС  \\\n",
       "1736         2022  II (2017—2024)  15 220 км  Электронный                 1   \n",
       "\n",
       "     Состояние Объём двигателя Тип двигателя Коробка передач    Привод  \\\n",
       "1736  Не битый             0 л       Электро         Автомат  Передний   \n",
       "\n",
       "     Комплектация         Тип кузова   Цвет   Руль VIN или номер кузова  \\\n",
       "1736      Базовая  Хетчбек 5-дверный  Белый  Левый    1N4C*************   \n",
       "\n",
       "         Название     Цена     Обмен Мощность  \n",
       "1736  Nissan Leaf  2930000  Возможен      218  "
      ],
      "text/html": [
       "<div>\n",
       "<style scoped>\n",
       "    .dataframe tbody tr th:only-of-type {\n",
       "        vertical-align: middle;\n",
       "    }\n",
       "\n",
       "    .dataframe tbody tr th {\n",
       "        vertical-align: top;\n",
       "    }\n",
       "\n",
       "    .dataframe thead th {\n",
       "        text-align: right;\n",
       "    }\n",
       "</style>\n",
       "<table border=\"1\" class=\"dataframe\">\n",
       "  <thead>\n",
       "    <tr style=\"text-align: right;\">\n",
       "      <th></th>\n",
       "      <th>Год выпуска</th>\n",
       "      <th>Поколение</th>\n",
       "      <th>Пробег</th>\n",
       "      <th>ПТС</th>\n",
       "      <th>Владельцев по ПТС</th>\n",
       "      <th>Состояние</th>\n",
       "      <th>Объём двигателя</th>\n",
       "      <th>Тип двигателя</th>\n",
       "      <th>Коробка передач</th>\n",
       "      <th>Привод</th>\n",
       "      <th>Комплектация</th>\n",
       "      <th>Тип кузова</th>\n",
       "      <th>Цвет</th>\n",
       "      <th>Руль</th>\n",
       "      <th>VIN или номер кузова</th>\n",
       "      <th>Название</th>\n",
       "      <th>Цена</th>\n",
       "      <th>Обмен</th>\n",
       "      <th>Мощность</th>\n",
       "    </tr>\n",
       "  </thead>\n",
       "  <tbody>\n",
       "    <tr>\n",
       "      <th>1736</th>\n",
       "      <td>2022</td>\n",
       "      <td>II (2017—2024)</td>\n",
       "      <td>15 220 км</td>\n",
       "      <td>Электронный</td>\n",
       "      <td>1</td>\n",
       "      <td>Не битый</td>\n",
       "      <td>0 л</td>\n",
       "      <td>Электро</td>\n",
       "      <td>Автомат</td>\n",
       "      <td>Передний</td>\n",
       "      <td>Базовая</td>\n",
       "      <td>Хетчбек 5-дверный</td>\n",
       "      <td>Белый</td>\n",
       "      <td>Левый</td>\n",
       "      <td>1N4C*************</td>\n",
       "      <td>Nissan Leaf</td>\n",
       "      <td>2930000</td>\n",
       "      <td>Возможен</td>\n",
       "      <td>218</td>\n",
       "    </tr>\n",
       "  </tbody>\n",
       "</table>\n",
       "</div>"
      ]
     },
     "execution_count": 75,
     "metadata": {},
     "output_type": "execute_result"
    }
   ],
   "execution_count": 75
  },
  {
   "cell_type": "markdown",
   "metadata": {},
   "source": [
    "Сделаем этот признак вещественным, убрав букву \"л\""
   ]
  },
  {
   "cell_type": "code",
   "metadata": {
    "ExecuteTime": {
     "end_time": "2024-08-12T11:54:00.501021Z",
     "start_time": "2024-08-12T11:54:00.492573Z"
    }
   },
   "source": [
    "data['Объём двигателя'] = data['Объём двигателя'].apply(lambda x: x.split()[0])"
   ],
   "outputs": [],
   "execution_count": 76
  },
  {
   "cell_type": "code",
   "metadata": {
    "ExecuteTime": {
     "end_time": "2024-08-12T11:54:00.568996Z",
     "start_time": "2024-08-12T11:54:00.547916Z"
    }
   },
   "source": [
    "data.head()"
   ],
   "outputs": [
    {
     "data": {
      "text/plain": [
       "   Год выпуска                 Поколение      Пробег          ПТС  \\\n",
       "0         2010  I рестайлинг (2009—2012)  156 000 км     Оригинал   \n",
       "1         2020           G07 (2018—2022)  109 000 км     Оригинал   \n",
       "2         2023             I (2023—2024)       15 км    Не указан   \n",
       "3         2024             I (2022—2024)      300 км    Не указан   \n",
       "4         2024             I (2021—2024)       10 км  Электронный   \n",
       "\n",
       "  Владельцев по ПТС Состояние Объём двигателя Тип двигателя Коробка передач  \\\n",
       "0                 2  Не битый             2.3        Бензин         Автомат   \n",
       "1                 1  Не битый               3        Дизель         Автомат   \n",
       "2                 1  Не битый               2        Бензин           Робот   \n",
       "3                 1  Не битый             1.5        Гибрид         Автомат   \n",
       "4                 1  Не битый               2        Бензин         Автомат   \n",
       "\n",
       "   Привод           Комплектация             Тип кузова    Цвет   Руль  \\\n",
       "0  Полный                  Sport  Внедорожник 5-дверный   Белый  Левый   \n",
       "1  Полный  Special by Individual  Внедорожник 5-дверный   Синий  Левый   \n",
       "2  Полный               Platinum  Внедорожник 5-дверный  Чёрный  Левый   \n",
       "3  Полный              Executive                  Седан  Чёрный  Левый   \n",
       "4  Полный               Flagship  Внедорожник 5-дверный   Белый  Левый   \n",
       "\n",
       "  VIN или номер кузова                       Название     Цена          Обмен  \\\n",
       "0    JMZE*************                     Mazda CX-7  1050000            NaN   \n",
       "1    WBAC*************                         BMW X7  8800000  Не интересует   \n",
       "2    LVTD*************                       EXEED RX  3730000            NaN   \n",
       "3    LDP9*************  Voyah Passion (Chasing Light)  6770000            NaN   \n",
       "4    LB37*************                  Geely Monjaro  3600000  Не интересует   \n",
       "\n",
       "  Мощность  \n",
       "0      238  \n",
       "1      400  \n",
       "2      249  \n",
       "3      530  \n",
       "4      238  "
      ],
      "text/html": [
       "<div>\n",
       "<style scoped>\n",
       "    .dataframe tbody tr th:only-of-type {\n",
       "        vertical-align: middle;\n",
       "    }\n",
       "\n",
       "    .dataframe tbody tr th {\n",
       "        vertical-align: top;\n",
       "    }\n",
       "\n",
       "    .dataframe thead th {\n",
       "        text-align: right;\n",
       "    }\n",
       "</style>\n",
       "<table border=\"1\" class=\"dataframe\">\n",
       "  <thead>\n",
       "    <tr style=\"text-align: right;\">\n",
       "      <th></th>\n",
       "      <th>Год выпуска</th>\n",
       "      <th>Поколение</th>\n",
       "      <th>Пробег</th>\n",
       "      <th>ПТС</th>\n",
       "      <th>Владельцев по ПТС</th>\n",
       "      <th>Состояние</th>\n",
       "      <th>Объём двигателя</th>\n",
       "      <th>Тип двигателя</th>\n",
       "      <th>Коробка передач</th>\n",
       "      <th>Привод</th>\n",
       "      <th>Комплектация</th>\n",
       "      <th>Тип кузова</th>\n",
       "      <th>Цвет</th>\n",
       "      <th>Руль</th>\n",
       "      <th>VIN или номер кузова</th>\n",
       "      <th>Название</th>\n",
       "      <th>Цена</th>\n",
       "      <th>Обмен</th>\n",
       "      <th>Мощность</th>\n",
       "    </tr>\n",
       "  </thead>\n",
       "  <tbody>\n",
       "    <tr>\n",
       "      <th>0</th>\n",
       "      <td>2010</td>\n",
       "      <td>I рестайлинг (2009—2012)</td>\n",
       "      <td>156 000 км</td>\n",
       "      <td>Оригинал</td>\n",
       "      <td>2</td>\n",
       "      <td>Не битый</td>\n",
       "      <td>2.3</td>\n",
       "      <td>Бензин</td>\n",
       "      <td>Автомат</td>\n",
       "      <td>Полный</td>\n",
       "      <td>Sport</td>\n",
       "      <td>Внедорожник 5-дверный</td>\n",
       "      <td>Белый</td>\n",
       "      <td>Левый</td>\n",
       "      <td>JMZE*************</td>\n",
       "      <td>Mazda CX-7</td>\n",
       "      <td>1050000</td>\n",
       "      <td>NaN</td>\n",
       "      <td>238</td>\n",
       "    </tr>\n",
       "    <tr>\n",
       "      <th>1</th>\n",
       "      <td>2020</td>\n",
       "      <td>G07 (2018—2022)</td>\n",
       "      <td>109 000 км</td>\n",
       "      <td>Оригинал</td>\n",
       "      <td>1</td>\n",
       "      <td>Не битый</td>\n",
       "      <td>3</td>\n",
       "      <td>Дизель</td>\n",
       "      <td>Автомат</td>\n",
       "      <td>Полный</td>\n",
       "      <td>Special by Individual</td>\n",
       "      <td>Внедорожник 5-дверный</td>\n",
       "      <td>Синий</td>\n",
       "      <td>Левый</td>\n",
       "      <td>WBAC*************</td>\n",
       "      <td>BMW X7</td>\n",
       "      <td>8800000</td>\n",
       "      <td>Не интересует</td>\n",
       "      <td>400</td>\n",
       "    </tr>\n",
       "    <tr>\n",
       "      <th>2</th>\n",
       "      <td>2023</td>\n",
       "      <td>I (2023—2024)</td>\n",
       "      <td>15 км</td>\n",
       "      <td>Не указан</td>\n",
       "      <td>1</td>\n",
       "      <td>Не битый</td>\n",
       "      <td>2</td>\n",
       "      <td>Бензин</td>\n",
       "      <td>Робот</td>\n",
       "      <td>Полный</td>\n",
       "      <td>Platinum</td>\n",
       "      <td>Внедорожник 5-дверный</td>\n",
       "      <td>Чёрный</td>\n",
       "      <td>Левый</td>\n",
       "      <td>LVTD*************</td>\n",
       "      <td>EXEED RX</td>\n",
       "      <td>3730000</td>\n",
       "      <td>NaN</td>\n",
       "      <td>249</td>\n",
       "    </tr>\n",
       "    <tr>\n",
       "      <th>3</th>\n",
       "      <td>2024</td>\n",
       "      <td>I (2022—2024)</td>\n",
       "      <td>300 км</td>\n",
       "      <td>Не указан</td>\n",
       "      <td>1</td>\n",
       "      <td>Не битый</td>\n",
       "      <td>1.5</td>\n",
       "      <td>Гибрид</td>\n",
       "      <td>Автомат</td>\n",
       "      <td>Полный</td>\n",
       "      <td>Executive</td>\n",
       "      <td>Седан</td>\n",
       "      <td>Чёрный</td>\n",
       "      <td>Левый</td>\n",
       "      <td>LDP9*************</td>\n",
       "      <td>Voyah Passion (Chasing Light)</td>\n",
       "      <td>6770000</td>\n",
       "      <td>NaN</td>\n",
       "      <td>530</td>\n",
       "    </tr>\n",
       "    <tr>\n",
       "      <th>4</th>\n",
       "      <td>2024</td>\n",
       "      <td>I (2021—2024)</td>\n",
       "      <td>10 км</td>\n",
       "      <td>Электронный</td>\n",
       "      <td>1</td>\n",
       "      <td>Не битый</td>\n",
       "      <td>2</td>\n",
       "      <td>Бензин</td>\n",
       "      <td>Автомат</td>\n",
       "      <td>Полный</td>\n",
       "      <td>Flagship</td>\n",
       "      <td>Внедорожник 5-дверный</td>\n",
       "      <td>Белый</td>\n",
       "      <td>Левый</td>\n",
       "      <td>LB37*************</td>\n",
       "      <td>Geely Monjaro</td>\n",
       "      <td>3600000</td>\n",
       "      <td>Не интересует</td>\n",
       "      <td>238</td>\n",
       "    </tr>\n",
       "  </tbody>\n",
       "</table>\n",
       "</div>"
      ]
     },
     "execution_count": 77,
     "metadata": {},
     "output_type": "execute_result"
    }
   ],
   "execution_count": 77
  },
  {
   "cell_type": "markdown",
   "metadata": {},
   "source": [
    "### Признак - **Комплектация**"
   ]
  },
  {
   "cell_type": "markdown",
   "metadata": {},
   "source": [
    "Каждая модель авто имеет свои названия комплектаций или не имеет их вообще, поэтому данный признак имеет очень большое количество различных невещественных значений. Удалим его"
   ]
  },
  {
   "cell_type": "code",
   "metadata": {
    "ExecuteTime": {
     "end_time": "2024-08-12T11:54:00.729755Z",
     "start_time": "2024-08-12T11:54:00.715291Z"
    }
   },
   "source": [
    "# посмотим, какие значения принимает данный признак\n",
    "data['Комплектация'].value_counts()"
   ],
   "outputs": [
    {
     "data": {
      "text/plain": [
       "Комплектация\n",
       "Базовая                282\n",
       "Comfort                156\n",
       "Luxe                    97\n",
       "Люкс                    45\n",
       "Prestige                42\n",
       "                      ... \n",
       "Black Vision             1\n",
       "Prestige Black           1\n",
       "Classic Кондиционер      1\n",
       "Classique                1\n",
       "Lifestyle Plus           1\n",
       "Name: count, Length: 328, dtype: int64"
      ]
     },
     "execution_count": 78,
     "metadata": {},
     "output_type": "execute_result"
    }
   ],
   "execution_count": 78
  },
  {
   "cell_type": "code",
   "metadata": {
    "ExecuteTime": {
     "end_time": "2024-08-12T11:54:00.861909Z",
     "start_time": "2024-08-12T11:54:00.854685Z"
    }
   },
   "source": [
    "data.drop(columns='Комплектация', inplace=True)"
   ],
   "outputs": [],
   "execution_count": 79
  },
  {
   "cell_type": "markdown",
   "metadata": {},
   "source": [
    "### Признак - **Обмен**"
   ]
  },
  {
   "cell_type": "code",
   "metadata": {
    "ExecuteTime": {
     "end_time": "2024-08-12T11:54:01.207771Z",
     "start_time": "2024-08-12T11:54:01.197979Z"
    }
   },
   "source": [
    "# посмотрим на распределение значений в данной колонке\n",
    "data['Обмен'].value_counts()"
   ],
   "outputs": [
    {
     "data": {
      "text/plain": [
       "Обмен\n",
       "Не интересует    929\n",
       "Возможен         625\n",
       "Name: count, dtype: int64"
      ]
     },
     "execution_count": 80,
     "metadata": {},
     "output_type": "execute_result"
    }
   ],
   "execution_count": 80
  },
  {
   "cell_type": "markdown",
   "metadata": {},
   "source": [
    "Большая часть не рассматривает обмен. Это специфичный запрос, поэтому можно предположить, что если продавца интересует обмен, то он это скорее всего укажет. В противном случае, продавец может просто не обратить внимания на этот параметр и ничего не напишет. Заменим пустые значения на \"Не интересует\""
   ]
  },
  {
   "cell_type": "code",
   "metadata": {
    "ExecuteTime": {
     "end_time": "2024-08-12T11:54:01.413563Z",
     "start_time": "2024-08-12T11:54:01.403758Z"
    }
   },
   "source": [
    "data['Обмен'].fillna('Не интересует', inplace=True)"
   ],
   "outputs": [],
   "execution_count": 81
  },
  {
   "cell_type": "markdown",
   "metadata": {},
   "source": [
    "## Приведение типов и удаление лишних столбцов"
   ]
  },
  {
   "cell_type": "markdown",
   "metadata": {},
   "source": [
    "### Признаки - **Год выпуска** и **Поколение**"
   ]
  },
  {
   "cell_type": "markdown",
   "metadata": {},
   "source": [
    "Кажется, что эти колонки дублируют друг друга. Преобразуем их в следующие:\n",
    "- **Год выпуска** -> **Лет в эксплуатации** (2025 - **Год выпуска**). Этот признак будет характеризовать, как давно машина куплена и находится в эксплуатации.\n",
    "- **Поколение** -> **Год выпуска** (первое значение в скобках). Теперь этот признак будет означать год начала производства модели, т.е. насколько она свежая и современная."
   ]
  },
  {
   "cell_type": "code",
   "metadata": {
    "ExecuteTime": {
     "end_time": "2024-08-12T11:54:01.783658Z",
     "start_time": "2024-08-12T11:54:01.772225Z"
    }
   },
   "source": [
    "# Создадим новый признак \"Лет в эксплуатации\"\n",
    "data['Лет в эксплуатации'] = 2025 - data['Год выпуска']"
   ],
   "outputs": [],
   "execution_count": 82
  },
  {
   "cell_type": "code",
   "metadata": {
    "ExecuteTime": {
     "end_time": "2024-08-12T11:54:01.846771Z",
     "start_time": "2024-08-12T11:54:01.837942Z"
    }
   },
   "source": [
    "# Преобразуем признак \"Год выпуска\"\n",
    "data['Год выпуска'] = data['Поколение'].apply(lambda x: x.split('(')[-1][:4])"
   ],
   "outputs": [],
   "execution_count": 83
  },
  {
   "cell_type": "code",
   "metadata": {
    "ExecuteTime": {
     "end_time": "2024-08-12T11:54:02.065194Z",
     "start_time": "2024-08-12T11:54:02.047398Z"
    }
   },
   "source": [
    "data.head()"
   ],
   "outputs": [
    {
     "data": {
      "text/plain": [
       "  Год выпуска                 Поколение      Пробег          ПТС  \\\n",
       "0        2009  I рестайлинг (2009—2012)  156 000 км     Оригинал   \n",
       "1        2018           G07 (2018—2022)  109 000 км     Оригинал   \n",
       "2        2023             I (2023—2024)       15 км    Не указан   \n",
       "3        2022             I (2022—2024)      300 км    Не указан   \n",
       "4        2021             I (2021—2024)       10 км  Электронный   \n",
       "\n",
       "  Владельцев по ПТС Состояние Объём двигателя Тип двигателя Коробка передач  \\\n",
       "0                 2  Не битый             2.3        Бензин         Автомат   \n",
       "1                 1  Не битый               3        Дизель         Автомат   \n",
       "2                 1  Не битый               2        Бензин           Робот   \n",
       "3                 1  Не битый             1.5        Гибрид         Автомат   \n",
       "4                 1  Не битый               2        Бензин         Автомат   \n",
       "\n",
       "   Привод             Тип кузова    Цвет   Руль VIN или номер кузова  \\\n",
       "0  Полный  Внедорожник 5-дверный   Белый  Левый    JMZE*************   \n",
       "1  Полный  Внедорожник 5-дверный   Синий  Левый    WBAC*************   \n",
       "2  Полный  Внедорожник 5-дверный  Чёрный  Левый    LVTD*************   \n",
       "3  Полный                  Седан  Чёрный  Левый    LDP9*************   \n",
       "4  Полный  Внедорожник 5-дверный   Белый  Левый    LB37*************   \n",
       "\n",
       "                        Название     Цена          Обмен Мощность  \\\n",
       "0                     Mazda CX-7  1050000  Не интересует      238   \n",
       "1                         BMW X7  8800000  Не интересует      400   \n",
       "2                       EXEED RX  3730000  Не интересует      249   \n",
       "3  Voyah Passion (Chasing Light)  6770000  Не интересует      530   \n",
       "4                  Geely Monjaro  3600000  Не интересует      238   \n",
       "\n",
       "   Лет в эксплуатации  \n",
       "0                  15  \n",
       "1                   5  \n",
       "2                   2  \n",
       "3                   1  \n",
       "4                   1  "
      ],
      "text/html": [
       "<div>\n",
       "<style scoped>\n",
       "    .dataframe tbody tr th:only-of-type {\n",
       "        vertical-align: middle;\n",
       "    }\n",
       "\n",
       "    .dataframe tbody tr th {\n",
       "        vertical-align: top;\n",
       "    }\n",
       "\n",
       "    .dataframe thead th {\n",
       "        text-align: right;\n",
       "    }\n",
       "</style>\n",
       "<table border=\"1\" class=\"dataframe\">\n",
       "  <thead>\n",
       "    <tr style=\"text-align: right;\">\n",
       "      <th></th>\n",
       "      <th>Год выпуска</th>\n",
       "      <th>Поколение</th>\n",
       "      <th>Пробег</th>\n",
       "      <th>ПТС</th>\n",
       "      <th>Владельцев по ПТС</th>\n",
       "      <th>Состояние</th>\n",
       "      <th>Объём двигателя</th>\n",
       "      <th>Тип двигателя</th>\n",
       "      <th>Коробка передач</th>\n",
       "      <th>Привод</th>\n",
       "      <th>Тип кузова</th>\n",
       "      <th>Цвет</th>\n",
       "      <th>Руль</th>\n",
       "      <th>VIN или номер кузова</th>\n",
       "      <th>Название</th>\n",
       "      <th>Цена</th>\n",
       "      <th>Обмен</th>\n",
       "      <th>Мощность</th>\n",
       "      <th>Лет в эксплуатации</th>\n",
       "    </tr>\n",
       "  </thead>\n",
       "  <tbody>\n",
       "    <tr>\n",
       "      <th>0</th>\n",
       "      <td>2009</td>\n",
       "      <td>I рестайлинг (2009—2012)</td>\n",
       "      <td>156 000 км</td>\n",
       "      <td>Оригинал</td>\n",
       "      <td>2</td>\n",
       "      <td>Не битый</td>\n",
       "      <td>2.3</td>\n",
       "      <td>Бензин</td>\n",
       "      <td>Автомат</td>\n",
       "      <td>Полный</td>\n",
       "      <td>Внедорожник 5-дверный</td>\n",
       "      <td>Белый</td>\n",
       "      <td>Левый</td>\n",
       "      <td>JMZE*************</td>\n",
       "      <td>Mazda CX-7</td>\n",
       "      <td>1050000</td>\n",
       "      <td>Не интересует</td>\n",
       "      <td>238</td>\n",
       "      <td>15</td>\n",
       "    </tr>\n",
       "    <tr>\n",
       "      <th>1</th>\n",
       "      <td>2018</td>\n",
       "      <td>G07 (2018—2022)</td>\n",
       "      <td>109 000 км</td>\n",
       "      <td>Оригинал</td>\n",
       "      <td>1</td>\n",
       "      <td>Не битый</td>\n",
       "      <td>3</td>\n",
       "      <td>Дизель</td>\n",
       "      <td>Автомат</td>\n",
       "      <td>Полный</td>\n",
       "      <td>Внедорожник 5-дверный</td>\n",
       "      <td>Синий</td>\n",
       "      <td>Левый</td>\n",
       "      <td>WBAC*************</td>\n",
       "      <td>BMW X7</td>\n",
       "      <td>8800000</td>\n",
       "      <td>Не интересует</td>\n",
       "      <td>400</td>\n",
       "      <td>5</td>\n",
       "    </tr>\n",
       "    <tr>\n",
       "      <th>2</th>\n",
       "      <td>2023</td>\n",
       "      <td>I (2023—2024)</td>\n",
       "      <td>15 км</td>\n",
       "      <td>Не указан</td>\n",
       "      <td>1</td>\n",
       "      <td>Не битый</td>\n",
       "      <td>2</td>\n",
       "      <td>Бензин</td>\n",
       "      <td>Робот</td>\n",
       "      <td>Полный</td>\n",
       "      <td>Внедорожник 5-дверный</td>\n",
       "      <td>Чёрный</td>\n",
       "      <td>Левый</td>\n",
       "      <td>LVTD*************</td>\n",
       "      <td>EXEED RX</td>\n",
       "      <td>3730000</td>\n",
       "      <td>Не интересует</td>\n",
       "      <td>249</td>\n",
       "      <td>2</td>\n",
       "    </tr>\n",
       "    <tr>\n",
       "      <th>3</th>\n",
       "      <td>2022</td>\n",
       "      <td>I (2022—2024)</td>\n",
       "      <td>300 км</td>\n",
       "      <td>Не указан</td>\n",
       "      <td>1</td>\n",
       "      <td>Не битый</td>\n",
       "      <td>1.5</td>\n",
       "      <td>Гибрид</td>\n",
       "      <td>Автомат</td>\n",
       "      <td>Полный</td>\n",
       "      <td>Седан</td>\n",
       "      <td>Чёрный</td>\n",
       "      <td>Левый</td>\n",
       "      <td>LDP9*************</td>\n",
       "      <td>Voyah Passion (Chasing Light)</td>\n",
       "      <td>6770000</td>\n",
       "      <td>Не интересует</td>\n",
       "      <td>530</td>\n",
       "      <td>1</td>\n",
       "    </tr>\n",
       "    <tr>\n",
       "      <th>4</th>\n",
       "      <td>2021</td>\n",
       "      <td>I (2021—2024)</td>\n",
       "      <td>10 км</td>\n",
       "      <td>Электронный</td>\n",
       "      <td>1</td>\n",
       "      <td>Не битый</td>\n",
       "      <td>2</td>\n",
       "      <td>Бензин</td>\n",
       "      <td>Автомат</td>\n",
       "      <td>Полный</td>\n",
       "      <td>Внедорожник 5-дверный</td>\n",
       "      <td>Белый</td>\n",
       "      <td>Левый</td>\n",
       "      <td>LB37*************</td>\n",
       "      <td>Geely Monjaro</td>\n",
       "      <td>3600000</td>\n",
       "      <td>Не интересует</td>\n",
       "      <td>238</td>\n",
       "      <td>1</td>\n",
       "    </tr>\n",
       "  </tbody>\n",
       "</table>\n",
       "</div>"
      ]
     },
     "execution_count": 84,
     "metadata": {},
     "output_type": "execute_result"
    }
   ],
   "execution_count": 84
  },
  {
   "cell_type": "markdown",
   "metadata": {},
   "source": [
    "### Признак - **Пробег**"
   ]
  },
  {
   "cell_type": "markdown",
   "metadata": {},
   "source": [
    "Уберем \"км\" и сделаем его вещественным"
   ]
  },
  {
   "cell_type": "code",
   "metadata": {
    "ExecuteTime": {
     "end_time": "2024-08-12T11:54:02.161007Z",
     "start_time": "2024-08-12T11:54:02.146510Z"
    }
   },
   "source": [
    "# используем re, чтобы удалить неразрывные пробелы\n",
    "import re\n",
    "data['Пробег'] = data['Пробег'].apply(lambda x: re.sub(r'\\s+', '', x).replace(\"км\", \"\"))"
   ],
   "outputs": [],
   "execution_count": 85
  },
  {
   "cell_type": "code",
   "metadata": {
    "ExecuteTime": {
     "end_time": "2024-08-12T11:54:02.248628Z",
     "start_time": "2024-08-12T11:54:02.227579Z"
    }
   },
   "source": [
    "data.head()"
   ],
   "outputs": [
    {
     "data": {
      "text/plain": [
       "  Год выпуска                 Поколение  Пробег          ПТС  \\\n",
       "0        2009  I рестайлинг (2009—2012)  156000     Оригинал   \n",
       "1        2018           G07 (2018—2022)  109000     Оригинал   \n",
       "2        2023             I (2023—2024)      15    Не указан   \n",
       "3        2022             I (2022—2024)     300    Не указан   \n",
       "4        2021             I (2021—2024)      10  Электронный   \n",
       "\n",
       "  Владельцев по ПТС Состояние Объём двигателя Тип двигателя Коробка передач  \\\n",
       "0                 2  Не битый             2.3        Бензин         Автомат   \n",
       "1                 1  Не битый               3        Дизель         Автомат   \n",
       "2                 1  Не битый               2        Бензин           Робот   \n",
       "3                 1  Не битый             1.5        Гибрид         Автомат   \n",
       "4                 1  Не битый               2        Бензин         Автомат   \n",
       "\n",
       "   Привод             Тип кузова    Цвет   Руль VIN или номер кузова  \\\n",
       "0  Полный  Внедорожник 5-дверный   Белый  Левый    JMZE*************   \n",
       "1  Полный  Внедорожник 5-дверный   Синий  Левый    WBAC*************   \n",
       "2  Полный  Внедорожник 5-дверный  Чёрный  Левый    LVTD*************   \n",
       "3  Полный                  Седан  Чёрный  Левый    LDP9*************   \n",
       "4  Полный  Внедорожник 5-дверный   Белый  Левый    LB37*************   \n",
       "\n",
       "                        Название     Цена          Обмен Мощность  \\\n",
       "0                     Mazda CX-7  1050000  Не интересует      238   \n",
       "1                         BMW X7  8800000  Не интересует      400   \n",
       "2                       EXEED RX  3730000  Не интересует      249   \n",
       "3  Voyah Passion (Chasing Light)  6770000  Не интересует      530   \n",
       "4                  Geely Monjaro  3600000  Не интересует      238   \n",
       "\n",
       "   Лет в эксплуатации  \n",
       "0                  15  \n",
       "1                   5  \n",
       "2                   2  \n",
       "3                   1  \n",
       "4                   1  "
      ],
      "text/html": [
       "<div>\n",
       "<style scoped>\n",
       "    .dataframe tbody tr th:only-of-type {\n",
       "        vertical-align: middle;\n",
       "    }\n",
       "\n",
       "    .dataframe tbody tr th {\n",
       "        vertical-align: top;\n",
       "    }\n",
       "\n",
       "    .dataframe thead th {\n",
       "        text-align: right;\n",
       "    }\n",
       "</style>\n",
       "<table border=\"1\" class=\"dataframe\">\n",
       "  <thead>\n",
       "    <tr style=\"text-align: right;\">\n",
       "      <th></th>\n",
       "      <th>Год выпуска</th>\n",
       "      <th>Поколение</th>\n",
       "      <th>Пробег</th>\n",
       "      <th>ПТС</th>\n",
       "      <th>Владельцев по ПТС</th>\n",
       "      <th>Состояние</th>\n",
       "      <th>Объём двигателя</th>\n",
       "      <th>Тип двигателя</th>\n",
       "      <th>Коробка передач</th>\n",
       "      <th>Привод</th>\n",
       "      <th>Тип кузова</th>\n",
       "      <th>Цвет</th>\n",
       "      <th>Руль</th>\n",
       "      <th>VIN или номер кузова</th>\n",
       "      <th>Название</th>\n",
       "      <th>Цена</th>\n",
       "      <th>Обмен</th>\n",
       "      <th>Мощность</th>\n",
       "      <th>Лет в эксплуатации</th>\n",
       "    </tr>\n",
       "  </thead>\n",
       "  <tbody>\n",
       "    <tr>\n",
       "      <th>0</th>\n",
       "      <td>2009</td>\n",
       "      <td>I рестайлинг (2009—2012)</td>\n",
       "      <td>156000</td>\n",
       "      <td>Оригинал</td>\n",
       "      <td>2</td>\n",
       "      <td>Не битый</td>\n",
       "      <td>2.3</td>\n",
       "      <td>Бензин</td>\n",
       "      <td>Автомат</td>\n",
       "      <td>Полный</td>\n",
       "      <td>Внедорожник 5-дверный</td>\n",
       "      <td>Белый</td>\n",
       "      <td>Левый</td>\n",
       "      <td>JMZE*************</td>\n",
       "      <td>Mazda CX-7</td>\n",
       "      <td>1050000</td>\n",
       "      <td>Не интересует</td>\n",
       "      <td>238</td>\n",
       "      <td>15</td>\n",
       "    </tr>\n",
       "    <tr>\n",
       "      <th>1</th>\n",
       "      <td>2018</td>\n",
       "      <td>G07 (2018—2022)</td>\n",
       "      <td>109000</td>\n",
       "      <td>Оригинал</td>\n",
       "      <td>1</td>\n",
       "      <td>Не битый</td>\n",
       "      <td>3</td>\n",
       "      <td>Дизель</td>\n",
       "      <td>Автомат</td>\n",
       "      <td>Полный</td>\n",
       "      <td>Внедорожник 5-дверный</td>\n",
       "      <td>Синий</td>\n",
       "      <td>Левый</td>\n",
       "      <td>WBAC*************</td>\n",
       "      <td>BMW X7</td>\n",
       "      <td>8800000</td>\n",
       "      <td>Не интересует</td>\n",
       "      <td>400</td>\n",
       "      <td>5</td>\n",
       "    </tr>\n",
       "    <tr>\n",
       "      <th>2</th>\n",
       "      <td>2023</td>\n",
       "      <td>I (2023—2024)</td>\n",
       "      <td>15</td>\n",
       "      <td>Не указан</td>\n",
       "      <td>1</td>\n",
       "      <td>Не битый</td>\n",
       "      <td>2</td>\n",
       "      <td>Бензин</td>\n",
       "      <td>Робот</td>\n",
       "      <td>Полный</td>\n",
       "      <td>Внедорожник 5-дверный</td>\n",
       "      <td>Чёрный</td>\n",
       "      <td>Левый</td>\n",
       "      <td>LVTD*************</td>\n",
       "      <td>EXEED RX</td>\n",
       "      <td>3730000</td>\n",
       "      <td>Не интересует</td>\n",
       "      <td>249</td>\n",
       "      <td>2</td>\n",
       "    </tr>\n",
       "    <tr>\n",
       "      <th>3</th>\n",
       "      <td>2022</td>\n",
       "      <td>I (2022—2024)</td>\n",
       "      <td>300</td>\n",
       "      <td>Не указан</td>\n",
       "      <td>1</td>\n",
       "      <td>Не битый</td>\n",
       "      <td>1.5</td>\n",
       "      <td>Гибрид</td>\n",
       "      <td>Автомат</td>\n",
       "      <td>Полный</td>\n",
       "      <td>Седан</td>\n",
       "      <td>Чёрный</td>\n",
       "      <td>Левый</td>\n",
       "      <td>LDP9*************</td>\n",
       "      <td>Voyah Passion (Chasing Light)</td>\n",
       "      <td>6770000</td>\n",
       "      <td>Не интересует</td>\n",
       "      <td>530</td>\n",
       "      <td>1</td>\n",
       "    </tr>\n",
       "    <tr>\n",
       "      <th>4</th>\n",
       "      <td>2021</td>\n",
       "      <td>I (2021—2024)</td>\n",
       "      <td>10</td>\n",
       "      <td>Электронный</td>\n",
       "      <td>1</td>\n",
       "      <td>Не битый</td>\n",
       "      <td>2</td>\n",
       "      <td>Бензин</td>\n",
       "      <td>Автомат</td>\n",
       "      <td>Полный</td>\n",
       "      <td>Внедорожник 5-дверный</td>\n",
       "      <td>Белый</td>\n",
       "      <td>Левый</td>\n",
       "      <td>LB37*************</td>\n",
       "      <td>Geely Monjaro</td>\n",
       "      <td>3600000</td>\n",
       "      <td>Не интересует</td>\n",
       "      <td>238</td>\n",
       "      <td>1</td>\n",
       "    </tr>\n",
       "  </tbody>\n",
       "</table>\n",
       "</div>"
      ]
     },
     "execution_count": 86,
     "metadata": {},
     "output_type": "execute_result"
    }
   ],
   "execution_count": 86
  },
  {
   "cell_type": "markdown",
   "metadata": {},
   "source": [
    "### Признак - **Владельцев по ПТС**"
   ]
  },
  {
   "cell_type": "code",
   "metadata": {
    "ExecuteTime": {
     "end_time": "2024-08-12T11:54:02.372091Z",
     "start_time": "2024-08-12T11:54:02.362679Z"
    }
   },
   "source": [
    "# посмотрим, какие значения может принимать\n",
    "data['Владельцев по ПТС'].value_counts()"
   ],
   "outputs": [
    {
     "data": {
      "text/plain": [
       "Владельцев по ПТС\n",
       "1     762\n",
       "2     541\n",
       "4+    404\n",
       "3     402\n",
       "Name: count, dtype: int64"
      ]
     },
     "execution_count": 87,
     "metadata": {},
     "output_type": "execute_result"
    }
   ],
   "execution_count": 87
  },
  {
   "cell_type": "markdown",
   "metadata": {},
   "source": [
    "Данный признак лучше сделать категориальным. Декодируем после обработки вещественных признаков"
   ]
  },
  {
   "cell_type": "markdown",
   "metadata": {},
   "source": [
    "### Удаление лишних признаков"
   ]
  },
  {
   "cell_type": "markdown",
   "metadata": {},
   "source": [
    "Удалим следующие признаки:\n",
    "- **Поколение**, мы его заменили на **Год выпуска**.\n",
    "- **VIN или номер кузова** нужен для идентификации автомобиля. Данный признак мог бы использоваться, как id, но из-за того, что доступны только первые 4 символа, в нашем датафрейме значения VIN повторяются."
   ]
  },
  {
   "cell_type": "code",
   "metadata": {
    "ExecuteTime": {
     "end_time": "2024-08-12T11:54:02.685979Z",
     "start_time": "2024-08-12T11:54:02.674938Z"
    }
   },
   "source": [
    "data.drop(columns=[\"Поколение\", \"VIN или номер кузова\"], inplace=True)"
   ],
   "outputs": [],
   "execution_count": 88
  },
  {
   "cell_type": "code",
   "metadata": {
    "ExecuteTime": {
     "end_time": "2024-08-12T11:54:02.898638Z",
     "start_time": "2024-08-12T11:54:02.868780Z"
    }
   },
   "source": [
    "data.head()"
   ],
   "outputs": [
    {
     "data": {
      "text/plain": [
       "  Год выпуска  Пробег          ПТС Владельцев по ПТС Состояние  \\\n",
       "0        2009  156000     Оригинал                 2  Не битый   \n",
       "1        2018  109000     Оригинал                 1  Не битый   \n",
       "2        2023      15    Не указан                 1  Не битый   \n",
       "3        2022     300    Не указан                 1  Не битый   \n",
       "4        2021      10  Электронный                 1  Не битый   \n",
       "\n",
       "  Объём двигателя Тип двигателя Коробка передач  Привод  \\\n",
       "0             2.3        Бензин         Автомат  Полный   \n",
       "1               3        Дизель         Автомат  Полный   \n",
       "2               2        Бензин           Робот  Полный   \n",
       "3             1.5        Гибрид         Автомат  Полный   \n",
       "4               2        Бензин         Автомат  Полный   \n",
       "\n",
       "              Тип кузова    Цвет   Руль                       Название  \\\n",
       "0  Внедорожник 5-дверный   Белый  Левый                     Mazda CX-7   \n",
       "1  Внедорожник 5-дверный   Синий  Левый                         BMW X7   \n",
       "2  Внедорожник 5-дверный  Чёрный  Левый                       EXEED RX   \n",
       "3                  Седан  Чёрный  Левый  Voyah Passion (Chasing Light)   \n",
       "4  Внедорожник 5-дверный   Белый  Левый                  Geely Monjaro   \n",
       "\n",
       "      Цена          Обмен Мощность  Лет в эксплуатации  \n",
       "0  1050000  Не интересует      238                  15  \n",
       "1  8800000  Не интересует      400                   5  \n",
       "2  3730000  Не интересует      249                   2  \n",
       "3  6770000  Не интересует      530                   1  \n",
       "4  3600000  Не интересует      238                   1  "
      ],
      "text/html": [
       "<div>\n",
       "<style scoped>\n",
       "    .dataframe tbody tr th:only-of-type {\n",
       "        vertical-align: middle;\n",
       "    }\n",
       "\n",
       "    .dataframe tbody tr th {\n",
       "        vertical-align: top;\n",
       "    }\n",
       "\n",
       "    .dataframe thead th {\n",
       "        text-align: right;\n",
       "    }\n",
       "</style>\n",
       "<table border=\"1\" class=\"dataframe\">\n",
       "  <thead>\n",
       "    <tr style=\"text-align: right;\">\n",
       "      <th></th>\n",
       "      <th>Год выпуска</th>\n",
       "      <th>Пробег</th>\n",
       "      <th>ПТС</th>\n",
       "      <th>Владельцев по ПТС</th>\n",
       "      <th>Состояние</th>\n",
       "      <th>Объём двигателя</th>\n",
       "      <th>Тип двигателя</th>\n",
       "      <th>Коробка передач</th>\n",
       "      <th>Привод</th>\n",
       "      <th>Тип кузова</th>\n",
       "      <th>Цвет</th>\n",
       "      <th>Руль</th>\n",
       "      <th>Название</th>\n",
       "      <th>Цена</th>\n",
       "      <th>Обмен</th>\n",
       "      <th>Мощность</th>\n",
       "      <th>Лет в эксплуатации</th>\n",
       "    </tr>\n",
       "  </thead>\n",
       "  <tbody>\n",
       "    <tr>\n",
       "      <th>0</th>\n",
       "      <td>2009</td>\n",
       "      <td>156000</td>\n",
       "      <td>Оригинал</td>\n",
       "      <td>2</td>\n",
       "      <td>Не битый</td>\n",
       "      <td>2.3</td>\n",
       "      <td>Бензин</td>\n",
       "      <td>Автомат</td>\n",
       "      <td>Полный</td>\n",
       "      <td>Внедорожник 5-дверный</td>\n",
       "      <td>Белый</td>\n",
       "      <td>Левый</td>\n",
       "      <td>Mazda CX-7</td>\n",
       "      <td>1050000</td>\n",
       "      <td>Не интересует</td>\n",
       "      <td>238</td>\n",
       "      <td>15</td>\n",
       "    </tr>\n",
       "    <tr>\n",
       "      <th>1</th>\n",
       "      <td>2018</td>\n",
       "      <td>109000</td>\n",
       "      <td>Оригинал</td>\n",
       "      <td>1</td>\n",
       "      <td>Не битый</td>\n",
       "      <td>3</td>\n",
       "      <td>Дизель</td>\n",
       "      <td>Автомат</td>\n",
       "      <td>Полный</td>\n",
       "      <td>Внедорожник 5-дверный</td>\n",
       "      <td>Синий</td>\n",
       "      <td>Левый</td>\n",
       "      <td>BMW X7</td>\n",
       "      <td>8800000</td>\n",
       "      <td>Не интересует</td>\n",
       "      <td>400</td>\n",
       "      <td>5</td>\n",
       "    </tr>\n",
       "    <tr>\n",
       "      <th>2</th>\n",
       "      <td>2023</td>\n",
       "      <td>15</td>\n",
       "      <td>Не указан</td>\n",
       "      <td>1</td>\n",
       "      <td>Не битый</td>\n",
       "      <td>2</td>\n",
       "      <td>Бензин</td>\n",
       "      <td>Робот</td>\n",
       "      <td>Полный</td>\n",
       "      <td>Внедорожник 5-дверный</td>\n",
       "      <td>Чёрный</td>\n",
       "      <td>Левый</td>\n",
       "      <td>EXEED RX</td>\n",
       "      <td>3730000</td>\n",
       "      <td>Не интересует</td>\n",
       "      <td>249</td>\n",
       "      <td>2</td>\n",
       "    </tr>\n",
       "    <tr>\n",
       "      <th>3</th>\n",
       "      <td>2022</td>\n",
       "      <td>300</td>\n",
       "      <td>Не указан</td>\n",
       "      <td>1</td>\n",
       "      <td>Не битый</td>\n",
       "      <td>1.5</td>\n",
       "      <td>Гибрид</td>\n",
       "      <td>Автомат</td>\n",
       "      <td>Полный</td>\n",
       "      <td>Седан</td>\n",
       "      <td>Чёрный</td>\n",
       "      <td>Левый</td>\n",
       "      <td>Voyah Passion (Chasing Light)</td>\n",
       "      <td>6770000</td>\n",
       "      <td>Не интересует</td>\n",
       "      <td>530</td>\n",
       "      <td>1</td>\n",
       "    </tr>\n",
       "    <tr>\n",
       "      <th>4</th>\n",
       "      <td>2021</td>\n",
       "      <td>10</td>\n",
       "      <td>Электронный</td>\n",
       "      <td>1</td>\n",
       "      <td>Не битый</td>\n",
       "      <td>2</td>\n",
       "      <td>Бензин</td>\n",
       "      <td>Автомат</td>\n",
       "      <td>Полный</td>\n",
       "      <td>Внедорожник 5-дверный</td>\n",
       "      <td>Белый</td>\n",
       "      <td>Левый</td>\n",
       "      <td>Geely Monjaro</td>\n",
       "      <td>3600000</td>\n",
       "      <td>Не интересует</td>\n",
       "      <td>238</td>\n",
       "      <td>1</td>\n",
       "    </tr>\n",
       "  </tbody>\n",
       "</table>\n",
       "</div>"
      ]
     },
     "execution_count": 89,
     "metadata": {},
     "output_type": "execute_result"
    }
   ],
   "execution_count": 89
  },
  {
   "cell_type": "markdown",
   "metadata": {},
   "source": [
    "### Приведение к числовому типу"
   ]
  },
  {
   "cell_type": "code",
   "metadata": {
    "ExecuteTime": {
     "end_time": "2024-08-12T11:54:03.199276Z",
     "start_time": "2024-08-12T11:54:03.190135Z"
    }
   },
   "source": [
    "# посмотрим, какие колонки нужно преобразовать\n",
    "data.dtypes"
   ],
   "outputs": [
    {
     "data": {
      "text/plain": [
       "Год выпуска           object\n",
       "Пробег                object\n",
       "ПТС                   object\n",
       "Владельцев по ПТС     object\n",
       "Состояние             object\n",
       "Объём двигателя       object\n",
       "Тип двигателя         object\n",
       "Коробка передач       object\n",
       "Привод                object\n",
       "Тип кузова            object\n",
       "Цвет                  object\n",
       "Руль                  object\n",
       "Название              object\n",
       "Цена                   int64\n",
       "Обмен                 object\n",
       "Мощность              object\n",
       "Лет в эксплуатации     int64\n",
       "dtype: object"
      ]
     },
     "execution_count": 90,
     "metadata": {},
     "output_type": "execute_result"
    }
   ],
   "execution_count": 90
  },
  {
   "cell_type": "markdown",
   "metadata": {},
   "source": [
    "Приведем колонки **Год выпуска**, **Пробег**, **Объём двигателя**, **Мощность** к числовому типу"
   ]
  },
  {
   "cell_type": "code",
   "metadata": {
    "ExecuteTime": {
     "end_time": "2024-08-12T11:54:03.468419Z",
     "start_time": "2024-08-12T11:54:03.282251Z"
    }
   },
   "source": [
    "cols_to_num = ['Год выпуска', 'Пробег', 'Объём двигателя', 'Мощность']\n",
    "data[cols_to_num] = data[cols_to_num].map(pd.to_numeric)"
   ],
   "outputs": [],
   "execution_count": 91
  },
  {
   "cell_type": "markdown",
   "metadata": {},
   "source": [
    "Возьмем числовые признаки и посмотрим на их описание, корелляции"
   ]
  },
  {
   "cell_type": "code",
   "metadata": {
    "ExecuteTime": {
     "end_time": "2024-08-12T11:54:03.547365Z",
     "start_time": "2024-08-12T11:54:03.539567Z"
    }
   },
   "source": [
    "# берем столбцы, содержащие числовой тип\n",
    "numeric_columns = data.loc[:,data.dtypes!=object].columns"
   ],
   "outputs": [],
   "execution_count": 92
  },
  {
   "cell_type": "code",
   "metadata": {
    "ExecuteTime": {
     "end_time": "2024-08-12T11:54:03.659591Z",
     "start_time": "2024-08-12T11:54:03.615333Z"
    }
   },
   "source": [
    "data[numeric_columns].describe()"
   ],
   "outputs": [
    {
     "data": {
      "text/plain": [
       "       Год выпуска          Пробег  Объём двигателя          Цена  \\\n",
       "count  2109.000000     2109.000000      2109.000000  2.109000e+03   \n",
       "mean   2010.867236   134501.739213         1.847843  1.275330e+06   \n",
       "std       6.954952    82870.145173         0.582445  1.544960e+06   \n",
       "min    1977.000000        1.000000         0.000000  3.500000e+04   \n",
       "25%    2007.000000    80000.000000         1.600000  5.100000e+05   \n",
       "50%    2011.000000   130000.000000         1.600000  8.950000e+05   \n",
       "75%    2016.000000   179900.000000         2.000000  1.530000e+06   \n",
       "max    2024.000000  1000000.000000         6.200000  2.500000e+07   \n",
       "\n",
       "          Мощность  Лет в эксплуатации  \n",
       "count  2109.000000         2109.000000  \n",
       "mean    130.732101           11.057373  \n",
       "std      58.560554            5.474023  \n",
       "min      33.000000            1.000000  \n",
       "25%      98.000000            7.000000  \n",
       "50%     114.000000           11.000000  \n",
       "75%     150.000000           14.000000  \n",
       "max     717.000000           39.000000  "
      ],
      "text/html": [
       "<div>\n",
       "<style scoped>\n",
       "    .dataframe tbody tr th:only-of-type {\n",
       "        vertical-align: middle;\n",
       "    }\n",
       "\n",
       "    .dataframe tbody tr th {\n",
       "        vertical-align: top;\n",
       "    }\n",
       "\n",
       "    .dataframe thead th {\n",
       "        text-align: right;\n",
       "    }\n",
       "</style>\n",
       "<table border=\"1\" class=\"dataframe\">\n",
       "  <thead>\n",
       "    <tr style=\"text-align: right;\">\n",
       "      <th></th>\n",
       "      <th>Год выпуска</th>\n",
       "      <th>Пробег</th>\n",
       "      <th>Объём двигателя</th>\n",
       "      <th>Цена</th>\n",
       "      <th>Мощность</th>\n",
       "      <th>Лет в эксплуатации</th>\n",
       "    </tr>\n",
       "  </thead>\n",
       "  <tbody>\n",
       "    <tr>\n",
       "      <th>count</th>\n",
       "      <td>2109.000000</td>\n",
       "      <td>2109.000000</td>\n",
       "      <td>2109.000000</td>\n",
       "      <td>2.109000e+03</td>\n",
       "      <td>2109.000000</td>\n",
       "      <td>2109.000000</td>\n",
       "    </tr>\n",
       "    <tr>\n",
       "      <th>mean</th>\n",
       "      <td>2010.867236</td>\n",
       "      <td>134501.739213</td>\n",
       "      <td>1.847843</td>\n",
       "      <td>1.275330e+06</td>\n",
       "      <td>130.732101</td>\n",
       "      <td>11.057373</td>\n",
       "    </tr>\n",
       "    <tr>\n",
       "      <th>std</th>\n",
       "      <td>6.954952</td>\n",
       "      <td>82870.145173</td>\n",
       "      <td>0.582445</td>\n",
       "      <td>1.544960e+06</td>\n",
       "      <td>58.560554</td>\n",
       "      <td>5.474023</td>\n",
       "    </tr>\n",
       "    <tr>\n",
       "      <th>min</th>\n",
       "      <td>1977.000000</td>\n",
       "      <td>1.000000</td>\n",
       "      <td>0.000000</td>\n",
       "      <td>3.500000e+04</td>\n",
       "      <td>33.000000</td>\n",
       "      <td>1.000000</td>\n",
       "    </tr>\n",
       "    <tr>\n",
       "      <th>25%</th>\n",
       "      <td>2007.000000</td>\n",
       "      <td>80000.000000</td>\n",
       "      <td>1.600000</td>\n",
       "      <td>5.100000e+05</td>\n",
       "      <td>98.000000</td>\n",
       "      <td>7.000000</td>\n",
       "    </tr>\n",
       "    <tr>\n",
       "      <th>50%</th>\n",
       "      <td>2011.000000</td>\n",
       "      <td>130000.000000</td>\n",
       "      <td>1.600000</td>\n",
       "      <td>8.950000e+05</td>\n",
       "      <td>114.000000</td>\n",
       "      <td>11.000000</td>\n",
       "    </tr>\n",
       "    <tr>\n",
       "      <th>75%</th>\n",
       "      <td>2016.000000</td>\n",
       "      <td>179900.000000</td>\n",
       "      <td>2.000000</td>\n",
       "      <td>1.530000e+06</td>\n",
       "      <td>150.000000</td>\n",
       "      <td>14.000000</td>\n",
       "    </tr>\n",
       "    <tr>\n",
       "      <th>max</th>\n",
       "      <td>2024.000000</td>\n",
       "      <td>1000000.000000</td>\n",
       "      <td>6.200000</td>\n",
       "      <td>2.500000e+07</td>\n",
       "      <td>717.000000</td>\n",
       "      <td>39.000000</td>\n",
       "    </tr>\n",
       "  </tbody>\n",
       "</table>\n",
       "</div>"
      ]
     },
     "execution_count": 93,
     "metadata": {},
     "output_type": "execute_result"
    }
   ],
   "execution_count": 93
  },
  {
   "cell_type": "markdown",
   "metadata": {},
   "source": [
    "Все значения адекватные, кроме максимального пробега. Похоже на выброс, посмотрим на строки, у которых пробег больше 500 тыс."
   ]
  },
  {
   "cell_type": "code",
   "metadata": {
    "ExecuteTime": {
     "end_time": "2024-08-12T11:54:03.898239Z",
     "start_time": "2024-08-12T11:54:03.877731Z"
    }
   },
   "source": [
    "data[data['Пробег'] > 500000]"
   ],
   "outputs": [
    {
     "data": {
      "text/plain": [
       "      Год выпуска   Пробег        ПТС Владельцев по ПТС Состояние  \\\n",
       "104          2003   577351  Не указан                4+  Не битый   \n",
       "509          2001   557469   Оригинал                4+  Не битый   \n",
       "970          2001   999999   Оригинал                4+  Не битый   \n",
       "971          1998  1000000   Оригинал                 3  Не битый   \n",
       "1417         1998   651773  Не указан                4+  Не битый   \n",
       "1955         2007   668847   Оригинал                 1  Не битый   \n",
       "\n",
       "      Объём двигателя Тип двигателя Коробка передач    Привод  \\\n",
       "104               2.5        Дизель        Механика  Передний   \n",
       "509               1.8        Бензин        Механика  Передний   \n",
       "970               1.6        Бензин        Механика  Передний   \n",
       "971               1.5        Бензин        Механика    Задний   \n",
       "1417              4.7        Бензин         Автомат    Полный   \n",
       "1955              4.5        Дизель         Автомат    Полный   \n",
       "\n",
       "                 Тип кузова        Цвет   Руль                Название  \\\n",
       "104                 Минивэн  Серебряный  Левый     Volkswagen Multivan   \n",
       "509                   Седан      Чёрный  Левый              Ford Focus   \n",
       "970       Хетчбек 5-дверный  Серебряный  Левый  ВАЗ (LADA) 2114 Samara   \n",
       "971                  Фургон     Бежевый  Левый                ВИС 2345   \n",
       "1417  Внедорожник 5-дверный      Чёрный  Левый     Toyota Land Cruiser   \n",
       "1955  Внедорожник 5-дверный       Серый  Левый     Toyota Land Cruiser   \n",
       "\n",
       "         Цена          Обмен  Мощность  Лет в эксплуатации  \n",
       "104   1270000       Возможен       131                  22  \n",
       "509    245000  Не интересует       115                  21  \n",
       "970    111111  Не интересует        81                  18  \n",
       "971    590000  Не интересует        71                  25  \n",
       "1417   970000       Возможен       235                  23  \n",
       "1955  2499000       Возможен       235                  15  "
      ],
      "text/html": [
       "<div>\n",
       "<style scoped>\n",
       "    .dataframe tbody tr th:only-of-type {\n",
       "        vertical-align: middle;\n",
       "    }\n",
       "\n",
       "    .dataframe tbody tr th {\n",
       "        vertical-align: top;\n",
       "    }\n",
       "\n",
       "    .dataframe thead th {\n",
       "        text-align: right;\n",
       "    }\n",
       "</style>\n",
       "<table border=\"1\" class=\"dataframe\">\n",
       "  <thead>\n",
       "    <tr style=\"text-align: right;\">\n",
       "      <th></th>\n",
       "      <th>Год выпуска</th>\n",
       "      <th>Пробег</th>\n",
       "      <th>ПТС</th>\n",
       "      <th>Владельцев по ПТС</th>\n",
       "      <th>Состояние</th>\n",
       "      <th>Объём двигателя</th>\n",
       "      <th>Тип двигателя</th>\n",
       "      <th>Коробка передач</th>\n",
       "      <th>Привод</th>\n",
       "      <th>Тип кузова</th>\n",
       "      <th>Цвет</th>\n",
       "      <th>Руль</th>\n",
       "      <th>Название</th>\n",
       "      <th>Цена</th>\n",
       "      <th>Обмен</th>\n",
       "      <th>Мощность</th>\n",
       "      <th>Лет в эксплуатации</th>\n",
       "    </tr>\n",
       "  </thead>\n",
       "  <tbody>\n",
       "    <tr>\n",
       "      <th>104</th>\n",
       "      <td>2003</td>\n",
       "      <td>577351</td>\n",
       "      <td>Не указан</td>\n",
       "      <td>4+</td>\n",
       "      <td>Не битый</td>\n",
       "      <td>2.5</td>\n",
       "      <td>Дизель</td>\n",
       "      <td>Механика</td>\n",
       "      <td>Передний</td>\n",
       "      <td>Минивэн</td>\n",
       "      <td>Серебряный</td>\n",
       "      <td>Левый</td>\n",
       "      <td>Volkswagen Multivan</td>\n",
       "      <td>1270000</td>\n",
       "      <td>Возможен</td>\n",
       "      <td>131</td>\n",
       "      <td>22</td>\n",
       "    </tr>\n",
       "    <tr>\n",
       "      <th>509</th>\n",
       "      <td>2001</td>\n",
       "      <td>557469</td>\n",
       "      <td>Оригинал</td>\n",
       "      <td>4+</td>\n",
       "      <td>Не битый</td>\n",
       "      <td>1.8</td>\n",
       "      <td>Бензин</td>\n",
       "      <td>Механика</td>\n",
       "      <td>Передний</td>\n",
       "      <td>Седан</td>\n",
       "      <td>Чёрный</td>\n",
       "      <td>Левый</td>\n",
       "      <td>Ford Focus</td>\n",
       "      <td>245000</td>\n",
       "      <td>Не интересует</td>\n",
       "      <td>115</td>\n",
       "      <td>21</td>\n",
       "    </tr>\n",
       "    <tr>\n",
       "      <th>970</th>\n",
       "      <td>2001</td>\n",
       "      <td>999999</td>\n",
       "      <td>Оригинал</td>\n",
       "      <td>4+</td>\n",
       "      <td>Не битый</td>\n",
       "      <td>1.6</td>\n",
       "      <td>Бензин</td>\n",
       "      <td>Механика</td>\n",
       "      <td>Передний</td>\n",
       "      <td>Хетчбек 5-дверный</td>\n",
       "      <td>Серебряный</td>\n",
       "      <td>Левый</td>\n",
       "      <td>ВАЗ (LADA) 2114 Samara</td>\n",
       "      <td>111111</td>\n",
       "      <td>Не интересует</td>\n",
       "      <td>81</td>\n",
       "      <td>18</td>\n",
       "    </tr>\n",
       "    <tr>\n",
       "      <th>971</th>\n",
       "      <td>1998</td>\n",
       "      <td>1000000</td>\n",
       "      <td>Оригинал</td>\n",
       "      <td>3</td>\n",
       "      <td>Не битый</td>\n",
       "      <td>1.5</td>\n",
       "      <td>Бензин</td>\n",
       "      <td>Механика</td>\n",
       "      <td>Задний</td>\n",
       "      <td>Фургон</td>\n",
       "      <td>Бежевый</td>\n",
       "      <td>Левый</td>\n",
       "      <td>ВИС 2345</td>\n",
       "      <td>590000</td>\n",
       "      <td>Не интересует</td>\n",
       "      <td>71</td>\n",
       "      <td>25</td>\n",
       "    </tr>\n",
       "    <tr>\n",
       "      <th>1417</th>\n",
       "      <td>1998</td>\n",
       "      <td>651773</td>\n",
       "      <td>Не указан</td>\n",
       "      <td>4+</td>\n",
       "      <td>Не битый</td>\n",
       "      <td>4.7</td>\n",
       "      <td>Бензин</td>\n",
       "      <td>Автомат</td>\n",
       "      <td>Полный</td>\n",
       "      <td>Внедорожник 5-дверный</td>\n",
       "      <td>Чёрный</td>\n",
       "      <td>Левый</td>\n",
       "      <td>Toyota Land Cruiser</td>\n",
       "      <td>970000</td>\n",
       "      <td>Возможен</td>\n",
       "      <td>235</td>\n",
       "      <td>23</td>\n",
       "    </tr>\n",
       "    <tr>\n",
       "      <th>1955</th>\n",
       "      <td>2007</td>\n",
       "      <td>668847</td>\n",
       "      <td>Оригинал</td>\n",
       "      <td>1</td>\n",
       "      <td>Не битый</td>\n",
       "      <td>4.5</td>\n",
       "      <td>Дизель</td>\n",
       "      <td>Автомат</td>\n",
       "      <td>Полный</td>\n",
       "      <td>Внедорожник 5-дверный</td>\n",
       "      <td>Серый</td>\n",
       "      <td>Левый</td>\n",
       "      <td>Toyota Land Cruiser</td>\n",
       "      <td>2499000</td>\n",
       "      <td>Возможен</td>\n",
       "      <td>235</td>\n",
       "      <td>15</td>\n",
       "    </tr>\n",
       "  </tbody>\n",
       "</table>\n",
       "</div>"
      ]
     },
     "execution_count": 94,
     "metadata": {},
     "output_type": "execute_result"
    }
   ],
   "execution_count": 94
  },
  {
   "cell_type": "code",
   "metadata": {
    "ExecuteTime": {
     "end_time": "2024-08-12T11:54:04.051667Z",
     "start_time": "2024-08-12T11:54:04.039341Z"
    }
   },
   "source": [
    "# удалим выбросы\n",
    "data.drop(index=[970, 971], inplace=True)"
   ],
   "outputs": [],
   "execution_count": 95
  },
  {
   "cell_type": "code",
   "metadata": {
    "ExecuteTime": {
     "end_time": "2024-08-12T11:54:04.217244Z",
     "start_time": "2024-08-12T11:54:04.197576Z"
    }
   },
   "source": [
    "# посмотрим корелляции\n",
    "data[numeric_columns].corr()"
   ],
   "outputs": [
    {
     "data": {
      "text/plain": [
       "                    Год выпуска    Пробег  Объём двигателя      Цена  \\\n",
       "Год выпуска            1.000000 -0.510649         0.015218  0.401623   \n",
       "Пробег                -0.510649  1.000000         0.159140 -0.323719   \n",
       "Объём двигателя        0.015218  0.159140         1.000000  0.474830   \n",
       "Цена                   0.401623 -0.323719         0.474830  1.000000   \n",
       "Мощность               0.229703 -0.013495         0.772654  0.670635   \n",
       "Лет в эксплуатации    -0.853092  0.665638         0.057146 -0.400894   \n",
       "\n",
       "                    Мощность  Лет в эксплуатации  \n",
       "Год выпуска         0.229703           -0.853092  \n",
       "Пробег             -0.013495            0.665638  \n",
       "Объём двигателя     0.772654            0.057146  \n",
       "Цена                0.670635           -0.400894  \n",
       "Мощность            1.000000           -0.138380  \n",
       "Лет в эксплуатации -0.138380            1.000000  "
      ],
      "text/html": [
       "<div>\n",
       "<style scoped>\n",
       "    .dataframe tbody tr th:only-of-type {\n",
       "        vertical-align: middle;\n",
       "    }\n",
       "\n",
       "    .dataframe tbody tr th {\n",
       "        vertical-align: top;\n",
       "    }\n",
       "\n",
       "    .dataframe thead th {\n",
       "        text-align: right;\n",
       "    }\n",
       "</style>\n",
       "<table border=\"1\" class=\"dataframe\">\n",
       "  <thead>\n",
       "    <tr style=\"text-align: right;\">\n",
       "      <th></th>\n",
       "      <th>Год выпуска</th>\n",
       "      <th>Пробег</th>\n",
       "      <th>Объём двигателя</th>\n",
       "      <th>Цена</th>\n",
       "      <th>Мощность</th>\n",
       "      <th>Лет в эксплуатации</th>\n",
       "    </tr>\n",
       "  </thead>\n",
       "  <tbody>\n",
       "    <tr>\n",
       "      <th>Год выпуска</th>\n",
       "      <td>1.000000</td>\n",
       "      <td>-0.510649</td>\n",
       "      <td>0.015218</td>\n",
       "      <td>0.401623</td>\n",
       "      <td>0.229703</td>\n",
       "      <td>-0.853092</td>\n",
       "    </tr>\n",
       "    <tr>\n",
       "      <th>Пробег</th>\n",
       "      <td>-0.510649</td>\n",
       "      <td>1.000000</td>\n",
       "      <td>0.159140</td>\n",
       "      <td>-0.323719</td>\n",
       "      <td>-0.013495</td>\n",
       "      <td>0.665638</td>\n",
       "    </tr>\n",
       "    <tr>\n",
       "      <th>Объём двигателя</th>\n",
       "      <td>0.015218</td>\n",
       "      <td>0.159140</td>\n",
       "      <td>1.000000</td>\n",
       "      <td>0.474830</td>\n",
       "      <td>0.772654</td>\n",
       "      <td>0.057146</td>\n",
       "    </tr>\n",
       "    <tr>\n",
       "      <th>Цена</th>\n",
       "      <td>0.401623</td>\n",
       "      <td>-0.323719</td>\n",
       "      <td>0.474830</td>\n",
       "      <td>1.000000</td>\n",
       "      <td>0.670635</td>\n",
       "      <td>-0.400894</td>\n",
       "    </tr>\n",
       "    <tr>\n",
       "      <th>Мощность</th>\n",
       "      <td>0.229703</td>\n",
       "      <td>-0.013495</td>\n",
       "      <td>0.772654</td>\n",
       "      <td>0.670635</td>\n",
       "      <td>1.000000</td>\n",
       "      <td>-0.138380</td>\n",
       "    </tr>\n",
       "    <tr>\n",
       "      <th>Лет в эксплуатации</th>\n",
       "      <td>-0.853092</td>\n",
       "      <td>0.665638</td>\n",
       "      <td>0.057146</td>\n",
       "      <td>-0.400894</td>\n",
       "      <td>-0.138380</td>\n",
       "      <td>1.000000</td>\n",
       "    </tr>\n",
       "  </tbody>\n",
       "</table>\n",
       "</div>"
      ]
     },
     "execution_count": 96,
     "metadata": {},
     "output_type": "execute_result"
    }
   ],
   "execution_count": 96
  }
 ],
 "metadata": {
  "kernelspec": {
   "display_name": "Python 3",
   "language": "python",
   "name": "python3"
  },
  "language_info": {
   "codemirror_mode": {
    "name": "ipython",
    "version": 3
   },
   "file_extension": ".py",
   "mimetype": "text/x-python",
   "name": "python",
   "nbconvert_exporter": "python",
   "pygments_lexer": "ipython3",
   "version": "3.12.4"
  }
 },
 "nbformat": 4,
 "nbformat_minor": 2
}
