{
 "cells": [
  {
   "cell_type": "markdown",
   "metadata": {},
   "source": [
    "<h3>Парсинг объявлений о продаже автомобилей с Авито</h3>"
   ]
  },
  {
   "cell_type": "code",
   "execution_count": 8,
   "metadata": {},
   "outputs": [],
   "source": [
    "# импорт библиотек\n",
    "from selenium import webdriver\n",
    "from selenium.webdriver.common.by import By\n",
    "from selenium.webdriver.support.ui import WebDriverWait\n",
    "from selenium.webdriver.support import expected_conditions as EC\n",
    "from selenium.common.exceptions import TimeoutException \n",
    "\n",
    "import time\n",
    "from random import randint\n",
    "\n",
    "import pandas as pd"
   ]
  },
  {
   "cell_type": "code",
   "execution_count": 9,
   "metadata": {},
   "outputs": [],
   "source": [
    "# начальная страница парсинга\n",
    "URL = 'https://www.avito.ru/samarskaya_oblast/avtomobili?f=ASgBAgECAUTyCrCKAQFF~owUF3siZnJvbSI6bnVsbCwidG8iOjIwMjB9'"
   ]
  },
  {
   "cell_type": "markdown",
   "metadata": {},
   "source": [
    "Напишем функцию для решения Captcha"
   ]
  },
  {
   "cell_type": "code",
   "execution_count": 10,
   "metadata": {},
   "outputs": [],
   "source": [
    "def kill_captcha(driver):\n",
    "    wait = WebDriverWait(driver, 5)\n",
    "    try:\n",
    "        # Проверка на наличие капчи\n",
    "        captcha_element = wait.until(EC.presence_of_element_located(\n",
    "                    (By.XPATH, \"//h2[@class='firewall-title']\")), message=\"Капча обнаружена\")\n",
    "\n",
    "        if captcha_element:\n",
    "            print(\"Капча обнаружена. Решите ее вручную.\")\n",
    "            input(\"Нажмите Enter, когда решите капчу...\")\n",
    "\n",
    "    except TimeoutException:\n",
    "        pass"
   ]
  },
  {
   "cell_type": "markdown",
   "metadata": {},
   "source": [
    "Напишем функцию получения данных с объявления "
   ]
  },
  {
   "cell_type": "code",
   "execution_count": 11,
   "metadata": {},
   "outputs": [],
   "source": [
    "def get_car_data(ad, mark):\n",
    "    data = {}\n",
    "\n",
    "    data['id'] = ad.get_attribute(\"id\")\n",
    "    data['mark'] = mark\n",
    "    data['name'] = ad.find_element(\n",
    "                        by=By.CSS_SELECTOR, value='h3[itemprop=\"name\"]'\n",
    "                    ).text\n",
    "\n",
    "    data['price'] = ad.find_element(\n",
    "                        by=By.CSS_SELECTOR, value='meta[itemprop=\"price\"]'\n",
    "                    ).get_attribute(\"content\")\n",
    "\n",
    "    data['params'] = ad.find_element(\n",
    "                        by=By.CSS_SELECTOR, value='p[data-marker=\"item-specific-params\"]'\n",
    "                    ).text\n",
    "\n",
    "    return  data"
   ]
  },
  {
   "cell_type": "markdown",
   "metadata": {},
   "source": [
    "Напишем функцию парсинга для всех объявлений"
   ]
  },
  {
   "cell_type": "code",
   "execution_count": 12,
   "metadata": {},
   "outputs": [],
   "source": [
    "def parse_cars(url):\n",
    "    # Настраиваем параметры браузера\n",
    "    options = webdriver.ChromeOptions()\n",
    "    # Отключает функцию, указывающую сайтам, что браузер управляется автоматизацией\n",
    "    options.add_argument(\"--disable-blink-features=AutomationControlled\")\n",
    "    driver = webdriver.Chrome(options=options)\n",
    "    driver.implicitly_wait(10)\n",
    "\n",
    "    driver.get(url)\n",
    "\n",
    "    kill_captcha(driver)\n",
    "    # парсим популярные модели\n",
    "    popular_models = driver.find_element(\n",
    "        by=By.CSS_SELECTOR, value='div[data-marker=\"popular-rubricator/links\"]'\n",
    "    ).find_elements(\n",
    "        by=By.CSS_SELECTOR, value='a[data-marker=\"popular-rubricator/link\"]'\n",
    "    )\n",
    "\n",
    "    models = [{'name': x.text, 'link': x.get_attribute('href')} for x in popular_models]\n",
    "    \n",
    "    all_cars = []\n",
    "    for model in models:\n",
    "        # перейдем к объявлениям марки\n",
    "        driver.get(model['link'])\n",
    "\n",
    "        kill_captcha(driver)\n",
    "\n",
    "        cars = []\n",
    "        while True:\n",
    "            # делаем небольшую задержку\n",
    "            rand_sleep = randint(25, 49)\n",
    "            time.sleep(rand_sleep / 10)\n",
    "\n",
    "            ads = driver.find_elements(\n",
    "                by=By.CSS_SELECTOR, value='div[data-marker=\"item\"]'\n",
    "            )\n",
    "\n",
    "            for ad in ads:\n",
    "                car_data = get_car_data(ad, model['name'])\n",
    "                cars.append(car_data)\n",
    "    \n",
    "            try:\n",
    "                # Ожидаем, пока кнопка станет видимой и доступной\n",
    "                button = WebDriverWait(driver, 10).until(\n",
    "                    EC.presence_of_element_located((By.CSS_SELECTOR, 'a[data-marker=\"pagination-button/nextPage\"]'))\n",
    "                )\n",
    "\n",
    "                if button.is_displayed() and button.is_enabled():\n",
    "                    button.click()\n",
    "                else:\n",
    "                    break\n",
    "\n",
    "            except Exception:\n",
    "                break\n",
    "                \n",
    "        all_cars += cars\n",
    "        pd.DataFrame(cars).to_csv(f\"../data/brands/cars_data_{model['name']}.csv\")\n",
    "        \n",
    "    driver.quit()\n",
    "    return all_cars"
   ]
  },
  {
   "cell_type": "markdown",
   "metadata": {},
   "source": [
    "*Авито* отображает максимум 100 страниц по 50 объявлений, поэтому мы проходимся по популярным брендам и парсим их по очереди, чтобы суммарно было больше объявлений."
   ]
  },
  {
   "cell_type": "code",
   "execution_count": 13,
   "metadata": {},
   "outputs": [
    {
     "name": "stdout",
     "output_type": "stream",
     "text": [
      "Капча обнаружена. Решите ее вручную.\n"
     ]
    }
   ],
   "source": [
    "# Парсинг\n",
    "cars = parse_cars(URL)"
   ]
  },
  {
   "cell_type": "code",
   "execution_count": 14,
   "metadata": {},
   "outputs": [],
   "source": [
    "# сохраняем данные\n",
    "cars = pd.DataFrame(cars)\n",
    "\n",
    "cars.to_csv('../data/cars_data.csv')"
   ]
  },
  {
   "cell_type": "code",
   "execution_count": 15,
   "metadata": {},
   "outputs": [
    {
     "data": {
      "text/html": [
       "<div>\n",
       "<style scoped>\n",
       "    .dataframe tbody tr th:only-of-type {\n",
       "        vertical-align: middle;\n",
       "    }\n",
       "\n",
       "    .dataframe tbody tr th {\n",
       "        vertical-align: top;\n",
       "    }\n",
       "\n",
       "    .dataframe thead th {\n",
       "        text-align: right;\n",
       "    }\n",
       "</style>\n",
       "<table border=\"1\" class=\"dataframe\">\n",
       "  <thead>\n",
       "    <tr style=\"text-align: right;\">\n",
       "      <th></th>\n",
       "      <th>id</th>\n",
       "      <th>mark</th>\n",
       "      <th>name</th>\n",
       "      <th>price</th>\n",
       "      <th>params</th>\n",
       "    </tr>\n",
       "  </thead>\n",
       "  <tbody>\n",
       "    <tr>\n",
       "      <th>0</th>\n",
       "      <td>i3675665511</td>\n",
       "      <td>Audi</td>\n",
       "      <td>Audi Q5 2.0 AT, 2011, 227 020 км</td>\n",
       "      <td>1459000</td>\n",
       "      <td>227 020 км, 2 AT (211 л.с.), внедорожник, полн...</td>\n",
       "    </tr>\n",
       "    <tr>\n",
       "      <th>1</th>\n",
       "      <td>i4156063281</td>\n",
       "      <td>Audi</td>\n",
       "      <td>Audi A5 2.0 AMT, 2020, 45 000 км</td>\n",
       "      <td>4600000</td>\n",
       "      <td>45 000 км, 2 AMT (249 л.с.), купе, полный, бензин</td>\n",
       "    </tr>\n",
       "    <tr>\n",
       "      <th>2</th>\n",
       "      <td>i3972915633</td>\n",
       "      <td>Audi</td>\n",
       "      <td>Audi A4 1.8 CVT, 2013, 153 414 км</td>\n",
       "      <td>1350230</td>\n",
       "      <td>153 414 км, 1.8 CVT (170 л.с.), седан, передни...</td>\n",
       "    </tr>\n",
       "    <tr>\n",
       "      <th>3</th>\n",
       "      <td>i4152882630</td>\n",
       "      <td>Audi</td>\n",
       "      <td>Audi A5 2.0 AMT, 2018, 73 400 км</td>\n",
       "      <td>3460000</td>\n",
       "      <td>73 400 км, 2.0 AMT (190 л.с.), купе, полный, д...</td>\n",
       "    </tr>\n",
       "    <tr>\n",
       "      <th>4</th>\n",
       "      <td>i4026986935</td>\n",
       "      <td>Audi</td>\n",
       "      <td>Audi Q7 3.0 AT, 2020, 54 000 км</td>\n",
       "      <td>7650000</td>\n",
       "      <td>54 000 км, 3.0 AT (249 л.с.), внедорожник, пол...</td>\n",
       "    </tr>\n",
       "  </tbody>\n",
       "</table>\n",
       "</div>"
      ],
      "text/plain": [
       "            id  mark                               name    price  \\\n",
       "0  i3675665511  Audi   Audi Q5 2.0 AT, 2011, 227 020 км  1459000   \n",
       "1  i4156063281  Audi   Audi A5 2.0 AMT, 2020, 45 000 км  4600000   \n",
       "2  i3972915633  Audi  Audi A4 1.8 CVT, 2013, 153 414 км  1350230   \n",
       "3  i4152882630  Audi   Audi A5 2.0 AMT, 2018, 73 400 км  3460000   \n",
       "4  i4026986935  Audi    Audi Q7 3.0 AT, 2020, 54 000 км  7650000   \n",
       "\n",
       "                                              params  \n",
       "0  227 020 км, 2 AT (211 л.с.), внедорожник, полн...  \n",
       "1  45 000 км, 2 AMT (249 л.с.), купе, полный, бензин  \n",
       "2  153 414 км, 1.8 CVT (170 л.с.), седан, передни...  \n",
       "3  73 400 км, 2.0 AMT (190 л.с.), купе, полный, д...  \n",
       "4  54 000 км, 3.0 AT (249 л.с.), внедорожник, пол...  "
      ]
     },
     "execution_count": 15,
     "metadata": {},
     "output_type": "execute_result"
    }
   ],
   "source": [
    "cars.head()"
   ]
  }
 ],
 "metadata": {
  "kernelspec": {
   "display_name": "Python 3",
   "language": "python",
   "name": "python3"
  },
  "language_info": {
   "codemirror_mode": {
    "name": "ipython",
    "version": 3
   },
   "file_extension": ".py",
   "mimetype": "text/x-python",
   "name": "python",
   "nbconvert_exporter": "python",
   "pygments_lexer": "ipython3",
   "version": "3.11.3"
  }
 },
 "nbformat": 4,
 "nbformat_minor": 2
}
