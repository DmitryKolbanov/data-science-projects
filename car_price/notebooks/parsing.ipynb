{
 "cells": [
  {
   "cell_type": "markdown",
   "metadata": {},
   "source": [
    "<h3>Парсинг объявлений о продаже автомобилей с Авито</h3>"
   ]
  },
  {
   "cell_type": "code",
   "metadata": {
    "ExecuteTime": {
     "end_time": "2024-08-12T11:50:09.593280Z",
     "start_time": "2024-08-12T11:50:08.983612Z"
    }
   },
   "source": [
    "# импорт библиотек\n",
    "from selenium import webdriver\n",
    "from selenium.webdriver.common.by import By\n",
    "from selenium.webdriver.support.ui import WebDriverWait\n",
    "from selenium.webdriver.support import expected_conditions as EC\n",
    "from selenium.common.exceptions import TimeoutException \n",
    "from bs4 import BeautifulSoup"
   ],
   "outputs": [],
   "execution_count": 1
  },
  {
   "cell_type": "markdown",
   "metadata": {},
   "source": [
    "Будем брать популярные марки машин (те, у которых больше 10 объявлений)"
   ]
  },
  {
   "cell_type": "code",
   "metadata": {
    "ExecuteTime": {
     "end_time": "2024-08-12T11:50:09.620Z",
     "start_time": "2024-08-12T11:50:09.593280Z"
    }
   },
   "source": [
    "# Количество объявлений каждой модели на 06.08.2024\n",
    "dict_of_num_cars_of_models = {\n",
    "    \"Acura\": 3,\n",
    "    \"AITO\": 2,\n",
    "    \"Alfa Romeo\": 2,\n",
    "    \"Alpina\": 1,\n",
    "    \"Audi\": 275,\n",
    "    \"Avatr\": 2,\n",
    "    \"BAIC\": 9,\n",
    "    \"BAW\": 4,\n",
    "    \"Belgee\": 3,\n",
    "    \"Bentley\": 2,\n",
    "    \"BMW\": 510,\n",
    "    \"Brilliance\": 3,\n",
    "    \"BYD\": 12,\n",
    "    \"Cadillac\": 11,\n",
    "    \"Changan\": 45,\n",
    "    \"Chery\": 199,\n",
    "    \"CheryExeed\": 3,\n",
    "    \"Chevrolet\": 796,\n",
    "    \"Chrysler\": 10,\n",
    "    \"Citroen\": 129,\n",
    "    \"Dacia\": 1,\n",
    "    \"Dadi\": 1,\n",
    "    \"Daewoo\": 144,\n",
    "    \"Daihatsu\": 9,\n",
    "    \"Datsun\": 134,\n",
    "    \"DKW\": 1,\n",
    "    \"Dodge\": 28,\n",
    "    \"Dongfeng\": 8,\n",
    "    \"DW Hower\": 5,\n",
    "    \"EXEED\": 46,\n",
    "    \"FAW\": 18,\n",
    "    \"FIAT\": 54,\n",
    "    \"Ford\": 484,\n",
    "    \"Forthing\": 2,\n",
    "    \"Foton\": 1,\n",
    "    \"GAC\": 4,\n",
    "    \"Geely\": 185,\n",
    "    \"Genesis\": 8,\n",
    "    \"GMC\": 1,\n",
    "    \"Great Wall\": 76,\n",
    "    \"Hafei\": 3,\n",
    "    \"Haima\": 3,\n",
    "    \"Haval\": 80,\n",
    "    \"Honda\": 126,\n",
    "    \"Hongqi\": 2,\n",
    "    \"Hummer\": 9,\n",
    "    \"Hyundai\": 962,\n",
    "    \"Infiniti\": 61,\n",
    "    \"Iran Khodro\": 6,\n",
    "    \"Isuzu\": 3,\n",
    "    \"Iveco\": 4,\n",
    "    \"JAC\": 9,\n",
    "    \"Jaguar\": 15,\n",
    "    \"Jeep\": 43,\n",
    "    \"Jetour\": 10,\n",
    "    \"JMC\": 1,\n",
    "    \"Kaiyi\": 15,\n",
    "    \"Kia\": 194,\n",
    "    \"Lamborghini\": 2,\n",
    "    \"Land Rover\": 116,\n",
    "    \"LDV\": 1,\n",
    "    \"Lexus\": 146,\n",
    "    \"LIFAN\": 130,\n",
    "    \"Lincoln\": 3,\n",
    "    \"LiXiang\": 20,\n",
    "    \"Mazda\": 311,\n",
    "    \"Mercedes-Benz\": 373,\n",
    "    \"MINI\": 9,\n",
    "    \"Mitsubishi\": 390,\n",
    "    \"Nissan\": 611,\n",
    "    \"OMODA\": 12,\n",
    "    \"Opel\": 312,\n",
    "    \"Ora\": 1,\n",
    "    \"Packard\": 1,\n",
    "    \"Peugeot\": 184,\n",
    "    \"Polar Stone (Jishi)\": 1,\n",
    "    \"Pontiac\": 2,\n",
    "    \"Porsche\": 51,\n",
    "    \"RAM\": 7,\n",
    "    \"Ravon\": 7,\n",
    "    \"Renault\": 649,\n",
    "    \"Rolls-Royce\": 1,\n",
    "    \"Rover\": 4,\n",
    "    \"Saab\": 3,\n",
    "    \"SEAT\": 4,\n",
    "    \"Shuanghuan\": 1,\n",
    "    \"Skoda\": 358,\n",
    "    \"Solaris\": 3,\n",
    "    \"Soueast\": 2,\n",
    "    \"SsangYong\": 75,\n",
    "    \"Subaru\": 120,\n",
    "    \"Suzuki\": 88,\n",
    "    \"Tank\": 30,\n",
    "    \"Tatra\": 1,\n",
    "    \"Tesla\": 7,\n",
    "    \"Toyota\": 1007,\n",
    "    \"Volkswagen\": 698,\n",
    "    \"Volvo\": 59,\n",
    "    \"Vortex\": 8,\n",
    "    \"Voyah\": 22,\n",
    "    \"Wanderer\": 1,\n",
    "    \"Wey\": 2,\n",
    "    \"Willys\": 1,\n",
    "    \"Xiaomi\": 1,\n",
    "    \"Zeekr\": 19,\n",
    "    \"ZOTYE\": 4,\n",
    "    \"Автокам\": 1,\n",
    "    \"Богдан\": 4,\n",
    "    \"ВАЗ (LADA)\": 5593,\n",
    "    \"ВИС\": 73,\n",
    "    \"ГАЗ\": 597,\n",
    "    \"ЗАЗ\": 36,\n",
    "    \"ЗИЛ\": 2,\n",
    "    \"ИЖ\": 14,\n",
    "    \"ЛуАЗ\": 10,\n",
    "    \"Москвич\": 17,\n",
    "    \"РАФ\": 3,\n",
    "    \"ТагАЗ\": 5,\n",
    "    \"УАЗ\": 212\n",
    "}"
   ],
   "outputs": [],
   "execution_count": 2
  },
  {
   "cell_type": "code",
   "metadata": {
    "ExecuteTime": {
     "end_time": "2024-08-12T11:50:09.636544Z",
     "start_time": "2024-08-12T11:50:09.620Z"
    }
   },
   "source": [
    "# Оставим только те модели, у которых количество объявлений > 10\n",
    "car_marks = []\n",
    "\n",
    "for mark in dict_of_num_cars_of_models.keys():\n",
    "    if dict_of_num_cars_of_models[mark] > 10:\n",
    "        car_marks.append(mark)"
   ],
   "outputs": [],
   "execution_count": 3
  },
  {
   "cell_type": "code",
   "metadata": {
    "ExecuteTime": {
     "end_time": "2024-08-12T11:50:09.660748Z",
     "start_time": "2024-08-12T11:50:09.636544Z"
    }
   },
   "source": [
    "# начальная страница парсинга\n",
    "url = 'https://www.avito.ru/samarskaya_oblast/avtomobili/s_probegom-ASgBAgICAUSGFMjmAQ'"
   ],
   "outputs": [],
   "execution_count": 4
  },
  {
   "cell_type": "markdown",
   "metadata": {},
   "source": [
    "Напишем функцию для решения Captcha"
   ]
  },
  {
   "cell_type": "code",
   "metadata": {
    "ExecuteTime": {
     "end_time": "2024-08-12T11:50:09.684885Z",
     "start_time": "2024-08-12T11:50:09.665051Z"
    }
   },
   "source": [
    "def kill_captcha(driver):\n",
    "    wait = WebDriverWait(driver, timeout=1)\n",
    "    try:\n",
    "        # Проверка на наличие капчи\n",
    "        captcha_element = wait.until(EC.presence_of_element_located(\n",
    "                    (By.XPATH, \"//h2[@class='firewall-title']\")), message=\"Капча обнаружена\")\n",
    "\n",
    "        if captcha_element:\n",
    "            print(\"Капча обнаружена. Решите ее вручную.\")\n",
    "            input(\"Нажмите Enter, когда решите капчу...\")\n",
    "\n",
    "    except TimeoutException:\n",
    "        pass"
   ],
   "outputs": [],
   "execution_count": 5
  },
  {
   "cell_type": "markdown",
   "metadata": {},
   "source": [
    "Напишем функцию, которая будет закрывать страницу, если объявление недоступно"
   ]
  },
  {
   "cell_type": "code",
   "metadata": {
    "ExecuteTime": {
     "end_time": "2024-08-12T11:50:09.698904Z",
     "start_time": "2024-08-12T11:50:09.684885Z"
    }
   },
   "source": [
    "def is_unavailable_ad(driver):\n",
    "    wait = WebDriverWait(driver, timeout=1)\n",
    "    try:\n",
    "        # Проверка на недоступное объявление\n",
    "        blocked_ad = wait.until(EC.presence_of_element_located(\n",
    "                    (By.XPATH, \"//span[text()='Перейти к поиску']\")))\n",
    "\n",
    "        if blocked_ad:\n",
    "            print(\"Недоступное объявление!\")\n",
    "            driver.find_element(\n",
    "                By.XPATH, \"//span[text()='Перейти к поиску']\").click()\n",
    "            return True\n",
    "\n",
    "    except TimeoutException:\n",
    "        return False"
   ],
   "outputs": [],
   "execution_count": 6
  },
  {
   "cell_type": "markdown",
   "metadata": {},
   "source": [
    "Напишем функцию получения данных со страницы объявления "
   ]
  },
  {
   "cell_type": "code",
   "metadata": {
    "ExecuteTime": {
     "end_time": "2024-08-12T11:50:09.720602Z",
     "start_time": "2024-08-12T11:50:09.698904Z"
    }
   },
   "source": [
    "def get_car_data(driver):\n",
    "    wait = WebDriverWait(driver, 1)  \n",
    "\n",
    "    # Проверка на капчу\n",
    "    kill_captcha(driver)\n",
    "\n",
    "    # Проверка на недоступное объявление \n",
    "    if is_unavailable_ad(driver):\n",
    "        return\n",
    "\n",
    "    # Ожидание загрузки элементов с информацией о машине\n",
    "    wait.until(EC.presence_of_all_elements_located((By.XPATH, \"//span[@itemprop='name']\"))) \n",
    "    wait.until(EC.presence_of_all_elements_located((By.XPATH, \"//li[@class='params-paramsList__item-_2Y2O']\"))) \n",
    "    wait.until(EC.presence_of_element_located((By.XPATH, \"//span[@itemprop='price']\")))\n",
    "\n",
    "    car_data = {}\n",
    "\n",
    "    # Парсинг объявления\n",
    "    soup = BeautifulSoup(driver.page_source, 'html.parser')\n",
    "\n",
    "    base_info = [x.text.strip() for x in soup.find_all('span', itemprop='name')]\n",
    "    mark, model = base_info[-3], base_info[-2]\n",
    "\n",
    "    if mark not in car_marks:\n",
    "        return\n",
    "\n",
    "    specs = [x.text.strip() for x in soup.find_all('li', class_='params-paramsList__item-_2Y2O')]\n",
    "    car_data = {item.split(': ')[0]: item.split(': ')[1] for item in specs}\n",
    "    car_data['Название'] = mark + \" \" + model\n",
    "\n",
    "    # Получение цены с использованием явного ожидания\n",
    "    price_element = wait.until(EC.presence_of_element_located((By.XPATH, \"//span[@itemprop='price']\")))\n",
    "    car_data['Цена'] = price_element.get_attribute('content')\n",
    "\n",
    "    return car_data"
   ],
   "outputs": [],
   "execution_count": 7
  },
  {
   "cell_type": "markdown",
   "metadata": {},
   "source": [
    "Напишем фукнцию парсинга всех объявлений"
   ]
  },
  {
   "cell_type": "code",
   "metadata": {
    "ExecuteTime": {
     "end_time": "2024-08-12T11:50:09.744395Z",
     "start_time": "2024-08-12T11:50:09.720602Z"
    }
   },
   "source": [
    "def parse_cars(url, count_pages=1):\n",
    "    driver = webdriver.Chrome()\n",
    "\n",
    "    driver.get(url)\n",
    "\n",
    "    # Ожидание загрузки страницы\n",
    "    wait = WebDriverWait(driver, 5)\n",
    "\n",
    "    # Проверка на капчу\n",
    "    kill_captcha(driver)\n",
    "\n",
    "    wait.until(EC.presence_of_element_located(\n",
    "        (By.XPATH, \"//div[span[@class='styles-module-switcherCircle-NWY_O']]\")))\n",
    "\n",
    "    # Включение фильтра \"Сначала из Самарской области\"\n",
    "    driver.find_element(\n",
    "        By.XPATH, \"//div[span[@class='styles-module-switcherCircle-NWY_O']]\").click()\n",
    "\n",
    "    # Ожидание загрузки кнопки \"Показать ... объявлений\"\n",
    "    wait.until(EC.presence_of_element_located(\n",
    "        (By.XPATH, \"//button[@data-marker='search-filters/submit-button']\")))\n",
    "\n",
    "    # Клик по кнопке \"Показать ... объявлений\"\n",
    "    driver.find_element(\n",
    "        By.XPATH, \"//button[@data-marker='search-filters/submit-button']\").click()\n",
    "\n",
    "    cars = []\n",
    "\n",
    "    # Парсинг всех страниц с объявлениями\n",
    "    for cur_page in range(count_pages):\n",
    "        # Ожидание загрузки ссылок на объявления\n",
    "        wait.until(EC.presence_of_all_elements_located(\n",
    "            (By.XPATH, \"//a[@itemprop='url' and @data-marker='item-title']\")))\n",
    "\n",
    "        # Сбор ссылок на объявления\n",
    "        car_links = [x.get_attribute(\"href\") for x in driver.find_elements(\n",
    "            By.XPATH, \"//a[@itemprop='url' and @data-marker='item-title']\")]\n",
    "\n",
    "        # Парсинг каждого объявления на странице\n",
    "        for car_link in car_links:\n",
    "            # Открытие страницы объявления\n",
    "            driver.execute_script(f\"window.open('{car_link}');\")\n",
    "\n",
    "            # Переключение на новое окно\n",
    "            driver.switch_to.window(driver.window_handles[-1])\n",
    "\n",
    "            # Проверка на капчу\n",
    "            kill_captcha(driver)\n",
    "\n",
    "            # Получение данных со страницы объявления\n",
    "            car_data = get_car_data(driver)\n",
    "\n",
    "            # Добавление данных в список объявлений\n",
    "            if car_data:\n",
    "                cars.append(car_data)\n",
    "\n",
    "            # Закрытие окна объявления\n",
    "            driver.close()\n",
    "\n",
    "            # Переключение на исходное окно\n",
    "            driver.switch_to.window(driver.window_handles[0])\n",
    "\n",
    "        if cur_page != count_pages - 1:\n",
    "            # Ожидание загрузки кнопки \"Следующая страница\"\n",
    "            wait.until(EC.presence_of_element_located(\n",
    "                (By.XPATH, \"//a[@aria-label='Следующая страница']\")))\n",
    "            driver.find_element(\n",
    "                By.XPATH, \"//a[@aria-label='Следующая страница']\").click()\n",
    "\n",
    "    driver.quit()\n",
    "\n",
    "    return cars"
   ],
   "outputs": [],
   "execution_count": 8
  },
  {
   "cell_type": "code",
   "metadata": {
    "ExecuteTime": {
     "end_time": "2024-08-12T11:50:29.760493Z",
     "start_time": "2024-08-12T11:50:09.744395Z"
    }
   },
   "source": [
    "# Парсинг\n",
    "cars = parse_cars(url, 100)"
   ],
   "outputs": [
    {
     "name": "stdout",
     "output_type": "stream",
     "text": [
      "Капча обнаружена. Решите ее вручную.\n"
     ]
    },
    {
     "ename": "NoSuchWindowException",
     "evalue": "Message: no such window: target window already closed\nfrom unknown error: web view not found\n  (Session info: chrome=127.0.6533.100)\nStacktrace:\n\tGetHandleVerifier [0x00007FF64FD59632+30946]\n\t(No symbol) [0x00007FF64FD0E3C9]\n\t(No symbol) [0x00007FF64FC06FDA]\n\t(No symbol) [0x00007FF64FBDCB85]\n\t(No symbol) [0x00007FF64FC837A7]\n\t(No symbol) [0x00007FF64FC9A771]\n\t(No symbol) [0x00007FF64FC7C813]\n\t(No symbol) [0x00007FF64FC4A6E5]\n\t(No symbol) [0x00007FF64FC4B021]\n\tGetHandleVerifier [0x00007FF64FE8F83D+1301229]\n\tGetHandleVerifier [0x00007FF64FE9BDB7+1351783]\n\tGetHandleVerifier [0x00007FF64FE92A03+1313971]\n\tGetHandleVerifier [0x00007FF64FD8DD06+245686]\n\t(No symbol) [0x00007FF64FD1758F]\n\t(No symbol) [0x00007FF64FD13804]\n\t(No symbol) [0x00007FF64FD13992]\n\t(No symbol) [0x00007FF64FD0A3EF]\n\tBaseThreadInitThunk [0x00007FFB9732257D+29]\n\tRtlUserThreadStart [0x00007FFB9774AF28+40]\n",
     "output_type": "error",
     "traceback": [
      "\u001B[1;31m---------------------------------------------------------------------------\u001B[0m",
      "\u001B[1;31mNoSuchWindowException\u001B[0m                     Traceback (most recent call last)",
      "Cell \u001B[1;32mIn[9], line 2\u001B[0m\n\u001B[0;32m      1\u001B[0m \u001B[38;5;66;03m# Парсинг\u001B[39;00m\n\u001B[1;32m----> 2\u001B[0m cars \u001B[38;5;241m=\u001B[39m \u001B[43mparse_cars\u001B[49m\u001B[43m(\u001B[49m\u001B[43murl\u001B[49m\u001B[43m,\u001B[49m\u001B[43m \u001B[49m\u001B[38;5;241;43m100\u001B[39;49m\u001B[43m)\u001B[49m\n",
      "Cell \u001B[1;32mIn[8], line 12\u001B[0m, in \u001B[0;36mparse_cars\u001B[1;34m(url, count_pages)\u001B[0m\n\u001B[0;32m      9\u001B[0m \u001B[38;5;66;03m# Проверка на капчу\u001B[39;00m\n\u001B[0;32m     10\u001B[0m kill_captcha(driver)\n\u001B[1;32m---> 12\u001B[0m \u001B[43mwait\u001B[49m\u001B[38;5;241;43m.\u001B[39;49m\u001B[43muntil\u001B[49m\u001B[43m(\u001B[49m\u001B[43mEC\u001B[49m\u001B[38;5;241;43m.\u001B[39;49m\u001B[43mpresence_of_element_located\u001B[49m\u001B[43m(\u001B[49m\n\u001B[0;32m     13\u001B[0m \u001B[43m    \u001B[49m\u001B[43m(\u001B[49m\u001B[43mBy\u001B[49m\u001B[38;5;241;43m.\u001B[39;49m\u001B[43mXPATH\u001B[49m\u001B[43m,\u001B[49m\u001B[43m \u001B[49m\u001B[38;5;124;43m\"\u001B[39;49m\u001B[38;5;124;43m//div[span[@class=\u001B[39;49m\u001B[38;5;124;43m'\u001B[39;49m\u001B[38;5;124;43mstyles-module-switcherCircle-NWY_O\u001B[39;49m\u001B[38;5;124;43m'\u001B[39;49m\u001B[38;5;124;43m]]\u001B[39;49m\u001B[38;5;124;43m\"\u001B[39;49m\u001B[43m)\u001B[49m\u001B[43m)\u001B[49m\u001B[43m)\u001B[49m\n\u001B[0;32m     15\u001B[0m \u001B[38;5;66;03m# Включение фильтра \"Сначала из Самарской области\"\u001B[39;00m\n\u001B[0;32m     16\u001B[0m driver\u001B[38;5;241m.\u001B[39mfind_element(\n\u001B[0;32m     17\u001B[0m     By\u001B[38;5;241m.\u001B[39mXPATH, \u001B[38;5;124m\"\u001B[39m\u001B[38;5;124m//div[span[@class=\u001B[39m\u001B[38;5;124m'\u001B[39m\u001B[38;5;124mstyles-module-switcherCircle-NWY_O\u001B[39m\u001B[38;5;124m'\u001B[39m\u001B[38;5;124m]]\u001B[39m\u001B[38;5;124m\"\u001B[39m)\u001B[38;5;241m.\u001B[39mclick()\n",
      "File \u001B[1;32m~\\AppData\\Local\\Programs\\Python\\Python311\\Lib\\site-packages\\selenium\\webdriver\\support\\wait.py:86\u001B[0m, in \u001B[0;36mWebDriverWait.until\u001B[1;34m(self, method, message)\u001B[0m\n\u001B[0;32m     84\u001B[0m \u001B[38;5;28;01mwhile\u001B[39;00m \u001B[38;5;28;01mTrue\u001B[39;00m:\n\u001B[0;32m     85\u001B[0m     \u001B[38;5;28;01mtry\u001B[39;00m:\n\u001B[1;32m---> 86\u001B[0m         value \u001B[38;5;241m=\u001B[39m \u001B[43mmethod\u001B[49m\u001B[43m(\u001B[49m\u001B[38;5;28;43mself\u001B[39;49m\u001B[38;5;241;43m.\u001B[39;49m\u001B[43m_driver\u001B[49m\u001B[43m)\u001B[49m\n\u001B[0;32m     87\u001B[0m         \u001B[38;5;28;01mif\u001B[39;00m value:\n\u001B[0;32m     88\u001B[0m             \u001B[38;5;28;01mreturn\u001B[39;00m value\n",
      "File \u001B[1;32m~\\AppData\\Local\\Programs\\Python\\Python311\\Lib\\site-packages\\selenium\\webdriver\\support\\expected_conditions.py:81\u001B[0m, in \u001B[0;36mpresence_of_element_located.<locals>._predicate\u001B[1;34m(driver)\u001B[0m\n\u001B[0;32m     80\u001B[0m \u001B[38;5;28;01mdef\u001B[39;00m \u001B[38;5;21m_predicate\u001B[39m(driver):\n\u001B[1;32m---> 81\u001B[0m     \u001B[38;5;28;01mreturn\u001B[39;00m \u001B[43mdriver\u001B[49m\u001B[38;5;241;43m.\u001B[39;49m\u001B[43mfind_element\u001B[49m\u001B[43m(\u001B[49m\u001B[38;5;241;43m*\u001B[39;49m\u001B[43mlocator\u001B[49m\u001B[43m)\u001B[49m\n",
      "File \u001B[1;32m~\\AppData\\Local\\Programs\\Python\\Python311\\Lib\\site-packages\\selenium\\webdriver\\remote\\webdriver.py:738\u001B[0m, in \u001B[0;36mWebDriver.find_element\u001B[1;34m(self, by, value)\u001B[0m\n\u001B[0;32m    735\u001B[0m     by \u001B[38;5;241m=\u001B[39m By\u001B[38;5;241m.\u001B[39mCSS_SELECTOR\n\u001B[0;32m    736\u001B[0m     value \u001B[38;5;241m=\u001B[39m \u001B[38;5;124mf\u001B[39m\u001B[38;5;124m'\u001B[39m\u001B[38;5;124m[name=\u001B[39m\u001B[38;5;124m\"\u001B[39m\u001B[38;5;132;01m{\u001B[39;00mvalue\u001B[38;5;132;01m}\u001B[39;00m\u001B[38;5;124m\"\u001B[39m\u001B[38;5;124m]\u001B[39m\u001B[38;5;124m'\u001B[39m\n\u001B[1;32m--> 738\u001B[0m \u001B[38;5;28;01mreturn\u001B[39;00m \u001B[38;5;28;43mself\u001B[39;49m\u001B[38;5;241;43m.\u001B[39;49m\u001B[43mexecute\u001B[49m\u001B[43m(\u001B[49m\u001B[43mCommand\u001B[49m\u001B[38;5;241;43m.\u001B[39;49m\u001B[43mFIND_ELEMENT\u001B[49m\u001B[43m,\u001B[49m\u001B[43m \u001B[49m\u001B[43m{\u001B[49m\u001B[38;5;124;43m\"\u001B[39;49m\u001B[38;5;124;43musing\u001B[39;49m\u001B[38;5;124;43m\"\u001B[39;49m\u001B[43m:\u001B[49m\u001B[43m \u001B[49m\u001B[43mby\u001B[49m\u001B[43m,\u001B[49m\u001B[43m \u001B[49m\u001B[38;5;124;43m\"\u001B[39;49m\u001B[38;5;124;43mvalue\u001B[39;49m\u001B[38;5;124;43m\"\u001B[39;49m\u001B[43m:\u001B[49m\u001B[43m \u001B[49m\u001B[43mvalue\u001B[49m\u001B[43m}\u001B[49m\u001B[43m)\u001B[49m[\u001B[38;5;124m\"\u001B[39m\u001B[38;5;124mvalue\u001B[39m\u001B[38;5;124m\"\u001B[39m]\n",
      "File \u001B[1;32m~\\AppData\\Local\\Programs\\Python\\Python311\\Lib\\site-packages\\selenium\\webdriver\\remote\\webdriver.py:344\u001B[0m, in \u001B[0;36mWebDriver.execute\u001B[1;34m(self, driver_command, params)\u001B[0m\n\u001B[0;32m    342\u001B[0m response \u001B[38;5;241m=\u001B[39m \u001B[38;5;28mself\u001B[39m\u001B[38;5;241m.\u001B[39mcommand_executor\u001B[38;5;241m.\u001B[39mexecute(driver_command, params)\n\u001B[0;32m    343\u001B[0m \u001B[38;5;28;01mif\u001B[39;00m response:\n\u001B[1;32m--> 344\u001B[0m     \u001B[38;5;28;43mself\u001B[39;49m\u001B[38;5;241;43m.\u001B[39;49m\u001B[43merror_handler\u001B[49m\u001B[38;5;241;43m.\u001B[39;49m\u001B[43mcheck_response\u001B[49m\u001B[43m(\u001B[49m\u001B[43mresponse\u001B[49m\u001B[43m)\u001B[49m\n\u001B[0;32m    345\u001B[0m     response[\u001B[38;5;124m\"\u001B[39m\u001B[38;5;124mvalue\u001B[39m\u001B[38;5;124m\"\u001B[39m] \u001B[38;5;241m=\u001B[39m \u001B[38;5;28mself\u001B[39m\u001B[38;5;241m.\u001B[39m_unwrap_value(response\u001B[38;5;241m.\u001B[39mget(\u001B[38;5;124m\"\u001B[39m\u001B[38;5;124mvalue\u001B[39m\u001B[38;5;124m\"\u001B[39m, \u001B[38;5;28;01mNone\u001B[39;00m))\n\u001B[0;32m    346\u001B[0m     \u001B[38;5;28;01mreturn\u001B[39;00m response\n",
      "File \u001B[1;32m~\\AppData\\Local\\Programs\\Python\\Python311\\Lib\\site-packages\\selenium\\webdriver\\remote\\errorhandler.py:229\u001B[0m, in \u001B[0;36mErrorHandler.check_response\u001B[1;34m(self, response)\u001B[0m\n\u001B[0;32m    227\u001B[0m         alert_text \u001B[38;5;241m=\u001B[39m value[\u001B[38;5;124m\"\u001B[39m\u001B[38;5;124malert\u001B[39m\u001B[38;5;124m\"\u001B[39m]\u001B[38;5;241m.\u001B[39mget(\u001B[38;5;124m\"\u001B[39m\u001B[38;5;124mtext\u001B[39m\u001B[38;5;124m\"\u001B[39m)\n\u001B[0;32m    228\u001B[0m     \u001B[38;5;28;01mraise\u001B[39;00m exception_class(message, screen, stacktrace, alert_text)  \u001B[38;5;66;03m# type: ignore[call-arg]  # mypy is not smart enough here\u001B[39;00m\n\u001B[1;32m--> 229\u001B[0m \u001B[38;5;28;01mraise\u001B[39;00m exception_class(message, screen, stacktrace)\n",
      "\u001B[1;31mNoSuchWindowException\u001B[0m: Message: no such window: target window already closed\nfrom unknown error: web view not found\n  (Session info: chrome=127.0.6533.100)\nStacktrace:\n\tGetHandleVerifier [0x00007FF64FD59632+30946]\n\t(No symbol) [0x00007FF64FD0E3C9]\n\t(No symbol) [0x00007FF64FC06FDA]\n\t(No symbol) [0x00007FF64FBDCB85]\n\t(No symbol) [0x00007FF64FC837A7]\n\t(No symbol) [0x00007FF64FC9A771]\n\t(No symbol) [0x00007FF64FC7C813]\n\t(No symbol) [0x00007FF64FC4A6E5]\n\t(No symbol) [0x00007FF64FC4B021]\n\tGetHandleVerifier [0x00007FF64FE8F83D+1301229]\n\tGetHandleVerifier [0x00007FF64FE9BDB7+1351783]\n\tGetHandleVerifier [0x00007FF64FE92A03+1313971]\n\tGetHandleVerifier [0x00007FF64FD8DD06+245686]\n\t(No symbol) [0x00007FF64FD1758F]\n\t(No symbol) [0x00007FF64FD13804]\n\t(No symbol) [0x00007FF64FD13992]\n\t(No symbol) [0x00007FF64FD0A3EF]\n\tBaseThreadInitThunk [0x00007FFB9732257D+29]\n\tRtlUserThreadStart [0x00007FFB9774AF28+40]\n"
     ]
    }
   ],
   "execution_count": 9
  },
  {
   "cell_type": "markdown",
   "metadata": {},
   "source": [
    "Преобразуем собранные данные в **DataFrame** и сохраним в файл"
   ]
  },
  {
   "cell_type": "code",
   "metadata": {},
   "source": [
    "import pandas as pd\n",
    "\n",
    "cars = pd.DataFrame(cars)\n",
    "\n",
    "cars.to_csv('data/car_price.csv')"
   ],
   "outputs": [],
   "execution_count": null
  },
  {
   "cell_type": "code",
   "metadata": {},
   "source": [
    "cars.head()"
   ],
   "outputs": [],
   "execution_count": null
  }
 ],
 "metadata": {
  "kernelspec": {
   "display_name": "Python 3",
   "language": "python",
   "name": "python3"
  },
  "language_info": {
   "codemirror_mode": {
    "name": "ipython",
    "version": 3
   },
   "file_extension": ".py",
   "mimetype": "text/x-python",
   "name": "python",
   "nbconvert_exporter": "python",
   "pygments_lexer": "ipython3",
   "version": "3.12.1"
  }
 },
 "nbformat": 4,
 "nbformat_minor": 2
}
