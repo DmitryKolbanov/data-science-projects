{
 "cells": [
  {
   "cell_type": "markdown",
   "metadata": {},
   "source": [
    "<h3>Парсинг объявлений о продаже автомобилей с Авито</h3>"
   ]
  },
  {
   "cell_type": "code",
   "execution_count": 1,
   "metadata": {},
   "outputs": [],
   "source": [
    "# импорт библиотек\n",
    "from selenium import webdriver\n",
    "from selenium.webdriver.common.by import By\n",
    "from selenium.webdriver.support.ui import WebDriverWait\n",
    "from selenium.webdriver.support import expected_conditions as EC\n",
    "from selenium.common.exceptions import TimeoutException \n",
    "\n",
    "import time\n",
    "from random import randint\n",
    "\n",
    "import pandas as pd"
   ]
  },
  {
   "cell_type": "code",
   "execution_count": 2,
   "metadata": {},
   "outputs": [],
   "source": [
    "# начальная страница парсинга\n",
    "URL = 'https://www.avito.ru/samarskaya_oblast/transport'"
   ]
  },
  {
   "cell_type": "markdown",
   "metadata": {},
   "source": [
    "Напишем функцию для решения Captcha"
   ]
  },
  {
   "cell_type": "code",
   "execution_count": 3,
   "metadata": {},
   "outputs": [],
   "source": [
    "def kill_captcha(driver):\n",
    "    wait = WebDriverWait(driver, 5)\n",
    "    try:\n",
    "        # Проверка на наличие капчи\n",
    "        captcha_element = wait.until(EC.presence_of_element_located(\n",
    "                    (By.XPATH, \"//h2[@class='firewall-title']\")), message=\"Капча обнаружена\")\n",
    "\n",
    "        if captcha_element:\n",
    "            print(\"Капча обнаружена. Решите ее вручную.\")\n",
    "            input(\"Нажмите Enter, когда решите капчу...\")\n",
    "\n",
    "    except TimeoutException:\n",
    "        pass"
   ]
  },
  {
   "cell_type": "markdown",
   "metadata": {},
   "source": [
    "Напишем функцию получения данных с объявления "
   ]
  },
  {
   "cell_type": "code",
   "execution_count": 4,
   "metadata": {},
   "outputs": [],
   "source": [
    "def get_car_data(ad, mark):\n",
    "    data = {}\n",
    "\n",
    "    data['id'] = ad.get_attribute(\"id\")\n",
    "    data['mark'] = mark\n",
    "    data['name'] = ad.find_element(\n",
    "                        by=By.CSS_SELECTOR, value='h3[itemprop=\"name\"]'\n",
    "                    ).text\n",
    "\n",
    "    data['price'] = ad.find_element(\n",
    "                        by=By.CSS_SELECTOR, value='meta[itemprop=\"price\"]'\n",
    "                    ).get_attribute(\"content\")\n",
    "\n",
    "    data['params'] = ad.find_element(\n",
    "                        by=By.CSS_SELECTOR, value='p[data-marker=\"item-specific-params\"]'\n",
    "                    ).text\n",
    "\n",
    "    return  data"
   ]
  },
  {
   "cell_type": "markdown",
   "metadata": {},
   "source": [
    "Напишем функцию парсинга для всех объявлений"
   ]
  },
  {
   "cell_type": "code",
   "execution_count": 5,
   "metadata": {},
   "outputs": [],
   "source": [
    "def parse_cars(url):\n",
    "    # Настраиваем параметры браузера\n",
    "    options = webdriver.ChromeOptions()\n",
    "    # Отключает функцию, указывающую сайтам, что браузер управляется автоматизацией\n",
    "    options.add_argument(\"--disable-blink-features=AutomationControlled\")\n",
    "    driver = webdriver.Chrome(options=options)\n",
    "    driver.implicitly_wait(10)\n",
    "\n",
    "    driver.get(url)\n",
    "\n",
    "    kill_captcha(driver)\n",
    "    # парсим популярные модели\n",
    "    popular_models = driver.find_element(\n",
    "        by=By.CSS_SELECTOR, value='div[data-marker=\"popular-rubricator/links\"]'\n",
    "    ).find_elements(\n",
    "        by=By.CSS_SELECTOR, value='a[data-marker=\"popular-rubricator/link\"]'\n",
    "    )\n",
    "\n",
    "    models = [{'name': x.text, 'link': x.get_attribute('href')} for x in popular_models]\n",
    "    \n",
    "    all_cars = []\n",
    "    for model in models:\n",
    "        # перейдем к объявлениям марки\n",
    "        driver.get(model['link'])\n",
    "\n",
    "        kill_captcha(driver)\n",
    "\n",
    "        cars = []\n",
    "        while True:\n",
    "            # делаем небольшую задержку\n",
    "            rand_sleep = randint(25, 49)\n",
    "            time.sleep(rand_sleep / 10)\n",
    "\n",
    "            ads = driver.find_elements(\n",
    "                by=By.CSS_SELECTOR, value='div[data-marker=\"item\"]'\n",
    "            )\n",
    "\n",
    "            for ad in ads:\n",
    "                car_data = get_car_data(ad, model['name'])\n",
    "                cars.append(car_data)\n",
    "    \n",
    "            try:\n",
    "                # Ожидаем, пока кнопка станет видимой и доступной\n",
    "                button = WebDriverWait(driver, 10).until(\n",
    "                    EC.presence_of_element_located((By.CSS_SELECTOR, 'a[data-marker=\"pagination-button/nextPage\"]'))\n",
    "                )\n",
    "\n",
    "                if button.is_displayed() and button.is_enabled():\n",
    "                    button.click()\n",
    "                else:\n",
    "                    break\n",
    "\n",
    "            except Exception:\n",
    "                break\n",
    "                \n",
    "        all_cars += cars\n",
    "        pd.DataFrame(cars).to_csv(f\"../data/brands/cars_data_{model['name']}.csv\")\n",
    "        \n",
    "    driver.quit()\n",
    "    return all_cars"
   ]
  },
  {
   "cell_type": "markdown",
   "metadata": {},
   "source": [
    "*Авито* отображает максимум 100 страниц по 50 объявлений, поэтому мы проходимся по популярным брендам и парсим их по очереди, чтобы суммарно было больше объявлений."
   ]
  },
  {
   "cell_type": "code",
   "execution_count": 7,
   "metadata": {},
   "outputs": [],
   "source": [
    "# Парсинг\n",
    "cars = parse_cars(URL)"
   ]
  },
  {
   "cell_type": "code",
   "execution_count": 8,
   "metadata": {},
   "outputs": [],
   "source": [
    "# сохраняем данные\n",
    "cars = pd.DataFrame(cars)\n",
    "\n",
    "cars.to_csv('../data/cars_data.csv')"
   ]
  },
  {
   "cell_type": "code",
   "execution_count": 9,
   "metadata": {},
   "outputs": [
    {
     "data": {
      "text/html": [
       "<div>\n",
       "<style scoped>\n",
       "    .dataframe tbody tr th:only-of-type {\n",
       "        vertical-align: middle;\n",
       "    }\n",
       "\n",
       "    .dataframe tbody tr th {\n",
       "        vertical-align: top;\n",
       "    }\n",
       "\n",
       "    .dataframe thead th {\n",
       "        text-align: right;\n",
       "    }\n",
       "</style>\n",
       "<table border=\"1\" class=\"dataframe\">\n",
       "  <thead>\n",
       "    <tr style=\"text-align: right;\">\n",
       "      <th></th>\n",
       "      <th>id</th>\n",
       "      <th>mark</th>\n",
       "      <th>name</th>\n",
       "      <th>price</th>\n",
       "      <th>params</th>\n",
       "    </tr>\n",
       "  </thead>\n",
       "  <tbody>\n",
       "    <tr>\n",
       "      <th>4852</th>\n",
       "      <td>i3985280696</td>\n",
       "      <td>Geely</td>\n",
       "      <td>Geely Emgrand 1.5 AT, 2024</td>\n",
       "      <td>2339990</td>\n",
       "      <td>1.5 AT (122 л.с.), седан, передний, бензин</td>\n",
       "    </tr>\n",
       "    <tr>\n",
       "      <th>6788</th>\n",
       "      <td>i4345701964</td>\n",
       "      <td>Hyundai</td>\n",
       "      <td>Hyundai Solaris 1.4 MT, 2020, 96 984 км</td>\n",
       "      <td>1410000</td>\n",
       "      <td>96 984 км, 1.4 MT (100 л.с.), седан, передний,...</td>\n",
       "    </tr>\n",
       "    <tr>\n",
       "      <th>7690</th>\n",
       "      <td>i4259641901</td>\n",
       "      <td>Kia</td>\n",
       "      <td>Kia Sportage 2.0 AT, 2024, 10 км</td>\n",
       "      <td>3900000</td>\n",
       "      <td>10 км, 2 AT (150 л.с.), внедорожник, полный, б...</td>\n",
       "    </tr>\n",
       "    <tr>\n",
       "      <th>6543</th>\n",
       "      <td>i4492345580</td>\n",
       "      <td>Hyundai</td>\n",
       "      <td>Hyundai Creta 1.6 AT, 2018, 130 000 км</td>\n",
       "      <td>1750000</td>\n",
       "      <td>130 000 км, 1.6 AT (123 л.с.), внедорожник, пе...</td>\n",
       "    </tr>\n",
       "    <tr>\n",
       "      <th>6952</th>\n",
       "      <td>i3879412494</td>\n",
       "      <td>Hyundai</td>\n",
       "      <td>Hyundai Solaris 1.4 MT, 2018, 148 140 км</td>\n",
       "      <td>1099990</td>\n",
       "      <td>148 140 км, 1.4 MT (100 л.с.), седан, передний...</td>\n",
       "    </tr>\n",
       "  </tbody>\n",
       "</table>\n",
       "</div>"
      ],
      "text/plain": [
       "               id     mark                                      name    price  \\\n",
       "4852  i3985280696    Geely                Geely Emgrand 1.5 AT, 2024  2339990   \n",
       "6788  i4345701964  Hyundai   Hyundai Solaris 1.4 MT, 2020, 96 984 км  1410000   \n",
       "7690  i4259641901      Kia          Kia Sportage 2.0 AT, 2024, 10 км  3900000   \n",
       "6543  i4492345580  Hyundai    Hyundai Creta 1.6 AT, 2018, 130 000 км  1750000   \n",
       "6952  i3879412494  Hyundai  Hyundai Solaris 1.4 MT, 2018, 148 140 км  1099990   \n",
       "\n",
       "                                                 params  \n",
       "4852         1.5 AT (122 л.с.), седан, передний, бензин  \n",
       "6788  96 984 км, 1.4 MT (100 л.с.), седан, передний,...  \n",
       "7690  10 км, 2 AT (150 л.с.), внедорожник, полный, б...  \n",
       "6543  130 000 км, 1.6 AT (123 л.с.), внедорожник, пе...  \n",
       "6952  148 140 км, 1.4 MT (100 л.с.), седан, передний...  "
      ]
     },
     "execution_count": 9,
     "metadata": {},
     "output_type": "execute_result"
    }
   ],
   "source": [
    "cars.sample(n=5)"
   ]
  }
 ],
 "metadata": {
  "kernelspec": {
   "display_name": "Python 3",
   "language": "python",
   "name": "python3"
  },
  "language_info": {
   "codemirror_mode": {
    "name": "ipython",
    "version": 3
   },
   "file_extension": ".py",
   "mimetype": "text/x-python",
   "name": "python",
   "nbconvert_exporter": "python",
   "pygments_lexer": "ipython3",
   "version": "3.11.3"
  }
 },
 "nbformat": 4,
 "nbformat_minor": 2
}
