{
 "cells": [
  {
   "cell_type": "markdown",
   "metadata": {},
   "source": [
    "Задача - создать модель, которая будет предсказывать стоимость автомобиля в Самарской области по его характеристикам. Данные для обучения были получены с объявлений сайта Авито с помощью парсинга (ноутбук `parsing.ipynb`)"
   ]
  },
  {
   "cell_type": "code",
   "execution_count": 772,
   "metadata": {},
   "outputs": [],
   "source": [
    "# импорт библиотек\n",
    "import pandas as pd\n",
    "import numpy as np\n",
    "import matplotlib.pyplot as plt\n",
    "import seaborn as sns"
   ]
  },
  {
   "cell_type": "code",
   "execution_count": 773,
   "metadata": {},
   "outputs": [
    {
     "data": {
      "text/html": [
       "<div>\n",
       "<style scoped>\n",
       "    .dataframe tbody tr th:only-of-type {\n",
       "        vertical-align: middle;\n",
       "    }\n",
       "\n",
       "    .dataframe tbody tr th {\n",
       "        vertical-align: top;\n",
       "    }\n",
       "\n",
       "    .dataframe thead th {\n",
       "        text-align: right;\n",
       "    }\n",
       "</style>\n",
       "<table border=\"1\" class=\"dataframe\">\n",
       "  <thead>\n",
       "    <tr style=\"text-align: right;\">\n",
       "      <th></th>\n",
       "      <th>id</th>\n",
       "      <th>mark</th>\n",
       "      <th>name</th>\n",
       "      <th>price</th>\n",
       "      <th>params</th>\n",
       "    </tr>\n",
       "  </thead>\n",
       "  <tbody>\n",
       "    <tr>\n",
       "      <th>14251</th>\n",
       "      <td>i3842613255</td>\n",
       "      <td>Skoda</td>\n",
       "      <td>Skoda Octavia 1.4 AMT, 2019, 107 000 км</td>\n",
       "      <td>2050000</td>\n",
       "      <td>107 000 км, 1.4 AMT (150 л.с.), лифтбек, перед...</td>\n",
       "    </tr>\n",
       "    <tr>\n",
       "      <th>16529</th>\n",
       "      <td>i4230265771</td>\n",
       "      <td>Volkswagen</td>\n",
       "      <td>Volkswagen Pointer 1.0 MT, 2004, 158 000 км</td>\n",
       "      <td>320000</td>\n",
       "      <td>158 000 км, 1 MT (67 л.с.), хетчбэк, передний,...</td>\n",
       "    </tr>\n",
       "    <tr>\n",
       "      <th>12547</th>\n",
       "      <td>i3982089635</td>\n",
       "      <td>Peugeot</td>\n",
       "      <td>Peugeot 308 1.6 AT, 2010, 120 000 км</td>\n",
       "      <td>482200</td>\n",
       "      <td>120 000 км, 1.6 AT (120 л.с.), хетчбэк, передн...</td>\n",
       "    </tr>\n",
       "    <tr>\n",
       "      <th>7618</th>\n",
       "      <td>i4155709317</td>\n",
       "      <td>Kia</td>\n",
       "      <td>Kia Rio 1.6 AT, 2019, 39 000 км</td>\n",
       "      <td>1510000</td>\n",
       "      <td>39 000 км, 1.6 AT (123 л.с.), седан, передний,...</td>\n",
       "    </tr>\n",
       "    <tr>\n",
       "      <th>11095</th>\n",
       "      <td>i4498236640</td>\n",
       "      <td>Mitsubishi</td>\n",
       "      <td>Mitsubishi Outlander 2.0 CVT, 2012, 238 001 км</td>\n",
       "      <td>1250000</td>\n",
       "      <td>238 001 км, 2 CVT (146 л.с.), внедорожник, пол...</td>\n",
       "    </tr>\n",
       "  </tbody>\n",
       "</table>\n",
       "</div>"
      ],
      "text/plain": [
       "                id        mark  \\\n",
       "14251  i3842613255       Skoda   \n",
       "16529  i4230265771  Volkswagen   \n",
       "12547  i3982089635     Peugeot   \n",
       "7618   i4155709317         Kia   \n",
       "11095  i4498236640  Mitsubishi   \n",
       "\n",
       "                                                 name    price  \\\n",
       "14251         Skoda Octavia 1.4 AMT, 2019, 107 000 км  2050000   \n",
       "16529     Volkswagen Pointer 1.0 MT, 2004, 158 000 км   320000   \n",
       "12547            Peugeot 308 1.6 AT, 2010, 120 000 км   482200   \n",
       "7618                  Kia Rio 1.6 AT, 2019, 39 000 км  1510000   \n",
       "11095  Mitsubishi Outlander 2.0 CVT, 2012, 238 001 км  1250000   \n",
       "\n",
       "                                                  params  \n",
       "14251  107 000 км, 1.4 AMT (150 л.с.), лифтбек, перед...  \n",
       "16529  158 000 км, 1 MT (67 л.с.), хетчбэк, передний,...  \n",
       "12547  120 000 км, 1.6 AT (120 л.с.), хетчбэк, передн...  \n",
       "7618   39 000 км, 1.6 AT (123 л.с.), седан, передний,...  \n",
       "11095  238 001 км, 2 CVT (146 л.с.), внедорожник, пол...  "
      ]
     },
     "execution_count": 773,
     "metadata": {},
     "output_type": "execute_result"
    }
   ],
   "source": [
    "# считываем данные\n",
    "data = pd.read_csv('../data/cars_data.csv', index_col=0)\n",
    "\n",
    "data.sample(n=5)"
   ]
  },
  {
   "cell_type": "code",
   "execution_count": 774,
   "metadata": {},
   "outputs": [
    {
     "data": {
      "text/plain": [
       "(18994, 4)"
      ]
     },
     "execution_count": 774,
     "metadata": {},
     "output_type": "execute_result"
    }
   ],
   "source": [
    "# удалим дубликаты и признак id\n",
    "data.drop_duplicates(keep='first', inplace=True)\n",
    "data.drop(columns='id', inplace=True)\n",
    "\n",
    "#  посмотрим размерность\n",
    "data.shape"
   ]
  },
  {
   "cell_type": "code",
   "execution_count": 775,
   "metadata": {},
   "outputs": [
    {
     "name": "stdout",
     "output_type": "stream",
     "text": [
      "<class 'pandas.core.frame.DataFrame'>\n",
      "Index: 18994 entries, 0 to 23432\n",
      "Data columns (total 4 columns):\n",
      " #   Column  Non-Null Count  Dtype \n",
      "---  ------  --------------  ----- \n",
      " 0   mark    18994 non-null  object\n",
      " 1   name    18994 non-null  object\n",
      " 2   price   18994 non-null  int64 \n",
      " 3   params  18994 non-null  object\n",
      "dtypes: int64(1), object(3)\n",
      "memory usage: 742.0+ KB\n"
     ]
    }
   ],
   "source": [
    "# посмотрим на краткое описание данных\n",
    "data.info()"
   ]
  },
  {
   "cell_type": "markdown",
   "metadata": {},
   "source": [
    "### Обработка данных"
   ]
  },
  {
   "cell_type": "code",
   "execution_count": 776,
   "metadata": {},
   "outputs": [
    {
     "data": {
      "text/html": [
       "<div>\n",
       "<style scoped>\n",
       "    .dataframe tbody tr th:only-of-type {\n",
       "        vertical-align: middle;\n",
       "    }\n",
       "\n",
       "    .dataframe tbody tr th {\n",
       "        vertical-align: top;\n",
       "    }\n",
       "\n",
       "    .dataframe thead th {\n",
       "        text-align: right;\n",
       "    }\n",
       "</style>\n",
       "<table border=\"1\" class=\"dataframe\">\n",
       "  <thead>\n",
       "    <tr style=\"text-align: right;\">\n",
       "      <th></th>\n",
       "      <th>mark</th>\n",
       "      <th>name</th>\n",
       "      <th>price</th>\n",
       "      <th>params</th>\n",
       "    </tr>\n",
       "  </thead>\n",
       "  <tbody>\n",
       "    <tr>\n",
       "      <th>3919</th>\n",
       "      <td>Geely</td>\n",
       "      <td>Geely Monjaro 2.0 AT, 2023, 147 км</td>\n",
       "      <td>3530000</td>\n",
       "      <td>147 км, 2.0 AT (238 л.с.), внедорожник, полный...</td>\n",
       "    </tr>\n",
       "    <tr>\n",
       "      <th>4126</th>\n",
       "      <td>Geely</td>\n",
       "      <td>Geely Atlas 2.0 MT, 2020, 97 885 км</td>\n",
       "      <td>1790000</td>\n",
       "      <td>97 885 км, 2.0 MT (141 л.с.), внедорожник, пер...</td>\n",
       "    </tr>\n",
       "    <tr>\n",
       "      <th>12736</th>\n",
       "      <td>Peugeot</td>\n",
       "      <td>Peugeot Partner 1.6 MT, 2003, 389 606 км</td>\n",
       "      <td>370000</td>\n",
       "      <td>389 606 км, 1.6 MT (109 л.с.), минивэн, передн...</td>\n",
       "    </tr>\n",
       "    <tr>\n",
       "      <th>1601</th>\n",
       "      <td>Chery</td>\n",
       "      <td>Chery Tiggo 7 Pro 1.5 CVT, 2022, 35 000 км</td>\n",
       "      <td>2500000</td>\n",
       "      <td>35 000 км, 1.5 CVT (147 л.с.), внедорожник, пе...</td>\n",
       "    </tr>\n",
       "    <tr>\n",
       "      <th>22764</th>\n",
       "      <td>ГАЗ</td>\n",
       "      <td>ГАЗ Соболь 2752 2.3 MT, 2000, 1 000 км</td>\n",
       "      <td>205000</td>\n",
       "      <td>1 000 км, 2.3 MT (110 л.с.), фургон, задний, б...</td>\n",
       "    </tr>\n",
       "  </tbody>\n",
       "</table>\n",
       "</div>"
      ],
      "text/plain": [
       "          mark                                        name    price  \\\n",
       "3919     Geely          Geely Monjaro 2.0 AT, 2023, 147 км  3530000   \n",
       "4126     Geely         Geely Atlas 2.0 MT, 2020, 97 885 км  1790000   \n",
       "12736  Peugeot    Peugeot Partner 1.6 MT, 2003, 389 606 км   370000   \n",
       "1601     Chery  Chery Tiggo 7 Pro 1.5 CVT, 2022, 35 000 км  2500000   \n",
       "22764      ГАЗ      ГАЗ Соболь 2752 2.3 MT, 2000, 1 000 км   205000   \n",
       "\n",
       "                                                  params  \n",
       "3919   147 км, 2.0 AT (238 л.с.), внедорожник, полный...  \n",
       "4126   97 885 км, 2.0 MT (141 л.с.), внедорожник, пер...  \n",
       "12736  389 606 км, 1.6 MT (109 л.с.), минивэн, передн...  \n",
       "1601   35 000 км, 1.5 CVT (147 л.с.), внедорожник, пе...  \n",
       "22764  1 000 км, 2.3 MT (110 л.с.), фургон, задний, б...  "
      ]
     },
     "execution_count": 776,
     "metadata": {},
     "output_type": "execute_result"
    }
   ],
   "source": [
    "# пропущенных значений нет\n",
    "# начнем обработку признаков\n",
    "data.sample(n=5)"
   ]
  },
  {
   "cell_type": "code",
   "execution_count": 777,
   "metadata": {},
   "outputs": [
    {
     "data": {
      "text/plain": [
       "(17113, 4)"
      ]
     },
     "execution_count": 777,
     "metadata": {},
     "output_type": "execute_result"
    }
   ],
   "source": [
    "# В датасете есть новые автомобили (те, у которых пробег не указан), \n",
    "# их учитывать не нужно. Удалим такие записи \n",
    "data['name'] = data['name'].apply(lambda x: x if 'км' in x else None)\n",
    "data.dropna(inplace=True)\n",
    "data.shape"
   ]
  },
  {
   "cell_type": "code",
   "execution_count": 778,
   "metadata": {},
   "outputs": [],
   "source": [
    "# из колонки name вытащим информацию,\n",
    "# сколько лет автомобиль находится в эксплуатации\n",
    "data['лет в эксплуатации'] = 2025 - data['name'].apply(lambda x: x.split(', ')[1]).apply(int)"
   ]
  },
  {
   "cell_type": "code",
   "execution_count": 779,
   "metadata": {},
   "outputs": [],
   "source": [
    "# в датасете присутствуют битые авто\n",
    "# cделаем отдельный признак\n",
    "data['битый'] = data['name'].apply(lambda x: True if 'битый' in x else False)"
   ]
  },
  {
   "cell_type": "code",
   "execution_count": 780,
   "metadata": {},
   "outputs": [],
   "source": [
    "# в признаке name оставим только название модели\n",
    "data['модель'] = data['name'].apply(lambda x: ' '.join(x.split(', ')[0].split()[:-2]))\n",
    "data.drop(columns='name', inplace=True)"
   ]
  },
  {
   "cell_type": "code",
   "execution_count": 781,
   "metadata": {},
   "outputs": [],
   "source": [
    "# вытащим из params пробег\n",
    "# сначала уберем пометку \"Битый\" у соответствующих машин\n",
    "data['params'] = data['params'].apply(\n",
    "    lambda x: x.replace(\"Битый, \", \"\") if \"Битый\" in x else x)\n",
    "\n",
    "data['пробег'] = data['params'].apply(lambda x: x.split(', ')[0].replace('км', '').replace(' ', ''))"
   ]
  },
  {
   "cell_type": "code",
   "execution_count": 782,
   "metadata": {},
   "outputs": [
    {
     "data": {
      "text/plain": [
       "params\n",
       "5    17082\n",
       "4       31\n",
       "Name: count, dtype: int64"
      ]
     },
     "execution_count": 782,
     "metadata": {},
     "output_type": "execute_result"
    }
   ],
   "source": [
    "# проверим, что у всех авто в столбце params 5 блоков с информацией: \n",
    "# пробег, модификация, тип кузова, привод, тип топлива\n",
    "data['params'].apply(lambda x: len(x.split(', '))).value_counts()"
   ]
  },
  {
   "cell_type": "code",
   "execution_count": 783,
   "metadata": {},
   "outputs": [],
   "source": [
    "# удалим некорректные записи\n",
    "data['params'] = data['params'].apply(lambda x: x if len(x.split(', ')) == 5 else None)\n",
    "data.dropna(inplace=True)"
   ]
  },
  {
   "cell_type": "code",
   "execution_count": 784,
   "metadata": {},
   "outputs": [],
   "source": [
    "# создадим новые признаки - модификация, тип кузова, привод, тип топлива\n",
    "data['модификация'] = data['params'].apply(lambda x: x.split(', ')[1])\n",
    "data['тип кузова'] = data['params'].apply(lambda x: x.split(', ')[2])\n",
    "data['привод'] = data['params'].apply(lambda x: x.split(', ')[3])\n",
    "data['тип топлива'] = data['params'].apply(lambda x: x.split(', ')[4])\n",
    "\n",
    "# удалим лишний теперь столбец params\n",
    "data.drop(columns='params', inplace=True)"
   ]
  },
  {
   "cell_type": "code",
   "execution_count": 785,
   "metadata": {},
   "outputs": [],
   "source": [
    "# из модификации достанем объем двигателя, тип трансмиссии и мощность\n",
    "\n",
    "# Автомобили с электрическим типом двигателя не могут иметь такую характеристику, \n",
    "# так как у них в принципе отсутствует камера сгорания топлива, по которой считается объем. \n",
    "# Тогда можно сказать, что у электромобилей объем двигателя - 0 л и модель не будет учитывать данный признак\n",
    "data.loc[data['тип топлива'] == 'электро', 'модификация'] = data[data['тип топлива'] == 'электро']['модификация'].apply(\n",
    "    lambda x: '0 ' + x)\n",
    "\n",
    "# создадим новые признаки\n",
    "data['объём двигателя'] = data['модификация'].apply(lambda x: x.split()[0])\n",
    "data['тип трансмиссии'] = data['модификация'].apply(lambda x: x.split()[1])\n",
    "data['мощность'] = data['модификация'].apply(lambda x: x.split('(')[-1].split()[0])\n",
    "\n",
    "# удалим ненужный\n",
    "data.drop(columns='модификация', inplace=True)"
   ]
  },
  {
   "cell_type": "code",
   "execution_count": 786,
   "metadata": {},
   "outputs": [],
   "source": [
    "# переименуем столбцы \n",
    "data.rename(columns={'mark': 'марка', 'price': 'цена'}, inplace=True)"
   ]
  },
  {
   "cell_type": "code",
   "execution_count": 787,
   "metadata": {},
   "outputs": [
    {
     "data": {
      "text/html": [
       "<div>\n",
       "<style scoped>\n",
       "    .dataframe tbody tr th:only-of-type {\n",
       "        vertical-align: middle;\n",
       "    }\n",
       "\n",
       "    .dataframe tbody tr th {\n",
       "        vertical-align: top;\n",
       "    }\n",
       "\n",
       "    .dataframe thead th {\n",
       "        text-align: right;\n",
       "    }\n",
       "</style>\n",
       "<table border=\"1\" class=\"dataframe\">\n",
       "  <thead>\n",
       "    <tr style=\"text-align: right;\">\n",
       "      <th></th>\n",
       "      <th>марка</th>\n",
       "      <th>цена</th>\n",
       "      <th>лет в эксплуатации</th>\n",
       "      <th>битый</th>\n",
       "      <th>модель</th>\n",
       "      <th>пробег</th>\n",
       "      <th>тип кузова</th>\n",
       "      <th>привод</th>\n",
       "      <th>тип топлива</th>\n",
       "      <th>объём двигателя</th>\n",
       "      <th>тип трансмиссии</th>\n",
       "      <th>мощность</th>\n",
       "    </tr>\n",
       "  </thead>\n",
       "  <tbody>\n",
       "    <tr>\n",
       "      <th>3511</th>\n",
       "      <td>Ford</td>\n",
       "      <td>750000</td>\n",
       "      <td>14</td>\n",
       "      <td>False</td>\n",
       "      <td>Ford Mondeo</td>\n",
       "      <td>274000</td>\n",
       "      <td>седан</td>\n",
       "      <td>передний</td>\n",
       "      <td>бензин</td>\n",
       "      <td>1.6</td>\n",
       "      <td>MT</td>\n",
       "      <td>120</td>\n",
       "    </tr>\n",
       "    <tr>\n",
       "      <th>5694</th>\n",
       "      <td>Hyundai</td>\n",
       "      <td>1699000</td>\n",
       "      <td>7</td>\n",
       "      <td>False</td>\n",
       "      <td>Hyundai Creta</td>\n",
       "      <td>103320</td>\n",
       "      <td>внедорожник</td>\n",
       "      <td>передний</td>\n",
       "      <td>бензин</td>\n",
       "      <td>1.6</td>\n",
       "      <td>MT</td>\n",
       "      <td>123</td>\n",
       "    </tr>\n",
       "    <tr>\n",
       "      <th>21927</th>\n",
       "      <td>ВАЗ (LADA)</td>\n",
       "      <td>761000</td>\n",
       "      <td>6</td>\n",
       "      <td>False</td>\n",
       "      <td>ВАЗ (LADA) 4x4 (Нива)</td>\n",
       "      <td>78400</td>\n",
       "      <td>внедорожник</td>\n",
       "      <td>полный</td>\n",
       "      <td>бензин</td>\n",
       "      <td>1.7</td>\n",
       "      <td>MT</td>\n",
       "      <td>83</td>\n",
       "    </tr>\n",
       "    <tr>\n",
       "      <th>20022</th>\n",
       "      <td>ВАЗ (LADA)</td>\n",
       "      <td>499000</td>\n",
       "      <td>10</td>\n",
       "      <td>False</td>\n",
       "      <td>ВАЗ (LADA) Kalina</td>\n",
       "      <td>166000</td>\n",
       "      <td>универсал</td>\n",
       "      <td>передний</td>\n",
       "      <td>бензин</td>\n",
       "      <td>1.6</td>\n",
       "      <td>MT</td>\n",
       "      <td>106</td>\n",
       "    </tr>\n",
       "    <tr>\n",
       "      <th>7198</th>\n",
       "      <td>Hyundai</td>\n",
       "      <td>420000</td>\n",
       "      <td>18</td>\n",
       "      <td>False</td>\n",
       "      <td>Hyundai Matrix</td>\n",
       "      <td>286810</td>\n",
       "      <td>минивэн</td>\n",
       "      <td>передний</td>\n",
       "      <td>бензин</td>\n",
       "      <td>1.6</td>\n",
       "      <td>MT</td>\n",
       "      <td>103</td>\n",
       "    </tr>\n",
       "  </tbody>\n",
       "</table>\n",
       "</div>"
      ],
      "text/plain": [
       "            марка     цена  лет в эксплуатации  битый                 модель  \\\n",
       "3511         Ford   750000                  14  False            Ford Mondeo   \n",
       "5694      Hyundai  1699000                   7  False          Hyundai Creta   \n",
       "21927  ВАЗ (LADA)   761000                   6  False  ВАЗ (LADA) 4x4 (Нива)   \n",
       "20022  ВАЗ (LADA)   499000                  10  False      ВАЗ (LADA) Kalina   \n",
       "7198      Hyundai   420000                  18  False         Hyundai Matrix   \n",
       "\n",
       "       пробег   тип кузова    привод тип топлива объём двигателя  \\\n",
       "3511   274000        седан  передний      бензин             1.6   \n",
       "5694   103320  внедорожник  передний      бензин             1.6   \n",
       "21927   78400  внедорожник    полный      бензин             1.7   \n",
       "20022  166000    универсал  передний      бензин             1.6   \n",
       "7198   286810      минивэн  передний      бензин             1.6   \n",
       "\n",
       "      тип трансмиссии мощность  \n",
       "3511               MT      120  \n",
       "5694               MT      123  \n",
       "21927              MT       83  \n",
       "20022              MT      106  \n",
       "7198               MT      103  "
      ]
     },
     "execution_count": 787,
     "metadata": {},
     "output_type": "execute_result"
    }
   ],
   "source": [
    "# посмотрим на обработанный датасет\n",
    "data.sample(n=5)"
   ]
  },
  {
   "cell_type": "code",
   "execution_count": 788,
   "metadata": {},
   "outputs": [
    {
     "data": {
      "text/plain": [
       "марка                 object\n",
       "цена                   int64\n",
       "лет в эксплуатации     int64\n",
       "битый                   bool\n",
       "модель                object\n",
       "пробег                object\n",
       "тип кузова            object\n",
       "привод                object\n",
       "тип топлива           object\n",
       "объём двигателя       object\n",
       "тип трансмиссии       object\n",
       "мощность              object\n",
       "dtype: object"
      ]
     },
     "execution_count": 788,
     "metadata": {},
     "output_type": "execute_result"
    }
   ],
   "source": [
    "# посмотрим на типы колонок\n",
    "data.dtypes"
   ]
  },
  {
   "cell_type": "code",
   "execution_count": 789,
   "metadata": {},
   "outputs": [],
   "source": [
    "# приведем колонки Пробег, Объём двигателя и Мощность к числовому типу\n",
    "cols_to_num = ['пробег', 'объём двигателя', 'мощность']\n",
    "data[cols_to_num] = data[cols_to_num].map(pd.to_numeric)"
   ]
  },
  {
   "cell_type": "markdown",
   "metadata": {},
   "source": [
    "### EDA"
   ]
  },
  {
   "cell_type": "code",
   "execution_count": 790,
   "metadata": {},
   "outputs": [
    {
     "data": {
      "text/html": [
       "<div>\n",
       "<style scoped>\n",
       "    .dataframe tbody tr th:only-of-type {\n",
       "        vertical-align: middle;\n",
       "    }\n",
       "\n",
       "    .dataframe tbody tr th {\n",
       "        vertical-align: top;\n",
       "    }\n",
       "\n",
       "    .dataframe thead th {\n",
       "        text-align: right;\n",
       "    }\n",
       "</style>\n",
       "<table border=\"1\" class=\"dataframe\">\n",
       "  <thead>\n",
       "    <tr style=\"text-align: right;\">\n",
       "      <th></th>\n",
       "      <th>цена</th>\n",
       "      <th>лет в эксплуатации</th>\n",
       "      <th>пробег</th>\n",
       "      <th>объём двигателя</th>\n",
       "      <th>мощность</th>\n",
       "    </tr>\n",
       "  </thead>\n",
       "  <tbody>\n",
       "    <tr>\n",
       "      <th>count</th>\n",
       "      <td>1.708200e+04</td>\n",
       "      <td>17082.000000</td>\n",
       "      <td>17082.000000</td>\n",
       "      <td>17082.000000</td>\n",
       "      <td>17082.000000</td>\n",
       "    </tr>\n",
       "    <tr>\n",
       "      <th>mean</th>\n",
       "      <td>1.612781e+06</td>\n",
       "      <td>11.458963</td>\n",
       "      <td>145012.917047</td>\n",
       "      <td>1.944603</td>\n",
       "      <td>139.117258</td>\n",
       "    </tr>\n",
       "    <tr>\n",
       "      <th>std</th>\n",
       "      <td>1.805403e+06</td>\n",
       "      <td>6.978878</td>\n",
       "      <td>92524.202288</td>\n",
       "      <td>0.634983</td>\n",
       "      <td>59.144335</td>\n",
       "    </tr>\n",
       "    <tr>\n",
       "      <th>min</th>\n",
       "      <td>2.255500e+04</td>\n",
       "      <td>1.000000</td>\n",
       "      <td>1.000000</td>\n",
       "      <td>0.000000</td>\n",
       "      <td>20.000000</td>\n",
       "    </tr>\n",
       "    <tr>\n",
       "      <th>25%</th>\n",
       "      <td>6.500000e+05</td>\n",
       "      <td>6.000000</td>\n",
       "      <td>80000.000000</td>\n",
       "      <td>1.600000</td>\n",
       "      <td>105.000000</td>\n",
       "    </tr>\n",
       "    <tr>\n",
       "      <th>50%</th>\n",
       "      <td>1.143000e+06</td>\n",
       "      <td>11.000000</td>\n",
       "      <td>137000.000000</td>\n",
       "      <td>1.600000</td>\n",
       "      <td>123.000000</td>\n",
       "    </tr>\n",
       "    <tr>\n",
       "      <th>75%</th>\n",
       "      <td>1.940000e+06</td>\n",
       "      <td>15.000000</td>\n",
       "      <td>196102.250000</td>\n",
       "      <td>2.000000</td>\n",
       "      <td>150.000000</td>\n",
       "    </tr>\n",
       "    <tr>\n",
       "      <th>max</th>\n",
       "      <td>3.450000e+07</td>\n",
       "      <td>103.000000</td>\n",
       "      <td>1000000.000000</td>\n",
       "      <td>6.200000</td>\n",
       "      <td>625.000000</td>\n",
       "    </tr>\n",
       "  </tbody>\n",
       "</table>\n",
       "</div>"
      ],
      "text/plain": [
       "               цена  лет в эксплуатации          пробег  объём двигателя  \\\n",
       "count  1.708200e+04        17082.000000    17082.000000     17082.000000   \n",
       "mean   1.612781e+06           11.458963   145012.917047         1.944603   \n",
       "std    1.805403e+06            6.978878    92524.202288         0.634983   \n",
       "min    2.255500e+04            1.000000        1.000000         0.000000   \n",
       "25%    6.500000e+05            6.000000    80000.000000         1.600000   \n",
       "50%    1.143000e+06           11.000000   137000.000000         1.600000   \n",
       "75%    1.940000e+06           15.000000   196102.250000         2.000000   \n",
       "max    3.450000e+07          103.000000  1000000.000000         6.200000   \n",
       "\n",
       "           мощность  \n",
       "count  17082.000000  \n",
       "mean     139.117258  \n",
       "std       59.144335  \n",
       "min       20.000000  \n",
       "25%      105.000000  \n",
       "50%      123.000000  \n",
       "75%      150.000000  \n",
       "max      625.000000  "
      ]
     },
     "execution_count": 790,
     "metadata": {},
     "output_type": "execute_result"
    }
   ],
   "source": [
    "# посмотрим на вещественные колонки\n",
    "num_cols = ['цена', 'лет в эксплуатации', 'пробег', 'объём двигателя', 'мощность']\n",
    "\n",
    "# изучим их\n",
    "data[num_cols].describe()"
   ]
  },
  {
   "cell_type": "code",
   "execution_count": 791,
   "metadata": {},
   "outputs": [
    {
     "data": {
      "image/png": "[encoded data removed]",
      "text/plain": [
       "<Figure size 1300x300 with 2 Axes>"
      ]
     },
     "metadata": {},
     "output_type": "display_data"
    },
    {
     "data": {
      "image/png": "[encoded data removed]",
      "text/plain": [
       "<Figure size 1300x300 with 2 Axes>"
      ]
     },
     "metadata": {},
     "output_type": "display_data"
    },
    {
     "data": {
      "image/png": "[encoded data removed]",
      "text/plain": [
       "<Figure size 1300x300 with 1 Axes>"
      ]
     },
     "metadata": {},
     "output_type": "display_data"
    }
   ],
   "source": [
    "# нарисуем боксплоты для вещественных признаков\n",
    "i=0\n",
    "while i < 5:\n",
    "    fig = plt.figure(figsize=[13,3])\n",
    "\n",
    "    plt.subplot(1,2,1)\n",
    "    sns.boxplot(x=num_cols[i], data=data)\n",
    "    i += 1\n",
    "    \n",
    "    if i == 5: break\n",
    "    plt.subplot(1,2,2)\n",
    "    sns.boxplot(x=num_cols[i], data=data)\n",
    "    i += 1\n",
    "    \n",
    "    plt.show()"
   ]
  },
  {
   "cell_type": "code",
   "execution_count": 792,
   "metadata": {},
   "outputs": [],
   "source": [
    "# уберем самые сильные выбросы\n",
    "data = data[(data['лет в эксплуатации'] <= 80) | (data['пробег'] <= 800000)]"
   ]
  },
  {
   "cell_type": "code",
   "execution_count": 793,
   "metadata": {},
   "outputs": [
    {
     "data": {
      "text/html": [
       "<div>\n",
       "<style scoped>\n",
       "    .dataframe tbody tr th:only-of-type {\n",
       "        vertical-align: middle;\n",
       "    }\n",
       "\n",
       "    .dataframe tbody tr th {\n",
       "        vertical-align: top;\n",
       "    }\n",
       "\n",
       "    .dataframe thead th {\n",
       "        text-align: right;\n",
       "    }\n",
       "</style>\n",
       "<table border=\"1\" class=\"dataframe\">\n",
       "  <thead>\n",
       "    <tr style=\"text-align: right;\">\n",
       "      <th></th>\n",
       "      <th>марка</th>\n",
       "      <th>модель</th>\n",
       "      <th>тип кузова</th>\n",
       "      <th>привод</th>\n",
       "      <th>тип топлива</th>\n",
       "      <th>тип трансмиссии</th>\n",
       "    </tr>\n",
       "  </thead>\n",
       "  <tbody>\n",
       "    <tr>\n",
       "      <th>count</th>\n",
       "      <td>17082</td>\n",
       "      <td>17082</td>\n",
       "      <td>17082</td>\n",
       "      <td>17082</td>\n",
       "      <td>17082</td>\n",
       "      <td>17082</td>\n",
       "    </tr>\n",
       "    <tr>\n",
       "      <th>unique</th>\n",
       "      <td>28</td>\n",
       "      <td>738</td>\n",
       "      <td>11</td>\n",
       "      <td>3</td>\n",
       "      <td>5</td>\n",
       "      <td>4</td>\n",
       "    </tr>\n",
       "    <tr>\n",
       "      <th>top</th>\n",
       "      <td>ВАЗ (LADA)</td>\n",
       "      <td>ВАЗ (LADA) Granta</td>\n",
       "      <td>внедорожник</td>\n",
       "      <td>передний</td>\n",
       "      <td>бензин</td>\n",
       "      <td>MT</td>\n",
       "    </tr>\n",
       "    <tr>\n",
       "      <th>freq</th>\n",
       "      <td>2379</td>\n",
       "      <td>571</td>\n",
       "      <td>6252</td>\n",
       "      <td>10337</td>\n",
       "      <td>15066</td>\n",
       "      <td>8034</td>\n",
       "    </tr>\n",
       "  </tbody>\n",
       "</table>\n",
       "</div>"
      ],
      "text/plain": [
       "             марка             модель   тип кузова    привод тип топлива  \\\n",
       "count        17082              17082        17082     17082       17082   \n",
       "unique          28                738           11         3           5   \n",
       "top     ВАЗ (LADA)  ВАЗ (LADA) Granta  внедорожник  передний      бензин   \n",
       "freq          2379                571         6252     10337       15066   \n",
       "\n",
       "       тип трансмиссии  \n",
       "count            17082  \n",
       "unique               4  \n",
       "top                 MT  \n",
       "freq              8034  "
      ]
     },
     "execution_count": 793,
     "metadata": {},
     "output_type": "execute_result"
    }
   ],
   "source": [
    "# посмотрим на категориальные колонки\n",
    "categorical_columns = data.loc[:,data.dtypes==object].columns\n",
    "\n",
    "# изучим их\n",
    "data.describe(include='object')"
   ]
  },
  {
   "cell_type": "code",
   "execution_count": 794,
   "metadata": {},
   "outputs": [
    {
     "data": {
      "image/png": "[encoded data removed]",
      "text/plain": [
       "<Figure size 1000x400 with 2 Axes>"
      ]
     },
     "metadata": {},
     "output_type": "display_data"
    },
    {
     "data": {
      "image/png": "[encoded data removed]",
      "text/plain": [
       "<Figure size 1000x400 with 2 Axes>"
      ]
     },
     "metadata": {},
     "output_type": "display_data"
    }
   ],
   "source": [
    "# посмотрим на распределение некоторых категориальных признаков\n",
    "cat_cols = ['тип кузова','привод', 'тип топлива','тип трансмиссии']\n",
    "i=0\n",
    "while i < 4:\n",
    "    fig = plt.figure(figsize=[10,4])\n",
    "    \n",
    "    plt.subplot(1,2,1)\n",
    "    sns.countplot(x=cat_cols[i], data=data)\n",
    "    i += 1\n",
    "    \n",
    "    plt.xticks(rotation=40)\n",
    "\n",
    "    plt.subplot(1,2,2)\n",
    "    sns.countplot(x=cat_cols[i], data=data)\n",
    "    i += 1\n",
    "    \n",
    "    plt.show()"
   ]
  },
  {
   "cell_type": "code",
   "execution_count": 795,
   "metadata": {},
   "outputs": [],
   "source": [
    "# перед кодированием признаков переименуем колонки и значения тех признаков,\n",
    "# которые будут закодированы с помощью one hot (количество уникальных значений <= 5)\n",
    "\n",
    "# переименовываем столбцы\n",
    "data.rename(columns={\n",
    "    'марка': 'brand',\n",
    "    'цена': 'price',\n",
    "    'лет в эксплуатации': 'years_in_operation',\n",
    "    'битый': 'is_crashed',\n",
    "    'модель': 'model',\n",
    "    'пробег': 'mileage',\n",
    "    'тип кузова': 'body_type',\n",
    "    'привод': 'drive_type',\n",
    "    'тип топлива': 'fuel_type',\n",
    "    'объём двигателя': 'engine_volume',\n",
    "    'тип трансмиссии': 'transmission_type',\n",
    "    'мощность': 'power'\n",
    "}, inplace=True)"
   ]
  },
  {
   "cell_type": "code",
   "execution_count": 796,
   "metadata": {},
   "outputs": [
    {
     "data": {
      "text/html": [
       "<div>\n",
       "<style scoped>\n",
       "    .dataframe tbody tr th:only-of-type {\n",
       "        vertical-align: middle;\n",
       "    }\n",
       "\n",
       "    .dataframe tbody tr th {\n",
       "        vertical-align: top;\n",
       "    }\n",
       "\n",
       "    .dataframe thead th {\n",
       "        text-align: right;\n",
       "    }\n",
       "</style>\n",
       "<table border=\"1\" class=\"dataframe\">\n",
       "  <thead>\n",
       "    <tr style=\"text-align: right;\">\n",
       "      <th></th>\n",
       "      <th>brand</th>\n",
       "      <th>price</th>\n",
       "      <th>years_in_operation</th>\n",
       "      <th>is_crashed</th>\n",
       "      <th>model</th>\n",
       "      <th>mileage</th>\n",
       "      <th>body_type</th>\n",
       "      <th>drive_type</th>\n",
       "      <th>fuel_type</th>\n",
       "      <th>engine_volume</th>\n",
       "      <th>transmission_type</th>\n",
       "      <th>power</th>\n",
       "    </tr>\n",
       "  </thead>\n",
       "  <tbody>\n",
       "    <tr>\n",
       "      <th>12586</th>\n",
       "      <td>Peugeot</td>\n",
       "      <td>570000</td>\n",
       "      <td>15</td>\n",
       "      <td>False</td>\n",
       "      <td>Peugeot 308</td>\n",
       "      <td>280000</td>\n",
       "      <td>хетчбэк</td>\n",
       "      <td>передний</td>\n",
       "      <td>бензин</td>\n",
       "      <td>1.6</td>\n",
       "      <td>MT</td>\n",
       "      <td>120</td>\n",
       "    </tr>\n",
       "    <tr>\n",
       "      <th>1856</th>\n",
       "      <td>Chevrolet</td>\n",
       "      <td>255000</td>\n",
       "      <td>17</td>\n",
       "      <td>False</td>\n",
       "      <td>Chevrolet Aveo</td>\n",
       "      <td>268000</td>\n",
       "      <td>седан</td>\n",
       "      <td>передний</td>\n",
       "      <td>бензин</td>\n",
       "      <td>1.2</td>\n",
       "      <td>MT</td>\n",
       "      <td>72</td>\n",
       "    </tr>\n",
       "    <tr>\n",
       "      <th>2545</th>\n",
       "      <td>Chevrolet</td>\n",
       "      <td>650000</td>\n",
       "      <td>10</td>\n",
       "      <td>False</td>\n",
       "      <td>Chevrolet Niva</td>\n",
       "      <td>250000</td>\n",
       "      <td>внедорожник</td>\n",
       "      <td>полный</td>\n",
       "      <td>бензин</td>\n",
       "      <td>1.7</td>\n",
       "      <td>MT</td>\n",
       "      <td>80</td>\n",
       "    </tr>\n",
       "    <tr>\n",
       "      <th>8825</th>\n",
       "      <td>Kia</td>\n",
       "      <td>1139000</td>\n",
       "      <td>9</td>\n",
       "      <td>False</td>\n",
       "      <td>Kia Rio</td>\n",
       "      <td>145601</td>\n",
       "      <td>седан</td>\n",
       "      <td>передний</td>\n",
       "      <td>бензин</td>\n",
       "      <td>1.6</td>\n",
       "      <td>AT</td>\n",
       "      <td>123</td>\n",
       "    </tr>\n",
       "    <tr>\n",
       "      <th>16460</th>\n",
       "      <td>Volkswagen</td>\n",
       "      <td>650000</td>\n",
       "      <td>17</td>\n",
       "      <td>False</td>\n",
       "      <td>Volkswagen Jetta</td>\n",
       "      <td>228919</td>\n",
       "      <td>седан</td>\n",
       "      <td>передний</td>\n",
       "      <td>бензин</td>\n",
       "      <td>1.6</td>\n",
       "      <td>AT</td>\n",
       "      <td>102</td>\n",
       "    </tr>\n",
       "  </tbody>\n",
       "</table>\n",
       "</div>"
      ],
      "text/plain": [
       "            brand    price  years_in_operation  is_crashed             model  \\\n",
       "12586     Peugeot   570000                  15       False       Peugeot 308   \n",
       "1856    Chevrolet   255000                  17       False    Chevrolet Aveo   \n",
       "2545    Chevrolet   650000                  10       False    Chevrolet Niva   \n",
       "8825          Kia  1139000                   9       False           Kia Rio   \n",
       "16460  Volkswagen   650000                  17       False  Volkswagen Jetta   \n",
       "\n",
       "       mileage    body_type drive_type fuel_type  engine_volume  \\\n",
       "12586   280000      хетчбэк   передний    бензин            1.6   \n",
       "1856    268000        седан   передний    бензин            1.2   \n",
       "2545    250000  внедорожник     полный    бензин            1.7   \n",
       "8825    145601        седан   передний    бензин            1.6   \n",
       "16460   228919        седан   передний    бензин            1.6   \n",
       "\n",
       "      transmission_type  power  \n",
       "12586                MT    120  \n",
       "1856                 MT     72  \n",
       "2545                 MT     80  \n",
       "8825                 AT    123  \n",
       "16460                AT    102  "
      ]
     },
     "execution_count": 796,
     "metadata": {},
     "output_type": "execute_result"
    }
   ],
   "source": [
    "# посмотрим на данные\n",
    "# новые объекты будут поступать в таком формате \n",
    "data.sample(n=5)"
   ]
  },
  {
   "cell_type": "code",
   "execution_count": 797,
   "metadata": {},
   "outputs": [],
   "source": [
    "# сохраним несколько примеров для тестирования модели \n",
    "data.sample(n=30).to_csv('test.csv')"
   ]
  },
  {
   "cell_type": "code",
   "execution_count": 798,
   "metadata": {},
   "outputs": [
    {
     "name": "stdout",
     "output_type": "stream",
     "text": [
      "['полный' 'передний' 'задний']\n",
      "['бензин' 'дизель' 'электро' 'гибрид' 'газ']\n"
     ]
    }
   ],
   "source": [
    "# переименуем значения столбцов Привод (drive_type) и Тип топлива (fuel_type)\n",
    "# значения столбца Тип трансмиссии (transmission_type) уже на английском, их переименовывать не нужно\n",
    "print(data['drive_type'].unique())\n",
    "print(data['fuel_type'].unique())"
   ]
  },
  {
   "cell_type": "code",
   "execution_count": 799,
   "metadata": {},
   "outputs": [],
   "source": [
    "# переименовываем значения, чтобы новые столбцы, полученные с помощью one hot\n",
    "# были написаны на одном языке - английском\n",
    "rename_dict = {'полный': 'all', 'передний': 'front', 'задний': 'rear',\n",
    "               'бензин': 'gasoline', 'дизель': 'diesel', 'электро': 'electric', \n",
    "               'гибрид': 'hybrid', 'газ': 'gas'}\n",
    "\n",
    "data['drive_type'] = data['drive_type'].apply(lambda x: rename_dict[x])\n",
    "data['fuel_type'] = data['fuel_type'].apply(lambda x: rename_dict[x])\n",
    "\n",
    "# сохраним словарь\n",
    "import pickle\n",
    "\n",
    "file_path = '../utils/rename_dict.pkl'\n",
    "pickle.dump(rename_dict, open(file_path, 'wb'))"
   ]
  },
  {
   "cell_type": "code",
   "execution_count": 800,
   "metadata": {},
   "outputs": [],
   "source": [
    "# закодируем категориальные колонки\n",
    "# данные для декодирования новых объектов\n",
    "from sklearn.preprocessing import OneHotEncoder\n",
    "\n",
    "# сбросим индексы\n",
    "data.reset_index(drop=True, inplace=True)\n",
    "\n",
    "categorical_columns = data.loc[:,data.dtypes==object].columns\n",
    "\n",
    "for col in categorical_columns:\n",
    "    if data[col].nunique() <= 5:\n",
    "        encoder = OneHotEncoder(drop='first')\n",
    "        encoder.fit(data[[col]])\n",
    "\n",
    "        file_path = f'../utils/{col}_one_hot.pkl'\n",
    "        pickle.dump(encoder, open(file_path, 'wb'))\n",
    "\n",
    "        encoded_col = encoder.transform(data[[col]])\n",
    "        encoded_col_df = pd.DataFrame(encoded_col.toarray(), columns=encoder.get_feature_names_out([col]))\n",
    "        data = pd.concat((data.drop(col, axis=1), encoded_col_df), axis=1)\n",
    "    else:\n",
    "        median_target = data.groupby(col)['price'].median()\n",
    "\n",
    "        file_path = f'../utils/{col}_target.pkl'\n",
    "        pickle.dump(median_target, open(file_path, 'wb'))\n",
    "\n",
    "        data[col] = data[col].map(median_target)"
   ]
  },
  {
   "cell_type": "code",
   "execution_count": 801,
   "metadata": {},
   "outputs": [
    {
     "data": {
      "text/html": [
       "<div>\n",
       "<style scoped>\n",
       "    .dataframe tbody tr th:only-of-type {\n",
       "        vertical-align: middle;\n",
       "    }\n",
       "\n",
       "    .dataframe tbody tr th {\n",
       "        vertical-align: top;\n",
       "    }\n",
       "\n",
       "    .dataframe thead th {\n",
       "        text-align: right;\n",
       "    }\n",
       "</style>\n",
       "<table border=\"1\" class=\"dataframe\">\n",
       "  <thead>\n",
       "    <tr style=\"text-align: right;\">\n",
       "      <th></th>\n",
       "      <th>brand</th>\n",
       "      <th>price</th>\n",
       "      <th>years_in_operation</th>\n",
       "      <th>is_crashed</th>\n",
       "      <th>model</th>\n",
       "      <th>mileage</th>\n",
       "      <th>body_type</th>\n",
       "      <th>engine_volume</th>\n",
       "      <th>power</th>\n",
       "      <th>drive_type_front</th>\n",
       "      <th>drive_type_rear</th>\n",
       "      <th>fuel_type_electric</th>\n",
       "      <th>fuel_type_gas</th>\n",
       "      <th>fuel_type_gasoline</th>\n",
       "      <th>fuel_type_hybrid</th>\n",
       "      <th>transmission_type_AT</th>\n",
       "      <th>transmission_type_CVT</th>\n",
       "      <th>transmission_type_MT</th>\n",
       "    </tr>\n",
       "  </thead>\n",
       "  <tbody>\n",
       "    <tr>\n",
       "      <th>14013</th>\n",
       "      <td>556600.0</td>\n",
       "      <td>699900</td>\n",
       "      <td>3</td>\n",
       "      <td>False</td>\n",
       "      <td>659000.0</td>\n",
       "      <td>85000</td>\n",
       "      <td>865000.0</td>\n",
       "      <td>1.6</td>\n",
       "      <td>90</td>\n",
       "      <td>1.0</td>\n",
       "      <td>0.0</td>\n",
       "      <td>0.0</td>\n",
       "      <td>0.0</td>\n",
       "      <td>1.0</td>\n",
       "      <td>0.0</td>\n",
       "      <td>0.0</td>\n",
       "      <td>0.0</td>\n",
       "      <td>1.0</td>\n",
       "    </tr>\n",
       "    <tr>\n",
       "      <th>2485</th>\n",
       "      <td>810000.0</td>\n",
       "      <td>490000</td>\n",
       "      <td>17</td>\n",
       "      <td>False</td>\n",
       "      <td>749500.0</td>\n",
       "      <td>300000</td>\n",
       "      <td>865000.0</td>\n",
       "      <td>1.8</td>\n",
       "      <td>125</td>\n",
       "      <td>1.0</td>\n",
       "      <td>0.0</td>\n",
       "      <td>0.0</td>\n",
       "      <td>0.0</td>\n",
       "      <td>1.0</td>\n",
       "      <td>0.0</td>\n",
       "      <td>0.0</td>\n",
       "      <td>0.0</td>\n",
       "      <td>1.0</td>\n",
       "    </tr>\n",
       "    <tr>\n",
       "      <th>2184</th>\n",
       "      <td>649500.0</td>\n",
       "      <td>430000</td>\n",
       "      <td>17</td>\n",
       "      <td>False</td>\n",
       "      <td>610000.0</td>\n",
       "      <td>152500</td>\n",
       "      <td>1849995.0</td>\n",
       "      <td>1.7</td>\n",
       "      <td>80</td>\n",
       "      <td>0.0</td>\n",
       "      <td>0.0</td>\n",
       "      <td>0.0</td>\n",
       "      <td>0.0</td>\n",
       "      <td>1.0</td>\n",
       "      <td>0.0</td>\n",
       "      <td>0.0</td>\n",
       "      <td>0.0</td>\n",
       "      <td>1.0</td>\n",
       "    </tr>\n",
       "    <tr>\n",
       "      <th>595</th>\n",
       "      <td>2450000.0</td>\n",
       "      <td>2650000</td>\n",
       "      <td>11</td>\n",
       "      <td>False</td>\n",
       "      <td>2650000.0</td>\n",
       "      <td>80000</td>\n",
       "      <td>1597500.0</td>\n",
       "      <td>2.0</td>\n",
       "      <td>184</td>\n",
       "      <td>0.0</td>\n",
       "      <td>1.0</td>\n",
       "      <td>0.0</td>\n",
       "      <td>0.0</td>\n",
       "      <td>1.0</td>\n",
       "      <td>0.0</td>\n",
       "      <td>1.0</td>\n",
       "      <td>0.0</td>\n",
       "      <td>0.0</td>\n",
       "    </tr>\n",
       "    <tr>\n",
       "      <th>6314</th>\n",
       "      <td>1505000.0</td>\n",
       "      <td>2114600</td>\n",
       "      <td>6</td>\n",
       "      <td>False</td>\n",
       "      <td>1349000.0</td>\n",
       "      <td>92042</td>\n",
       "      <td>865000.0</td>\n",
       "      <td>2.0</td>\n",
       "      <td>150</td>\n",
       "      <td>1.0</td>\n",
       "      <td>0.0</td>\n",
       "      <td>0.0</td>\n",
       "      <td>0.0</td>\n",
       "      <td>1.0</td>\n",
       "      <td>0.0</td>\n",
       "      <td>1.0</td>\n",
       "      <td>0.0</td>\n",
       "      <td>0.0</td>\n",
       "    </tr>\n",
       "  </tbody>\n",
       "</table>\n",
       "</div>"
      ],
      "text/plain": [
       "           brand    price  years_in_operation  is_crashed      model  mileage  \\\n",
       "14013   556600.0   699900                   3       False   659000.0    85000   \n",
       "2485    810000.0   490000                  17       False   749500.0   300000   \n",
       "2184    649500.0   430000                  17       False   610000.0   152500   \n",
       "595    2450000.0  2650000                  11       False  2650000.0    80000   \n",
       "6314   1505000.0  2114600                   6       False  1349000.0    92042   \n",
       "\n",
       "       body_type  engine_volume  power  drive_type_front  drive_type_rear  \\\n",
       "14013   865000.0            1.6     90               1.0              0.0   \n",
       "2485    865000.0            1.8    125               1.0              0.0   \n",
       "2184   1849995.0            1.7     80               0.0              0.0   \n",
       "595    1597500.0            2.0    184               0.0              1.0   \n",
       "6314    865000.0            2.0    150               1.0              0.0   \n",
       "\n",
       "       fuel_type_electric  fuel_type_gas  fuel_type_gasoline  \\\n",
       "14013                 0.0            0.0                 1.0   \n",
       "2485                  0.0            0.0                 1.0   \n",
       "2184                  0.0            0.0                 1.0   \n",
       "595                   0.0            0.0                 1.0   \n",
       "6314                  0.0            0.0                 1.0   \n",
       "\n",
       "       fuel_type_hybrid  transmission_type_AT  transmission_type_CVT  \\\n",
       "14013               0.0                   0.0                    0.0   \n",
       "2485                0.0                   0.0                    0.0   \n",
       "2184                0.0                   0.0                    0.0   \n",
       "595                 0.0                   1.0                    0.0   \n",
       "6314                0.0                   1.0                    0.0   \n",
       "\n",
       "       transmission_type_MT  \n",
       "14013                   1.0  \n",
       "2485                    1.0  \n",
       "2184                    1.0  \n",
       "595                     0.0  \n",
       "6314                    0.0  "
      ]
     },
     "execution_count": 801,
     "metadata": {},
     "output_type": "execute_result"
    }
   ],
   "source": [
    "# посмотрим на получившийся датасет\n",
    "data.sample(n=5)"
   ]
  },
  {
   "cell_type": "code",
   "execution_count": 803,
   "metadata": {},
   "outputs": [
    {
     "data": {
      "image/png": "[encoded data removed]",
      "text/plain": [
       "<Figure size 800x600 with 2 Axes>"
      ]
     },
     "metadata": {},
     "output_type": "display_data"
    }
   ],
   "source": [
    "# посмотрим матрицу корреляций\n",
    "corr_matrix = data[['price', 'years_in_operation', 'mileage', 'model',\n",
    "                    'engine_volume', 'power', 'brand', 'body_type']].corr()\n",
    "\n",
    "plt.figure(figsize=(8, 6))\n",
    "sns.heatmap(corr_matrix, annot=True, cmap='coolwarm', fmt='.2f')\n",
    "plt.show()"
   ]
  },
  {
   "cell_type": "markdown",
   "metadata": {},
   "source": [
    "### Обучение модели"
   ]
  },
  {
   "cell_type": "code",
   "execution_count": 804,
   "metadata": {},
   "outputs": [],
   "source": [
    "# разделим и нормализуем выборку\n",
    "from sklearn.model_selection import train_test_split\n",
    "from sklearn.preprocessing import MinMaxScaler\n",
    "\n",
    "X = data.drop(columns='price')\n",
    "y = data['price']\n",
    "\n",
    "scaler = MinMaxScaler()\n",
    "X = scaler.fit_transform(X)\n",
    "\n",
    "X_train, X_test, y_train, y_test = train_test_split(X, y, test_size=0.2, random_state=42)"
   ]
  },
  {
   "cell_type": "code",
   "execution_count": 805,
   "metadata": {},
   "outputs": [],
   "source": [
    "# напишем функцию для вывода и сохранения метрик модели\n",
    "from sklearn.metrics import mean_absolute_error, r2_score, mean_absolute_percentage_error \n",
    "\n",
    "MAE_train = []\n",
    "MAE_test = []\n",
    "R2_train = []\n",
    "R2_test = []\n",
    "MAPE_train = []\n",
    "MAPE_test = []\n",
    "\n",
    "def car_pred_model(model):\n",
    "    model.fit(X_train, y_train)\n",
    "            \n",
    "    y_pred_train = model.predict(X_train)\n",
    "    MAE_train_model = mean_absolute_error(y_train, y_pred_train)\n",
    "    R2_train_model = r2_score(y_train, y_pred_train)\n",
    "    MAPE_train_model = mean_absolute_percentage_error(y_train, y_pred_train)\n",
    "    MAE_train.append(round(MAE_train_model, 3))\n",
    "    R2_train.append(round(R2_train_model, 3))\n",
    "    MAPE_train.append(round(MAPE_train_model, 3))\n",
    "    \n",
    "    y_pred_test = model.predict(X_test)\n",
    "    MAE_test_model = mean_absolute_error(y_test, y_pred_test)\n",
    "    R2_test_model = r2_score(y_test, y_pred_test)\n",
    "    MAPE_test_model = mean_absolute_percentage_error(y_test, y_pred_test)\n",
    "    MAE_test.append(round(MAE_test_model, 3))\n",
    "    R2_test.append(round(R2_test_model, 3))\n",
    "    MAPE_test.append(round(MAPE_test_model, 3))\n",
    "    \n",
    "    print(\"Train MAE:\",round(MAE_train_model, 3))\n",
    "    print(\"Test MAE:\",round(MAE_test_model, 3))\n",
    "    print(\"Train R2-score:\",round(R2_train_model, 3))\n",
    "    print(\"Test R2-score:\",round(R2_test_model, 3))\n",
    "    print(\"Train MAPE:\",round(MAPE_train_model, 3))\n",
    "    print(\"Test MAPE:\",round(MAPE_test_model, 3))"
   ]
  },
  {
   "cell_type": "code",
   "execution_count": 806,
   "metadata": {},
   "outputs": [
    {
     "name": "stdout",
     "output_type": "stream",
     "text": [
      "Train MAE: 482505.968\n",
      "Test MAE: 459621.54\n",
      "Train R2-score: 0.722\n",
      "Test R2-score: 0.703\n",
      "Train MAPE: 0.526\n",
      "Test MAPE: 0.511\n"
     ]
    }
   ],
   "source": [
    "# построим линейную регрессию\n",
    "from sklearn.linear_model import LinearRegression\n",
    "\n",
    "linear_regression = LinearRegression()\n",
    "car_pred_model(linear_regression)"
   ]
  },
  {
   "cell_type": "code",
   "execution_count": 807,
   "metadata": {},
   "outputs": [
    {
     "name": "stdout",
     "output_type": "stream",
     "text": [
      "Train MAE: 481823.981\n",
      "Test MAE: 459078.962\n",
      "Train R2-score: 0.722\n",
      "Test R2-score: 0.703\n",
      "Train MAPE: 0.525\n",
      "Test MAPE: 0.51\n"
     ]
    }
   ],
   "source": [
    "# попробуем с L1 регуляризацией\n",
    "from sklearn.linear_model import Lasso\n",
    "from sklearn.model_selection import RandomizedSearchCV\n",
    "\n",
    "lasso = Lasso()\n",
    "\n",
    "alpha = np.logspace(-4, 2, num=10)\n",
    "\n",
    "lasso_rs = RandomizedSearchCV(lasso, param_distributions=dict(alpha=alpha))\n",
    "\n",
    "car_pred_model(lasso_rs)"
   ]
  },
  {
   "cell_type": "code",
   "execution_count": 808,
   "metadata": {},
   "outputs": [
    {
     "name": "stdout",
     "output_type": "stream",
     "text": [
      "Train MAE: 482327.123\n",
      "Test MAE: 459423.701\n",
      "Train R2-score: 0.722\n",
      "Test R2-score: 0.703\n",
      "Train MAPE: 0.526\n",
      "Test MAPE: 0.511\n"
     ]
    }
   ],
   "source": [
    "# попробуем с L2 регуляризацией\n",
    "from sklearn.linear_model import Ridge\n",
    "from sklearn.model_selection import RandomizedSearchCV\n",
    "\n",
    "ridge = Ridge()\n",
    "\n",
    "alpha = np.logspace(-3, 1, num=10)\n",
    "\n",
    "ridge_rs = RandomizedSearchCV(ridge, param_distributions = dict(alpha=alpha))\n",
    "\n",
    "car_pred_model(ridge_rs)"
   ]
  },
  {
   "cell_type": "code",
   "execution_count": 809,
   "metadata": {},
   "outputs": [
    {
     "name": "stdout",
     "output_type": "stream",
     "text": [
      "Train MAE: 1825.338\n",
      "Test MAE: 250180.019\n",
      "Train R2-score: 1.0\n",
      "Test R2-score: 0.87\n",
      "Train MAPE: 0.001\n",
      "Test MAPE: 0.229\n"
     ]
    }
   ],
   "source": [
    "# построим knn модель\n",
    "from sklearn.neighbors import KNeighborsRegressor\n",
    "\n",
    "knn = KNeighborsRegressor()\n",
    "\n",
    "param_grid = {\n",
    "    'n_neighbors': [  1,  25,  50,  75, 100],\n",
    "    'p': [1, 3, 5],\n",
    "    'weights': ['uniform', 'distance']\n",
    "}\n",
    "\n",
    "knn_rs = RandomizedSearchCV(knn, param_distributions=param_grid)\n",
    "\n",
    "car_pred_model(knn_rs)"
   ]
  },
  {
   "cell_type": "code",
   "execution_count": 810,
   "metadata": {},
   "outputs": [
    {
     "name": "stdout",
     "output_type": "stream",
     "text": [
      "Train MAE: 245975.87\n",
      "Test MAE: 258374.655\n",
      "Train R2-score: 0.923\n",
      "Test R2-score: 0.894\n",
      "Train MAPE: 0.209\n",
      "Test MAPE: 0.225\n"
     ]
    }
   ],
   "source": [
    "# построим случайный лес\n",
    "from sklearn.ensemble import RandomForestRegressor\n",
    "\n",
    "random_forest = RandomForestRegressor()\n",
    "\n",
    "param_grid = {\"n_estimators\": [500, 600, 700, 800, 900],\n",
    "              \"max_depth\": [2, 4, 8],\n",
    "              \"min_samples_split\": [4, 6, 8],\n",
    "              \"min_samples_leaf\": [1, 2, 5, 7]}\n",
    "\n",
    "random_forest_rs = RandomizedSearchCV(\n",
    "    random_forest, param_distributions=param_grid)\n",
    "\n",
    "car_pred_model(random_forest_rs)"
   ]
  },
  {
   "cell_type": "code",
   "execution_count": 811,
   "metadata": {},
   "outputs": [
    {
     "name": "stdout",
     "output_type": "stream",
     "text": [
      "Train MAE: 157037.024\n",
      "Test MAE: 195327.843\n",
      "Train R2-score: 0.983\n",
      "Test R2-score: 0.941\n",
      "Train MAPE: 0.152\n",
      "Test MAPE: 0.171\n"
     ]
    }
   ],
   "source": [
    "# построим градиентный бустинг\n",
    "from catboost import CatBoostRegressor\n",
    "\n",
    "cat_boost = CatBoostRegressor(silent=True)\n",
    "\n",
    "param_grid = {\n",
    "    'iterations': [200, 250, 300, 350, 400],\n",
    "    'learning_rate': [0.1, 0.5, 1],\n",
    "    'depth': [4, 6, 7, 8],\n",
    "    'l2_leaf_reg': [0, 1e-4, 0.1, 1],\n",
    "}\n",
    "\n",
    "cat_boost_rs = RandomizedSearchCV(cat_boost, param_distributions=param_grid)\n",
    "\n",
    "car_pred_model(cat_boost_rs)"
   ]
  },
  {
   "cell_type": "code",
   "execution_count": 812,
   "metadata": {},
   "outputs": [
    {
     "data": {
      "text/html": [
       "<div>\n",
       "<style scoped>\n",
       "    .dataframe tbody tr th:only-of-type {\n",
       "        vertical-align: middle;\n",
       "    }\n",
       "\n",
       "    .dataframe tbody tr th {\n",
       "        vertical-align: top;\n",
       "    }\n",
       "\n",
       "    .dataframe thead th {\n",
       "        text-align: right;\n",
       "    }\n",
       "</style>\n",
       "<table border=\"1\" class=\"dataframe\">\n",
       "  <thead>\n",
       "    <tr style=\"text-align: right;\">\n",
       "      <th></th>\n",
       "      <th>Model</th>\n",
       "      <th>MAE(Test)</th>\n",
       "      <th>R Squared(Test)</th>\n",
       "      <th>MAPE(Test)</th>\n",
       "    </tr>\n",
       "  </thead>\n",
       "  <tbody>\n",
       "    <tr>\n",
       "      <th>0</th>\n",
       "      <td>LinearRegression</td>\n",
       "      <td>459621.540</td>\n",
       "      <td>0.703</td>\n",
       "      <td>0.511</td>\n",
       "    </tr>\n",
       "    <tr>\n",
       "      <th>1</th>\n",
       "      <td>Ridge</td>\n",
       "      <td>459078.962</td>\n",
       "      <td>0.703</td>\n",
       "      <td>0.510</td>\n",
       "    </tr>\n",
       "    <tr>\n",
       "      <th>2</th>\n",
       "      <td>Lasso</td>\n",
       "      <td>459423.701</td>\n",
       "      <td>0.703</td>\n",
       "      <td>0.511</td>\n",
       "    </tr>\n",
       "    <tr>\n",
       "      <th>3</th>\n",
       "      <td>KNN</td>\n",
       "      <td>250180.019</td>\n",
       "      <td>0.870</td>\n",
       "      <td>0.229</td>\n",
       "    </tr>\n",
       "    <tr>\n",
       "      <th>4</th>\n",
       "      <td>RandomForestRegressor</td>\n",
       "      <td>258374.655</td>\n",
       "      <td>0.894</td>\n",
       "      <td>0.225</td>\n",
       "    </tr>\n",
       "    <tr>\n",
       "      <th>5</th>\n",
       "      <td>CatBoostRegressor</td>\n",
       "      <td>195327.843</td>\n",
       "      <td>0.941</td>\n",
       "      <td>0.171</td>\n",
       "    </tr>\n",
       "  </tbody>\n",
       "</table>\n",
       "</div>"
      ],
      "text/plain": [
       "                   Model   MAE(Test)  R Squared(Test)  MAPE(Test)\n",
       "0       LinearRegression  459621.540            0.703       0.511\n",
       "1                  Ridge  459078.962            0.703       0.510\n",
       "2                  Lasso  459423.701            0.703       0.511\n",
       "3                    KNN  250180.019            0.870       0.229\n",
       "4  RandomForestRegressor  258374.655            0.894       0.225\n",
       "5      CatBoostRegressor  195327.843            0.941       0.171"
      ]
     },
     "execution_count": 812,
     "metadata": {},
     "output_type": "execute_result"
    }
   ],
   "source": [
    "# посмотрим на качество моделей\n",
    "models = [\"LinearRegression\", \"Ridge\", \"Lasso\",\n",
    "          \"KNN\", \"RandomForestRegressor\", \"CatBoostRegressor\"]\n",
    "results = pd.DataFrame({'Model': models, 'MAE(Test)': MAE_test,\n",
    "                        'R Squared(Test)': R2_test,\n",
    "                        'MAPE(Test)': MAPE_test})\n",
    "results"
   ]
  },
  {
   "cell_type": "code",
   "execution_count": 813,
   "metadata": {},
   "outputs": [],
   "source": [
    "best_model = cat_boost_rs.best_estimator_\n",
    "\n",
    "file_path_model = '../utils/catboost_model.pkl'\n",
    "file_path_scaler = '../utils/scaler.pkl'\n",
    "pickle.dump(best_model, open(file_path_model, 'wb'))\n",
    "pickle.dump(scaler, open(file_path_scaler, 'wb'))"
   ]
  },
  {
   "cell_type": "code",
   "execution_count": 814,
   "metadata": {},
   "outputs": [
    {
     "data": {
      "image/png": "[encoded data removed]",
      "text/plain": [
       "<Figure size 800x400 with 1 Axes>"
      ]
     },
     "metadata": {},
     "output_type": "display_data"
    }
   ],
   "source": [
    "# посмотрим на важность признаков\n",
    "feature_importance = best_model.get_feature_importance(type='FeatureImportance')\n",
    "feature_names = data.drop(columns='price').columns  \n",
    "\n",
    "plt.figure(figsize=(8, 4))\n",
    "plt.barh(range(len(feature_importance)), feature_importance, align='center')\n",
    "plt.yticks(range(len(feature_importance)), feature_names)\n",
    "plt.xlabel('Важность признаков')\n",
    "plt.ylabel('Признаки')\n",
    "plt.show()"
   ]
  }
 ],
 "metadata": {
  "kernelspec": {
   "display_name": "Python 3",
   "language": "python",
   "name": "python3"
  },
  "language_info": {
   "codemirror_mode": {
    "name": "ipython",
    "version": 3
   },
   "file_extension": ".py",
   "mimetype": "text/x-python",
   "name": "python",
   "nbconvert_exporter": "python",
   "pygments_lexer": "ipython3",
   "version": "3.11.3"
  }
 },
 "nbformat": 4,
 "nbformat_minor": 2
}
