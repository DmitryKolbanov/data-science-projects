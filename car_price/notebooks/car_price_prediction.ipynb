{
 "cells": [
  {
   "cell_type": "markdown",
   "metadata": {},
   "source": [
    "Задача - создать модель, которая будет предсказывать стоимость автомобиля в Самарской области по его характеристикам. Данные для обучения были получены с объявлений сайта Авито с помощью парсинга (ноутбук `parsing.ipynb`)"
   ]
  },
  {
   "cell_type": "code",
   "execution_count": 1,
   "metadata": {},
   "outputs": [],
   "source": [
    "# импорт библиотек\n",
    "import pandas as pd\n",
    "import numpy as np\n",
    "import matplotlib.pyplot as plt\n",
    "import seaborn as sns"
   ]
  },
  {
   "cell_type": "code",
   "execution_count": 2,
   "metadata": {},
   "outputs": [
    {
     "data": {
      "text/html": [
       "<div>\n",
       "<style scoped>\n",
       "    .dataframe tbody tr th:only-of-type {\n",
       "        vertical-align: middle;\n",
       "    }\n",
       "\n",
       "    .dataframe tbody tr th {\n",
       "        vertical-align: top;\n",
       "    }\n",
       "\n",
       "    .dataframe thead th {\n",
       "        text-align: right;\n",
       "    }\n",
       "</style>\n",
       "<table border=\"1\" class=\"dataframe\">\n",
       "  <thead>\n",
       "    <tr style=\"text-align: right;\">\n",
       "      <th></th>\n",
       "      <th>id</th>\n",
       "      <th>mark</th>\n",
       "      <th>name</th>\n",
       "      <th>price</th>\n",
       "      <th>params</th>\n",
       "    </tr>\n",
       "  </thead>\n",
       "  <tbody>\n",
       "    <tr>\n",
       "      <th>19225</th>\n",
       "      <td>i4145555287</td>\n",
       "      <td>ВАЗ (LADA)</td>\n",
       "      <td>ВАЗ (LADA) Vesta 1.6 MT, 2021, 89 000 км</td>\n",
       "      <td>1195000</td>\n",
       "      <td>89 000 км, 1.6 MT (106 л.с.), универсал, перед...</td>\n",
       "    </tr>\n",
       "    <tr>\n",
       "      <th>1180</th>\n",
       "      <td>i4166597924</td>\n",
       "      <td>Changan</td>\n",
       "      <td>Changan CS35 1.6 MT, 2013, 115 000 км</td>\n",
       "      <td>850000</td>\n",
       "      <td>115 000 км, 1.6 MT (113 л.с.), внедорожник, пе...</td>\n",
       "    </tr>\n",
       "    <tr>\n",
       "      <th>13325</th>\n",
       "      <td>i4008354404</td>\n",
       "      <td>Renault</td>\n",
       "      <td>Renault Kangoo 1.5 MT, 2003, 179 000 км</td>\n",
       "      <td>430000</td>\n",
       "      <td>179 000 км, 1.5 MT (65 л.с.), минивэн, передни...</td>\n",
       "    </tr>\n",
       "    <tr>\n",
       "      <th>5814</th>\n",
       "      <td>i4170315676</td>\n",
       "      <td>Hyundai</td>\n",
       "      <td>Hyundai ix35 2.0 MT, 2013, 164 346 км</td>\n",
       "      <td>1200000</td>\n",
       "      <td>164 346 км, 2 MT (150 л.с.), внедорожник, пере...</td>\n",
       "    </tr>\n",
       "    <tr>\n",
       "      <th>16349</th>\n",
       "      <td>i3785291551</td>\n",
       "      <td>Volkswagen</td>\n",
       "      <td>Volkswagen Touareg 3.2 AT, 2005, 275 294 км</td>\n",
       "      <td>799000</td>\n",
       "      <td>275 294 км, 3.2 AT (241 л.с.), внедорожник, по...</td>\n",
       "    </tr>\n",
       "  </tbody>\n",
       "</table>\n",
       "</div>"
      ],
      "text/plain": [
       "                id        mark                                         name  \\\n",
       "19225  i4145555287  ВАЗ (LADA)     ВАЗ (LADA) Vesta 1.6 MT, 2021, 89 000 км   \n",
       "1180   i4166597924     Changan        Changan CS35 1.6 MT, 2013, 115 000 км   \n",
       "13325  i4008354404     Renault      Renault Kangoo 1.5 MT, 2003, 179 000 км   \n",
       "5814   i4170315676     Hyundai        Hyundai ix35 2.0 MT, 2013, 164 346 км   \n",
       "16349  i3785291551  Volkswagen  Volkswagen Touareg 3.2 AT, 2005, 275 294 км   \n",
       "\n",
       "         price                                             params  \n",
       "19225  1195000  89 000 км, 1.6 MT (106 л.с.), универсал, перед...  \n",
       "1180    850000  115 000 км, 1.6 MT (113 л.с.), внедорожник, пе...  \n",
       "13325   430000  179 000 км, 1.5 MT (65 л.с.), минивэн, передни...  \n",
       "5814   1200000  164 346 км, 2 MT (150 л.с.), внедорожник, пере...  \n",
       "16349   799000  275 294 км, 3.2 AT (241 л.с.), внедорожник, по...  "
      ]
     },
     "execution_count": 2,
     "metadata": {},
     "output_type": "execute_result"
    }
   ],
   "source": [
    "# считываем данные\n",
    "data = pd.read_csv('../data/cars_data.csv', index_col=0)\n",
    "\n",
    "data.sample(n=5)"
   ]
  },
  {
   "cell_type": "code",
   "execution_count": 3,
   "metadata": {},
   "outputs": [],
   "source": [
    "# установим новый индекс\n",
    "data.set_index('id', inplace=True)"
   ]
  },
  {
   "cell_type": "code",
   "execution_count": 4,
   "metadata": {},
   "outputs": [
    {
     "data": {
      "text/plain": [
       "(17818, 4)"
      ]
     },
     "execution_count": 4,
     "metadata": {},
     "output_type": "execute_result"
    }
   ],
   "source": [
    "# удалим дубликаты, посмотрим размерность\n",
    "data.drop_duplicates(keep='first', inplace=True)\n",
    "data.shape"
   ]
  },
  {
   "cell_type": "code",
   "execution_count": 5,
   "metadata": {},
   "outputs": [
    {
     "name": "stdout",
     "output_type": "stream",
     "text": [
      "<class 'pandas.core.frame.DataFrame'>\n",
      "Index: 17818 entries, i4126437279 to i4395822541\n",
      "Data columns (total 4 columns):\n",
      " #   Column  Non-Null Count  Dtype \n",
      "---  ------  --------------  ----- \n",
      " 0   mark    17818 non-null  object\n",
      " 1   name    17818 non-null  object\n",
      " 2   price   17818 non-null  int64 \n",
      " 3   params  17818 non-null  object\n",
      "dtypes: int64(1), object(3)\n",
      "memory usage: 696.0+ KB\n"
     ]
    }
   ],
   "source": [
    "# посмотрим на краткое описание данных\n",
    "data.info()"
   ]
  },
  {
   "cell_type": "markdown",
   "metadata": {},
   "source": [
    "### Обработка данных"
   ]
  },
  {
   "cell_type": "code",
   "execution_count": 6,
   "metadata": {},
   "outputs": [
    {
     "data": {
      "text/html": [
       "<div>\n",
       "<style scoped>\n",
       "    .dataframe tbody tr th:only-of-type {\n",
       "        vertical-align: middle;\n",
       "    }\n",
       "\n",
       "    .dataframe tbody tr th {\n",
       "        vertical-align: top;\n",
       "    }\n",
       "\n",
       "    .dataframe thead th {\n",
       "        text-align: right;\n",
       "    }\n",
       "</style>\n",
       "<table border=\"1\" class=\"dataframe\">\n",
       "  <thead>\n",
       "    <tr style=\"text-align: right;\">\n",
       "      <th></th>\n",
       "      <th>mark</th>\n",
       "      <th>name</th>\n",
       "      <th>price</th>\n",
       "      <th>params</th>\n",
       "    </tr>\n",
       "    <tr>\n",
       "      <th>id</th>\n",
       "      <th></th>\n",
       "      <th></th>\n",
       "      <th></th>\n",
       "      <th></th>\n",
       "    </tr>\n",
       "  </thead>\n",
       "  <tbody>\n",
       "    <tr>\n",
       "      <th>i3528127177</th>\n",
       "      <td>Geely</td>\n",
       "      <td>Geely Atlas 2.4 AT, 2018, 71 651 км</td>\n",
       "      <td>1889000</td>\n",
       "      <td>71 651 км, 2.4 AT (149 л.с.), внедорожник, пол...</td>\n",
       "    </tr>\n",
       "    <tr>\n",
       "      <th>i4121109429</th>\n",
       "      <td>Skoda</td>\n",
       "      <td>Skoda Rapid 1.6 MT, 2017, 184 000 км</td>\n",
       "      <td>939000</td>\n",
       "      <td>184 000 км, 1.6 MT (90 л.с.), лифтбек, передни...</td>\n",
       "    </tr>\n",
       "    <tr>\n",
       "      <th>i4234371562</th>\n",
       "      <td>ВАЗ (LADA)</td>\n",
       "      <td>ВАЗ (LADA) 2114 Samara 1.6 MT, 2010, 193 000 км</td>\n",
       "      <td>165000</td>\n",
       "      <td>193 000 км, 1.6 MT (81 л.с.), хетчбэк, передни...</td>\n",
       "    </tr>\n",
       "    <tr>\n",
       "      <th>i4425709440</th>\n",
       "      <td>Hyundai</td>\n",
       "      <td>Hyundai Santa Fe 2.7 AT, 2006, 261 000 км</td>\n",
       "      <td>1050000</td>\n",
       "      <td>261 000 км, 2.7 AT (189 л.с.), внедорожник, по...</td>\n",
       "    </tr>\n",
       "    <tr>\n",
       "      <th>i3927472922</th>\n",
       "      <td>Kia</td>\n",
       "      <td>Kia Sportage 2.0 AT, 2017, 192 480 км</td>\n",
       "      <td>1810000</td>\n",
       "      <td>192 480 км, 2.0 AT (150 л.с.), внедорожник, по...</td>\n",
       "    </tr>\n",
       "  </tbody>\n",
       "</table>\n",
       "</div>"
      ],
      "text/plain": [
       "                   mark                                             name  \\\n",
       "id                                                                         \n",
       "i3528127177       Geely              Geely Atlas 2.4 AT, 2018, 71 651 км   \n",
       "i4121109429       Skoda             Skoda Rapid 1.6 MT, 2017, 184 000 км   \n",
       "i4234371562  ВАЗ (LADA)  ВАЗ (LADA) 2114 Samara 1.6 MT, 2010, 193 000 км   \n",
       "i4425709440     Hyundai        Hyundai Santa Fe 2.7 AT, 2006, 261 000 км   \n",
       "i3927472922         Kia            Kia Sportage 2.0 AT, 2017, 192 480 км   \n",
       "\n",
       "               price                                             params  \n",
       "id                                                                       \n",
       "i3528127177  1889000  71 651 км, 2.4 AT (149 л.с.), внедорожник, пол...  \n",
       "i4121109429   939000  184 000 км, 1.6 MT (90 л.с.), лифтбек, передни...  \n",
       "i4234371562   165000  193 000 км, 1.6 MT (81 л.с.), хетчбэк, передни...  \n",
       "i4425709440  1050000  261 000 км, 2.7 AT (189 л.с.), внедорожник, по...  \n",
       "i3927472922  1810000  192 480 км, 2.0 AT (150 л.с.), внедорожник, по...  "
      ]
     },
     "execution_count": 6,
     "metadata": {},
     "output_type": "execute_result"
    }
   ],
   "source": [
    "# пропущенных значений нет\n",
    "# начнем обработку признаков\n",
    "data.sample(n=5)"
   ]
  },
  {
   "cell_type": "code",
   "execution_count": 7,
   "metadata": {},
   "outputs": [
    {
     "data": {
      "text/plain": [
       "(17085, 4)"
      ]
     },
     "execution_count": 7,
     "metadata": {},
     "output_type": "execute_result"
    }
   ],
   "source": [
    "# В датасете есть новые автомобили (те, у которых пробег не указан), \n",
    "# их учитывать не нужно. Удалим такие записи \n",
    "data['name'] = data['name'].apply(lambda x: x if 'км' in x else None)\n",
    "data.dropna(inplace=True)\n",
    "data.shape"
   ]
  },
  {
   "cell_type": "code",
   "execution_count": 8,
   "metadata": {},
   "outputs": [],
   "source": [
    "# из колонки name вытащим информацию,\n",
    "# сколько лет автомобиль находится в эксплуатации\n",
    "data['лет в эксплуатации'] = 2025 - data['name'].apply(lambda x: x.split(', ')[1]).apply(int)"
   ]
  },
  {
   "cell_type": "code",
   "execution_count": 9,
   "metadata": {},
   "outputs": [],
   "source": [
    "# в датасете присутствуют битые авто\n",
    "# cделаем отдельный признак\n",
    "data['битый'] = data['name'].apply(lambda x: True if 'битый' in x else False)"
   ]
  },
  {
   "cell_type": "code",
   "execution_count": 10,
   "metadata": {},
   "outputs": [],
   "source": [
    "# в признаке name оставим только название модели\n",
    "data['модель'] = data['name'].apply(lambda x: ' '.join(x.split(', ')[0].split()[:-2]))\n",
    "data.drop(columns='name', inplace=True)"
   ]
  },
  {
   "cell_type": "code",
   "execution_count": 11,
   "metadata": {},
   "outputs": [],
   "source": [
    "# вытащим из params пробег\n",
    "# сначала уберем пометку \"Битый\" у соответствующих машин\n",
    "data['params'] = data['params'].apply(\n",
    "    lambda x: x.replace(\"Битый, \", \"\") if \"Битый\" in x else x)\n",
    "\n",
    "data['пробег'] = data['params'].apply(lambda x: x.split(', ')[0].replace('км', '').replace(' ', ''))"
   ]
  },
  {
   "cell_type": "code",
   "execution_count": 12,
   "metadata": {},
   "outputs": [
    {
     "data": {
      "text/plain": [
       "params\n",
       "5    17054\n",
       "4       31\n",
       "Name: count, dtype: int64"
      ]
     },
     "execution_count": 12,
     "metadata": {},
     "output_type": "execute_result"
    }
   ],
   "source": [
    "# проверим, что у всех авто в столбце params 5 блоков с информацией: \n",
    "# пробег, модификация, тип кузова, привод, тип топлива\n",
    "data['params'].apply(lambda x: len(x.split(', '))).value_counts()"
   ]
  },
  {
   "cell_type": "code",
   "execution_count": 13,
   "metadata": {},
   "outputs": [],
   "source": [
    "# удалим некорректные записи\n",
    "data['params'] = data['params'].apply(lambda x: x if len(x.split(', ')) == 5 else None)\n",
    "data.dropna(inplace=True)"
   ]
  },
  {
   "cell_type": "code",
   "execution_count": 14,
   "metadata": {},
   "outputs": [],
   "source": [
    "# создадим новые признаки - модификация, тип кузова, привод, тип топлива\n",
    "data['модификация'] = data['params'].apply(lambda x: x.split(', ')[1])\n",
    "data['тип кузова'] = data['params'].apply(lambda x: x.split(', ')[2])\n",
    "data['привод'] = data['params'].apply(lambda x: x.split(', ')[3])\n",
    "data['тип топлива'] = data['params'].apply(lambda x: x.split(', ')[4])\n",
    "\n",
    "# удалим лишний теперь столбец params\n",
    "data.drop(columns='params', inplace=True)"
   ]
  },
  {
   "cell_type": "code",
   "execution_count": 15,
   "metadata": {},
   "outputs": [],
   "source": [
    "# из модификации достанем объем двигателя, тип трансмиссии и мощность\n",
    "\n",
    "# Автомобили с электрическим типом двигателя не могут иметь такую характеристику, \n",
    "# так как у них в принципе отсутствует камера сгорания топлива, по которой считается объем. \n",
    "# Тогда можно сказать, что у электромобилей объем двигателя - 0 л и модель не будет учитывать данный признак\n",
    "data.loc[data['тип топлива'] == 'электро', 'модификация'] = data[data['тип топлива'] == 'электро']['модификация'].apply(\n",
    "    lambda x: '0 ' + x)\n",
    "\n",
    "# создадим новые признаки\n",
    "data['объём двигателя'] = data['модификация'].apply(lambda x: x.split()[0])\n",
    "data['тип трансмиссии'] = data['модификация'].apply(lambda x: x.split()[1])\n",
    "data['мощность'] = data['модификация'].apply(lambda x: x.split('(')[-1].split()[0])\n",
    "\n",
    "# удалим ненужный\n",
    "data.drop(columns='модификация', inplace=True)"
   ]
  },
  {
   "cell_type": "code",
   "execution_count": 16,
   "metadata": {},
   "outputs": [],
   "source": [
    "# переименуем столбцы \n",
    "data.rename(columns={'mark': 'марка', 'price': 'цена'}, inplace=True)"
   ]
  },
  {
   "cell_type": "code",
   "execution_count": 17,
   "metadata": {},
   "outputs": [
    {
     "data": {
      "text/html": [
       "<div>\n",
       "<style scoped>\n",
       "    .dataframe tbody tr th:only-of-type {\n",
       "        vertical-align: middle;\n",
       "    }\n",
       "\n",
       "    .dataframe tbody tr th {\n",
       "        vertical-align: top;\n",
       "    }\n",
       "\n",
       "    .dataframe thead th {\n",
       "        text-align: right;\n",
       "    }\n",
       "</style>\n",
       "<table border=\"1\" class=\"dataframe\">\n",
       "  <thead>\n",
       "    <tr style=\"text-align: right;\">\n",
       "      <th></th>\n",
       "      <th>марка</th>\n",
       "      <th>цена</th>\n",
       "      <th>лет в эксплуатации</th>\n",
       "      <th>битый</th>\n",
       "      <th>модель</th>\n",
       "      <th>пробег</th>\n",
       "      <th>тип кузова</th>\n",
       "      <th>привод</th>\n",
       "      <th>тип топлива</th>\n",
       "      <th>объём двигателя</th>\n",
       "      <th>тип трансмиссии</th>\n",
       "      <th>мощность</th>\n",
       "    </tr>\n",
       "    <tr>\n",
       "      <th>id</th>\n",
       "      <th></th>\n",
       "      <th></th>\n",
       "      <th></th>\n",
       "      <th></th>\n",
       "      <th></th>\n",
       "      <th></th>\n",
       "      <th></th>\n",
       "      <th></th>\n",
       "      <th></th>\n",
       "      <th></th>\n",
       "      <th></th>\n",
       "      <th></th>\n",
       "    </tr>\n",
       "  </thead>\n",
       "  <tbody>\n",
       "    <tr>\n",
       "      <th>i4118564492</th>\n",
       "      <td>ГАЗ</td>\n",
       "      <td>270000</td>\n",
       "      <td>19</td>\n",
       "      <td>False</td>\n",
       "      <td>ГАЗ ГАЗель 3221</td>\n",
       "      <td>232740</td>\n",
       "      <td>микроавтобус</td>\n",
       "      <td>задний</td>\n",
       "      <td>бензин</td>\n",
       "      <td>2.5</td>\n",
       "      <td>MT</td>\n",
       "      <td>140</td>\n",
       "    </tr>\n",
       "    <tr>\n",
       "      <th>i4162325628</th>\n",
       "      <td>BMW</td>\n",
       "      <td>2450000</td>\n",
       "      <td>9</td>\n",
       "      <td>False</td>\n",
       "      <td>BMW 5 серия</td>\n",
       "      <td>148000</td>\n",
       "      <td>универсал</td>\n",
       "      <td>задний</td>\n",
       "      <td>дизель</td>\n",
       "      <td>2.0</td>\n",
       "      <td>AT</td>\n",
       "      <td>150</td>\n",
       "    </tr>\n",
       "    <tr>\n",
       "      <th>i3968465740</th>\n",
       "      <td>Kia</td>\n",
       "      <td>2750000</td>\n",
       "      <td>5</td>\n",
       "      <td>False</td>\n",
       "      <td>Kia K5</td>\n",
       "      <td>39000</td>\n",
       "      <td>седан</td>\n",
       "      <td>передний</td>\n",
       "      <td>бензин</td>\n",
       "      <td>1.6</td>\n",
       "      <td>AT</td>\n",
       "      <td>180</td>\n",
       "    </tr>\n",
       "    <tr>\n",
       "      <th>i4674186516</th>\n",
       "      <td>УАЗ</td>\n",
       "      <td>200000</td>\n",
       "      <td>31</td>\n",
       "      <td>False</td>\n",
       "      <td>УАЗ 3962</td>\n",
       "      <td>230000</td>\n",
       "      <td>микроавтобус</td>\n",
       "      <td>полный</td>\n",
       "      <td>бензин</td>\n",
       "      <td>2.5</td>\n",
       "      <td>MT</td>\n",
       "      <td>76</td>\n",
       "    </tr>\n",
       "    <tr>\n",
       "      <th>i4211343512</th>\n",
       "      <td>ВАЗ (LADA)</td>\n",
       "      <td>285000</td>\n",
       "      <td>15</td>\n",
       "      <td>False</td>\n",
       "      <td>ВАЗ (LADA) Kalina</td>\n",
       "      <td>143758</td>\n",
       "      <td>седан</td>\n",
       "      <td>передний</td>\n",
       "      <td>бензин</td>\n",
       "      <td>1.6</td>\n",
       "      <td>MT</td>\n",
       "      <td>81</td>\n",
       "    </tr>\n",
       "  </tbody>\n",
       "</table>\n",
       "</div>"
      ],
      "text/plain": [
       "                  марка     цена  лет в эксплуатации  битый  \\\n",
       "id                                                            \n",
       "i4118564492         ГАЗ   270000                  19  False   \n",
       "i4162325628         BMW  2450000                   9  False   \n",
       "i3968465740         Kia  2750000                   5  False   \n",
       "i4674186516         УАЗ   200000                  31  False   \n",
       "i4211343512  ВАЗ (LADA)   285000                  15  False   \n",
       "\n",
       "                        модель  пробег    тип кузова    привод тип топлива  \\\n",
       "id                                                                           \n",
       "i4118564492    ГАЗ ГАЗель 3221  232740  микроавтобус    задний      бензин   \n",
       "i4162325628        BMW 5 серия  148000     универсал    задний      дизель   \n",
       "i3968465740             Kia K5   39000         седан  передний      бензин   \n",
       "i4674186516           УАЗ 3962  230000  микроавтобус    полный      бензин   \n",
       "i4211343512  ВАЗ (LADA) Kalina  143758         седан  передний      бензин   \n",
       "\n",
       "            объём двигателя тип трансмиссии мощность  \n",
       "id                                                    \n",
       "i4118564492             2.5              MT      140  \n",
       "i4162325628             2.0              AT      150  \n",
       "i3968465740             1.6              AT      180  \n",
       "i4674186516             2.5              MT       76  \n",
       "i4211343512             1.6              MT       81  "
      ]
     },
     "execution_count": 17,
     "metadata": {},
     "output_type": "execute_result"
    }
   ],
   "source": [
    "# посмотрим на обработанный датасет\n",
    "data.sample(n=5)"
   ]
  },
  {
   "cell_type": "code",
   "execution_count": 18,
   "metadata": {},
   "outputs": [
    {
     "data": {
      "text/plain": [
       "марка                 object\n",
       "цена                   int64\n",
       "лет в эксплуатации     int64\n",
       "битый                   bool\n",
       "модель                object\n",
       "пробег                object\n",
       "тип кузова            object\n",
       "привод                object\n",
       "тип топлива           object\n",
       "объём двигателя       object\n",
       "тип трансмиссии       object\n",
       "мощность              object\n",
       "dtype: object"
      ]
     },
     "execution_count": 18,
     "metadata": {},
     "output_type": "execute_result"
    }
   ],
   "source": [
    "# посмотрим на типы колонок\n",
    "data.dtypes"
   ]
  },
  {
   "cell_type": "code",
   "execution_count": 19,
   "metadata": {},
   "outputs": [],
   "source": [
    "# приведем колонки Пробег, Объём двигателя и Мощность к числовому типу\n",
    "cols_to_num = ['пробег', 'объём двигателя', 'мощность']\n",
    "data[cols_to_num] = data[cols_to_num].map(pd.to_numeric)"
   ]
  },
  {
   "cell_type": "markdown",
   "metadata": {},
   "source": [
    "### EDA"
   ]
  },
  {
   "cell_type": "code",
   "execution_count": 20,
   "metadata": {},
   "outputs": [
    {
     "data": {
      "text/html": [
       "<div>\n",
       "<style scoped>\n",
       "    .dataframe tbody tr th:only-of-type {\n",
       "        vertical-align: middle;\n",
       "    }\n",
       "\n",
       "    .dataframe tbody tr th {\n",
       "        vertical-align: top;\n",
       "    }\n",
       "\n",
       "    .dataframe thead th {\n",
       "        text-align: right;\n",
       "    }\n",
       "</style>\n",
       "<table border=\"1\" class=\"dataframe\">\n",
       "  <thead>\n",
       "    <tr style=\"text-align: right;\">\n",
       "      <th></th>\n",
       "      <th>цена</th>\n",
       "      <th>лет в эксплуатации</th>\n",
       "      <th>пробег</th>\n",
       "      <th>объём двигателя</th>\n",
       "      <th>мощность</th>\n",
       "    </tr>\n",
       "  </thead>\n",
       "  <tbody>\n",
       "    <tr>\n",
       "      <th>count</th>\n",
       "      <td>1.705400e+04</td>\n",
       "      <td>17054.000000</td>\n",
       "      <td>17054.000000</td>\n",
       "      <td>17054.000000</td>\n",
       "      <td>17054.000000</td>\n",
       "    </tr>\n",
       "    <tr>\n",
       "      <th>mean</th>\n",
       "      <td>1.607883e+06</td>\n",
       "      <td>11.475314</td>\n",
       "      <td>145239.819749</td>\n",
       "      <td>1.944594</td>\n",
       "      <td>139.076522</td>\n",
       "    </tr>\n",
       "    <tr>\n",
       "      <th>std</th>\n",
       "      <td>1.797618e+06</td>\n",
       "      <td>6.972494</td>\n",
       "      <td>92419.328182</td>\n",
       "      <td>0.634980</td>\n",
       "      <td>59.111816</td>\n",
       "    </tr>\n",
       "    <tr>\n",
       "      <th>min</th>\n",
       "      <td>2.255500e+04</td>\n",
       "      <td>1.000000</td>\n",
       "      <td>1.000000</td>\n",
       "      <td>0.000000</td>\n",
       "      <td>20.000000</td>\n",
       "    </tr>\n",
       "    <tr>\n",
       "      <th>25%</th>\n",
       "      <td>6.500000e+05</td>\n",
       "      <td>6.000000</td>\n",
       "      <td>80000.000000</td>\n",
       "      <td>1.600000</td>\n",
       "      <td>105.000000</td>\n",
       "    </tr>\n",
       "    <tr>\n",
       "      <th>50%</th>\n",
       "      <td>1.140000e+06</td>\n",
       "      <td>11.000000</td>\n",
       "      <td>137000.000000</td>\n",
       "      <td>1.600000</td>\n",
       "      <td>123.000000</td>\n",
       "    </tr>\n",
       "    <tr>\n",
       "      <th>75%</th>\n",
       "      <td>1.930000e+06</td>\n",
       "      <td>15.000000</td>\n",
       "      <td>196267.250000</td>\n",
       "      <td>2.000000</td>\n",
       "      <td>150.000000</td>\n",
       "    </tr>\n",
       "    <tr>\n",
       "      <th>max</th>\n",
       "      <td>3.450000e+07</td>\n",
       "      <td>103.000000</td>\n",
       "      <td>1000000.000000</td>\n",
       "      <td>6.200000</td>\n",
       "      <td>625.000000</td>\n",
       "    </tr>\n",
       "  </tbody>\n",
       "</table>\n",
       "</div>"
      ],
      "text/plain": [
       "               цена  лет в эксплуатации          пробег  объём двигателя  \\\n",
       "count  1.705400e+04        17054.000000    17054.000000     17054.000000   \n",
       "mean   1.607883e+06           11.475314   145239.819749         1.944594   \n",
       "std    1.797618e+06            6.972494    92419.328182         0.634980   \n",
       "min    2.255500e+04            1.000000        1.000000         0.000000   \n",
       "25%    6.500000e+05            6.000000    80000.000000         1.600000   \n",
       "50%    1.140000e+06           11.000000   137000.000000         1.600000   \n",
       "75%    1.930000e+06           15.000000   196267.250000         2.000000   \n",
       "max    3.450000e+07          103.000000  1000000.000000         6.200000   \n",
       "\n",
       "           мощность  \n",
       "count  17054.000000  \n",
       "mean     139.076522  \n",
       "std       59.111816  \n",
       "min       20.000000  \n",
       "25%      105.000000  \n",
       "50%      123.000000  \n",
       "75%      150.000000  \n",
       "max      625.000000  "
      ]
     },
     "execution_count": 20,
     "metadata": {},
     "output_type": "execute_result"
    }
   ],
   "source": [
    "# посмотрим на вещественные колонки\n",
    "num_cols = ['цена', 'лет в эксплуатации', 'пробег', 'объём двигателя', 'мощность']\n",
    "\n",
    "# изучим их\n",
    "data[num_cols].describe()"
   ]
  },
  {
   "cell_type": "code",
   "execution_count": 21,
   "metadata": {},
   "outputs": [
    {
     "data": {
      "image/png": "[encoded data removed]",
      "text/plain": [
       "<Figure size 1300x300 with 2 Axes>"
      ]
     },
     "metadata": {},
     "output_type": "display_data"
    },
    {
     "data": {
      "image/png": "[encoded data removed]",
      "text/plain": [
       "<Figure size 1300x300 with 2 Axes>"
      ]
     },
     "metadata": {},
     "output_type": "display_data"
    },
    {
     "data": {
      "image/png": "[encoded data removed]",
      "text/plain": [
       "<Figure size 1300x300 with 1 Axes>"
      ]
     },
     "metadata": {},
     "output_type": "display_data"
    }
   ],
   "source": [
    "# нарисуем боксплоты для вещественных признаков\n",
    "i=0\n",
    "while i < 5:\n",
    "    fig = plt.figure(figsize=[13,3])\n",
    "\n",
    "    plt.subplot(1,2,1)\n",
    "    sns.boxplot(x=num_cols[i], data=data)\n",
    "    i += 1\n",
    "    \n",
    "    if i == 5: break\n",
    "    plt.subplot(1,2,2)\n",
    "    sns.boxplot(x=num_cols[i], data=data)\n",
    "    i += 1\n",
    "    \n",
    "    plt.show()"
   ]
  },
  {
   "cell_type": "code",
   "execution_count": 22,
   "metadata": {},
   "outputs": [],
   "source": [
    "# уберем самые сильные выбросы\n",
    "data = data[(data['лет в эксплуатации'] <= 80) | (data['пробег'] <= 800000)]"
   ]
  },
  {
   "cell_type": "code",
   "execution_count": 23,
   "metadata": {},
   "outputs": [
    {
     "data": {
      "text/html": [
       "<div>\n",
       "<style scoped>\n",
       "    .dataframe tbody tr th:only-of-type {\n",
       "        vertical-align: middle;\n",
       "    }\n",
       "\n",
       "    .dataframe tbody tr th {\n",
       "        vertical-align: top;\n",
       "    }\n",
       "\n",
       "    .dataframe thead th {\n",
       "        text-align: right;\n",
       "    }\n",
       "</style>\n",
       "<table border=\"1\" class=\"dataframe\">\n",
       "  <thead>\n",
       "    <tr style=\"text-align: right;\">\n",
       "      <th></th>\n",
       "      <th>марка</th>\n",
       "      <th>модель</th>\n",
       "      <th>тип кузова</th>\n",
       "      <th>привод</th>\n",
       "      <th>тип топлива</th>\n",
       "      <th>тип трансмиссии</th>\n",
       "    </tr>\n",
       "  </thead>\n",
       "  <tbody>\n",
       "    <tr>\n",
       "      <th>count</th>\n",
       "      <td>17054</td>\n",
       "      <td>17054</td>\n",
       "      <td>17054</td>\n",
       "      <td>17054</td>\n",
       "      <td>17054</td>\n",
       "      <td>17054</td>\n",
       "    </tr>\n",
       "    <tr>\n",
       "      <th>unique</th>\n",
       "      <td>28</td>\n",
       "      <td>738</td>\n",
       "      <td>11</td>\n",
       "      <td>3</td>\n",
       "      <td>5</td>\n",
       "      <td>4</td>\n",
       "    </tr>\n",
       "    <tr>\n",
       "      <th>top</th>\n",
       "      <td>ВАЗ (LADA)</td>\n",
       "      <td>ВАЗ (LADA) Granta</td>\n",
       "      <td>внедорожник</td>\n",
       "      <td>передний</td>\n",
       "      <td>бензин</td>\n",
       "      <td>MT</td>\n",
       "    </tr>\n",
       "    <tr>\n",
       "      <th>freq</th>\n",
       "      <td>2378</td>\n",
       "      <td>571</td>\n",
       "      <td>6232</td>\n",
       "      <td>10328</td>\n",
       "      <td>15039</td>\n",
       "      <td>8033</td>\n",
       "    </tr>\n",
       "  </tbody>\n",
       "</table>\n",
       "</div>"
      ],
      "text/plain": [
       "             марка             модель   тип кузова    привод тип топлива  \\\n",
       "count        17054              17054        17054     17054       17054   \n",
       "unique          28                738           11         3           5   \n",
       "top     ВАЗ (LADA)  ВАЗ (LADA) Granta  внедорожник  передний      бензин   \n",
       "freq          2378                571         6232     10328       15039   \n",
       "\n",
       "       тип трансмиссии  \n",
       "count            17054  \n",
       "unique               4  \n",
       "top                 MT  \n",
       "freq              8033  "
      ]
     },
     "execution_count": 23,
     "metadata": {},
     "output_type": "execute_result"
    }
   ],
   "source": [
    "# посмотрим на категориальные колонки\n",
    "categorical_columns = data.loc[:,data.dtypes==object].columns\n",
    "\n",
    "# изучим их\n",
    "data.describe(include='object')"
   ]
  },
  {
   "cell_type": "code",
   "execution_count": 24,
   "metadata": {},
   "outputs": [
    {
     "data": {
      "image/png": "[encoded data removed]",
      "text/plain": [
       "<Figure size 1000x400 with 2 Axes>"
      ]
     },
     "metadata": {},
     "output_type": "display_data"
    },
    {
     "data": {
      "image/png": "[encoded data removed]",
      "text/plain": [
       "<Figure size 1000x400 with 2 Axes>"
      ]
     },
     "metadata": {},
     "output_type": "display_data"
    }
   ],
   "source": [
    "# посмотрим на распределение некоторых категориальных признаков\n",
    "cat_cols = ['тип кузова','привод', 'тип топлива','тип трансмиссии']\n",
    "i=0\n",
    "while i < 4:\n",
    "    fig = plt.figure(figsize=[10,4])\n",
    "    \n",
    "    plt.subplot(1,2,1)\n",
    "    sns.countplot(x=cat_cols[i], data=data)\n",
    "    i += 1\n",
    "    \n",
    "    plt.xticks(rotation=40)\n",
    "\n",
    "    plt.subplot(1,2,2)\n",
    "    sns.countplot(x=cat_cols[i], data=data)\n",
    "    i += 1\n",
    "    \n",
    "    plt.show()"
   ]
  },
  {
   "cell_type": "code",
   "execution_count": 25,
   "metadata": {},
   "outputs": [],
   "source": [
    "# закодируем категориальные колонки\n",
    "for col in categorical_columns:\n",
    "    if data[col].nunique() <= 5:\n",
    "        one_hot = pd.get_dummies(data[col], prefix=col, drop_first=True)\n",
    "        data = pd.concat((data.drop(col, axis=1), one_hot), axis=1)\n",
    "    else:\n",
    "        median_target = data.groupby(col)['цена'].median()\n",
    "        data[col] = data[col].map(median_target)"
   ]
  },
  {
   "cell_type": "code",
   "execution_count": 26,
   "metadata": {},
   "outputs": [
    {
     "data": {
      "text/html": [
       "<div>\n",
       "<style scoped>\n",
       "    .dataframe tbody tr th:only-of-type {\n",
       "        vertical-align: middle;\n",
       "    }\n",
       "\n",
       "    .dataframe tbody tr th {\n",
       "        vertical-align: top;\n",
       "    }\n",
       "\n",
       "    .dataframe thead th {\n",
       "        text-align: right;\n",
       "    }\n",
       "</style>\n",
       "<table border=\"1\" class=\"dataframe\">\n",
       "  <thead>\n",
       "    <tr style=\"text-align: right;\">\n",
       "      <th></th>\n",
       "      <th>марка</th>\n",
       "      <th>цена</th>\n",
       "      <th>лет в эксплуатации</th>\n",
       "      <th>битый</th>\n",
       "      <th>модель</th>\n",
       "      <th>пробег</th>\n",
       "      <th>тип кузова</th>\n",
       "      <th>объём двигателя</th>\n",
       "      <th>мощность</th>\n",
       "      <th>привод_передний</th>\n",
       "      <th>привод_полный</th>\n",
       "      <th>тип топлива_газ</th>\n",
       "      <th>тип топлива_гибрид</th>\n",
       "      <th>тип топлива_дизель</th>\n",
       "      <th>тип топлива_электро</th>\n",
       "      <th>тип трансмиссии_AT</th>\n",
       "      <th>тип трансмиссии_CVT</th>\n",
       "      <th>тип трансмиссии_MT</th>\n",
       "    </tr>\n",
       "    <tr>\n",
       "      <th>id</th>\n",
       "      <th></th>\n",
       "      <th></th>\n",
       "      <th></th>\n",
       "      <th></th>\n",
       "      <th></th>\n",
       "      <th></th>\n",
       "      <th></th>\n",
       "      <th></th>\n",
       "      <th></th>\n",
       "      <th></th>\n",
       "      <th></th>\n",
       "      <th></th>\n",
       "      <th></th>\n",
       "      <th></th>\n",
       "      <th></th>\n",
       "      <th></th>\n",
       "      <th></th>\n",
       "      <th></th>\n",
       "    </tr>\n",
       "  </thead>\n",
       "  <tbody>\n",
       "    <tr>\n",
       "      <th>i4269878559</th>\n",
       "      <td>1280000.0</td>\n",
       "      <td>2590000</td>\n",
       "      <td>4</td>\n",
       "      <td>False</td>\n",
       "      <td>2299500.0</td>\n",
       "      <td>83000</td>\n",
       "      <td>1848000.0</td>\n",
       "      <td>1.4</td>\n",
       "      <td>150</td>\n",
       "      <td>True</td>\n",
       "      <td>False</td>\n",
       "      <td>False</td>\n",
       "      <td>False</td>\n",
       "      <td>False</td>\n",
       "      <td>False</td>\n",
       "      <td>False</td>\n",
       "      <td>False</td>\n",
       "      <td>False</td>\n",
       "    </tr>\n",
       "    <tr>\n",
       "      <th>i4530228437</th>\n",
       "      <td>1500000.0</td>\n",
       "      <td>1745000</td>\n",
       "      <td>5</td>\n",
       "      <td>False</td>\n",
       "      <td>1535000.0</td>\n",
       "      <td>110703</td>\n",
       "      <td>670000.0</td>\n",
       "      <td>1.6</td>\n",
       "      <td>123</td>\n",
       "      <td>True</td>\n",
       "      <td>False</td>\n",
       "      <td>False</td>\n",
       "      <td>False</td>\n",
       "      <td>False</td>\n",
       "      <td>False</td>\n",
       "      <td>True</td>\n",
       "      <td>False</td>\n",
       "      <td>False</td>\n",
       "    </tr>\n",
       "    <tr>\n",
       "      <th>i4152388793</th>\n",
       "      <td>1553500.0</td>\n",
       "      <td>200000</td>\n",
       "      <td>13</td>\n",
       "      <td>False</td>\n",
       "      <td>320000.0</td>\n",
       "      <td>133534</td>\n",
       "      <td>1179990.0</td>\n",
       "      <td>1.5</td>\n",
       "      <td>109</td>\n",
       "      <td>True</td>\n",
       "      <td>False</td>\n",
       "      <td>False</td>\n",
       "      <td>False</td>\n",
       "      <td>False</td>\n",
       "      <td>False</td>\n",
       "      <td>False</td>\n",
       "      <td>False</td>\n",
       "      <td>True</td>\n",
       "    </tr>\n",
       "    <tr>\n",
       "      <th>i4104623448</th>\n",
       "      <td>599000.0</td>\n",
       "      <td>680000</td>\n",
       "      <td>15</td>\n",
       "      <td>False</td>\n",
       "      <td>530000.0</td>\n",
       "      <td>55179</td>\n",
       "      <td>670000.0</td>\n",
       "      <td>1.0</td>\n",
       "      <td>68</td>\n",
       "      <td>True</td>\n",
       "      <td>False</td>\n",
       "      <td>False</td>\n",
       "      <td>False</td>\n",
       "      <td>False</td>\n",
       "      <td>False</td>\n",
       "      <td>False</td>\n",
       "      <td>False</td>\n",
       "      <td>False</td>\n",
       "    </tr>\n",
       "    <tr>\n",
       "      <th>i4345998369</th>\n",
       "      <td>719500.0</td>\n",
       "      <td>1185700</td>\n",
       "      <td>11</td>\n",
       "      <td>False</td>\n",
       "      <td>650000.0</td>\n",
       "      <td>113650</td>\n",
       "      <td>670000.0</td>\n",
       "      <td>1.4</td>\n",
       "      <td>140</td>\n",
       "      <td>True</td>\n",
       "      <td>False</td>\n",
       "      <td>False</td>\n",
       "      <td>False</td>\n",
       "      <td>False</td>\n",
       "      <td>False</td>\n",
       "      <td>True</td>\n",
       "      <td>False</td>\n",
       "      <td>False</td>\n",
       "    </tr>\n",
       "  </tbody>\n",
       "</table>\n",
       "</div>"
      ],
      "text/plain": [
       "                 марка     цена  лет в эксплуатации  битый     модель  пробег  \\\n",
       "id                                                                              \n",
       "i4269878559  1280000.0  2590000                   4  False  2299500.0   83000   \n",
       "i4530228437  1500000.0  1745000                   5  False  1535000.0  110703   \n",
       "i4152388793  1553500.0   200000                  13  False   320000.0  133534   \n",
       "i4104623448   599000.0   680000                  15  False   530000.0   55179   \n",
       "i4345998369   719500.0  1185700                  11  False   650000.0  113650   \n",
       "\n",
       "             тип кузова  объём двигателя  мощность  привод_передний  \\\n",
       "id                                                                    \n",
       "i4269878559   1848000.0              1.4       150             True   \n",
       "i4530228437    670000.0              1.6       123             True   \n",
       "i4152388793   1179990.0              1.5       109             True   \n",
       "i4104623448    670000.0              1.0        68             True   \n",
       "i4345998369    670000.0              1.4       140             True   \n",
       "\n",
       "             привод_полный  тип топлива_газ  тип топлива_гибрид  \\\n",
       "id                                                                \n",
       "i4269878559          False            False               False   \n",
       "i4530228437          False            False               False   \n",
       "i4152388793          False            False               False   \n",
       "i4104623448          False            False               False   \n",
       "i4345998369          False            False               False   \n",
       "\n",
       "             тип топлива_дизель  тип топлива_электро  тип трансмиссии_AT  \\\n",
       "id                                                                         \n",
       "i4269878559               False                False               False   \n",
       "i4530228437               False                False                True   \n",
       "i4152388793               False                False               False   \n",
       "i4104623448               False                False               False   \n",
       "i4345998369               False                False                True   \n",
       "\n",
       "             тип трансмиссии_CVT  тип трансмиссии_MT  \n",
       "id                                                    \n",
       "i4269878559                False               False  \n",
       "i4530228437                False               False  \n",
       "i4152388793                False                True  \n",
       "i4104623448                False               False  \n",
       "i4345998369                False               False  "
      ]
     },
     "execution_count": 26,
     "metadata": {},
     "output_type": "execute_result"
    }
   ],
   "source": [
    "# посмотримт на получившийся датасет\n",
    "data.sample(n=5)"
   ]
  },
  {
   "cell_type": "code",
   "execution_count": 27,
   "metadata": {},
   "outputs": [
    {
     "data": {
      "image/png": "[encoded data removed]",
      "text/plain": [
       "<Figure size 800x600 with 2 Axes>"
      ]
     },
     "metadata": {},
     "output_type": "display_data"
    }
   ],
   "source": [
    "# посмотрим матрицу корреляций\n",
    "corr_matrix = data[['цена', 'лет в эксплуатации', 'пробег', 'модель',\n",
    "                    'объём двигателя', 'мощность', 'марка', 'тип кузова']].corr()\n",
    "\n",
    "plt.figure(figsize=(8, 6))\n",
    "sns.heatmap(corr_matrix, annot=True, cmap='coolwarm', fmt='.2f')\n",
    "plt.show()"
   ]
  },
  {
   "cell_type": "markdown",
   "metadata": {},
   "source": [
    "### Обучение модели"
   ]
  },
  {
   "cell_type": "code",
   "execution_count": 28,
   "metadata": {},
   "outputs": [],
   "source": [
    "# разделим и нормализуем выборку\n",
    "from sklearn.model_selection import train_test_split\n",
    "from sklearn.preprocessing import MinMaxScaler\n",
    "\n",
    "X = data.drop(columns='цена')\n",
    "y = data['цена']\n",
    "\n",
    "scaler = MinMaxScaler()\n",
    "X = scaler.fit_transform(X)\n",
    "\n",
    "X_train, X_test, y_train, y_test = train_test_split(X, y, test_size=0.2, random_state=1)"
   ]
  },
  {
   "cell_type": "code",
   "execution_count": 29,
   "metadata": {},
   "outputs": [],
   "source": [
    "# напишем функцию для вывода и сохранения метрик модели\n",
    "from sklearn.metrics import mean_absolute_error, r2_score, mean_absolute_percentage_error \n",
    "\n",
    "MAE_train = []\n",
    "MAE_test = []\n",
    "R2_train = []\n",
    "R2_test = []\n",
    "MAPE_train = []\n",
    "MAPE_test = []\n",
    "\n",
    "def car_pred_model(model):\n",
    "    model.fit(X_train, y_train)\n",
    "            \n",
    "    y_pred_train = model.predict(X_train)\n",
    "    MAE_train_model = mean_absolute_error(y_train, y_pred_train)\n",
    "    R2_train_model = r2_score(y_train, y_pred_train)\n",
    "    MAPE_train_model = mean_absolute_percentage_error(y_train, y_pred_train)\n",
    "    MAE_train.append(round(MAE_train_model, 3))\n",
    "    R2_train.append(round(R2_train_model, 3))\n",
    "    MAPE_train.append(round(MAPE_train_model, 3))\n",
    "    \n",
    "    y_pred_test = model.predict(X_test)\n",
    "    MAE_test_model = mean_absolute_error(y_test, y_pred_test)\n",
    "    R2_test_model = r2_score(y_test, y_pred_test)\n",
    "    MAPE_test_model = mean_absolute_percentage_error(y_test, y_pred_test)\n",
    "    MAE_test.append(round(MAE_test_model, 3))\n",
    "    R2_test.append(round(R2_test_model, 3))\n",
    "    MAPE_test.append(round(MAPE_test_model, 3))\n",
    "    \n",
    "    print(\"Train MAE:\",round(MAE_train_model, 3))\n",
    "    print(\"Test MAE:\",round(MAE_test_model, 3))\n",
    "    print(\"Train R2-score:\",round(R2_train_model, 3))\n",
    "    print(\"Test R2-score:\",round(R2_test_model, 3))\n",
    "    print(\"Train MAPE:\",round(MAPE_train_model, 3))\n",
    "    print(\"Test MAPE:\",round(MAPE_test_model, 3))"
   ]
  },
  {
   "cell_type": "code",
   "execution_count": 30,
   "metadata": {},
   "outputs": [
    {
     "name": "stdout",
     "output_type": "stream",
     "text": [
      "Train MAE: 472692.946\n",
      "Test MAE: 474651.709\n",
      "Train R2-score: 0.722\n",
      "Test R2-score: 0.713\n",
      "Train MAPE: 0.525\n",
      "Test MAPE: 0.512\n"
     ]
    }
   ],
   "source": [
    "# построим линейную регрессию\n",
    "from sklearn.linear_model import LinearRegression\n",
    "\n",
    "linear_regression = LinearRegression()\n",
    "car_pred_model(linear_regression)"
   ]
  },
  {
   "cell_type": "code",
   "execution_count": 31,
   "metadata": {},
   "outputs": [
    {
     "name": "stdout",
     "output_type": "stream",
     "text": [
      "Train MAE: 471938.494\n",
      "Test MAE: 473858.077\n",
      "Train R2-score: 0.722\n",
      "Test R2-score: 0.713\n",
      "Train MAPE: 0.524\n",
      "Test MAPE: 0.51\n"
     ]
    }
   ],
   "source": [
    "# попробуем с L1 регуляризацией\n",
    "from sklearn.linear_model import Lasso\n",
    "from sklearn.model_selection import RandomizedSearchCV\n",
    "\n",
    "lasso = Lasso()\n",
    "\n",
    "alpha = np.logspace(-4, 2, num=10)\n",
    "\n",
    "lasso_rs = RandomizedSearchCV(lasso, param_distributions=dict(alpha=alpha))\n",
    "\n",
    "car_pred_model(lasso_rs)"
   ]
  },
  {
   "cell_type": "code",
   "execution_count": 32,
   "metadata": {},
   "outputs": [
    {
     "name": "stdout",
     "output_type": "stream",
     "text": [
      "Train MAE: 472628.769\n",
      "Test MAE: 474582.685\n",
      "Train R2-score: 0.722\n",
      "Test R2-score: 0.713\n",
      "Train MAPE: 0.525\n",
      "Test MAPE: 0.512\n"
     ]
    }
   ],
   "source": [
    "# попробуем с L2 регуляризацией\n",
    "from sklearn.linear_model import Ridge\n",
    "from sklearn.model_selection import RandomizedSearchCV\n",
    "\n",
    "ridge = Ridge()\n",
    "\n",
    "alpha = np.logspace(-3, 1, num=10)\n",
    "\n",
    "ridge_rs = RandomizedSearchCV(ridge, param_distributions = dict(alpha=alpha))\n",
    "\n",
    "car_pred_model(ridge_rs)"
   ]
  },
  {
   "cell_type": "code",
   "execution_count": 37,
   "metadata": {},
   "outputs": [
    {
     "name": "stdout",
     "output_type": "stream",
     "text": [
      "Train MAE: 1851.833\n",
      "Test MAE: 271263.948\n",
      "Train R2-score: 1.0\n",
      "Test R2-score: 0.855\n",
      "Train MAPE: 0.001\n",
      "Test MAPE: 0.222\n"
     ]
    }
   ],
   "source": [
    "# построим knn модель\n",
    "from sklearn.neighbors import KNeighborsRegressor\n",
    "\n",
    "knn = KNeighborsRegressor()\n",
    "\n",
    "param_grid = {\n",
    "    'n_neighbors': [  1,  25,  50,  75, 100],\n",
    "    'p': [1, 3, 5],\n",
    "    'weights': ['uniform', 'distance']\n",
    "}\n",
    "\n",
    "knn_rs = RandomizedSearchCV(knn, param_distributions=param_grid)\n",
    "\n",
    "car_pred_model(knn_rs)"
   ]
  },
  {
   "cell_type": "code",
   "execution_count": 38,
   "metadata": {},
   "outputs": [
    {
     "name": "stdout",
     "output_type": "stream",
     "text": [
      "Train MAE: 231876.998\n",
      "Test MAE: 268312.271\n",
      "Train R2-score: 0.949\n",
      "Test R2-score: 0.871\n",
      "Train MAPE: 0.21\n",
      "Test MAPE: 0.214\n"
     ]
    }
   ],
   "source": [
    "# построим случайный лес\n",
    "from sklearn.ensemble import RandomForestRegressor\n",
    "\n",
    "random_forest = RandomForestRegressor()\n",
    "\n",
    "param_grid = {\"n_estimators\": [500, 600, 700, 800, 900],\n",
    "              \"max_depth\": [2, 4, 8],\n",
    "              \"min_samples_split\": [4, 6, 8],\n",
    "              \"min_samples_leaf\": [1, 2, 5, 7]}\n",
    "\n",
    "random_forest_rs = RandomizedSearchCV(\n",
    "    random_forest, param_distributions=param_grid)\n",
    "\n",
    "car_pred_model(random_forest_rs)"
   ]
  },
  {
   "cell_type": "code",
   "execution_count": 39,
   "metadata": {},
   "outputs": [
    {
     "name": "stdout",
     "output_type": "stream",
     "text": [
      "Train MAE: 162017.59\n",
      "Test MAE: 202963.794\n",
      "Train R2-score: 0.98\n",
      "Test R2-score: 0.913\n",
      "Train MAPE: 0.155\n",
      "Test MAPE: 0.169\n"
     ]
    }
   ],
   "source": [
    "# построим градиентный бустинг\n",
    "from catboost import CatBoostRegressor\n",
    "\n",
    "cat_boost = CatBoostRegressor(silent=True)\n",
    "\n",
    "param_grid = {\n",
    "    'iterations': [200, 250, 300, 350, 400],\n",
    "    'learning_rate': [0.1, 0.5, 1],\n",
    "    'depth': [4, 6, 7, 8],\n",
    "    'l2_leaf_reg': [0, 1e-4, 0.1, 1],\n",
    "}\n",
    "\n",
    "cat_boost_rs = RandomizedSearchCV(cat_boost, param_distributions=param_grid)\n",
    "\n",
    "car_pred_model(cat_boost_rs)"
   ]
  },
  {
   "cell_type": "code",
   "execution_count": 42,
   "metadata": {},
   "outputs": [
    {
     "data": {
      "text/html": [
       "<div>\n",
       "<style scoped>\n",
       "    .dataframe tbody tr th:only-of-type {\n",
       "        vertical-align: middle;\n",
       "    }\n",
       "\n",
       "    .dataframe tbody tr th {\n",
       "        vertical-align: top;\n",
       "    }\n",
       "\n",
       "    .dataframe thead th {\n",
       "        text-align: right;\n",
       "    }\n",
       "</style>\n",
       "<table border=\"1\" class=\"dataframe\">\n",
       "  <thead>\n",
       "    <tr style=\"text-align: right;\">\n",
       "      <th></th>\n",
       "      <th>Model</th>\n",
       "      <th>MAE(Test)</th>\n",
       "      <th>R Squared(Test)</th>\n",
       "      <th>MAPE(Test)</th>\n",
       "    </tr>\n",
       "  </thead>\n",
       "  <tbody>\n",
       "    <tr>\n",
       "      <th>0</th>\n",
       "      <td>LinearRegression</td>\n",
       "      <td>474651.709</td>\n",
       "      <td>0.713</td>\n",
       "      <td>0.512</td>\n",
       "    </tr>\n",
       "    <tr>\n",
       "      <th>1</th>\n",
       "      <td>Ridge</td>\n",
       "      <td>473858.077</td>\n",
       "      <td>0.713</td>\n",
       "      <td>0.510</td>\n",
       "    </tr>\n",
       "    <tr>\n",
       "      <th>2</th>\n",
       "      <td>Lasso</td>\n",
       "      <td>474582.685</td>\n",
       "      <td>0.713</td>\n",
       "      <td>0.512</td>\n",
       "    </tr>\n",
       "    <tr>\n",
       "      <th>3</th>\n",
       "      <td>KNN</td>\n",
       "      <td>271263.948</td>\n",
       "      <td>0.855</td>\n",
       "      <td>0.222</td>\n",
       "    </tr>\n",
       "    <tr>\n",
       "      <th>4</th>\n",
       "      <td>RandomForestRegressor</td>\n",
       "      <td>268312.271</td>\n",
       "      <td>0.871</td>\n",
       "      <td>0.214</td>\n",
       "    </tr>\n",
       "    <tr>\n",
       "      <th>5</th>\n",
       "      <td>CatBoostRegressor</td>\n",
       "      <td>202963.794</td>\n",
       "      <td>0.913</td>\n",
       "      <td>0.169</td>\n",
       "    </tr>\n",
       "  </tbody>\n",
       "</table>\n",
       "</div>"
      ],
      "text/plain": [
       "                   Model   MAE(Test)  R Squared(Test)  MAPE(Test)\n",
       "0       LinearRegression  474651.709            0.713       0.512\n",
       "1                  Ridge  473858.077            0.713       0.510\n",
       "2                  Lasso  474582.685            0.713       0.512\n",
       "3                    KNN  271263.948            0.855       0.222\n",
       "4  RandomForestRegressor  268312.271            0.871       0.214\n",
       "5      CatBoostRegressor  202963.794            0.913       0.169"
      ]
     },
     "execution_count": 42,
     "metadata": {},
     "output_type": "execute_result"
    }
   ],
   "source": [
    "# посмотрим на качество моделей\n",
    "models = [\"LinearRegression\", \"Ridge\", \"Lasso\",\n",
    "          \"KNN\", \"RandomForestRegressor\", \"CatBoostRegressor\"]\n",
    "results = pd.DataFrame({'Model': models, 'MAE(Test)': MAE_test,\n",
    "                        'R Squared(Test)': R2_test,\n",
    "                        'MAPE(Test)': MAPE_test})\n",
    "results"
   ]
  },
  {
   "cell_type": "code",
   "execution_count": 51,
   "metadata": {},
   "outputs": [],
   "source": [
    "# сохраним модель и scaler\n",
    "import pickle\n",
    "\n",
    "best_model = cat_boost_rs.best_estimator_\n",
    "\n",
    "file_path_model = '../catboost_model.pkl'\n",
    "file_path_scaler = '../scaler.pkl'\n",
    "pickle.dump(best_model, open(file_path_model, 'wb'))\n",
    "pickle.dump(scaler, open(file_path_scaler, 'wb'))"
   ]
  },
  {
   "cell_type": "code",
   "execution_count": 57,
   "metadata": {},
   "outputs": [
    {
     "data": {
      "image/png": "[encoded data removed]",
      "text/plain": [
       "<Figure size 800x400 with 1 Axes>"
      ]
     },
     "metadata": {},
     "output_type": "display_data"
    }
   ],
   "source": [
    "# посмотрим на важность признаков\n",
    "feature_importance = best_model.get_feature_importance(type='FeatureImportance')\n",
    "feature_names = data.drop(columns='цена').columns  \n",
    "\n",
    "plt.figure(figsize=(8, 4))\n",
    "plt.barh(range(len(feature_importance)), feature_importance, align='center')\n",
    "plt.yticks(range(len(feature_importance)), feature_names)\n",
    "plt.xlabel('Важность признаков')\n",
    "plt.ylabel('Признаки')\n",
    "plt.show()"
   ]
  }
 ],
 "metadata": {
  "kernelspec": {
   "display_name": "Python 3",
   "language": "python",
   "name": "python3"
  },
  "language_info": {
   "codemirror_mode": {
    "name": "ipython",
    "version": 3
   },
   "file_extension": ".py",
   "mimetype": "text/x-python",
   "name": "python",
   "nbconvert_exporter": "python",
   "pygments_lexer": "ipython3",
   "version": "3.11.3"
  }
 },
 "nbformat": 4,
 "nbformat_minor": 2
}
