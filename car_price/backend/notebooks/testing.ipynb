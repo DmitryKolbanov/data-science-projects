{
 "cells": [
  {
   "cell_type": "code",
   "execution_count": 1,
   "metadata": {},
   "outputs": [],
   "source": [
    "import pandas as pd\n",
    "import pickle\n",
    "import warnings\n",
    "\n",
    "warnings.filterwarnings(\"ignore\") \n",
    "\n",
    "data = pd.read_csv('test.csv', index_col=0).reset_index(drop=True)\n",
    "index = 5\n",
    "test = data.iloc[[index]]"
   ]
  },
  {
   "cell_type": "code",
   "execution_count": 21,
   "metadata": {},
   "outputs": [],
   "source": [
    "data = {'brand': 'Audi', 'model': 'Q7', 'mileage': 10000, 'yearsInUse': 10, 'damaged': False, 'bodyType': 'внедорожник',\n",
    "        'fuelType': 'бензин', 'driveType': 'полный', 'transmissionType': 'AT', 'engineCapacity': 3, 'horsePower': 200}\n",
    "\n",
    "prepared_data = [{\n",
    "        'brand': data['brand'],\n",
    "        'years_in_operation': data['yearsInUse'],\n",
    "        'is_crashed': 1 if data['damaged'] else 0,\n",
    "        'model': data['brand'] + ' ' + data['model'],\n",
    "        'mileage': data['mileage'],\n",
    "        'body_type': data['bodyType'],\n",
    "        'drive_type': data['driveType'],\n",
    "        'fuel_type': data['fuelType'],\n",
    "        'engine_volume': data['engineCapacity'],\n",
    "        'transmission_type': data['transmissionType'],\n",
    "        'power': data['horsePower'],\n",
    "    }]\n",
    "test = pd.DataFrame(prepared_data)"
   ]
  },
  {
   "cell_type": "code",
   "execution_count": 22,
   "metadata": {},
   "outputs": [],
   "source": [
    "def translate_data(car):\n",
    "    rename_dict = pickle.load(open('../utils/rename_dict.pkl', 'rb'))\n",
    "    car['drive_type'] = car['drive_type'].apply(lambda x: rename_dict[x])\n",
    "    car['fuel_type'] = car['fuel_type'].apply(lambda x: rename_dict[x])"
   ]
  },
  {
   "cell_type": "code",
   "execution_count": 23,
   "metadata": {},
   "outputs": [],
   "source": [
    "def one_hot_encoding(car):\n",
    "    one_hot_cols = ['drive_type', 'fuel_type', 'transmission_type']\n",
    "    result = car.drop(columns=one_hot_cols)\n",
    "\n",
    "    for col in one_hot_cols:\n",
    "        encoder = pickle.load(\n",
    "            open(f'../utils/{col}_one_hot.pkl', 'rb'))\n",
    "        \n",
    "        col_encoded = pd.DataFrame(encoder.transform(car[[col]]).toarray(\n",
    "        ), columns=encoder.get_feature_names_out([col]))\n",
    "\n",
    "        result = pd.concat((result, col_encoded), axis=1)\n",
    "\n",
    "    return result"
   ]
  },
  {
   "cell_type": "code",
   "execution_count": 24,
   "metadata": {},
   "outputs": [],
   "source": [
    "def target_encoding(car):\n",
    "    target_encoded_cols = ['body_type', 'brand', 'model']\n",
    "\n",
    "    for col in target_encoded_cols:\n",
    "        encoder = pickle.load(\n",
    "            open(f'../utils/{col}_target.pkl', 'rb'))\n",
    "        \n",
    "        car[col] = encoder[car[col].values[0]]"
   ]
  },
  {
   "cell_type": "code",
   "execution_count": 25,
   "metadata": {},
   "outputs": [],
   "source": [
    "def prepare_data(car):\n",
    "    #car.drop(columns='price', inplace=True)\n",
    "    car.reset_index(drop=True, inplace=True)\n",
    "    translate_data(car)\n",
    "    target_encoding(car)\n",
    "    return one_hot_encoding(car)"
   ]
  },
  {
   "cell_type": "code",
   "execution_count": null,
   "metadata": {},
   "outputs": [
    {
     "name": "stdout",
     "output_type": "stream",
     "text": [
      "Предсказание модели - 7214599\n"
     ]
    }
   ],
   "source": [
    "scaler = pickle.load(open('../utils/scaler.pkl', 'rb'))\n",
    "model = pickle.load(open('../utils/catboost_model.pkl', 'rb'))\n",
    "\n",
    "ready_data = prepare_data(test)\n",
    "\n",
    "test_scaled = scaler.transform(ready_data)"
   ]
  },
  {
   "cell_type": "code",
   "execution_count": 27,
   "metadata": {},
   "outputs": [
    {
     "name": "stdout",
     "output_type": "stream",
     "text": [
      "Предсказание модели - 7214599\n"
     ]
    }
   ],
   "source": [
    "print(f'Предсказание модели - {int(model.predict(test_scaled)[0])}')"
   ]
  }
 ],
 "metadata": {
  "kernelspec": {
   "display_name": "Python 3",
   "language": "python",
   "name": "python3"
  },
  "language_info": {
   "codemirror_mode": {
    "name": "ipython",
    "version": 3
   },
   "file_extension": ".py",
   "mimetype": "text/x-python",
   "name": "python",
   "nbconvert_exporter": "python",
   "pygments_lexer": "ipython3",
   "version": "3.12.1"
  }
 },
 "nbformat": 4,
 "nbformat_minor": 2
}
